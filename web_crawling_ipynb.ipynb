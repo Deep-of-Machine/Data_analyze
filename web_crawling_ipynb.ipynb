{
  "nbformat": 4,
  "nbformat_minor": 0,
  "metadata": {
    "kernelspec": {
      "display_name": "Python 3",
      "language": "python",
      "name": "python3"
    },
    "language_info": {
      "codemirror_mode": {
        "name": "ipython",
        "version": 3
      },
      "file_extension": ".py",
      "mimetype": "text/x-python",
      "name": "python",
      "nbconvert_exporter": "python",
      "pygments_lexer": "ipython3",
      "version": "3.7.3"
    },
    "colab": {
      "name": "2학년13반 st15 - web_crawling.ipynb의 사본",
      "provenance": [],
      "collapsed_sections": [],
      "toc_visible": true,
      "include_colab_link": true
    }
  },
  "cells": [
    {
      "cell_type": "markdown",
      "metadata": {
        "id": "view-in-github",
        "colab_type": "text"
      },
      "source": [
        "<a href=\"https://colab.research.google.com/github/Deep-of-Machine/Data_analyze/blob/main/web_crawling_ipynb.ipynb\" target=\"_parent\"><img src=\"https://colab.research.google.com/assets/colab-badge.svg\" alt=\"Open In Colab\"/></a>"
      ]
    },
    {
      "cell_type": "markdown",
      "metadata": {
        "id": "A3B2_9IbNmXz"
      },
      "source": [
        "# 파이썬 웹크롤링"
      ]
    },
    {
      "cell_type": "code",
      "metadata": {
        "id": "CFaqrwv9NmX0"
      },
      "source": [
        "from bs4 import BeautifulSoup\n",
        "import requests"
      ],
      "execution_count": null,
      "outputs": []
    },
    {
      "cell_type": "code",
      "metadata": {
        "id": "jALPe419NmX2"
      },
      "source": [
        "search_word = '제주 광어'\n",
        "sd = '2020.10.25'\n",
        "ed = '2020.10.31'\n",
        "start_num = 1\n",
        "url = \"https://search.naver.com/search.naver?where=news&query={}&pd=3&ds={}&de={}&start={}\".format(search_word,sd,ed,start_num)\n",
        "req = requests.get(url)\n",
        "html = req.text\n",
        "soup = BeautifulSoup(html, 'html.parser')\n",
        "\n",
        "\n",
        "text_file = open(\"/content/output.html\", \"w\",encoding='utf-8')\n",
        "text_file.write(html)\n",
        "text_file.close()"
      ],
      "execution_count": null,
      "outputs": []
    },
    {
      "cell_type": "code",
      "metadata": {
        "id": "AoXY1u6NNmX4"
      },
      "source": [
        ""
      ],
      "execution_count": null,
      "outputs": []
    },
    {
      "cell_type": "code",
      "metadata": {
        "scrolled": true,
        "id": "fERvgWtWNmX6",
        "outputId": "8e255e02-6faf-448d-c87a-b225bb501fd9",
        "colab": {
          "base_uri": "https://localhost:8080/"
        }
      },
      "source": [
        "# 뉴스제목 뽑아오기\n",
        "import csv\n",
        "\n",
        "fd = open('/content/output.csv', 'w', encoding='utf-8', newline='')\n",
        "wr = csv.writer(fd,delimiter=',')\n",
        "wr.writerow(['url','source','time','title','snippet'])\n",
        "items = soup.select('#main_pack > section.sc_new.sp_nnews._prs_nws > div > div.group_news > ul > li')\n",
        "\n",
        "#print(items)\n",
        "\n",
        "for text in items:\n",
        "  print(text)\n",
        "  row = []\n",
        "  url = text.div.a['href']\n",
        "  source = text.div.div.div.div.a.text\n",
        "  time = text.div.div.div.div.find('span',{'class','info'}).text\n",
        "  title  = text.find('a',{'class','news_tit'})['title']\n",
        "  snippet = text.find('div',{'class','dsc_wrap'}).a.text\n",
        "  row.append(url)\n",
        "  row.append(source)\n",
        "  row.append(time)\n",
        "  row.append(title)\n",
        "  row.append(snippet)\n",
        "  wr.writerow(row)\n",
        "fd.close()\n",
        "\n"
      ],
      "execution_count": null,
      "outputs": [
        {
          "output_type": "stream",
          "text": [
            "<li class=\"bx\" id=\"sp_nws1\"> <div class=\"news_wrap api_ani_send\"> <a class=\"dsc_thumb \" href=\"http://yna.kr/AKR20201029125900056?did=1195m\" onclick=\"return goOtherCR(this, 'a=nws*a.img&amp;r=1&amp;i=880000D8_000000000000000011979842&amp;g=001.0011979842&amp;u='+urlencode(this.href));\" target=\"_blank\"><img alt=\"[제주소식] 미주·동남\" class=\"thumb api_get\" height=\"90\" onerror=\"this.parentNode.style.display='none';\" src=\"https://search.pstatic.net/common/?src=https%3A%2F%2Fimgnews.pstatic.net%2Fimage%2Forigin%2F001%2F2020%2F10%2F29%2F11979842.jpg&amp;type=ff264_180&amp;expire=2&amp;refresh=true\" width=\"132\"/></a> <div class=\"news_area\"> <div class=\"news_info\"> <div class=\"info_group\"> <a class=\"info press\" href=\"https://www.yna.co.kr/\" onclick=\"return goOtherCR(this, 'a=nws*a.prof&amp;r=1&amp;i=880000D8_000000000000000011979842&amp;g=001.0011979842&amp;u='+urlencode(this.href));\" target=\"_blank\"><span class=\"thumb_box\"><img alt=\"\" class=\"thumb\" height=\"20\" onerror=\"this.src='data:image/gif;base64,R0lGODlhAQABAIAAAAAAAP///yH5BAEAAAAALAAAAAABAAEAAAIBRAA7';this.className='thumb bg_default_press'\" src=\"https://search.pstatic.net/common/?src=https%3A%2F%2Fmimgnews.pstatic.net%2Fimage%2Fupload%2Foffice_logo%2F001%2F2017%2F06%2F29%2Flogo_001_18_20170629160329.png&amp;type=f54_54&amp;expire=24&amp;refresh=true\" width=\"20\"/></span>연합뉴스</a><span class=\"info\">2020.10.29.</span><a class=\"info\" href=\"https://news.naver.com/main/read.nhn?mode=LSD&amp;mid=sec&amp;sid1=101&amp;oid=001&amp;aid=0011979842\" onclick=\"return goOtherCR(this, 'a=nws*a.nav&amp;r=1&amp;i=880000D8_000000000000000011979842&amp;u='+urlencode(this.href));\" target=\"_blank\">네이버뉴스</a> </div></div><a class=\"news_tit\" href=\"http://yna.kr/AKR20201029125900056?did=1195m\" onclick=\"return goOtherCR(this, 'a=nws*a.tit&amp;r=1&amp;i=880000D8_000000000000000011979842&amp;g=001.0011979842&amp;u='+urlencode(this.href));\" target=\"_blank\" title=\"[제주소식] 미주·동남아로 광어 수출 물류센터 인천에 조성\">[<mark>제주</mark>소식] 미주·동남아로 <mark>광어</mark> 수출 물류센터 인천에 조성</a> <div class=\"news_dsc\"> <div class=\"dsc_wrap\"> <a class=\"api_txt_lines dsc_txt_wrap\" href=\"http://yna.kr/AKR20201029125900056?did=1195m\" onclick=\"return goOtherCR(this, 'a=nws*a.body&amp;r=1&amp;i=880000D8_000000000000000011979842&amp;g=001.0011979842&amp;u='+urlencode(this.href));\" target=\"_blank\">제주도는 <mark>제주광어</mark> 수출을 위한 인천 '수산물수출물류센터'가 다음 달 중 본격 운영된다고 밝혔다. 수산물수출물류센터는 미주지역과 베트남 등 동남아시아로 수출하는 <mark>제주광어</mark> 등 수산물을 보관하는 물류 창고다. 도는...</a> </div></div></div></div><div class=\"news_cluster\"> <ul class=\"list_cluster\"> <li class=\"sub_bx\"> <span class=\"sub_wrap\"> <span class=\"sub_area\"> <cite class=\"sub_txt press\" title=\"경향신문\">경향신문</cite><span class=\"sub_txt\">2020.10.29.</span><a class=\"sub_txt\" href=\"https://news.naver.com/main/read.nhn?mode=LSD&amp;mid=sec&amp;sid1=102&amp;oid=032&amp;aid=0003040349\" onclick=\"return goOtherCR(this, 'a=nws*c.nav&amp;r=2&amp;i=8800006B_000000000000000003040349&amp;u='+urlencode(this.href));\" target=\"_blank\">네이버뉴스</a> </span><a class=\"elss sub_tit\" href=\"http://news.khan.co.kr/kh_news/khan_art_view.html?artid=202010291619001&amp;code=620117\" onclick=\"return goOtherCR(this, 'a=nws*c.tit&amp;r=2&amp;i=8800006B_000000000000000003040349&amp;g=032.0003040349&amp;u='+urlencode(this.href));\" target=\"_blank\" title=\"제주 양식광어 해외로 날다…인천항에 물류센터 다음달 가동\"><mark>제주</mark> 양식<mark>광어</mark> 해외로 날다…인천항에 물류센터 다음달 가동</a> </span></li> <li class=\"sub_bx\"> <span class=\"sub_wrap\"> <span class=\"sub_area\"> <cite class=\"sub_txt press\" title=\"제주일보\">제주일보</cite><span class=\"sub_txt\">2020.10.29.</span> </span><a class=\"elss sub_tit\" href=\"http://www.jejunews.com/news/articleView.html?idxno=2174144\" onclick=\"return goOtherCR(this, 'a=nws*d.tit&amp;r=3&amp;i=880000EC_000000000000000000257029&amp;g=5104.0000257029&amp;u='+urlencode(this.href));\" target=\"_blank\" title=\"제주광어 해외 수출 창구 '인천 수산물 수출물류센터' 본격화\"><mark>제주광어</mark> 해외 수출 창구 '인천 수산물 수출물류센터' 본격화</a> </span></li> <li class=\"sub_bx\"> <span class=\"sub_wrap\"> <span class=\"sub_area\"> <cite class=\"sub_txt press\" title=\"경향신문\">경향신문</cite><span class=\"sub_txt\">7일 전</span><a class=\"sub_txt\" href=\"https://news.naver.com/main/read.nhn?mode=LSD&amp;mid=sec&amp;sid1=102&amp;oid=032&amp;aid=0003040468\" onclick=\"return goOtherCR(this, 'a=nws*c.nav&amp;r=4&amp;i=8800006B_000000000000000003040468&amp;u='+urlencode(this.href));\" target=\"_blank\">네이버뉴스</a> </span><a class=\"elss sub_tit\" href=\"http://news.khan.co.kr/kh_news/khan_art_view.html?artid=202010292130015&amp;code=620117\" onclick=\"return goOtherCR(this, 'a=nws*c.tit&amp;r=4&amp;i=8800006B_000000000000000003040468&amp;g=032.0003040468&amp;u='+urlencode(this.href));\" target=\"_blank\" title=\"제주도 양식광어 수출길 넓어진다\"><mark>제주</mark>도 양식<mark>광어</mark> 수출길 넓어진다</a> </span></li> <li class=\"sub_bx\"> <span class=\"sub_wrap\"> <span class=\"sub_area\"> <cite class=\"sub_txt press\" title=\"JIBS\">JIBS</cite><span class=\"sub_txt\">2020.10.29.</span> </span><a class=\"elss sub_tit\" href=\"http://www.jibs.co.kr/news/articles/articlesDetail/12211?feed=na\" onclick=\"return goOtherCR(this, 'a=nws*d.tit&amp;r=5&amp;i=8818b72c_000000000000000000013170&amp;g=5710.0000013170&amp;u='+urlencode(this.href));\" target=\"_blank\" title=\"제주, 인천 수출센터 운영.. 제주광어 판로 확대\">제주, 인천 수출센터 운영.. <mark>제주광어</mark> 판로 확대</a> </span></li> </ul></div><a class=\"news_more\" href=\"#\" onclick=\"news_submit_related_option('0010011979842', 0, 'nws*r.more'); return false;\">관련뉴스 16건 전체보기<i class=\"spnew ico_arrow\"></i></a> </li>\n",
            "<li class=\"bx\" id=\"sp_nws6\"> <div class=\"news_wrap api_ani_send\"> <a class=\"dsc_thumb \" href=\"http://www.jejunews.com/news/articleView.html?idxno=2174188\" onclick=\"return goOtherCR(this, 'a=nws*f.img&amp;r=6&amp;i=880000EC_000000000000000000257074&amp;g=5104.0000257074&amp;u='+urlencode(this.href));\" target=\"_blank\"><img alt=\"2020 청정 제주 1차산\" class=\"thumb api_get\" height=\"90\" onerror=\"this.parentNode.style.display='none';\" src=\"https://search.pstatic.net/common/?src=https%3A%2F%2Fimgnews.pstatic.net%2Fimage%2Forigin%2F5104%2F2020%2F10%2F31%2F257074.jpg&amp;type=ff264_180&amp;expire=2&amp;refresh=true\" width=\"132\"/></a> <div class=\"news_area\"> <div class=\"news_info\"> <div class=\"info_group\"> <a class=\"info press\" href=\"http://www.jejunews.com\" onclick=\"return goOtherCR(this, 'a=nws*f.prof&amp;r=6&amp;i=880000EC_000000000000000000257074&amp;g=5104.0000257074&amp;u='+urlencode(this.href));\" target=\"_blank\"><span class=\"thumb_box\"><img alt=\"\" class=\"thumb bg_default_press\" height=\"20\" onerror=\"this.src='data:image/gif;base64,R0lGODlhAQABAIAAAAAAAP///yH5BAEAAAAALAAAAAABAAEAAAIBRAA7';this.className='thumb bg_default_press'\" src=\"data:image/gif;base64,R0lGODlhAQABAIAAAAAAAP///yH5BAEAAAAALAAAAAABAAEAAAIBRAA7\" width=\"20\"/></span>제주일보</a><span class=\"info\">6일 전</span> </div></div><a class=\"news_tit\" href=\"http://www.jejunews.com/news/articleView.html?idxno=2174188\" onclick=\"return goOtherCR(this, 'a=nws*f.tit&amp;r=6&amp;i=880000EC_000000000000000000257074&amp;g=5104.0000257074&amp;u='+urlencode(this.href));\" target=\"_blank\" title=\"2020 청정 제주 1차산품 및 특산물 대전 성황리 열려\">2020 청정 <mark>제주</mark> 1차산품 및 특산물 대전 성황리 열려</a> <div class=\"news_dsc\"> <div class=\"dsc_wrap\"> <a class=\"api_txt_lines dsc_txt_wrap\" href=\"http://www.jejunews.com/news/articleView.html?idxno=2174188\" onclick=\"return goOtherCR(this, 'a=nws*f.body&amp;r=6&amp;i=880000EC_000000000000000000257074&amp;g=5104.0000257074&amp;u='+urlencode(this.href));\" target=\"_blank\"><mark>제주</mark> 바다에서 키운 <mark>광어</mark>와 도다리를 이용한 <mark>광어</mark>.도다리 식해 외에도 감귤에 양파, 매실, 감식초를 더해 발효한 '감귤오색식초' 부스에도 발길이 이어졌다. <mark>제주</mark>산 돼지고기를 이용한 소시지 등 육가공식품과 <mark>제주</mark> 전통...</a> </div></div></div></div></li>\n",
            "<li class=\"bx\" id=\"sp_nws7\"> <div class=\"news_wrap api_ani_send\"> <a class=\"dsc_thumb type_video\" href=\"http://news.kbs.co.kr/news/view.do?ncd=5037640&amp;ref=A\" onclick=\"return goOtherCR(this, 'a=nws*e.img&amp;r=7&amp;i=88000114_000000000000000010925904&amp;g=056.0010925904&amp;u='+urlencode(this.href));\" target=\"_blank\"><img alt=\"[간추린 단신] 제10회\" class=\"thumb api_get\" height=\"90\" onerror=\"this.parentNode.style.display='none';\" src=\"https://search.pstatic.net/common/?src=https%3A%2F%2Fimgnews.pstatic.net%2Fimage%2Forigin%2F056%2F2020%2F10%2F30%2F10925904.jpg&amp;type=ff264_180&amp;expire=2&amp;refresh=true\" width=\"132\"/><i class=\"spnew api_ico_svideo\">동영상</i></a> <div class=\"news_area\"> <div class=\"news_info\"> <div class=\"info_group\"> <a class=\"info press\" href=\"http://news.kbs.co.kr/\" onclick=\"return goOtherCR(this, 'a=nws*e.prof&amp;r=7&amp;i=88000114_000000000000000010925904&amp;g=056.0010925904&amp;u='+urlencode(this.href));\" target=\"_blank\"><span class=\"thumb_box\"><img alt=\"\" class=\"thumb\" height=\"20\" onerror=\"this.src='data:image/gif;base64,R0lGODlhAQABAIAAAAAAAP///yH5BAEAAAAALAAAAAABAAEAAAIBRAA7';this.className='thumb bg_default_press'\" src=\"https://search.pstatic.net/common/?src=https%3A%2F%2Fmimgnews.pstatic.net%2Fimage%2Fupload%2Foffice_logo%2F056%2F2018%2F08%2F01%2Flogo_056_18_20180801152601.png&amp;type=f54_54&amp;expire=24&amp;refresh=true\" width=\"20\"/></span>KBS</a><span class=\"info\">7일 전</span><a class=\"info\" href=\"https://news.naver.com/main/read.nhn?mode=LSD&amp;mid=sec&amp;sid1=102&amp;oid=056&amp;aid=0010925904\" onclick=\"return goOtherCR(this, 'a=nws*e.nav&amp;r=7&amp;i=88000114_000000000000000010925904&amp;u='+urlencode(this.href));\" target=\"_blank\">네이버뉴스</a> </div></div><a class=\"news_tit\" href=\"http://news.kbs.co.kr/news/view.do?ncd=5037640&amp;ref=A\" onclick=\"return goOtherCR(this, 'a=nws*e.tit&amp;r=7&amp;i=88000114_000000000000000010925904&amp;g=056.0010925904&amp;u='+urlencode(this.href));\" target=\"_blank\" title=\"[간추린 단신] 제10회 제주 4·3 평화포럼 오늘 개막 외\">[간추린 단신] 제10회 <mark>제주</mark> 4·3 평화포럼 오늘 개막 외</a> <div class=\"news_dsc\"> <div class=\"dsc_wrap\"> <a class=\"api_txt_lines dsc_txt_wrap\" href=\"http://news.kbs.co.kr/news/view.do?ncd=5037640&amp;ref=A\" onclick=\"return goOtherCR(this, 'a=nws*e.body&amp;r=7&amp;i=88000114_000000000000000010925904&amp;g=056.0010925904&amp;u='+urlencode(this.href));\" target=\"_blank\">광어 수출 전초기지…인천 물류센터 가동 <mark>제주 광어</mark>의 항공수출 전초기지가 될 인천 수산물 수출물류센터가 다음 달부터 본격 가동됩니다. 제주도에서 60억 원을 투입한 이 물류센터는 인천항만공사 배후 부지 3천㎡에...</a> </div></div></div></div></li>\n",
            "<li class=\"bx\" id=\"sp_nws8\"> <div class=\"news_wrap api_ani_send\"> <div class=\"news_area\"> <div class=\"news_info\"> <div class=\"info_group\"> <a class=\"info press\" href=\"http://www.agrinet.co.kr\" onclick=\"return goOtherCR(this, 'a=nws*f.prof&amp;r=8&amp;i=88155e44_000000000000000000039914&amp;g=5396.0000039914&amp;u='+urlencode(this.href));\" target=\"_blank\"><span class=\"thumb_box\"><img alt=\"\" class=\"thumb bg_default_press\" height=\"20\" onerror=\"this.src='data:image/gif;base64,R0lGODlhAQABAIAAAAAAAP///yH5BAEAAAAALAAAAAABAAEAAAIBRAA7';this.className='thumb bg_default_press'\" src=\"data:image/gif;base64,R0lGODlhAQABAIAAAAAAAP///yH5BAEAAAAALAAAAAABAAEAAAIBRAA7\" width=\"20\"/></span>한국농어민신문</a><span class=\"info\">7일 전</span> </div></div><a class=\"news_tit\" href=\"http://www.agrinet.co.kr/news/articleView.html?idxno=180538\" onclick=\"return goOtherCR(this, 'a=nws*f.tit&amp;r=8&amp;i=88155e44_000000000000000000039914&amp;g=5396.0000039914&amp;u='+urlencode(this.href));\" target=\"_blank\" title=\"“제주 광어 택배·1인 가구 상품 개발을”\">“<mark>제주 광어</mark> 택배·1인 가구 상품 개발을”</a> <div class=\"news_dsc\"> <div class=\"dsc_wrap\"> <a class=\"api_txt_lines dsc_txt_wrap\" href=\"http://www.agrinet.co.kr/news/articleView.html?idxno=180538\" onclick=\"return goOtherCR(this, 'a=nws*f.body&amp;r=8&amp;i=88155e44_000000000000000000039914&amp;g=5396.0000039914&amp;u='+urlencode(this.href));\" target=\"_blank\">이번 연구는 <mark>제주</mark> 양식<mark>광어</mark> 소비확산을 위해 <mark>광어</mark> 소비동향, 국내ㆍ외 수산물 마케팅 사례조사 및 도민 301명 대상 인식조사를 중심으로 진행됐다. 연구 보고서에 따르면 국내ㆍ외 수산물 마케팅...</a> </div></div></div></div></li>\n",
            "<li class=\"bx\" id=\"sp_nws9\"> <div class=\"news_wrap api_ani_send\"> <a class=\"dsc_thumb \" href=\"http://www.jejudomin.co.kr/news/articleView.html?idxno=129837\" onclick=\"return goOtherCR(this, 'a=nws*b.img&amp;r=9&amp;i=88123FC4_000000000000000000081279&amp;g=5186.0000081279&amp;u='+urlencode(this.href));\" target=\"_blank\"><img alt=\"제주광어 택배 및 1인\" class=\"thumb api_get\" height=\"90\" onerror=\"this.parentNode.style.display='none';\" src=\"https://search.pstatic.net/common/?src=https%3A%2F%2Fimgnews.pstatic.net%2Fimage%2Forigin%2F5186%2F2020%2F10%2F27%2F81279.jpg&amp;type=ff264_180&amp;expire=2&amp;refresh=true\" width=\"132\"/></a> <div class=\"news_area\"> <div class=\"news_info\"> <div class=\"info_group\"> <a class=\"info press\" href=\"http://www.jejudomin.co.kr/\" onclick=\"return goOtherCR(this, 'a=nws*b.prof&amp;r=9&amp;i=88123FC4_000000000000000000081279&amp;g=5186.0000081279&amp;u='+urlencode(this.href));\" target=\"_blank\"><span class=\"thumb_box\"><img alt=\"\" class=\"thumb bg_default_press\" height=\"20\" onerror=\"this.src='data:image/gif;base64,R0lGODlhAQABAIAAAAAAAP///yH5BAEAAAAALAAAAAABAAEAAAIBRAA7';this.className='thumb bg_default_press'\" src=\"data:image/gif;base64,R0lGODlhAQABAIAAAAAAAP///yH5BAEAAAAALAAAAAABAAEAAAIBRAA7\" width=\"20\"/></span>제주도민일보</a><span class=\"info\">2020.10.27.</span> </div></div><a class=\"news_tit\" href=\"http://www.jejudomin.co.kr/news/articleView.html?idxno=129837\" onclick=\"return goOtherCR(this, 'a=nws*b.tit&amp;r=9&amp;i=88123FC4_000000000000000000081279&amp;g=5186.0000081279&amp;u='+urlencode(this.href));\" target=\"_blank\" title=\"제주광어 택배 및 1인상품 개발 필요\"><mark>제주광어</mark> 택배 및 1인상품 개발 필요</a> <div class=\"news_dsc\"> <div class=\"dsc_wrap\"> <a class=\"api_txt_lines dsc_txt_wrap\" href=\"http://www.jejudomin.co.kr/news/articleView.html?idxno=129837\" onclick=\"return goOtherCR(this, 'a=nws*b.body&amp;r=9&amp;i=88123FC4_000000000000000000081279&amp;g=5186.0000081279&amp;u='+urlencode(this.href));\" target=\"_blank\">국민 활어 <mark>제주광어</mark>도 코로나19로 인한 비대면 생활이 일상화 되는 추세로 택배 및 1인 상품 개발이 필요하다는 조사결과가 나왔다. 제주연구원은 정책연구 2020-09호 '광어 소비확산을 위한 정책 방안 연구' 보고서를...</a> </div></div></div></div><div class=\"news_cluster\"> <ul class=\"list_cluster\"> <li class=\"sub_bx\"> <span class=\"sub_wrap\"> <span class=\"sub_area\"> <cite class=\"sub_txt press\" title=\"JIBS\">JIBS</cite><span class=\"sub_txt\">2020.10.27.</span> </span><a class=\"elss sub_tit\" href=\"http://www.jibs.co.kr/news/articles/articlesDetail/12167?feed=na\" onclick=\"return goOtherCR(this, 'a=nws*d.tit&amp;r=10&amp;i=8818b72c_000000000000000000013118&amp;g=5710.0000013118&amp;u='+urlencode(this.href));\" target=\"_blank\" title=\"제주, 광어 가정간편식·1인상품 등 개발 필요\"><mark>제주</mark>, <mark>광어</mark> 가정간편식·1인상품 등 개발 필요</a> </span></li> <li class=\"sub_bx\"> <span class=\"sub_wrap\"> <span class=\"sub_area\"> <cite class=\"sub_txt press\" title=\"제민일보\">제민일보</cite><span class=\"sub_txt\">2020.10.27.</span> </span><a class=\"elss sub_tit\" href=\"http://www.jemin.com/news/articleView.html?idxno=705420\" onclick=\"return goOtherCR(this, 'a=nws*d.tit&amp;r=11&amp;i=8811CF33_000000000000000000193411&amp;g=5158.0000193411&amp;u='+urlencode(this.href));\" target=\"_blank\" title='\"제주 광어 택배·1인상품 개발 필요\"'>\"<mark>제주 광어</mark> 택배·1인상품 개발 필요\"</a> </span></li> </ul></div></li>\n",
            "<li class=\"bx\" id=\"sp_nws12\"> <div class=\"news_wrap api_ani_send\"> <div class=\"news_area\"> <div class=\"news_info\"> <div class=\"info_group\"> <a class=\"info press\" href=\"http://www.jejusori.net\" onclick=\"return goOtherCR(this, 'a=nws*f.prof&amp;r=12&amp;i=88000553_000000000000000000144593&amp;g=5085.0000144593&amp;u='+urlencode(this.href));\" target=\"_blank\"><span class=\"thumb_box\"><img alt=\"\" class=\"thumb\" height=\"20\" onerror=\"this.src='data:image/gif;base64,R0lGODlhAQABAIAAAAAAAP///yH5BAEAAAAALAAAAAABAAEAAAIBRAA7';this.className='thumb bg_default_press'\" src=\"https://search.pstatic.net/common/?src=http%3A%2F%2Fwww.jejusori.net%2Fimage%2Flogo%2Ffavicon_20190121103921.ico&amp;type=f54_54&amp;expire=24&amp;refresh=true\" width=\"20\"/></span>제주의소리</a><span class=\"info\">2020.10.27.</span> </div></div><a class=\"news_tit\" href=\"http://www.jejusori.net/news/articleView.html?idxno=321602\" onclick=\"return goOtherCR(this, 'a=nws*f.tit&amp;r=12&amp;i=88000553_000000000000000000144593&amp;g=5085.0000144593&amp;u='+urlencode(this.href));\" target=\"_blank\" title='\"제주 광어·도다리, 차에서 저렴하게 만나보세요\"'>\"<mark>제주 광어</mark>·도다리, 차에서 저렴하게 만나보세요\"</a> <div class=\"news_dsc\"> <div class=\"dsc_wrap\"> <a class=\"api_txt_lines dsc_txt_wrap\" href=\"http://www.jejusori.net/news/articleView.html?idxno=321602\" onclick=\"return goOtherCR(this, 'a=nws*f.body&amp;r=12&amp;i=88000553_000000000000000000144593&amp;g=5085.0000144593&amp;u='+urlencode(this.href));\" target=\"_blank\">지난 상반기 <mark>제주 광어</mark> 드라이브 스루 행사 도민 성원에 보답하는 마음으로 마련됐다. 더불어 10월 30일~31일 행사에서는 수산물가공유통협회의 갈치, 고등어 등 가공수산물 판매 행사가 함께 이뤄진다....</a> </div></div></div></div></li>\n",
            "<li class=\"bx\" id=\"sp_nws13\"> <div class=\"news_wrap api_ani_send\"> <a class=\"dsc_thumb \" href=\"http://www.jemin.com/news/articleView.html?idxno=705595\" onclick=\"return goOtherCR(this, 'a=nws*f.img&amp;r=13&amp;i=8811CF33_000000000000000000193554&amp;g=5158.0000193554&amp;u='+urlencode(this.href));\" target=\"_blank\"><img alt=\"제주광어·도다리 드라\" class=\"thumb api_get\" height=\"90\" onerror=\"this.parentNode.style.display='none';\" src=\"https://search.pstatic.net/common/?src=https%3A%2F%2Fimgnews.pstatic.net%2Fimage%2Forigin%2F5158%2F2020%2F10%2F29%2F193554.jpg&amp;type=ofullfill264_180_gray&amp;expire=2&amp;refresh=true\" width=\"132\"/></a> <div class=\"news_area\"> <div class=\"news_info\"> <div class=\"info_group\"> <a class=\"info press\" href=\"http://www.jemin.com\" onclick=\"return goOtherCR(this, 'a=nws*f.prof&amp;r=13&amp;i=8811CF33_000000000000000000193554&amp;g=5158.0000193554&amp;u='+urlencode(this.href));\" target=\"_blank\"><span class=\"thumb_box\"><img alt=\"\" class=\"thumb bg_default_press\" height=\"20\" onerror=\"this.src='data:image/gif;base64,R0lGODlhAQABAIAAAAAAAP///yH5BAEAAAAALAAAAAABAAEAAAIBRAA7';this.className='thumb bg_default_press'\" src=\"data:image/gif;base64,R0lGODlhAQABAIAAAAAAAP///yH5BAEAAAAALAAAAAABAAEAAAIBRAA7\" width=\"20\"/></span>제민일보</a><span class=\"info\">2020.10.29.</span> </div></div><a class=\"news_tit\" href=\"http://www.jemin.com/news/articleView.html?idxno=705595\" onclick=\"return goOtherCR(this, 'a=nws*f.tit&amp;r=13&amp;i=8811CF33_000000000000000000193554&amp;g=5158.0000193554&amp;u='+urlencode(this.href));\" target=\"_blank\" title=\"제주광어·도다리 드라이브스루 할인 판매\"><mark>제주광어</mark>·도다리 드라이브스루 할인 판매</a> <div class=\"news_dsc\"> <div class=\"dsc_wrap\"> <a class=\"api_txt_lines dsc_txt_wrap\" href=\"http://www.jemin.com/news/articleView.html?idxno=705595\" onclick=\"return goOtherCR(this, 'a=nws*f.body&amp;r=13&amp;i=8811CF33_000000000000000000193554&amp;g=5158.0000193554&amp;u='+urlencode(this.href));\" target=\"_blank\">지난 4월 제주도와 제주어류양식수산업협동조합이 제주시 이호랜드 인근 도로에서 '<mark>제주광어</mark> 드라이브 스루(drive-through) 특별 판매' 행사를 진행하고 있다.[사진=연합뉴스] 제주어류양식수협(조합장 한용선)은 지난...</a> </div></div></div></div></li>\n",
            "<li class=\"bx\" id=\"sp_nws14\"> <div class=\"news_wrap api_ani_send\"> <div class=\"news_area\"> <div class=\"news_info\"> <div class=\"info_group\"> <a class=\"info press\" href=\"http://www.jejunews.com\" onclick=\"return goOtherCR(this, 'a=nws*f.prof&amp;r=14&amp;i=880000EC_000000000000000000257051&amp;g=5104.0000257051&amp;u='+urlencode(this.href));\" target=\"_blank\"><span class=\"thumb_box\"><img alt=\"\" class=\"thumb bg_default_press\" height=\"20\" onerror=\"this.src='data:image/gif;base64,R0lGODlhAQABAIAAAAAAAP///yH5BAEAAAAALAAAAAABAAEAAAIBRAA7';this.className='thumb bg_default_press'\" src=\"data:image/gif;base64,R0lGODlhAQABAIAAAAAAAP///yH5BAEAAAAALAAAAAABAAEAAAIBRAA7\" width=\"20\"/></span>제주일보</a><span class=\"info\">2020.10.29.</span> </div></div><a class=\"news_tit\" href=\"http://www.jejunews.com/news/articleView.html?idxno=2174149\" onclick=\"return goOtherCR(this, 'a=nws*f.tit&amp;r=14&amp;i=880000EC_000000000000000000257051&amp;g=5104.0000257051&amp;u='+urlencode(this.href));\" target=\"_blank\" title=\"2020 청정제주 1차산품 및 특산물 대전 31일 열린다\">2020 청정<mark>제주</mark> 1차산품 및 특산물 대전 31일 열린다</a> <div class=\"news_dsc\"> <div class=\"dsc_wrap\"> <a class=\"api_txt_lines dsc_txt_wrap\" href=\"http://www.jejunews.com/news/articleView.html?idxno=2174149\" onclick=\"return goOtherCR(this, 'a=nws*f.body&amp;r=14&amp;i=880000EC_000000000000000000257051&amp;g=5104.0000257051&amp;u='+urlencode(this.href));\" target=\"_blank\">또 <mark>제주</mark> 바다에서 잡아올린 바다장어를 비롯해 <mark>광어</mark>, 도다리, 민물장어 외에도 <mark>제주</mark>산 돼지고기를 이용한 소시지 등 육가공식품도 선보인다. 특히 <mark>제주</mark> 향토음식 시식 및 체험관 부스가 별도로 마련돼 '<mark>제주</mark>의 맛'을 한...</a> </div></div></div></div></li>\n",
            "<li class=\"bx\" id=\"sp_nws15\"> <div class=\"news_wrap api_ani_send\"> <a class=\"dsc_thumb \" href=\"http://biz.heraldcorp.com/view.php?ud=202010292116485639157_1\" onclick=\"return goOtherCR(this, 'a=nws*a.img&amp;r=15&amp;i=88000110_000000000000000003360008&amp;g=112.0003360008&amp;u='+urlencode(this.href));\" target=\"_blank\"><img alt=\"‘맛남의 광장‘ 오마이\" class=\"thumb api_get\" height=\"90\" onerror=\"this.parentNode.style.display='none';\" src=\"https://search.pstatic.net/common/?src=https%3A%2F%2Fimgnews.pstatic.net%2Fimage%2Forigin%2F112%2F2020%2F10%2F29%2F3360008.jpg&amp;type=ff264_180&amp;expire=2&amp;refresh=true\" width=\"132\"/></a> <div class=\"news_area\"> <div class=\"news_info\"> <div class=\"info_group\"> <a class=\"info press\" href=\"http://www.heraldpop.com/\" onclick=\"return goOtherCR(this, 'a=nws*a.prof&amp;r=15&amp;i=88000110_000000000000000003360008&amp;g=112.0003360008&amp;u='+urlencode(this.href));\" target=\"_blank\"><span class=\"thumb_box\"><img alt=\"\" class=\"thumb\" height=\"20\" onerror=\"this.src='data:image/gif;base64,R0lGODlhAQABAIAAAAAAAP///yH5BAEAAAAALAAAAAABAAEAAAIBRAA7';this.className='thumb bg_default_press'\" src=\"https://search.pstatic.net/common/?src=https%3A%2F%2Fmimgnews.pstatic.net%2Fimage%2Fupload%2Foffice_logo%2F112%2F2017%2F08%2F29%2Flogo_112_18_20170829145529.jpg&amp;type=f54_54&amp;expire=24&amp;refresh=true\" width=\"20\"/></span>헤럴드POP</a><span class=\"info\">7일 전</span><a class=\"info\" href=\"https://news.naver.com/main/read.nhn?mode=LSD&amp;mid=sec&amp;sid1=106&amp;oid=112&amp;aid=0003360008\" onclick=\"return goOtherCR(this, 'a=nws*a.nav&amp;r=15&amp;i=88000110_000000000000000003360008&amp;u='+urlencode(this.href));\" target=\"_blank\">네이버뉴스</a> </div></div><a class=\"news_tit\" href=\"http://biz.heraldcorp.com/view.php?ud=202010292116485639157_1\" onclick=\"return goOtherCR(this, 'a=nws*a.tit&amp;r=15&amp;i=88000110_000000000000000003360008&amp;g=112.0003360008&amp;u='+urlencode(this.href));\" target=\"_blank\" title=\"'맛남의 광장' 오마이걸 아린, 참돔 옮기기 도전…백종원 회손질 실력 공개\">'맛남의 광장' 오마이걸 아린, 참돔 옮기기 도전…백종원 회손질 실력 공개</a> <div class=\"news_dsc\"> <div class=\"dsc_wrap\"> <a class=\"api_txt_lines dsc_txt_wrap\" href=\"http://biz.heraldcorp.com/view.php?ud=202010292116485639157_1\" onclick=\"return goOtherCR(this, 'a=nws*a.body&amp;r=15&amp;i=88000110_000000000000000003360008&amp;g=112.0003360008&amp;u='+urlencode(this.href));\" target=\"_blank\"><mark>제주</mark>도에서 <mark>광어</mark>를 잡아 봤던 김동준은 유병재에게 \"형 생선은 아가미를 확 잡아야 돼요\"라고 조언했다. 그리고 아린이 한번에 참돔 건지기에 성공했다. 이어 백종원은 참돔 손질에 첫 도전해 연습해 온 실력을 뽐냈다.</a> </div></div></div></div><div class=\"news_cluster\"> <ul class=\"list_cluster\"> <li class=\"sub_bx\"> <span class=\"sub_wrap\"> <span class=\"sub_area\"> <cite class=\"sub_txt press\" title=\"머니투데이\">머니투데이</cite><span class=\"sub_txt\">7일 전</span><a class=\"sub_txt\" href=\"https://news.naver.com/main/read.nhn?mode=LSD&amp;mid=sec&amp;sid1=106&amp;oid=008&amp;aid=0004492214\" onclick=\"return goOtherCR(this, 'a=nws*c.nav&amp;r=16&amp;i=880000C2_000000000000000004492214&amp;u='+urlencode(this.href));\" target=\"_blank\">네이버뉴스</a> </span><a class=\"elss sub_tit\" href=\"http://news.mt.co.kr/mtview.php?no=2020102922191114481\" onclick=\"return goOtherCR(this, 'a=nws*c.tit&amp;r=16&amp;i=880000C2_000000000000000004492214&amp;g=008.0004492214&amp;u='+urlencode(this.href));\" target=\"_blank\" title=\"'맛남의 광장' 아린, 참돔 건지기 성공…백종원 '회 뜨기' 첫 도전\">'맛남의 광장' 아린, 참돔 건지기 성공…백종원 '회 뜨기' 첫 도전</a> </span></li> <li class=\"sub_bx\"> <span class=\"sub_wrap\"> <span class=\"sub_area\"> <cite class=\"sub_txt press\" title=\"헤럴드POP\">헤럴드POP</cite><span class=\"sub_txt\">7일 전</span><a class=\"sub_txt\" href=\"https://news.naver.com/main/read.nhn?mode=LSD&amp;mid=sec&amp;sid1=106&amp;oid=112&amp;aid=0003360018\" onclick=\"return goOtherCR(this, 'a=nws*c.nav&amp;r=17&amp;i=88000110_000000000000000003360018&amp;u='+urlencode(this.href));\" target=\"_blank\">네이버뉴스</a> </span><a class=\"elss sub_tit\" href=\"http://biz.heraldcorp.com/view.php?ud=202010292145305737127_1\" onclick=\"return goOtherCR(this, 'a=nws*c.tit&amp;r=17&amp;i=88000110_000000000000000003360018&amp;g=112.0003360018&amp;u='+urlencode(this.href));\" target=\"_blank\" title=\"'맛남의 광장' 아린X농벤져스, 회→매운탕까지 감탄사 연발 참돔 풀코스 먹방(종합)\">'맛남의 광장' 아린X농벤져스, 회→매운탕까지 감탄사 연발 참돔 풀코스 먹방...</a> </span></li> </ul></div></li>\n",
            "<li class=\"bx\" id=\"sp_nws18\"> <div class=\"news_wrap api_ani_send\"> <a class=\"dsc_thumb \" href=\"http://biz.heraldcorp.com/view.php?ud=202010300023446173130_1\" onclick=\"return goOtherCR(this, 'a=nws*e.img&amp;r=18&amp;i=88000110_000000000000000003360082&amp;g=112.0003360082&amp;u='+urlencode(this.href));\" target=\"_blank\"><img alt=\"[어게인TV] ‘맛남의 광\" class=\"thumb api_get\" height=\"90\" onerror=\"this.parentNode.style.display='none';\" src=\"https://search.pstatic.net/common/?src=https%3A%2F%2Fimgnews.pstatic.net%2Fimage%2Forigin%2F112%2F2020%2F10%2F30%2F3360082.jpg&amp;type=ff264_180&amp;expire=2&amp;refresh=true\" width=\"132\"/></a> <div class=\"news_area\"> <div class=\"news_info\"> <div class=\"info_group\"> <a class=\"info press\" href=\"http://www.heraldpop.com/\" onclick=\"return goOtherCR(this, 'a=nws*e.prof&amp;r=18&amp;i=88000110_000000000000000003360082&amp;g=112.0003360082&amp;u='+urlencode(this.href));\" target=\"_blank\"><span class=\"thumb_box\"><img alt=\"\" class=\"thumb\" height=\"20\" onerror=\"this.src='data:image/gif;base64,R0lGODlhAQABAIAAAAAAAP///yH5BAEAAAAALAAAAAABAAEAAAIBRAA7';this.className='thumb bg_default_press'\" src=\"https://search.pstatic.net/common/?src=https%3A%2F%2Fmimgnews.pstatic.net%2Fimage%2Fupload%2Foffice_logo%2F112%2F2017%2F08%2F29%2Flogo_112_18_20170829145529.jpg&amp;type=f54_54&amp;expire=24&amp;refresh=true\" width=\"20\"/></span>헤럴드POP</a><span class=\"info\">7일 전</span><a class=\"info\" href=\"https://news.naver.com/main/read.nhn?mode=LSD&amp;mid=sec&amp;sid1=106&amp;oid=112&amp;aid=0003360082\" onclick=\"return goOtherCR(this, 'a=nws*e.nav&amp;r=18&amp;i=88000110_000000000000000003360082&amp;u='+urlencode(this.href));\" target=\"_blank\">네이버뉴스</a> </div></div><a class=\"news_tit\" href=\"http://biz.heraldcorp.com/view.php?ud=202010300023446173130_1\" onclick=\"return goOtherCR(this, 'a=nws*e.tit&amp;r=18&amp;i=88000110_000000000000000003360082&amp;g=112.0003360082&amp;u='+urlencode(this.href));\" target=\"_blank\" title=\"[어게인TV] '맛남의 광장' 백종원, 감탄사 연발 거제 참돔 풀코스 완성(ft.오마이걸 아린)\">[어게인TV] '맛남의 광장' 백종원, 감탄사 연발 거제 참돔 풀코스 완성(ft.오...</a> <div class=\"news_dsc\"> <div class=\"dsc_wrap\"> <a class=\"api_txt_lines dsc_txt_wrap\" href=\"http://biz.heraldcorp.com/view.php?ud=202010300023446173130_1\" onclick=\"return goOtherCR(this, 'a=nws*e.body&amp;r=18&amp;i=88000110_000000000000000003360082&amp;g=112.0003360082&amp;u='+urlencode(this.href));\" target=\"_blank\"><mark>제주</mark>도에서 <mark>광어</mark>를 잡아 봤던 김동준은 유병재에게 \"형 생선은 아가미를 확 잡아야 돼요\"라고 조언했다. 그리고 아린이 한번에 참돔 건지기에 성공했다. 이어 백종원은 참돔 손질에 첫 도전해 연습해 온 실력을 뽐냈다....</a> </div></div></div></div></li>\n"
          ],
          "name": "stdout"
        }
      ]
    },
    {
      "cell_type": "code",
      "metadata": {
        "id": "fcckrSEw_JPx"
      },
      "source": [
        "search_word = '한라산'\n",
        "sd = '2020.10.25'\n",
        "ed = '2020.10.31'\n",
        "start_num = 4\n",
        "url = \"https://search.naver.com/search.naver?where=news&query={}&pd=3&ds={}&de={}&start={}\".format(search_word,sd,ed,start_num)\n",
        "req = requests.get(url)\n",
        "html = req.text\n",
        "soup = BeautifulSoup(html, 'html.parser')\n",
        "\n",
        "\n",
        "text_file = open(\"/content/output1.html\", \"w\",encoding='utf-8')\n",
        "text_file.write(html)\n",
        "text_file.close()"
      ],
      "execution_count": null,
      "outputs": []
    },
    {
      "cell_type": "code",
      "metadata": {
        "id": "zH2TYULJ_S9Z",
        "outputId": "08d4ea62-54cf-432d-e4ac-7818cda98557",
        "colab": {
          "base_uri": "https://localhost:8080/"
        }
      },
      "source": [
        "# 뉴스제목 뽑아오기\n",
        "import csv\n",
        "\n",
        "fd = open('/content/output.csv', 'w', encoding='utf-8', newline='')\n",
        "wr = csv.writer(fd,delimiter=',')\n",
        "wr.writerow(['url','source','time','title','snippet'])\n",
        "items = soup.select('#sp_nws1')\n",
        "\n",
        "print(items)\n",
        "\n",
        "for text in items:\n",
        "  print(text)\n",
        "  row = []\n",
        "  url = text.div.a['href']\n",
        "  source = text.div.div.div.div.a.text\n",
        "  time = text.div.div.div.div.find('span',{'class','info'}).text\n",
        "  title  = text.find('a',{'class','news_tit'})['title']\n",
        "  snippet = text.find('div',{'class','dsc_wrap'}).a.text\n",
        "  row.append(url)\n",
        "  row.append(source)\n",
        "  row.append(time)\n",
        "  row.append(title)\n",
        "  row.append(snippet)\n",
        "  wr.writerow(row)\n",
        "fd.close()\n",
        "\n"
      ],
      "execution_count": null,
      "outputs": [
        {
          "output_type": "stream",
          "text": [
            "[<li class=\"bx\" id=\"sp_nws1\"> <div class=\"news_wrap api_ani_send\"> <a class=\"dsc_thumb \" href=\"https://www.news1.kr/articles/?4101650\" onclick=\"return goOtherCR(this, 'a=nws*e.img&amp;r=1&amp;i=08138263_000000000000000004960132&amp;g=421.0004960132&amp;u='+urlencode(this.href));\" target=\"_blank\"><img alt=\"한라산 단풍놀이에 주\" class=\"thumb api_get\" height=\"90\" onerror=\"this.parentNode.style.display='none';\" src=\"https://search.pstatic.net/common/?src=https%3A%2F%2Fimgnews.pstatic.net%2Fimage%2Forigin%2F421%2F2020%2F10%2F30%2F4960132.jpg&amp;type=ff264_180&amp;expire=2&amp;refresh=true\" width=\"132\"/></a> <div class=\"news_area\"> <div class=\"news_info\"> <div class=\"info_group\"> <a class=\"info press\" href=\"http://news1.kr/\" onclick=\"return goOtherCR(this, 'a=nws*e.prof&amp;r=1&amp;i=08138263_000000000000000004960132&amp;g=421.0004960132&amp;u='+urlencode(this.href));\" target=\"_blank\"><span class=\"thumb_box\"><img alt=\"\" class=\"thumb\" height=\"20\" onerror=\"this.src='data:image/gif;base64,R0lGODlhAQABAIAAAAAAAP///yH5BAEAAAAALAAAAAABAAEAAAIBRAA7';this.className='thumb bg_default_press'\" src=\"https://search.pstatic.net/common/?src=https%3A%2F%2Fmimgnews.pstatic.net%2Fimage%2Fupload%2Foffice_logo%2F421%2F2017%2F01%2F05%2Flogo_421_18_20170105111205.png&amp;type=f54_54&amp;expire=24&amp;refresh=true\" width=\"20\"/></span>뉴스1</a><span class=\"info\">1일 전</span><a class=\"info\" href=\"https://news.naver.com/main/read.nhn?mode=LSD&amp;mid=sec&amp;sid1=102&amp;oid=421&amp;aid=0004960132\" onclick=\"return goOtherCR(this, 'a=nws*e.nav&amp;r=1&amp;i=08138263_000000000000000004960132&amp;u='+urlencode(this.href));\" target=\"_blank\">네이버뉴스</a> </div></div><a class=\"news_tit\" href=\"https://www.news1.kr/articles/?4101650\" onclick=\"return goOtherCR(this, 'a=nws*e.tit&amp;r=1&amp;i=08138263_000000000000000004960132&amp;g=421.0004960132&amp;u='+urlencode(this.href));\" target=\"_blank\" title=\"한라산 단풍놀이에 주차장 된 5·16도로…차·사람 엉켜 '아찔'\"><mark>한라산</mark> 단풍놀이에 주차장 된 5·16도로…차·사람 엉켜 '아찔'</a> <div class=\"news_dsc\"> <div class=\"dsc_wrap\"> <a class=\"api_txt_lines dsc_txt_wrap\" href=\"https://www.news1.kr/articles/?4101650\" onclick=\"return goOtherCR(this, 'a=nws*e.body&amp;r=1&amp;i=08138263_000000000000000004960132&amp;g=421.0004960132&amp;u='+urlencode(this.href));\" target=\"_blank\">너무 위험하다.” 지난 27일 오후 제주 <mark>한라산</mark> 성판악 입구. 등반을 마치고 내려온 관광객 2명이 5·16도로... 10월 들어 <mark>한라산</mark>에 단풍이 들자 하루 평균 3232명의 등반객의 발길이 이어졌다. 이달 등반객 수는 지난 27일...</a> </div></div></div></div></li>]\n",
            "<li class=\"bx\" id=\"sp_nws1\"> <div class=\"news_wrap api_ani_send\"> <a class=\"dsc_thumb \" href=\"https://www.news1.kr/articles/?4101650\" onclick=\"return goOtherCR(this, 'a=nws*e.img&amp;r=1&amp;i=08138263_000000000000000004960132&amp;g=421.0004960132&amp;u='+urlencode(this.href));\" target=\"_blank\"><img alt=\"한라산 단풍놀이에 주\" class=\"thumb api_get\" height=\"90\" onerror=\"this.parentNode.style.display='none';\" src=\"https://search.pstatic.net/common/?src=https%3A%2F%2Fimgnews.pstatic.net%2Fimage%2Forigin%2F421%2F2020%2F10%2F30%2F4960132.jpg&amp;type=ff264_180&amp;expire=2&amp;refresh=true\" width=\"132\"/></a> <div class=\"news_area\"> <div class=\"news_info\"> <div class=\"info_group\"> <a class=\"info press\" href=\"http://news1.kr/\" onclick=\"return goOtherCR(this, 'a=nws*e.prof&amp;r=1&amp;i=08138263_000000000000000004960132&amp;g=421.0004960132&amp;u='+urlencode(this.href));\" target=\"_blank\"><span class=\"thumb_box\"><img alt=\"\" class=\"thumb\" height=\"20\" onerror=\"this.src='data:image/gif;base64,R0lGODlhAQABAIAAAAAAAP///yH5BAEAAAAALAAAAAABAAEAAAIBRAA7';this.className='thumb bg_default_press'\" src=\"https://search.pstatic.net/common/?src=https%3A%2F%2Fmimgnews.pstatic.net%2Fimage%2Fupload%2Foffice_logo%2F421%2F2017%2F01%2F05%2Flogo_421_18_20170105111205.png&amp;type=f54_54&amp;expire=24&amp;refresh=true\" width=\"20\"/></span>뉴스1</a><span class=\"info\">1일 전</span><a class=\"info\" href=\"https://news.naver.com/main/read.nhn?mode=LSD&amp;mid=sec&amp;sid1=102&amp;oid=421&amp;aid=0004960132\" onclick=\"return goOtherCR(this, 'a=nws*e.nav&amp;r=1&amp;i=08138263_000000000000000004960132&amp;u='+urlencode(this.href));\" target=\"_blank\">네이버뉴스</a> </div></div><a class=\"news_tit\" href=\"https://www.news1.kr/articles/?4101650\" onclick=\"return goOtherCR(this, 'a=nws*e.tit&amp;r=1&amp;i=08138263_000000000000000004960132&amp;g=421.0004960132&amp;u='+urlencode(this.href));\" target=\"_blank\" title=\"한라산 단풍놀이에 주차장 된 5·16도로…차·사람 엉켜 '아찔'\"><mark>한라산</mark> 단풍놀이에 주차장 된 5·16도로…차·사람 엉켜 '아찔'</a> <div class=\"news_dsc\"> <div class=\"dsc_wrap\"> <a class=\"api_txt_lines dsc_txt_wrap\" href=\"https://www.news1.kr/articles/?4101650\" onclick=\"return goOtherCR(this, 'a=nws*e.body&amp;r=1&amp;i=08138263_000000000000000004960132&amp;g=421.0004960132&amp;u='+urlencode(this.href));\" target=\"_blank\">너무 위험하다.” 지난 27일 오후 제주 <mark>한라산</mark> 성판악 입구. 등반을 마치고 내려온 관광객 2명이 5·16도로... 10월 들어 <mark>한라산</mark>에 단풍이 들자 하루 평균 3232명의 등반객의 발길이 이어졌다. 이달 등반객 수는 지난 27일...</a> </div></div></div></div></li>\n"
          ],
          "name": "stdout"
        }
      ]
    },
    {
      "cell_type": "code",
      "metadata": {
        "id": "psIqeFUtPoGq"
      },
      "source": [
        ""
      ],
      "execution_count": null,
      "outputs": []
    },
    {
      "cell_type": "code",
      "metadata": {
        "id": "c3QfWFS7PoCA"
      },
      "source": [
        "search_word = '제주 광어'\n",
        "sd = '2020.10.25'\n",
        "ed = '2020.10.31'\n",
        "start_num = 1\n",
        "url = \"https://search.naver.com/search.naver?where=news&query={}&pd=3&ds={}&de={}&start={}\".format(search_word,sd,ed,start_num)\n",
        "req = requests.get(url)\n",
        "html = req.text\n",
        "soup = BeautifulSoup(html, 'html.parser')\n",
        "\n",
        "\n",
        "text_file = open(\"/content/output.html\", \"w\",encoding='utf-8')\n",
        "text_file.write(html)\n",
        "text_file.close()"
      ],
      "execution_count": null,
      "outputs": []
    },
    {
      "cell_type": "code",
      "metadata": {
        "id": "4pdWm6bnPmPi",
        "outputId": "a2f55bd3-4fb8-45c4-f163-be82856d9a0f",
        "colab": {
          "base_uri": "https://localhost:8080/"
        }
      },
      "source": [
        "# 뉴스제목 뽑아오기\n",
        "import csv\n",
        "\n",
        "fd = open('/content/output.csv', 'w', encoding='utf-8', newline='')\n",
        "wr = csv.writer(fd,delimiter=',')\n",
        "wr.writerow(['url','source','time','title','snippet'])\n",
        "items = soup.select('#main_pack > section.sc_new.sp_nkin._au_kin_collection > div > ul > li ')\n",
        "print(items)\n",
        "\n",
        "\n",
        "for text in items:\n",
        "  print(text)\n",
        "  row = []\n",
        "  url = text.div.a['href']\n",
        "  source = text.div.div.div.div.a.text\n",
        "  time = text.div.div.div.div.find('span',{'class','info'}).text\n",
        "  title  = text.find('a',{'class','news_tit'})['title']\n",
        "  snippet = text.find('div',{'class','dsc_wrap'}).a.text\n",
        "  row.append(url)\n",
        "  row.append(source)\n",
        "  row.append(time)\n",
        "  row.append(title)\n",
        "  row.append(snippet)\n",
        "  wr.writerow(row)\n",
        "fd.close()\n",
        "\n"
      ],
      "execution_count": null,
      "outputs": [
        {
          "output_type": "stream",
          "text": [
            "[]\n"
          ],
          "name": "stdout"
        }
      ]
    }
  ]
}