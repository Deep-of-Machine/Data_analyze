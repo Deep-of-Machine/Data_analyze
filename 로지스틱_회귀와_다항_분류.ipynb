{
  "nbformat": 4,
  "nbformat_minor": 0,
  "metadata": {
    "colab": {
      "name": "로지스틱_회귀와_다항_분류.ipynb",
      "provenance": [],
      "include_colab_link": true
    },
    "kernelspec": {
      "name": "python3",
      "display_name": "Python 3"
    },
    "accelerator": "GPU"
  },
  "cells": [
    {
      "cell_type": "markdown",
      "metadata": {
        "id": "view-in-github",
        "colab_type": "text"
      },
      "source": [
        "<a href=\"https://colab.research.google.com/github/Deep-of-Machine/Data_analyze/blob/main/%EB%A1%9C%EC%A7%80%EC%8A%A4%ED%8B%B1_%ED%9A%8C%EA%B7%80%EC%99%80_%EB%8B%A4%ED%95%AD_%EB%B6%84%EB%A5%98.ipynb\" target=\"_parent\"><img src=\"https://colab.research.google.com/assets/colab-badge.svg\" alt=\"Open In Colab\"/></a>"
      ]
    },
    {
      "cell_type": "markdown",
      "metadata": {
        "id": "DNNUOfaWfebI"
      },
      "source": [
        "# 초기 당뇨병 위험 예측 데이터셋\n",
        " - Diabetes Dataset : 2020년 520명의 15개 속성과 1개의 클래스를 나타냄 \n",
        " - 속성(feature)는 15개\n",
        "   - Gender: 성별/1은 남자, 2는 여자\n",
        "   - Polyuria : 다뇨증/ 1은 예, 0은 아니오\n",
        "   - Polydipsia : 조갈증\n",
        "   - sudden weight loss : 갑작스러운 체중 감소\n",
        "   - weakness : 기저질환\n",
        "   - Polyphagia : 다식증\n",
        "   - Genital thrush : 생식기 염증\n",
        "   - visual blurring : 시각적 흐릿함\n",
        "   - Itching : 가려움\n",
        "   - Irritability : 과민성\n",
        "   - delayed healing : 지연된 치유\n",
        "   - partial paresis : 부분 마비\n",
        "   - muscle stiffness : 근육 긴장도\n",
        "   - Alopecia : 탈모\n",
        "   - Obesity : 비만\n",
        " - 클래스(class)는 1개\n",
        "   - 1은 당뇨 양성, 0은 당뇨 음성\n",
        "\n",
        " - 참고자료(UCI저장소)\n",
        "   - https://archive.ics.uci.edu/ml/datasets/Early+stage+diabetes+risk+prediction+dataset."
      ]
    },
    {
      "cell_type": "markdown",
      "metadata": {
        "id": "Ey9yFrFsfgye"
      },
      "source": [
        "# 로지스틱 회귀(logistic regression)\n",
        " - 로지스틱 회귀의 목적은 일반적인 회귀 분석의 목표와 동일하게 종속 변수와 독립 변수간의 관계를 구체적인 함수로 나타내어 향후 예측 모델에 사용하는 것이다. 이는 독립 변수의 선형 결합으로 종속 변수를 설명한다는 관점에서는 선형 회귀 분석과 유사하다. 하지만 로지스틱 회귀는 선형 회귀 분석과는 다르게 종속 변수가 범주형 데이터를 대상으로 하며 입력 데이터가 주어졌을 때 해당 데이터의 결과가 특정 분류로 나뉘기 때문에 일종의 분류 (classification) 기법으로도 볼 수 있다.\n"
      ]
    },
    {
      "cell_type": "code",
      "metadata": {
        "id": "87Kb6AGlfc-B"
      },
      "source": [
        "import numpy as np\n",
        "import matplotlib.pyplot as plt\n",
        "import pandas as pd"
      ],
      "execution_count": null,
      "outputs": []
    },
    {
      "cell_type": "code",
      "metadata": {
        "id": "orjRCFgAfjzf",
        "colab": {
          "base_uri": "https://localhost:8080/",
          "height": 274
        },
        "outputId": "e328aff6-b475-411f-853b-5fc155e0fa41"
      },
      "source": [
        "#1. 데이터셋 불러오기(ThoraricSurgery.csv)\n",
        "\n",
        "url = 'https://drive.google.com/uc?export=download&id=1zs-H7slk3aAkGNsg7TFxK2sS7OjHxeku'\n",
        "df = pd.read_csv(url)\n",
        "print(df.shape)\n",
        "#위에 5개 데이터만 출력하기\n",
        "df.head()"
      ],
      "execution_count": null,
      "outputs": [
        {
          "output_type": "stream",
          "text": [
            "(520, 16)\n"
          ],
          "name": "stdout"
        },
        {
          "output_type": "execute_result",
          "data": {
            "text/html": [
              "<div>\n",
              "<style scoped>\n",
              "    .dataframe tbody tr th:only-of-type {\n",
              "        vertical-align: middle;\n",
              "    }\n",
              "\n",
              "    .dataframe tbody tr th {\n",
              "        vertical-align: top;\n",
              "    }\n",
              "\n",
              "    .dataframe thead th {\n",
              "        text-align: right;\n",
              "    }\n",
              "</style>\n",
              "<table border=\"1\" class=\"dataframe\">\n",
              "  <thead>\n",
              "    <tr style=\"text-align: right;\">\n",
              "      <th></th>\n",
              "      <th>Gender</th>\n",
              "      <th>Polyuria</th>\n",
              "      <th>Polydipsia</th>\n",
              "      <th>sudden weight loss</th>\n",
              "      <th>weakness</th>\n",
              "      <th>Polyphagia</th>\n",
              "      <th>Genital thrush</th>\n",
              "      <th>visual blurring</th>\n",
              "      <th>Itching</th>\n",
              "      <th>Irritability</th>\n",
              "      <th>delayed healing</th>\n",
              "      <th>partial paresis</th>\n",
              "      <th>muscle stiffness</th>\n",
              "      <th>Alopecia</th>\n",
              "      <th>Obesity</th>\n",
              "      <th>class</th>\n",
              "    </tr>\n",
              "  </thead>\n",
              "  <tbody>\n",
              "    <tr>\n",
              "      <th>0</th>\n",
              "      <td>1</td>\n",
              "      <td>0</td>\n",
              "      <td>1</td>\n",
              "      <td>0</td>\n",
              "      <td>1</td>\n",
              "      <td>0</td>\n",
              "      <td>0</td>\n",
              "      <td>0</td>\n",
              "      <td>1</td>\n",
              "      <td>0</td>\n",
              "      <td>1</td>\n",
              "      <td>0</td>\n",
              "      <td>1</td>\n",
              "      <td>1</td>\n",
              "      <td>1</td>\n",
              "      <td>1</td>\n",
              "    </tr>\n",
              "    <tr>\n",
              "      <th>1</th>\n",
              "      <td>1</td>\n",
              "      <td>0</td>\n",
              "      <td>0</td>\n",
              "      <td>0</td>\n",
              "      <td>1</td>\n",
              "      <td>0</td>\n",
              "      <td>0</td>\n",
              "      <td>1</td>\n",
              "      <td>0</td>\n",
              "      <td>0</td>\n",
              "      <td>0</td>\n",
              "      <td>1</td>\n",
              "      <td>0</td>\n",
              "      <td>1</td>\n",
              "      <td>0</td>\n",
              "      <td>1</td>\n",
              "    </tr>\n",
              "    <tr>\n",
              "      <th>2</th>\n",
              "      <td>1</td>\n",
              "      <td>1</td>\n",
              "      <td>0</td>\n",
              "      <td>0</td>\n",
              "      <td>1</td>\n",
              "      <td>1</td>\n",
              "      <td>0</td>\n",
              "      <td>0</td>\n",
              "      <td>1</td>\n",
              "      <td>0</td>\n",
              "      <td>1</td>\n",
              "      <td>0</td>\n",
              "      <td>1</td>\n",
              "      <td>1</td>\n",
              "      <td>0</td>\n",
              "      <td>1</td>\n",
              "    </tr>\n",
              "    <tr>\n",
              "      <th>3</th>\n",
              "      <td>1</td>\n",
              "      <td>0</td>\n",
              "      <td>0</td>\n",
              "      <td>1</td>\n",
              "      <td>1</td>\n",
              "      <td>1</td>\n",
              "      <td>1</td>\n",
              "      <td>0</td>\n",
              "      <td>1</td>\n",
              "      <td>0</td>\n",
              "      <td>1</td>\n",
              "      <td>0</td>\n",
              "      <td>0</td>\n",
              "      <td>0</td>\n",
              "      <td>0</td>\n",
              "      <td>1</td>\n",
              "    </tr>\n",
              "    <tr>\n",
              "      <th>4</th>\n",
              "      <td>1</td>\n",
              "      <td>1</td>\n",
              "      <td>1</td>\n",
              "      <td>1</td>\n",
              "      <td>1</td>\n",
              "      <td>1</td>\n",
              "      <td>0</td>\n",
              "      <td>1</td>\n",
              "      <td>1</td>\n",
              "      <td>1</td>\n",
              "      <td>1</td>\n",
              "      <td>1</td>\n",
              "      <td>1</td>\n",
              "      <td>1</td>\n",
              "      <td>1</td>\n",
              "      <td>1</td>\n",
              "    </tr>\n",
              "  </tbody>\n",
              "</table>\n",
              "</div>"
            ],
            "text/plain": [
              "   Gender  Polyuria  Polydipsia  ...  Alopecia  Obesity  class\n",
              "0       1         0           1  ...         1        1      1\n",
              "1       1         0           0  ...         1        0      1\n",
              "2       1         1           0  ...         1        0      1\n",
              "3       1         0           0  ...         0        0      1\n",
              "4       1         1           1  ...         1        1      1\n",
              "\n",
              "[5 rows x 16 columns]"
            ]
          },
          "metadata": {
            "tags": []
          },
          "execution_count": 3
        }
      ]
    },
    {
      "cell_type": "code",
      "metadata": {
        "id": "O7dEE6D_hUMa",
        "colab": {
          "base_uri": "https://localhost:8080/"
        },
        "outputId": "89c6c2ef-5d5a-462b-c4ca-92785c7dfbd0"
      },
      "source": [
        "#2. 데이터 및 레이블 분리하기\n",
        "lim = int(len(df)*0.7)\n",
        "train_x = df.iloc[:lim, 0:15].to_numpy()\n",
        "train_y = df.iloc[:lim, 15].to_numpy()\n",
        "test_x = df.iloc[lim:, 0:15].to_numpy()\n",
        "test_y = df.iloc[lim:, 15].to_numpy()\n",
        "\n",
        "train_x.shape, train_y.shape, test_x.shape, test_y.shape"
      ],
      "execution_count": null,
      "outputs": [
        {
          "output_type": "execute_result",
          "data": {
            "text/plain": [
              "((364, 15), (364,), (156, 15), (156,))"
            ]
          },
          "metadata": {
            "tags": []
          },
          "execution_count": 4
        }
      ]
    },
    {
      "cell_type": "code",
      "metadata": {
        "id": "Pryr5Lg5heOg"
      },
      "source": [
        "#3. 모델 구성하기\n",
        "from tensorflow.keras.models import Sequential\n",
        "from tensorflow.keras.layers import Dense\n",
        "\n",
        "model = Sequential()\n",
        "model.add(Dense(30, input_dim=15, activation='relu'))\n",
        "model.add(Dense(1, activation='sigmoid'))\n",
        "\n",
        "model.compile(loss='binary_crossentropy', optimizer='adam',\n",
        "              metrics=['accuracy'])\n",
        "              #loss='mse'\n",
        "model.summary()"
      ],
      "execution_count": null,
      "outputs": []
    },
    {
      "cell_type": "code",
      "metadata": {
        "id": "cS6AYtz4hxP3",
        "colab": {
          "base_uri": "https://localhost:8080/"
        },
        "outputId": "05e6f633-d67e-4e7d-911b-d11777ff974b"
      },
      "source": [
        "# 4.모델 학습\n",
        "history = model.fit(train_x, train_y, epochs=100, \n",
        "                    batch_size=10, validation_split=0.25)"
      ],
      "execution_count": null,
      "outputs": [
        {
          "output_type": "stream",
          "text": [
            "Epoch 1/100\n",
            "28/28 [==============================] - 0s 7ms/step - loss: 0.7582 - accuracy: 0.3919 - val_loss: 0.7279 - val_accuracy: 0.3626\n",
            "Epoch 2/100\n",
            "28/28 [==============================] - 0s 2ms/step - loss: 0.5071 - accuracy: 0.8059 - val_loss: 0.8300 - val_accuracy: 0.2857\n",
            "Epoch 3/100\n",
            "28/28 [==============================] - 0s 2ms/step - loss: 0.4110 - accuracy: 0.8168 - val_loss: 0.9451 - val_accuracy: 0.2857\n",
            "Epoch 4/100\n",
            "28/28 [==============================] - 0s 2ms/step - loss: 0.3723 - accuracy: 0.8168 - val_loss: 0.9864 - val_accuracy: 0.2857\n",
            "Epoch 5/100\n",
            "28/28 [==============================] - 0s 2ms/step - loss: 0.3525 - accuracy: 0.8168 - val_loss: 0.9781 - val_accuracy: 0.2857\n",
            "Epoch 6/100\n",
            "28/28 [==============================] - 0s 2ms/step - loss: 0.3370 - accuracy: 0.8168 - val_loss: 0.9574 - val_accuracy: 0.2857\n",
            "Epoch 7/100\n",
            "28/28 [==============================] - 0s 2ms/step - loss: 0.3230 - accuracy: 0.8242 - val_loss: 0.9223 - val_accuracy: 0.3187\n",
            "Epoch 8/100\n",
            "28/28 [==============================] - 0s 2ms/step - loss: 0.3098 - accuracy: 0.8242 - val_loss: 0.8999 - val_accuracy: 0.3626\n",
            "Epoch 9/100\n",
            "28/28 [==============================] - 0s 2ms/step - loss: 0.2945 - accuracy: 0.8425 - val_loss: 0.8394 - val_accuracy: 0.3736\n",
            "Epoch 10/100\n",
            "28/28 [==============================] - 0s 2ms/step - loss: 0.2809 - accuracy: 0.8462 - val_loss: 0.7985 - val_accuracy: 0.3846\n",
            "Epoch 11/100\n",
            "28/28 [==============================] - 0s 2ms/step - loss: 0.2682 - accuracy: 0.8498 - val_loss: 0.7795 - val_accuracy: 0.3956\n",
            "Epoch 12/100\n",
            "28/28 [==============================] - 0s 2ms/step - loss: 0.2569 - accuracy: 0.8645 - val_loss: 0.7275 - val_accuracy: 0.4396\n",
            "Epoch 13/100\n",
            "28/28 [==============================] - 0s 2ms/step - loss: 0.2469 - accuracy: 0.8755 - val_loss: 0.7159 - val_accuracy: 0.4615\n",
            "Epoch 14/100\n",
            "28/28 [==============================] - 0s 2ms/step - loss: 0.2378 - accuracy: 0.8828 - val_loss: 0.6813 - val_accuracy: 0.4945\n",
            "Epoch 15/100\n",
            "28/28 [==============================] - 0s 2ms/step - loss: 0.2301 - accuracy: 0.8901 - val_loss: 0.6738 - val_accuracy: 0.5055\n",
            "Epoch 16/100\n",
            "28/28 [==============================] - 0s 5ms/step - loss: 0.2227 - accuracy: 0.8864 - val_loss: 0.6497 - val_accuracy: 0.5055\n",
            "Epoch 17/100\n",
            "28/28 [==============================] - 0s 2ms/step - loss: 0.2169 - accuracy: 0.9121 - val_loss: 0.6207 - val_accuracy: 0.6923\n",
            "Epoch 18/100\n",
            "28/28 [==============================] - 0s 2ms/step - loss: 0.2126 - accuracy: 0.9194 - val_loss: 0.6422 - val_accuracy: 0.6703\n",
            "Epoch 19/100\n",
            "28/28 [==============================] - 0s 2ms/step - loss: 0.2069 - accuracy: 0.9231 - val_loss: 0.5855 - val_accuracy: 0.6923\n",
            "Epoch 20/100\n",
            "28/28 [==============================] - 0s 2ms/step - loss: 0.2021 - accuracy: 0.9267 - val_loss: 0.5905 - val_accuracy: 0.6923\n",
            "Epoch 21/100\n",
            "28/28 [==============================] - 0s 2ms/step - loss: 0.1980 - accuracy: 0.9267 - val_loss: 0.6064 - val_accuracy: 0.6923\n",
            "Epoch 22/100\n",
            "28/28 [==============================] - 0s 2ms/step - loss: 0.1955 - accuracy: 0.9267 - val_loss: 0.6076 - val_accuracy: 0.6923\n",
            "Epoch 23/100\n",
            "28/28 [==============================] - 0s 2ms/step - loss: 0.1915 - accuracy: 0.9267 - val_loss: 0.5623 - val_accuracy: 0.7033\n",
            "Epoch 24/100\n",
            "28/28 [==============================] - 0s 2ms/step - loss: 0.1885 - accuracy: 0.9267 - val_loss: 0.5582 - val_accuracy: 0.7033\n",
            "Epoch 25/100\n",
            "28/28 [==============================] - 0s 2ms/step - loss: 0.1858 - accuracy: 0.9267 - val_loss: 0.5515 - val_accuracy: 0.7253\n",
            "Epoch 26/100\n",
            "28/28 [==============================] - 0s 2ms/step - loss: 0.1826 - accuracy: 0.9304 - val_loss: 0.5452 - val_accuracy: 0.7253\n",
            "Epoch 27/100\n",
            "28/28 [==============================] - 0s 2ms/step - loss: 0.1802 - accuracy: 0.9304 - val_loss: 0.5229 - val_accuracy: 0.7253\n",
            "Epoch 28/100\n",
            "28/28 [==============================] - 0s 2ms/step - loss: 0.1770 - accuracy: 0.9267 - val_loss: 0.5516 - val_accuracy: 0.7033\n",
            "Epoch 29/100\n",
            "28/28 [==============================] - 0s 2ms/step - loss: 0.1743 - accuracy: 0.9377 - val_loss: 0.5155 - val_accuracy: 0.7253\n",
            "Epoch 30/100\n",
            "28/28 [==============================] - 0s 2ms/step - loss: 0.1730 - accuracy: 0.9341 - val_loss: 0.5182 - val_accuracy: 0.7253\n",
            "Epoch 31/100\n",
            "28/28 [==============================] - 0s 2ms/step - loss: 0.1717 - accuracy: 0.9451 - val_loss: 0.4991 - val_accuracy: 0.7473\n",
            "Epoch 32/100\n",
            "28/28 [==============================] - 0s 2ms/step - loss: 0.1681 - accuracy: 0.9341 - val_loss: 0.5324 - val_accuracy: 0.6923\n",
            "Epoch 33/100\n",
            "28/28 [==============================] - 0s 2ms/step - loss: 0.1655 - accuracy: 0.9414 - val_loss: 0.5219 - val_accuracy: 0.7363\n",
            "Epoch 34/100\n",
            "28/28 [==============================] - 0s 2ms/step - loss: 0.1629 - accuracy: 0.9451 - val_loss: 0.4988 - val_accuracy: 0.7473\n",
            "Epoch 35/100\n",
            "28/28 [==============================] - 0s 2ms/step - loss: 0.1613 - accuracy: 0.9487 - val_loss: 0.4931 - val_accuracy: 0.7692\n",
            "Epoch 36/100\n",
            "28/28 [==============================] - 0s 2ms/step - loss: 0.1596 - accuracy: 0.9451 - val_loss: 0.4954 - val_accuracy: 0.7582\n",
            "Epoch 37/100\n",
            "28/28 [==============================] - 0s 2ms/step - loss: 0.1575 - accuracy: 0.9451 - val_loss: 0.5054 - val_accuracy: 0.7363\n",
            "Epoch 38/100\n",
            "28/28 [==============================] - 0s 2ms/step - loss: 0.1561 - accuracy: 0.9451 - val_loss: 0.4777 - val_accuracy: 0.7582\n",
            "Epoch 39/100\n",
            "28/28 [==============================] - 0s 2ms/step - loss: 0.1533 - accuracy: 0.9451 - val_loss: 0.5108 - val_accuracy: 0.7363\n",
            "Epoch 40/100\n",
            "28/28 [==============================] - 0s 2ms/step - loss: 0.1512 - accuracy: 0.9487 - val_loss: 0.4762 - val_accuracy: 0.7582\n",
            "Epoch 41/100\n",
            "28/28 [==============================] - 0s 2ms/step - loss: 0.1488 - accuracy: 0.9524 - val_loss: 0.4912 - val_accuracy: 0.7582\n",
            "Epoch 42/100\n",
            "28/28 [==============================] - 0s 2ms/step - loss: 0.1476 - accuracy: 0.9487 - val_loss: 0.4871 - val_accuracy: 0.7582\n",
            "Epoch 43/100\n",
            "28/28 [==============================] - 0s 2ms/step - loss: 0.1463 - accuracy: 0.9524 - val_loss: 0.4796 - val_accuracy: 0.7582\n",
            "Epoch 44/100\n",
            "28/28 [==============================] - 0s 2ms/step - loss: 0.1461 - accuracy: 0.9487 - val_loss: 0.4714 - val_accuracy: 0.7582\n",
            "Epoch 45/100\n",
            "28/28 [==============================] - 0s 2ms/step - loss: 0.1410 - accuracy: 0.9524 - val_loss: 0.4746 - val_accuracy: 0.7582\n",
            "Epoch 46/100\n",
            "28/28 [==============================] - 0s 2ms/step - loss: 0.1390 - accuracy: 0.9524 - val_loss: 0.4838 - val_accuracy: 0.7582\n",
            "Epoch 47/100\n",
            "28/28 [==============================] - 0s 2ms/step - loss: 0.1374 - accuracy: 0.9524 - val_loss: 0.4591 - val_accuracy: 0.7582\n",
            "Epoch 48/100\n",
            "28/28 [==============================] - 0s 2ms/step - loss: 0.1358 - accuracy: 0.9524 - val_loss: 0.4631 - val_accuracy: 0.7582\n",
            "Epoch 49/100\n",
            "28/28 [==============================] - 0s 2ms/step - loss: 0.1341 - accuracy: 0.9487 - val_loss: 0.4260 - val_accuracy: 0.7802\n",
            "Epoch 50/100\n",
            "28/28 [==============================] - 0s 2ms/step - loss: 0.1315 - accuracy: 0.9560 - val_loss: 0.4550 - val_accuracy: 0.7582\n",
            "Epoch 51/100\n",
            "28/28 [==============================] - 0s 2ms/step - loss: 0.1303 - accuracy: 0.9597 - val_loss: 0.4488 - val_accuracy: 0.7582\n",
            "Epoch 52/100\n",
            "28/28 [==============================] - 0s 2ms/step - loss: 0.1280 - accuracy: 0.9597 - val_loss: 0.4515 - val_accuracy: 0.7692\n",
            "Epoch 53/100\n",
            "28/28 [==============================] - 0s 2ms/step - loss: 0.1262 - accuracy: 0.9634 - val_loss: 0.4474 - val_accuracy: 0.7912\n",
            "Epoch 54/100\n",
            "28/28 [==============================] - 0s 2ms/step - loss: 0.1252 - accuracy: 0.9634 - val_loss: 0.4364 - val_accuracy: 0.7912\n",
            "Epoch 55/100\n",
            "28/28 [==============================] - 0s 2ms/step - loss: 0.1225 - accuracy: 0.9634 - val_loss: 0.4219 - val_accuracy: 0.7912\n",
            "Epoch 56/100\n",
            "28/28 [==============================] - 0s 2ms/step - loss: 0.1210 - accuracy: 0.9634 - val_loss: 0.4512 - val_accuracy: 0.7912\n",
            "Epoch 57/100\n",
            "28/28 [==============================] - 0s 2ms/step - loss: 0.1182 - accuracy: 0.9634 - val_loss: 0.4183 - val_accuracy: 0.7912\n",
            "Epoch 58/100\n",
            "28/28 [==============================] - 0s 2ms/step - loss: 0.1179 - accuracy: 0.9634 - val_loss: 0.4420 - val_accuracy: 0.7912\n",
            "Epoch 59/100\n",
            "28/28 [==============================] - 0s 2ms/step - loss: 0.1170 - accuracy: 0.9634 - val_loss: 0.4412 - val_accuracy: 0.7912\n",
            "Epoch 60/100\n",
            "28/28 [==============================] - 0s 2ms/step - loss: 0.1137 - accuracy: 0.9634 - val_loss: 0.4177 - val_accuracy: 0.8022\n",
            "Epoch 61/100\n",
            "28/28 [==============================] - 0s 2ms/step - loss: 0.1127 - accuracy: 0.9634 - val_loss: 0.4461 - val_accuracy: 0.7912\n",
            "Epoch 62/100\n",
            "28/28 [==============================] - 0s 2ms/step - loss: 0.1112 - accuracy: 0.9634 - val_loss: 0.4374 - val_accuracy: 0.7912\n",
            "Epoch 63/100\n",
            "28/28 [==============================] - 0s 2ms/step - loss: 0.1086 - accuracy: 0.9634 - val_loss: 0.4335 - val_accuracy: 0.8022\n",
            "Epoch 64/100\n",
            "28/28 [==============================] - 0s 2ms/step - loss: 0.1070 - accuracy: 0.9634 - val_loss: 0.4348 - val_accuracy: 0.8022\n",
            "Epoch 65/100\n",
            "28/28 [==============================] - 0s 2ms/step - loss: 0.1057 - accuracy: 0.9634 - val_loss: 0.4371 - val_accuracy: 0.8022\n",
            "Epoch 66/100\n",
            "28/28 [==============================] - 0s 2ms/step - loss: 0.1042 - accuracy: 0.9634 - val_loss: 0.3963 - val_accuracy: 0.8022\n",
            "Epoch 67/100\n",
            "28/28 [==============================] - 0s 2ms/step - loss: 0.1030 - accuracy: 0.9670 - val_loss: 0.4389 - val_accuracy: 0.8022\n",
            "Epoch 68/100\n",
            "28/28 [==============================] - 0s 2ms/step - loss: 0.1004 - accuracy: 0.9634 - val_loss: 0.4289 - val_accuracy: 0.8242\n",
            "Epoch 69/100\n",
            "28/28 [==============================] - 0s 2ms/step - loss: 0.0995 - accuracy: 0.9670 - val_loss: 0.4014 - val_accuracy: 0.8242\n",
            "Epoch 70/100\n",
            "28/28 [==============================] - 0s 2ms/step - loss: 0.0974 - accuracy: 0.9707 - val_loss: 0.4323 - val_accuracy: 0.8242\n",
            "Epoch 71/100\n",
            "28/28 [==============================] - 0s 2ms/step - loss: 0.0961 - accuracy: 0.9707 - val_loss: 0.4064 - val_accuracy: 0.8242\n",
            "Epoch 72/100\n",
            "28/28 [==============================] - 0s 2ms/step - loss: 0.0942 - accuracy: 0.9707 - val_loss: 0.4319 - val_accuracy: 0.8242\n",
            "Epoch 73/100\n",
            "28/28 [==============================] - 0s 2ms/step - loss: 0.0923 - accuracy: 0.9707 - val_loss: 0.4086 - val_accuracy: 0.8242\n",
            "Epoch 74/100\n",
            "28/28 [==============================] - 0s 2ms/step - loss: 0.0915 - accuracy: 0.9707 - val_loss: 0.4289 - val_accuracy: 0.8242\n",
            "Epoch 75/100\n",
            "28/28 [==============================] - 0s 2ms/step - loss: 0.0903 - accuracy: 0.9707 - val_loss: 0.4202 - val_accuracy: 0.8242\n",
            "Epoch 76/100\n",
            "28/28 [==============================] - 0s 2ms/step - loss: 0.0883 - accuracy: 0.9707 - val_loss: 0.4184 - val_accuracy: 0.8242\n",
            "Epoch 77/100\n",
            "28/28 [==============================] - 0s 2ms/step - loss: 0.0866 - accuracy: 0.9707 - val_loss: 0.4383 - val_accuracy: 0.8242\n",
            "Epoch 78/100\n",
            "28/28 [==============================] - 0s 2ms/step - loss: 0.0859 - accuracy: 0.9707 - val_loss: 0.4104 - val_accuracy: 0.8462\n",
            "Epoch 79/100\n",
            "28/28 [==============================] - 0s 2ms/step - loss: 0.0837 - accuracy: 0.9744 - val_loss: 0.4026 - val_accuracy: 0.8462\n",
            "Epoch 80/100\n",
            "28/28 [==============================] - 0s 2ms/step - loss: 0.0822 - accuracy: 0.9744 - val_loss: 0.4126 - val_accuracy: 0.8462\n",
            "Epoch 81/100\n",
            "28/28 [==============================] - 0s 2ms/step - loss: 0.0809 - accuracy: 0.9817 - val_loss: 0.4563 - val_accuracy: 0.8132\n",
            "Epoch 82/100\n",
            "28/28 [==============================] - 0s 2ms/step - loss: 0.0807 - accuracy: 0.9744 - val_loss: 0.3928 - val_accuracy: 0.8462\n",
            "Epoch 83/100\n",
            "28/28 [==============================] - 0s 2ms/step - loss: 0.0780 - accuracy: 0.9780 - val_loss: 0.4076 - val_accuracy: 0.8462\n",
            "Epoch 84/100\n",
            "28/28 [==============================] - 0s 2ms/step - loss: 0.0762 - accuracy: 0.9817 - val_loss: 0.4263 - val_accuracy: 0.8352\n",
            "Epoch 85/100\n",
            "28/28 [==============================] - 0s 2ms/step - loss: 0.0753 - accuracy: 0.9853 - val_loss: 0.4276 - val_accuracy: 0.8242\n",
            "Epoch 86/100\n",
            "28/28 [==============================] - 0s 2ms/step - loss: 0.0743 - accuracy: 0.9853 - val_loss: 0.4249 - val_accuracy: 0.8242\n",
            "Epoch 87/100\n",
            "28/28 [==============================] - 0s 2ms/step - loss: 0.0730 - accuracy: 0.9853 - val_loss: 0.4031 - val_accuracy: 0.8242\n",
            "Epoch 88/100\n",
            "28/28 [==============================] - 0s 2ms/step - loss: 0.0720 - accuracy: 0.9817 - val_loss: 0.4098 - val_accuracy: 0.8242\n",
            "Epoch 89/100\n",
            "28/28 [==============================] - 0s 2ms/step - loss: 0.0710 - accuracy: 0.9853 - val_loss: 0.4149 - val_accuracy: 0.8242\n",
            "Epoch 90/100\n",
            "28/28 [==============================] - 0s 2ms/step - loss: 0.0691 - accuracy: 0.9853 - val_loss: 0.4146 - val_accuracy: 0.8242\n",
            "Epoch 91/100\n",
            "28/28 [==============================] - 0s 2ms/step - loss: 0.0678 - accuracy: 0.9890 - val_loss: 0.4315 - val_accuracy: 0.8242\n",
            "Epoch 92/100\n",
            "28/28 [==============================] - 0s 2ms/step - loss: 0.0668 - accuracy: 0.9853 - val_loss: 0.4367 - val_accuracy: 0.8242\n",
            "Epoch 93/100\n",
            "28/28 [==============================] - 0s 2ms/step - loss: 0.0654 - accuracy: 0.9853 - val_loss: 0.4207 - val_accuracy: 0.8242\n",
            "Epoch 94/100\n",
            "28/28 [==============================] - 0s 2ms/step - loss: 0.0647 - accuracy: 0.9853 - val_loss: 0.4167 - val_accuracy: 0.8242\n",
            "Epoch 95/100\n",
            "28/28 [==============================] - 0s 2ms/step - loss: 0.0647 - accuracy: 0.9853 - val_loss: 0.4262 - val_accuracy: 0.8242\n",
            "Epoch 96/100\n",
            "28/28 [==============================] - 0s 2ms/step - loss: 0.0622 - accuracy: 0.9890 - val_loss: 0.4262 - val_accuracy: 0.8242\n",
            "Epoch 97/100\n",
            "28/28 [==============================] - 0s 2ms/step - loss: 0.0613 - accuracy: 0.9853 - val_loss: 0.4249 - val_accuracy: 0.8462\n",
            "Epoch 98/100\n",
            "28/28 [==============================] - 0s 2ms/step - loss: 0.0602 - accuracy: 0.9890 - val_loss: 0.4440 - val_accuracy: 0.8242\n",
            "Epoch 99/100\n",
            "28/28 [==============================] - 0s 2ms/step - loss: 0.0589 - accuracy: 0.9890 - val_loss: 0.4491 - val_accuracy: 0.8242\n",
            "Epoch 100/100\n",
            "28/28 [==============================] - 0s 2ms/step - loss: 0.0587 - accuracy: 0.9890 - val_loss: 0.4549 - val_accuracy: 0.8242\n"
          ],
          "name": "stdout"
        }
      ]
    },
    {
      "cell_type": "code",
      "metadata": {
        "id": "MVrl0MIShzES",
        "colab": {
          "base_uri": "https://localhost:8080/",
          "height": 279
        },
        "outputId": "06074449-a175-4036-cce7-b8c6862c0a02"
      },
      "source": [
        "# 5.검증 그래프 시각화\n",
        "plt.figure(figsize=(12, 4))\n",
        "plt.subplot(1,2,1)\n",
        "plt.plot(history.history['loss'],'b-', label='loss')\n",
        "plt.plot(history.history['val_loss'],'r--',label='val_loss')\n",
        "plt.xlabel('epoch')\n",
        "plt.legend()\n",
        "\n",
        "plt.subplot(1,2,2)\n",
        "plt.plot(history.history['accuracy'],'b-', label='accuracy')\n",
        "plt.plot(history.history['val_accuracy'],'r--',label='val_accuracy')\n",
        "plt.xlabel('epoch')\n",
        "plt.legend()\n",
        "plt.show()"
      ],
      "execution_count": null,
      "outputs": [
        {
          "output_type": "display_data",
          "data": {
            "image/png": "[encoded data removed]",
            "text/plain": [
              "<Figure size 864x288 with 2 Axes>"
            ]
          },
          "metadata": {
            "tags": [],
            "needs_background": "light"
          }
        }
      ]
    },
    {
      "cell_type": "code",
      "metadata": {
        "id": "B7JwDlcLh2bl",
        "colab": {
          "base_uri": "https://localhost:8080/"
        },
        "outputId": "06b5c48a-3231-46ba-9db5-f65ebef3dfa6"
      },
      "source": [
        "# 6. 모델 검증 평가\n",
        "model.evaluate(test_x, test_y)"
      ],
      "execution_count": null,
      "outputs": [
        {
          "output_type": "stream",
          "text": [
            "5/5 [==============================] - 0s 2ms/step - loss: 0.2359 - accuracy: 0.9231\n"
          ],
          "name": "stdout"
        },
        {
          "output_type": "execute_result",
          "data": {
            "text/plain": [
              "[0.23594802618026733, 0.9230769276618958]"
            ]
          },
          "metadata": {
            "tags": []
          },
          "execution_count": 11
        }
      ]
    },
    {
      "cell_type": "markdown",
      "metadata": {
        "id": "seTthfBiiBom"
      },
      "source": [
        "# 다항 분류 - MNIST"
      ]
    },
    {
      "cell_type": "code",
      "metadata": {
        "id": "eE6yyq-bh7jq",
        "colab": {
          "base_uri": "https://localhost:8080/"
        },
        "outputId": "a14c6cab-59ec-4a32-c18a-1da08b25e193"
      },
      "source": [
        "# 1. MNIST 데이터 불러오기\n",
        "import tensorflow as tf\n",
        "\n",
        "mnist = tf.keras.datasets.mnist\n",
        "(train_X, train_Y), (test_X, test_Y) = mnist.load_data()\n",
        "\n",
        "train_X.shape, test_X.shape, train_Y.shape, test_Y.shape"
      ],
      "execution_count": null,
      "outputs": [
        {
          "output_type": "stream",
          "text": [
            "Downloading data from https://storage.googleapis.com/tensorflow/tf-keras-datasets/mnist.npz\n",
            "11493376/11490434 [==============================] - 0s 0us/step\n"
          ],
          "name": "stdout"
        },
        {
          "output_type": "execute_result",
          "data": {
            "text/plain": [
              "((60000, 28, 28), (10000, 28, 28), (60000,), (10000,))"
            ]
          },
          "metadata": {
            "tags": []
          },
          "execution_count": 1
        }
      ]
    },
    {
      "cell_type": "code",
      "metadata": {
        "id": "y1HacpbviEuD",
        "colab": {
          "base_uri": "https://localhost:8080/",
          "height": 282
        },
        "outputId": "9a492d71-0f50-4295-eaab-bbf6751845ec"
      },
      "source": [
        "# 2. 데이터 확인(이미지)\n",
        "import matplotlib.pyplot as plt\n",
        "\n",
        "plt.imshow(train_X[0], cmap='gray')\n",
        "plt.colorbar()\n",
        "plt.show()\n",
        "\n",
        "train_Y[0]"
      ],
      "execution_count": null,
      "outputs": [
        {
          "output_type": "display_data",
          "data": {
            "image/png": "[encoded data removed]",
            "text/plain": [
              "<Figure size 432x288 with 2 Axes>"
            ]
          },
          "metadata": {
            "tags": [],
            "needs_background": "light"
          }
        },
        {
          "output_type": "execute_result",
          "data": {
            "text/plain": [
              "5"
            ]
          },
          "metadata": {
            "tags": []
          },
          "execution_count": 2
        }
      ]
    },
    {
      "cell_type": "code",
      "metadata": {
        "id": "85OwfsxtiF15",
        "colab": {
          "base_uri": "https://localhost:8080/"
        },
        "outputId": "d7df497b-e3c1-4456-d2ad-9256e8119c32"
      },
      "source": [
        "# 3. 데이터 정규화 (픽셀의 값을 255 -> 0~1사이로)\n",
        "train_X = train_X/255.0\n",
        "test_X = test_X/255.0\n",
        "\n",
        "train_X[0]"
      ],
      "execution_count": null,
      "outputs": [
        {
          "output_type": "execute_result",
          "data": {
            "text/plain": [
              "array([[0.        , 0.        , 0.        , 0.        , 0.        ,\n",
              "        0.        , 0.        , 0.        , 0.        , 0.        ,\n",
              "        0.        , 0.        , 0.        , 0.        , 0.        ,\n",
              "        0.        , 0.        , 0.        , 0.        , 0.        ,\n",
              "        0.        , 0.        , 0.        , 0.        , 0.        ,\n",
              "        0.        , 0.        , 0.        ],\n",
              "       [0.        , 0.        , 0.        , 0.        , 0.        ,\n",
              "        0.        , 0.        , 0.        , 0.        , 0.        ,\n",
              "        0.        , 0.        , 0.        , 0.        , 0.        ,\n",
              "        0.        , 0.        , 0.        , 0.        , 0.        ,\n",
              "        0.        , 0.        , 0.        , 0.        , 0.        ,\n",
              "        0.        , 0.        , 0.        ],\n",
              "       [0.        , 0.        , 0.        , 0.        , 0.        ,\n",
              "        0.        , 0.        , 0.        , 0.        , 0.        ,\n",
              "        0.        , 0.        , 0.        , 0.        , 0.        ,\n",
              "        0.        , 0.        , 0.        , 0.        , 0.        ,\n",
              "        0.        , 0.        , 0.        , 0.        , 0.        ,\n",
              "        0.        , 0.        , 0.        ],\n",
              "       [0.        , 0.        , 0.        , 0.        , 0.        ,\n",
              "        0.        , 0.        , 0.        , 0.        , 0.        ,\n",
              "        0.        , 0.        , 0.        , 0.        , 0.        ,\n",
              "        0.        , 0.        , 0.        , 0.        , 0.        ,\n",
              "        0.        , 0.        , 0.        , 0.        , 0.        ,\n",
              "        0.        , 0.        , 0.        ],\n",
              "       [0.        , 0.        , 0.        , 0.        , 0.        ,\n",
              "        0.        , 0.        , 0.        , 0.        , 0.        ,\n",
              "        0.        , 0.        , 0.        , 0.        , 0.        ,\n",
              "        0.        , 0.        , 0.        , 0.        , 0.        ,\n",
              "        0.        , 0.        , 0.        , 0.        , 0.        ,\n",
              "        0.        , 0.        , 0.        ],\n",
              "       [0.        , 0.        , 0.        , 0.        , 0.        ,\n",
              "        0.        , 0.        , 0.        , 0.        , 0.        ,\n",
              "        0.        , 0.        , 0.01176471, 0.07058824, 0.07058824,\n",
              "        0.07058824, 0.49411765, 0.53333333, 0.68627451, 0.10196078,\n",
              "        0.65098039, 1.        , 0.96862745, 0.49803922, 0.        ,\n",
              "        0.        , 0.        , 0.        ],\n",
              "       [0.        , 0.        , 0.        , 0.        , 0.        ,\n",
              "        0.        , 0.        , 0.        , 0.11764706, 0.14117647,\n",
              "        0.36862745, 0.60392157, 0.66666667, 0.99215686, 0.99215686,\n",
              "        0.99215686, 0.99215686, 0.99215686, 0.88235294, 0.6745098 ,\n",
              "        0.99215686, 0.94901961, 0.76470588, 0.25098039, 0.        ,\n",
              "        0.        , 0.        , 0.        ],\n",
              "       [0.        , 0.        , 0.        , 0.        , 0.        ,\n",
              "        0.        , 0.        , 0.19215686, 0.93333333, 0.99215686,\n",
              "        0.99215686, 0.99215686, 0.99215686, 0.99215686, 0.99215686,\n",
              "        0.99215686, 0.99215686, 0.98431373, 0.36470588, 0.32156863,\n",
              "        0.32156863, 0.21960784, 0.15294118, 0.        , 0.        ,\n",
              "        0.        , 0.        , 0.        ],\n",
              "       [0.        , 0.        , 0.        , 0.        , 0.        ,\n",
              "        0.        , 0.        , 0.07058824, 0.85882353, 0.99215686,\n",
              "        0.99215686, 0.99215686, 0.99215686, 0.99215686, 0.77647059,\n",
              "        0.71372549, 0.96862745, 0.94509804, 0.        , 0.        ,\n",
              "        0.        , 0.        , 0.        , 0.        , 0.        ,\n",
              "        0.        , 0.        , 0.        ],\n",
              "       [0.        , 0.        , 0.        , 0.        , 0.        ,\n",
              "        0.        , 0.        , 0.        , 0.31372549, 0.61176471,\n",
              "        0.41960784, 0.99215686, 0.99215686, 0.80392157, 0.04313725,\n",
              "        0.        , 0.16862745, 0.60392157, 0.        , 0.        ,\n",
              "        0.        , 0.        , 0.        , 0.        , 0.        ,\n",
              "        0.        , 0.        , 0.        ],\n",
              "       [0.        , 0.        , 0.        , 0.        , 0.        ,\n",
              "        0.        , 0.        , 0.        , 0.        , 0.05490196,\n",
              "        0.00392157, 0.60392157, 0.99215686, 0.35294118, 0.        ,\n",
              "        0.        , 0.        , 0.        , 0.        , 0.        ,\n",
              "        0.        , 0.        , 0.        , 0.        , 0.        ,\n",
              "        0.        , 0.        , 0.        ],\n",
              "       [0.        , 0.        , 0.        , 0.        , 0.        ,\n",
              "        0.        , 0.        , 0.        , 0.        , 0.        ,\n",
              "        0.        , 0.54509804, 0.99215686, 0.74509804, 0.00784314,\n",
              "        0.        , 0.        , 0.        , 0.        , 0.        ,\n",
              "        0.        , 0.        , 0.        , 0.        , 0.        ,\n",
              "        0.        , 0.        , 0.        ],\n",
              "       [0.        , 0.        , 0.        , 0.        , 0.        ,\n",
              "        0.        , 0.        , 0.        , 0.        , 0.        ,\n",
              "        0.        , 0.04313725, 0.74509804, 0.99215686, 0.2745098 ,\n",
              "        0.        , 0.        , 0.        , 0.        , 0.        ,\n",
              "        0.        , 0.        , 0.        , 0.        , 0.        ,\n",
              "        0.        , 0.        , 0.        ],\n",
              "       [0.        , 0.        , 0.        , 0.        , 0.        ,\n",
              "        0.        , 0.        , 0.        , 0.        , 0.        ,\n",
              "        0.        , 0.        , 0.1372549 , 0.94509804, 0.88235294,\n",
              "        0.62745098, 0.42352941, 0.00392157, 0.        , 0.        ,\n",
              "        0.        , 0.        , 0.        , 0.        , 0.        ,\n",
              "        0.        , 0.        , 0.        ],\n",
              "       [0.        , 0.        , 0.        , 0.        , 0.        ,\n",
              "        0.        , 0.        , 0.        , 0.        , 0.        ,\n",
              "        0.        , 0.        , 0.        , 0.31764706, 0.94117647,\n",
              "        0.99215686, 0.99215686, 0.46666667, 0.09803922, 0.        ,\n",
              "        0.        , 0.        , 0.        , 0.        , 0.        ,\n",
              "        0.        , 0.        , 0.        ],\n",
              "       [0.        , 0.        , 0.        , 0.        , 0.        ,\n",
              "        0.        , 0.        , 0.        , 0.        , 0.        ,\n",
              "        0.        , 0.        , 0.        , 0.        , 0.17647059,\n",
              "        0.72941176, 0.99215686, 0.99215686, 0.58823529, 0.10588235,\n",
              "        0.        , 0.        , 0.        , 0.        , 0.        ,\n",
              "        0.        , 0.        , 0.        ],\n",
              "       [0.        , 0.        , 0.        , 0.        , 0.        ,\n",
              "        0.        , 0.        , 0.        , 0.        , 0.        ,\n",
              "        0.        , 0.        , 0.        , 0.        , 0.        ,\n",
              "        0.0627451 , 0.36470588, 0.98823529, 0.99215686, 0.73333333,\n",
              "        0.        , 0.        , 0.        , 0.        , 0.        ,\n",
              "        0.        , 0.        , 0.        ],\n",
              "       [0.        , 0.        , 0.        , 0.        , 0.        ,\n",
              "        0.        , 0.        , 0.        , 0.        , 0.        ,\n",
              "        0.        , 0.        , 0.        , 0.        , 0.        ,\n",
              "        0.        , 0.        , 0.97647059, 0.99215686, 0.97647059,\n",
              "        0.25098039, 0.        , 0.        , 0.        , 0.        ,\n",
              "        0.        , 0.        , 0.        ],\n",
              "       [0.        , 0.        , 0.        , 0.        , 0.        ,\n",
              "        0.        , 0.        , 0.        , 0.        , 0.        ,\n",
              "        0.        , 0.        , 0.        , 0.        , 0.18039216,\n",
              "        0.50980392, 0.71764706, 0.99215686, 0.99215686, 0.81176471,\n",
              "        0.00784314, 0.        , 0.        , 0.        , 0.        ,\n",
              "        0.        , 0.        , 0.        ],\n",
              "       [0.        , 0.        , 0.        , 0.        , 0.        ,\n",
              "        0.        , 0.        , 0.        , 0.        , 0.        ,\n",
              "        0.        , 0.        , 0.15294118, 0.58039216, 0.89803922,\n",
              "        0.99215686, 0.99215686, 0.99215686, 0.98039216, 0.71372549,\n",
              "        0.        , 0.        , 0.        , 0.        , 0.        ,\n",
              "        0.        , 0.        , 0.        ],\n",
              "       [0.        , 0.        , 0.        , 0.        , 0.        ,\n",
              "        0.        , 0.        , 0.        , 0.        , 0.        ,\n",
              "        0.09411765, 0.44705882, 0.86666667, 0.99215686, 0.99215686,\n",
              "        0.99215686, 0.99215686, 0.78823529, 0.30588235, 0.        ,\n",
              "        0.        , 0.        , 0.        , 0.        , 0.        ,\n",
              "        0.        , 0.        , 0.        ],\n",
              "       [0.        , 0.        , 0.        , 0.        , 0.        ,\n",
              "        0.        , 0.        , 0.        , 0.09019608, 0.25882353,\n",
              "        0.83529412, 0.99215686, 0.99215686, 0.99215686, 0.99215686,\n",
              "        0.77647059, 0.31764706, 0.00784314, 0.        , 0.        ,\n",
              "        0.        , 0.        , 0.        , 0.        , 0.        ,\n",
              "        0.        , 0.        , 0.        ],\n",
              "       [0.        , 0.        , 0.        , 0.        , 0.        ,\n",
              "        0.        , 0.07058824, 0.67058824, 0.85882353, 0.99215686,\n",
              "        0.99215686, 0.99215686, 0.99215686, 0.76470588, 0.31372549,\n",
              "        0.03529412, 0.        , 0.        , 0.        , 0.        ,\n",
              "        0.        , 0.        , 0.        , 0.        , 0.        ,\n",
              "        0.        , 0.        , 0.        ],\n",
              "       [0.        , 0.        , 0.        , 0.        , 0.21568627,\n",
              "        0.6745098 , 0.88627451, 0.99215686, 0.99215686, 0.99215686,\n",
              "        0.99215686, 0.95686275, 0.52156863, 0.04313725, 0.        ,\n",
              "        0.        , 0.        , 0.        , 0.        , 0.        ,\n",
              "        0.        , 0.        , 0.        , 0.        , 0.        ,\n",
              "        0.        , 0.        , 0.        ],\n",
              "       [0.        , 0.        , 0.        , 0.        , 0.53333333,\n",
              "        0.99215686, 0.99215686, 0.99215686, 0.83137255, 0.52941176,\n",
              "        0.51764706, 0.0627451 , 0.        , 0.        , 0.        ,\n",
              "        0.        , 0.        , 0.        , 0.        , 0.        ,\n",
              "        0.        , 0.        , 0.        , 0.        , 0.        ,\n",
              "        0.        , 0.        , 0.        ],\n",
              "       [0.        , 0.        , 0.        , 0.        , 0.        ,\n",
              "        0.        , 0.        , 0.        , 0.        , 0.        ,\n",
              "        0.        , 0.        , 0.        , 0.        , 0.        ,\n",
              "        0.        , 0.        , 0.        , 0.        , 0.        ,\n",
              "        0.        , 0.        , 0.        , 0.        , 0.        ,\n",
              "        0.        , 0.        , 0.        ],\n",
              "       [0.        , 0.        , 0.        , 0.        , 0.        ,\n",
              "        0.        , 0.        , 0.        , 0.        , 0.        ,\n",
              "        0.        , 0.        , 0.        , 0.        , 0.        ,\n",
              "        0.        , 0.        , 0.        , 0.        , 0.        ,\n",
              "        0.        , 0.        , 0.        , 0.        , 0.        ,\n",
              "        0.        , 0.        , 0.        ],\n",
              "       [0.        , 0.        , 0.        , 0.        , 0.        ,\n",
              "        0.        , 0.        , 0.        , 0.        , 0.        ,\n",
              "        0.        , 0.        , 0.        , 0.        , 0.        ,\n",
              "        0.        , 0.        , 0.        , 0.        , 0.        ,\n",
              "        0.        , 0.        , 0.        , 0.        , 0.        ,\n",
              "        0.        , 0.        , 0.        ]])"
            ]
          },
          "metadata": {
            "tags": []
          },
          "execution_count": 3
        }
      ]
    },
    {
      "cell_type": "code",
      "metadata": {
        "id": "tum6Zmk2iG_E"
      },
      "source": [
        "# 4. 레이블 - 원핫인코딩\n",
        "print(train_Y[0])\n",
        "\n",
        "train_Y = tf.keras.utils.to_categorical(train_Y, num_classes=10)\n",
        "test_Y = tf.keras.utils.to_categorical(test_Y, num_classes=10)\n",
        "train_Y[0]"
      ],
      "execution_count": null,
      "outputs": []
    },
    {
      "cell_type": "code",
      "metadata": {
        "id": "O2ci0sDXd9-K"
      },
      "source": [
        "# 5. 모델 구성\n",
        "model = tf.keras.Sequential([\n",
        "  tf.keras.layers.Flatten(input_shape=(28,28)),\n",
        "  tf.keras.layers.Dense(128, activation='relu'),\n",
        "  tf.keras.layers.Dense(10, activation='softmax')\n",
        "])\n",
        "\n",
        "model.compile(loss='categorical_crossentropy',\n",
        "              optimizer=tf.keras.optimizers.Adam(),\n",
        "              metrics=['accuracy'])\n",
        "model.summary()"
      ],
      "execution_count": null,
      "outputs": []
    },
    {
      "cell_type": "code",
      "metadata": {
        "id": "axJMH8xjiNe0"
      },
      "source": [
        "# 6. 모델 학습\n",
        "history = model.fit(train_X, train_Y, \n",
        "                    epochs=10, validation_split=0.25)"
      ],
      "execution_count": null,
      "outputs": []
    },
    {
      "cell_type": "code",
      "metadata": {
        "id": "BwjrmcH4iQcM",
        "colab": {
          "base_uri": "https://localhost:8080/"
        },
        "outputId": "0a3d062a-53ce-4916-c294-9acd161c5d8e"
      },
      "source": [
        "# 7. 모델 검증\n",
        "model.evaluate(test_X, test_Y)"
      ],
      "execution_count": null,
      "outputs": [
        {
          "output_type": "stream",
          "text": [
            "313/313 [==============================] - 1s 2ms/step - loss: 0.0790 - accuracy: 0.9800\n"
          ],
          "name": "stdout"
        },
        {
          "output_type": "execute_result",
          "data": {
            "text/plain": [
              "[0.07896970212459564, 0.9800000190734863]"
            ]
          },
          "metadata": {
            "tags": []
          },
          "execution_count": 10
        }
      ]
    },
    {
      "cell_type": "code",
      "metadata": {
        "id": "OQvbblCHi0NT",
        "colab": {
          "base_uri": "https://localhost:8080/",
          "height": 300
        },
        "outputId": "93eb0762-de39-4848-9dfa-b5269bb8d812"
      },
      "source": [
        "# 8. 모델 예측\n",
        "predict = 130\n",
        "\n",
        "plt.imshow(test_X[predict], cmap='gray')\n",
        "plt.show()\n",
        "\n",
        "pre = model.predict(test_X[predict:predict+1])\n",
        "print('정답 : ', test_Y[predict].argmax())\n",
        "print('예측결과 : ', pre.argmax())"
      ],
      "execution_count": null,
      "outputs": [
        {
          "output_type": "display_data",
          "data": {
            "image/png": "[encoded data removed]",
            "text/plain": [
              "<Figure size 432x288 with 1 Axes>"
            ]
          },
          "metadata": {
            "tags": [],
            "needs_background": "light"
          }
        },
        {
          "output_type": "stream",
          "text": [
            "정답 :  6\n",
            "예측결과 :  6\n"
          ],
          "name": "stdout"
        }
      ]
    }
  ]
}