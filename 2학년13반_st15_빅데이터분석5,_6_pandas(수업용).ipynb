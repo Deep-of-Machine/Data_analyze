{
  "nbformat": 4,
  "nbformat_minor": 0,
  "metadata": {
    "colab": {
      "name": "2학년13반 st15 - 빅데이터분석5, 6-pandas(수업용)",
      "provenance": [],
      "collapsed_sections": [],
      "toc_visible": true,
      "include_colab_link": true
    },
    "kernelspec": {
      "name": "python3",
      "display_name": "Python 3"
    }
  },
  "cells": [
    {
      "cell_type": "markdown",
      "metadata": {
        "id": "view-in-github",
        "colab_type": "text"
      },
      "source": [
        "<a href=\"https://colab.research.google.com/github/Deep-of-Machine/Data_analyze/blob/main/2%ED%95%99%EB%85%8413%EB%B0%98_st15_%EB%B9%85%EB%8D%B0%EC%9D%B4%ED%84%B0%EB%B6%84%EC%84%9D5%2C_6_pandas(%EC%88%98%EC%97%85%EC%9A%A9).ipynb\" target=\"_parent\"><img src=\"https://colab.research.google.com/assets/colab-badge.svg\" alt=\"Open In Colab\"/></a>"
      ]
    },
    {
      "cell_type": "markdown",
      "metadata": {
        "id": "9BZfwLc7gc82"
      },
      "source": [
        "#리스트"
      ]
    },
    {
      "cell_type": "code",
      "metadata": {
        "id": "fTw9TVPi7_aN"
      },
      "source": [
        "seoul=['날짜','지점','평균기온','최저기온','최고기온']\n",
        "seoul1=['2000-01-01',\t108, 13.5, 7.9,\t20.7]"
      ],
      "execution_count": null,
      "outputs": []
    },
    {
      "cell_type": "code",
      "metadata": {
        "id": "1ikEEgsM8IBI",
        "colab": {
          "base_uri": "https://localhost:8080/",
          "height": 53
        },
        "outputId": "b88dd7f3-c5a4-4978-c98a-67f0db68043c"
      },
      "source": [
        "print(seoul)\n",
        "print(seoul1)"
      ],
      "execution_count": null,
      "outputs": [
        {
          "output_type": "stream",
          "text": [
            "['날짜', '지점', '평균기온', '최저기온', '최고기온']\n",
            "['2000-01-01', 108, 13.5, 7.9, 20.7]\n"
          ],
          "name": "stdout"
        }
      ]
    },
    {
      "cell_type": "markdown",
      "metadata": {
        "id": "x1vMq2-Oghns"
      },
      "source": [
        "#딕셔너리"
      ]
    },
    {
      "cell_type": "code",
      "metadata": {
        "id": "KSdvd03B8MPi"
      },
      "source": [
        "seoul={'날짜':['2000-01-01','2000-01-02','2000-01-03'],\n",
        "       '지점':[108, 108, 108],\n",
        "       '평균기온':[13.5, 16.2, 16.2],\n",
        "       '최저기온':[7.9, 7.9, 13.1],\n",
        "       '최고기온':[20.7, 22, 21.3]}"
      ],
      "execution_count": null,
      "outputs": []
    },
    {
      "cell_type": "code",
      "metadata": {
        "id": "e8Z-h1Te9uAt",
        "colab": {
          "base_uri": "https://localhost:8080/",
          "height": 73
        },
        "outputId": "fc795c82-2e4a-4e57-e1f6-adab57851d97"
      },
      "source": [
        "print(seoul)\n",
        "print(seoul['날짜'])"
      ],
      "execution_count": null,
      "outputs": [
        {
          "output_type": "stream",
          "text": [
            "{'날짜': ['2000-01-01', '2000-01-02', '2000-01-03'], '지점': [108, 108, 108], '평균기온': [13.5, 16.2, 16.2], '최저기온': [7.9, 7.9, 13.1], '최고기온': [20.7, 22, 21.3]}\n",
            "['2000-01-01', '2000-01-02', '2000-01-03']\n"
          ],
          "name": "stdout"
        }
      ]
    },
    {
      "cell_type": "markdown",
      "metadata": {
        "id": "WdsaGMi1gud5"
      },
      "source": [
        "#판다스"
      ]
    },
    {
      "cell_type": "code",
      "metadata": {
        "id": "M2vpntkJg3hD"
      },
      "source": [
        "import pandas as pd"
      ],
      "execution_count": null,
      "outputs": []
    },
    {
      "cell_type": "code",
      "metadata": {
        "id": "QSucR-68hDgx"
      },
      "source": [
        "#데이터프레임 - 2차원\n",
        "df=pd.DataFrame({'날짜':['2000-01-01','2000-01-02','2000-01-03'],\n",
        "                 '지점':[108, 108, 108],\n",
        "                 '평균기온':[13.5, 16.2, 16.2],\n",
        "                 '최저기온':[7.9, 7.9, 13.1],       \n",
        "                 '최고기온':[20.7, 22, 21.3]})"
      ],
      "execution_count": null,
      "outputs": []
    },
    {
      "cell_type": "code",
      "metadata": {
        "id": "AwbFlOYYhIjn",
        "colab": {
          "base_uri": "https://localhost:8080/",
          "height": 142
        },
        "outputId": "5ce7cb67-56dd-414a-f3fc-61a35b09077a"
      },
      "source": [
        "df"
      ],
      "execution_count": null,
      "outputs": [
        {
          "output_type": "execute_result",
          "data": {
            "text/html": [
              "<div>\n",
              "<style scoped>\n",
              "    .dataframe tbody tr th:only-of-type {\n",
              "        vertical-align: middle;\n",
              "    }\n",
              "\n",
              "    .dataframe tbody tr th {\n",
              "        vertical-align: top;\n",
              "    }\n",
              "\n",
              "    .dataframe thead th {\n",
              "        text-align: right;\n",
              "    }\n",
              "</style>\n",
              "<table border=\"1\" class=\"dataframe\">\n",
              "  <thead>\n",
              "    <tr style=\"text-align: right;\">\n",
              "      <th></th>\n",
              "      <th>날짜</th>\n",
              "      <th>지점</th>\n",
              "      <th>평균기온</th>\n",
              "      <th>최저기온</th>\n",
              "      <th>최고기온</th>\n",
              "    </tr>\n",
              "  </thead>\n",
              "  <tbody>\n",
              "    <tr>\n",
              "      <th>0</th>\n",
              "      <td>2000-01-01</td>\n",
              "      <td>108</td>\n",
              "      <td>13.5</td>\n",
              "      <td>7.9</td>\n",
              "      <td>20.7</td>\n",
              "    </tr>\n",
              "    <tr>\n",
              "      <th>1</th>\n",
              "      <td>2000-01-02</td>\n",
              "      <td>108</td>\n",
              "      <td>16.2</td>\n",
              "      <td>7.9</td>\n",
              "      <td>22.0</td>\n",
              "    </tr>\n",
              "    <tr>\n",
              "      <th>2</th>\n",
              "      <td>2000-01-03</td>\n",
              "      <td>108</td>\n",
              "      <td>16.2</td>\n",
              "      <td>13.1</td>\n",
              "      <td>21.3</td>\n",
              "    </tr>\n",
              "  </tbody>\n",
              "</table>\n",
              "</div>"
            ],
            "text/plain": [
              "           날짜   지점  평균기온  최저기온  최고기온\n",
              "0  2000-01-01  108  13.5   7.9  20.7\n",
              "1  2000-01-02  108  16.2   7.9  22.0\n",
              "2  2000-01-03  108  16.2  13.1  21.3"
            ]
          },
          "metadata": {
            "tags": []
          },
          "execution_count": 6
        }
      ]
    },
    {
      "cell_type": "markdown",
      "metadata": {
        "id": "12YGC7QjmhAw"
      },
      "source": [
        "#제주의 최고기온, 날짜 분석하기"
      ]
    },
    {
      "cell_type": "code",
      "metadata": {
        "id": "vm9ZUpnnd91i"
      },
      "source": [
        "import pandas as pd\n",
        "df = pd.read_csv('jeju_temp.csv', encoding = 'cp949')\n",
        "df.columns=['날짜','지점','평균기온','최저기온','최고기온']\n",
        "\n",
        "max_temp=df['최고기온'].max()\n",
        "df2=df[df['최고기온']==max_temp]\n",
        "\n",
        "df3=df2.set_index('최고기온')\n",
        "\n",
        "max_date=df3.loc[max_temp,'날짜']\n",
        "print('제주의 최고기온이 가장 높은 온도는', max_temp,'이고, 날짜는', max_date,'이다')"
      ],
      "execution_count": null,
      "outputs": []
    },
    {
      "cell_type": "markdown",
      "metadata": {
        "id": "bbW-toc7dH4N"
      },
      "source": [
        "#판다스 사용하기\n",
        "pandas 라이브러리는 판다스는 고수준의 자료 구조와 빠르고 쉬운 데이터 분석 도구를 제공하는 파이썬의 라이브러리 입니다.\n",
        "\n",
        "판다스 참고url : https://pandas.pydata.org"
      ]
    },
    {
      "cell_type": "markdown",
      "metadata": {
        "id": "9zJBsCvOvkPy"
      },
      "source": [
        "#데이터읽어오기"
      ]
    },
    {
      "cell_type": "code",
      "metadata": {
        "id": "jWyWuGztdQpI",
        "colab": {
          "resources": {
            "http://localhost:8080/nbextensions/google.colab/files.js": {
              "data": "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",
              "ok": true,
              "headers": [
                [
                  "content-type",
                  "application/javascript"
                ]
              ],
              "status": 200,
              "status_text": ""
            }
          },
          "base_uri": "https://localhost:8080/",
          "height": 76
        },
        "outputId": "6df6cec6-b1e9-4ff0-8379-6247c0030ca5"
      },
      "source": [
        "from google.colab import files\n",
        "uploaded=files.upload()"
      ],
      "execution_count": null,
      "outputs": [
        {
          "output_type": "display_data",
          "data": {
            "text/html": [
              "\n",
              "     <input type=\"file\" id=\"files-ea629d68-7f5c-4148-ae2c-fd391fdba14b\" name=\"files[]\" multiple disabled\n",
              "        style=\"border:none\" />\n",
              "     <output id=\"result-ea629d68-7f5c-4148-ae2c-fd391fdba14b\">\n",
              "      Upload widget is only available when the cell has been executed in the\n",
              "      current browser session. Please rerun this cell to enable.\n",
              "      </output>\n",
              "      <script src=\"/nbextensions/google.colab/files.js\"></script> "
            ],
            "text/plain": [
              "<IPython.core.display.HTML object>"
            ]
          },
          "metadata": {
            "tags": []
          }
        },
        {
          "output_type": "stream",
          "text": [
            "Saving jeju_temp.csv to jeju_temp (1).csv\n"
          ],
          "name": "stdout"
        }
      ]
    },
    {
      "cell_type": "code",
      "metadata": {
        "id": "ImfNEjCgrpJb",
        "colab": {
          "base_uri": "https://localhost:8080/",
          "height": 35
        },
        "outputId": "7380a156-97ef-4066-90ba-6b1ee2d3b1a6"
      },
      "source": [
        "ls"
      ],
      "execution_count": null,
      "outputs": [
        {
          "output_type": "stream",
          "text": [
            "'jeju_temp (1).csv'   jeju_temp.csv   \u001b[0m\u001b[01;34msample_data\u001b[0m/\n"
          ],
          "name": "stdout"
        }
      ]
    },
    {
      "cell_type": "markdown",
      "metadata": {
        "id": "XjBO-jwYv1H9"
      },
      "source": [
        "# 판다스에서 csv 데이터 읽어오기"
      ]
    },
    {
      "cell_type": "code",
      "metadata": {
        "id": "ihsweHNxrpmm",
        "colab": {
          "base_uri": "https://localhost:8080/",
          "height": 419
        },
        "outputId": "1b278cd2-25b2-4316-9310-72d779dc3d2d"
      },
      "source": [
        "import pandas\n",
        "df = pandas.read_csv('jeju_temp.csv', encoding = 'cp949')\n",
        "df"
      ],
      "execution_count": null,
      "outputs": [
        {
          "output_type": "execute_result",
          "data": {
            "text/html": [
              "<div>\n",
              "<style scoped>\n",
              "    .dataframe tbody tr th:only-of-type {\n",
              "        vertical-align: middle;\n",
              "    }\n",
              "\n",
              "    .dataframe tbody tr th {\n",
              "        vertical-align: top;\n",
              "    }\n",
              "\n",
              "    .dataframe thead th {\n",
              "        text-align: right;\n",
              "    }\n",
              "</style>\n",
              "<table border=\"1\" class=\"dataframe\">\n",
              "  <thead>\n",
              "    <tr style=\"text-align: right;\">\n",
              "      <th></th>\n",
              "      <th>날짜</th>\n",
              "      <th>지점</th>\n",
              "      <th>평균기온(℃)</th>\n",
              "      <th>최저기온(℃)</th>\n",
              "      <th>최고기온(℃)</th>\n",
              "    </tr>\n",
              "  </thead>\n",
              "  <tbody>\n",
              "    <tr>\n",
              "      <th>0</th>\n",
              "      <td>2000-01-01</td>\n",
              "      <td>184</td>\n",
              "      <td>12.2</td>\n",
              "      <td>8.3</td>\n",
              "      <td>16.0</td>\n",
              "    </tr>\n",
              "    <tr>\n",
              "      <th>1</th>\n",
              "      <td>2000-01-02</td>\n",
              "      <td>184</td>\n",
              "      <td>10.8</td>\n",
              "      <td>7.5</td>\n",
              "      <td>17.2</td>\n",
              "    </tr>\n",
              "    <tr>\n",
              "      <th>2</th>\n",
              "      <td>2000-01-03</td>\n",
              "      <td>184</td>\n",
              "      <td>6.6</td>\n",
              "      <td>3.6</td>\n",
              "      <td>8.9</td>\n",
              "    </tr>\n",
              "    <tr>\n",
              "      <th>3</th>\n",
              "      <td>2000-01-04</td>\n",
              "      <td>184</td>\n",
              "      <td>9.4</td>\n",
              "      <td>3.2</td>\n",
              "      <td>15.5</td>\n",
              "    </tr>\n",
              "    <tr>\n",
              "      <th>4</th>\n",
              "      <td>2000-01-05</td>\n",
              "      <td>184</td>\n",
              "      <td>14.2</td>\n",
              "      <td>8.9</td>\n",
              "      <td>17.5</td>\n",
              "    </tr>\n",
              "    <tr>\n",
              "      <th>...</th>\n",
              "      <td>...</td>\n",
              "      <td>...</td>\n",
              "      <td>...</td>\n",
              "      <td>...</td>\n",
              "      <td>...</td>\n",
              "    </tr>\n",
              "    <tr>\n",
              "      <th>7560</th>\n",
              "      <td>2020-09-12</td>\n",
              "      <td>184</td>\n",
              "      <td>23.1</td>\n",
              "      <td>21.6</td>\n",
              "      <td>25.5</td>\n",
              "    </tr>\n",
              "    <tr>\n",
              "      <th>7561</th>\n",
              "      <td>2020-09-13</td>\n",
              "      <td>184</td>\n",
              "      <td>23.0</td>\n",
              "      <td>21.7</td>\n",
              "      <td>26.1</td>\n",
              "    </tr>\n",
              "    <tr>\n",
              "      <th>7562</th>\n",
              "      <td>2020-09-14</td>\n",
              "      <td>184</td>\n",
              "      <td>23.3</td>\n",
              "      <td>21.8</td>\n",
              "      <td>25.9</td>\n",
              "    </tr>\n",
              "    <tr>\n",
              "      <th>7563</th>\n",
              "      <td>2020-09-15</td>\n",
              "      <td>184</td>\n",
              "      <td>23.7</td>\n",
              "      <td>21.0</td>\n",
              "      <td>25.8</td>\n",
              "    </tr>\n",
              "    <tr>\n",
              "      <th>7564</th>\n",
              "      <td>2020-09-16</td>\n",
              "      <td>184</td>\n",
              "      <td>23.5</td>\n",
              "      <td>21.5</td>\n",
              "      <td>28.3</td>\n",
              "    </tr>\n",
              "  </tbody>\n",
              "</table>\n",
              "<p>7565 rows × 5 columns</p>\n",
              "</div>"
            ],
            "text/plain": [
              "              날짜   지점  평균기온(℃)  최저기온(℃)  최고기온(℃)\n",
              "0     2000-01-01  184     12.2      8.3     16.0\n",
              "1     2000-01-02  184     10.8      7.5     17.2\n",
              "2     2000-01-03  184      6.6      3.6      8.9\n",
              "3     2000-01-04  184      9.4      3.2     15.5\n",
              "4     2000-01-05  184     14.2      8.9     17.5\n",
              "...          ...  ...      ...      ...      ...\n",
              "7560  2020-09-12  184     23.1     21.6     25.5\n",
              "7561  2020-09-13  184     23.0     21.7     26.1\n",
              "7562  2020-09-14  184     23.3     21.8     25.9\n",
              "7563  2020-09-15  184     23.7     21.0     25.8\n",
              "7564  2020-09-16  184     23.5     21.5     28.3\n",
              "\n",
              "[7565 rows x 5 columns]"
            ]
          },
          "metadata": {
            "tags": []
          },
          "execution_count": 15
        }
      ]
    },
    {
      "cell_type": "code",
      "metadata": {
        "id": "TacalG0772Oz"
      },
      "source": [
        "# 판다스의 별명은 pd"
      ],
      "execution_count": null,
      "outputs": []
    },
    {
      "cell_type": "code",
      "metadata": {
        "id": "0Y3hGiLtryPQ",
        "colab": {
          "base_uri": "https://localhost:8080/",
          "height": 419
        },
        "outputId": "7970eae2-e0c0-4d6f-d550-d5e42f944d2d"
      },
      "source": [
        "import pandas as pd\n",
        "df = pd.read_csv('jeju_temp.csv', encoding = 'cp949')\n",
        "df"
      ],
      "execution_count": null,
      "outputs": [
        {
          "output_type": "execute_result",
          "data": {
            "text/html": [
              "<div>\n",
              "<style scoped>\n",
              "    .dataframe tbody tr th:only-of-type {\n",
              "        vertical-align: middle;\n",
              "    }\n",
              "\n",
              "    .dataframe tbody tr th {\n",
              "        vertical-align: top;\n",
              "    }\n",
              "\n",
              "    .dataframe thead th {\n",
              "        text-align: right;\n",
              "    }\n",
              "</style>\n",
              "<table border=\"1\" class=\"dataframe\">\n",
              "  <thead>\n",
              "    <tr style=\"text-align: right;\">\n",
              "      <th></th>\n",
              "      <th>날짜</th>\n",
              "      <th>지점</th>\n",
              "      <th>평균기온(℃)</th>\n",
              "      <th>최저기온(℃)</th>\n",
              "      <th>최고기온(℃)</th>\n",
              "    </tr>\n",
              "  </thead>\n",
              "  <tbody>\n",
              "    <tr>\n",
              "      <th>0</th>\n",
              "      <td>2000-01-01</td>\n",
              "      <td>184</td>\n",
              "      <td>12.2</td>\n",
              "      <td>8.3</td>\n",
              "      <td>16.0</td>\n",
              "    </tr>\n",
              "    <tr>\n",
              "      <th>1</th>\n",
              "      <td>2000-01-02</td>\n",
              "      <td>184</td>\n",
              "      <td>10.8</td>\n",
              "      <td>7.5</td>\n",
              "      <td>17.2</td>\n",
              "    </tr>\n",
              "    <tr>\n",
              "      <th>2</th>\n",
              "      <td>2000-01-03</td>\n",
              "      <td>184</td>\n",
              "      <td>6.6</td>\n",
              "      <td>3.6</td>\n",
              "      <td>8.9</td>\n",
              "    </tr>\n",
              "    <tr>\n",
              "      <th>3</th>\n",
              "      <td>2000-01-04</td>\n",
              "      <td>184</td>\n",
              "      <td>9.4</td>\n",
              "      <td>3.2</td>\n",
              "      <td>15.5</td>\n",
              "    </tr>\n",
              "    <tr>\n",
              "      <th>4</th>\n",
              "      <td>2000-01-05</td>\n",
              "      <td>184</td>\n",
              "      <td>14.2</td>\n",
              "      <td>8.9</td>\n",
              "      <td>17.5</td>\n",
              "    </tr>\n",
              "    <tr>\n",
              "      <th>...</th>\n",
              "      <td>...</td>\n",
              "      <td>...</td>\n",
              "      <td>...</td>\n",
              "      <td>...</td>\n",
              "      <td>...</td>\n",
              "    </tr>\n",
              "    <tr>\n",
              "      <th>7560</th>\n",
              "      <td>2020-09-12</td>\n",
              "      <td>184</td>\n",
              "      <td>23.1</td>\n",
              "      <td>21.6</td>\n",
              "      <td>25.5</td>\n",
              "    </tr>\n",
              "    <tr>\n",
              "      <th>7561</th>\n",
              "      <td>2020-09-13</td>\n",
              "      <td>184</td>\n",
              "      <td>23.0</td>\n",
              "      <td>21.7</td>\n",
              "      <td>26.1</td>\n",
              "    </tr>\n",
              "    <tr>\n",
              "      <th>7562</th>\n",
              "      <td>2020-09-14</td>\n",
              "      <td>184</td>\n",
              "      <td>23.3</td>\n",
              "      <td>21.8</td>\n",
              "      <td>25.9</td>\n",
              "    </tr>\n",
              "    <tr>\n",
              "      <th>7563</th>\n",
              "      <td>2020-09-15</td>\n",
              "      <td>184</td>\n",
              "      <td>23.7</td>\n",
              "      <td>21.0</td>\n",
              "      <td>25.8</td>\n",
              "    </tr>\n",
              "    <tr>\n",
              "      <th>7564</th>\n",
              "      <td>2020-09-16</td>\n",
              "      <td>184</td>\n",
              "      <td>23.5</td>\n",
              "      <td>21.5</td>\n",
              "      <td>28.3</td>\n",
              "    </tr>\n",
              "  </tbody>\n",
              "</table>\n",
              "<p>7565 rows × 5 columns</p>\n",
              "</div>"
            ],
            "text/plain": [
              "              날짜   지점  평균기온(℃)  최저기온(℃)  최고기온(℃)\n",
              "0     2000-01-01  184     12.2      8.3     16.0\n",
              "1     2000-01-02  184     10.8      7.5     17.2\n",
              "2     2000-01-03  184      6.6      3.6      8.9\n",
              "3     2000-01-04  184      9.4      3.2     15.5\n",
              "4     2000-01-05  184     14.2      8.9     17.5\n",
              "...          ...  ...      ...      ...      ...\n",
              "7560  2020-09-12  184     23.1     21.6     25.5\n",
              "7561  2020-09-13  184     23.0     21.7     26.1\n",
              "7562  2020-09-14  184     23.3     21.8     25.9\n",
              "7563  2020-09-15  184     23.7     21.0     25.8\n",
              "7564  2020-09-16  184     23.5     21.5     28.3\n",
              "\n",
              "[7565 rows x 5 columns]"
            ]
          },
          "metadata": {
            "tags": []
          },
          "execution_count": 17
        }
      ]
    },
    {
      "cell_type": "markdown",
      "metadata": {
        "id": "YjeNeCLzwA0M"
      },
      "source": [
        "#데이터 살펴보기"
      ]
    },
    {
      "cell_type": "code",
      "metadata": {
        "id": "ZuL9bZobv9cN"
      },
      "source": [
        "#데이터의 모양살펴보기 -shape"
      ],
      "execution_count": null,
      "outputs": []
    },
    {
      "cell_type": "code",
      "metadata": {
        "id": "y10fnnGmr1eW",
        "colab": {
          "base_uri": "https://localhost:8080/",
          "height": 35
        },
        "outputId": "b35794fc-38b2-4d0e-d553-e10e20e69b81"
      },
      "source": [
        "df.shape"
      ],
      "execution_count": null,
      "outputs": [
        {
          "output_type": "execute_result",
          "data": {
            "text/plain": [
              "(7565, 5)"
            ]
          },
          "metadata": {
            "tags": []
          },
          "execution_count": 19
        }
      ]
    },
    {
      "cell_type": "code",
      "metadata": {
        "id": "0lv0bCKJ7-IK"
      },
      "source": [
        "# 앞의 n개 데이터 살펴보기(기본값은 5)- head"
      ],
      "execution_count": null,
      "outputs": []
    },
    {
      "cell_type": "code",
      "metadata": {
        "id": "l_nVxB3sr7qI",
        "colab": {
          "base_uri": "https://localhost:8080/",
          "height": 204
        },
        "outputId": "727dcbba-bd7c-4a6e-d2a3-eecdf2b158bf"
      },
      "source": [
        "df.head()"
      ],
      "execution_count": null,
      "outputs": [
        {
          "output_type": "execute_result",
          "data": {
            "text/html": [
              "<div>\n",
              "<style scoped>\n",
              "    .dataframe tbody tr th:only-of-type {\n",
              "        vertical-align: middle;\n",
              "    }\n",
              "\n",
              "    .dataframe tbody tr th {\n",
              "        vertical-align: top;\n",
              "    }\n",
              "\n",
              "    .dataframe thead th {\n",
              "        text-align: right;\n",
              "    }\n",
              "</style>\n",
              "<table border=\"1\" class=\"dataframe\">\n",
              "  <thead>\n",
              "    <tr style=\"text-align: right;\">\n",
              "      <th></th>\n",
              "      <th>날짜</th>\n",
              "      <th>지점</th>\n",
              "      <th>평균기온(℃)</th>\n",
              "      <th>최저기온(℃)</th>\n",
              "      <th>최고기온(℃)</th>\n",
              "    </tr>\n",
              "  </thead>\n",
              "  <tbody>\n",
              "    <tr>\n",
              "      <th>0</th>\n",
              "      <td>2000-01-01</td>\n",
              "      <td>184</td>\n",
              "      <td>12.2</td>\n",
              "      <td>8.3</td>\n",
              "      <td>16.0</td>\n",
              "    </tr>\n",
              "    <tr>\n",
              "      <th>1</th>\n",
              "      <td>2000-01-02</td>\n",
              "      <td>184</td>\n",
              "      <td>10.8</td>\n",
              "      <td>7.5</td>\n",
              "      <td>17.2</td>\n",
              "    </tr>\n",
              "    <tr>\n",
              "      <th>2</th>\n",
              "      <td>2000-01-03</td>\n",
              "      <td>184</td>\n",
              "      <td>6.6</td>\n",
              "      <td>3.6</td>\n",
              "      <td>8.9</td>\n",
              "    </tr>\n",
              "    <tr>\n",
              "      <th>3</th>\n",
              "      <td>2000-01-04</td>\n",
              "      <td>184</td>\n",
              "      <td>9.4</td>\n",
              "      <td>3.2</td>\n",
              "      <td>15.5</td>\n",
              "    </tr>\n",
              "    <tr>\n",
              "      <th>4</th>\n",
              "      <td>2000-01-05</td>\n",
              "      <td>184</td>\n",
              "      <td>14.2</td>\n",
              "      <td>8.9</td>\n",
              "      <td>17.5</td>\n",
              "    </tr>\n",
              "  </tbody>\n",
              "</table>\n",
              "</div>"
            ],
            "text/plain": [
              "           날짜   지점  평균기온(℃)  최저기온(℃)  최고기온(℃)\n",
              "0  2000-01-01  184     12.2      8.3     16.0\n",
              "1  2000-01-02  184     10.8      7.5     17.2\n",
              "2  2000-01-03  184      6.6      3.6      8.9\n",
              "3  2000-01-04  184      9.4      3.2     15.5\n",
              "4  2000-01-05  184     14.2      8.9     17.5"
            ]
          },
          "metadata": {
            "tags": []
          },
          "execution_count": 21
        }
      ]
    },
    {
      "cell_type": "code",
      "metadata": {
        "id": "bCIcD-yq8ET4"
      },
      "source": [
        "# 뒤의 n개 데이터 살펴보기(기본값은 5) - tail"
      ],
      "execution_count": null,
      "outputs": []
    },
    {
      "cell_type": "code",
      "metadata": {
        "id": "h8n1hzP7r8hw",
        "colab": {
          "base_uri": "https://localhost:8080/",
          "height": 204
        },
        "outputId": "b5ae7b22-9fd1-4bd7-bf98-a901444c5055"
      },
      "source": [
        "df.tail()"
      ],
      "execution_count": null,
      "outputs": [
        {
          "output_type": "execute_result",
          "data": {
            "text/html": [
              "<div>\n",
              "<style scoped>\n",
              "    .dataframe tbody tr th:only-of-type {\n",
              "        vertical-align: middle;\n",
              "    }\n",
              "\n",
              "    .dataframe tbody tr th {\n",
              "        vertical-align: top;\n",
              "    }\n",
              "\n",
              "    .dataframe thead th {\n",
              "        text-align: right;\n",
              "    }\n",
              "</style>\n",
              "<table border=\"1\" class=\"dataframe\">\n",
              "  <thead>\n",
              "    <tr style=\"text-align: right;\">\n",
              "      <th></th>\n",
              "      <th>날짜</th>\n",
              "      <th>지점</th>\n",
              "      <th>평균기온(℃)</th>\n",
              "      <th>최저기온(℃)</th>\n",
              "      <th>최고기온(℃)</th>\n",
              "    </tr>\n",
              "  </thead>\n",
              "  <tbody>\n",
              "    <tr>\n",
              "      <th>7560</th>\n",
              "      <td>2020-09-12</td>\n",
              "      <td>184</td>\n",
              "      <td>23.1</td>\n",
              "      <td>21.6</td>\n",
              "      <td>25.5</td>\n",
              "    </tr>\n",
              "    <tr>\n",
              "      <th>7561</th>\n",
              "      <td>2020-09-13</td>\n",
              "      <td>184</td>\n",
              "      <td>23.0</td>\n",
              "      <td>21.7</td>\n",
              "      <td>26.1</td>\n",
              "    </tr>\n",
              "    <tr>\n",
              "      <th>7562</th>\n",
              "      <td>2020-09-14</td>\n",
              "      <td>184</td>\n",
              "      <td>23.3</td>\n",
              "      <td>21.8</td>\n",
              "      <td>25.9</td>\n",
              "    </tr>\n",
              "    <tr>\n",
              "      <th>7563</th>\n",
              "      <td>2020-09-15</td>\n",
              "      <td>184</td>\n",
              "      <td>23.7</td>\n",
              "      <td>21.0</td>\n",
              "      <td>25.8</td>\n",
              "    </tr>\n",
              "    <tr>\n",
              "      <th>7564</th>\n",
              "      <td>2020-09-16</td>\n",
              "      <td>184</td>\n",
              "      <td>23.5</td>\n",
              "      <td>21.5</td>\n",
              "      <td>28.3</td>\n",
              "    </tr>\n",
              "  </tbody>\n",
              "</table>\n",
              "</div>"
            ],
            "text/plain": [
              "              날짜   지점  평균기온(℃)  최저기온(℃)  최고기온(℃)\n",
              "7560  2020-09-12  184     23.1     21.6     25.5\n",
              "7561  2020-09-13  184     23.0     21.7     26.1\n",
              "7562  2020-09-14  184     23.3     21.8     25.9\n",
              "7563  2020-09-15  184     23.7     21.0     25.8\n",
              "7564  2020-09-16  184     23.5     21.5     28.3"
            ]
          },
          "metadata": {
            "tags": []
          },
          "execution_count": 22
        }
      ]
    },
    {
      "cell_type": "markdown",
      "metadata": {
        "id": "yzYmxQp-wKd2"
      },
      "source": [
        "#■특정 컬럼 인덱스 변경하기"
      ]
    },
    {
      "cell_type": "code",
      "metadata": {
        "id": "exEoc1lDGe4T"
      },
      "source": [
        "#원본 데이터 인덱스 확인하기 위한 전체출력"
      ],
      "execution_count": null,
      "outputs": []
    },
    {
      "cell_type": "code",
      "metadata": {
        "id": "xcHPcAF6fx-d",
        "colab": {
          "base_uri": "https://localhost:8080/",
          "height": 450
        },
        "outputId": "6630d504-12f1-44ac-a50a-76278f598d0f"
      },
      "source": [
        "df.set_index('날짜')"
      ],
      "execution_count": null,
      "outputs": [
        {
          "output_type": "execute_result",
          "data": {
            "text/html": [
              "<div>\n",
              "<style scoped>\n",
              "    .dataframe tbody tr th:only-of-type {\n",
              "        vertical-align: middle;\n",
              "    }\n",
              "\n",
              "    .dataframe tbody tr th {\n",
              "        vertical-align: top;\n",
              "    }\n",
              "\n",
              "    .dataframe thead th {\n",
              "        text-align: right;\n",
              "    }\n",
              "</style>\n",
              "<table border=\"1\" class=\"dataframe\">\n",
              "  <thead>\n",
              "    <tr style=\"text-align: right;\">\n",
              "      <th></th>\n",
              "      <th>지점</th>\n",
              "      <th>평균기온(℃)</th>\n",
              "      <th>최저기온(℃)</th>\n",
              "      <th>최고기온(℃)</th>\n",
              "    </tr>\n",
              "    <tr>\n",
              "      <th>날짜</th>\n",
              "      <th></th>\n",
              "      <th></th>\n",
              "      <th></th>\n",
              "      <th></th>\n",
              "    </tr>\n",
              "  </thead>\n",
              "  <tbody>\n",
              "    <tr>\n",
              "      <th>2000-01-01</th>\n",
              "      <td>184</td>\n",
              "      <td>12.2</td>\n",
              "      <td>8.3</td>\n",
              "      <td>16.0</td>\n",
              "    </tr>\n",
              "    <tr>\n",
              "      <th>2000-01-02</th>\n",
              "      <td>184</td>\n",
              "      <td>10.8</td>\n",
              "      <td>7.5</td>\n",
              "      <td>17.2</td>\n",
              "    </tr>\n",
              "    <tr>\n",
              "      <th>2000-01-03</th>\n",
              "      <td>184</td>\n",
              "      <td>6.6</td>\n",
              "      <td>3.6</td>\n",
              "      <td>8.9</td>\n",
              "    </tr>\n",
              "    <tr>\n",
              "      <th>2000-01-04</th>\n",
              "      <td>184</td>\n",
              "      <td>9.4</td>\n",
              "      <td>3.2</td>\n",
              "      <td>15.5</td>\n",
              "    </tr>\n",
              "    <tr>\n",
              "      <th>2000-01-05</th>\n",
              "      <td>184</td>\n",
              "      <td>14.2</td>\n",
              "      <td>8.9</td>\n",
              "      <td>17.5</td>\n",
              "    </tr>\n",
              "    <tr>\n",
              "      <th>...</th>\n",
              "      <td>...</td>\n",
              "      <td>...</td>\n",
              "      <td>...</td>\n",
              "      <td>...</td>\n",
              "    </tr>\n",
              "    <tr>\n",
              "      <th>2020-09-12</th>\n",
              "      <td>184</td>\n",
              "      <td>23.1</td>\n",
              "      <td>21.6</td>\n",
              "      <td>25.5</td>\n",
              "    </tr>\n",
              "    <tr>\n",
              "      <th>2020-09-13</th>\n",
              "      <td>184</td>\n",
              "      <td>23.0</td>\n",
              "      <td>21.7</td>\n",
              "      <td>26.1</td>\n",
              "    </tr>\n",
              "    <tr>\n",
              "      <th>2020-09-14</th>\n",
              "      <td>184</td>\n",
              "      <td>23.3</td>\n",
              "      <td>21.8</td>\n",
              "      <td>25.9</td>\n",
              "    </tr>\n",
              "    <tr>\n",
              "      <th>2020-09-15</th>\n",
              "      <td>184</td>\n",
              "      <td>23.7</td>\n",
              "      <td>21.0</td>\n",
              "      <td>25.8</td>\n",
              "    </tr>\n",
              "    <tr>\n",
              "      <th>2020-09-16</th>\n",
              "      <td>184</td>\n",
              "      <td>23.5</td>\n",
              "      <td>21.5</td>\n",
              "      <td>28.3</td>\n",
              "    </tr>\n",
              "  </tbody>\n",
              "</table>\n",
              "<p>7565 rows × 4 columns</p>\n",
              "</div>"
            ],
            "text/plain": [
              "             지점  평균기온(℃)  최저기온(℃)  최고기온(℃)\n",
              "날짜                                        \n",
              "2000-01-01  184     12.2      8.3     16.0\n",
              "2000-01-02  184     10.8      7.5     17.2\n",
              "2000-01-03  184      6.6      3.6      8.9\n",
              "2000-01-04  184      9.4      3.2     15.5\n",
              "2000-01-05  184     14.2      8.9     17.5\n",
              "...         ...      ...      ...      ...\n",
              "2020-09-12  184     23.1     21.6     25.5\n",
              "2020-09-13  184     23.0     21.7     26.1\n",
              "2020-09-14  184     23.3     21.8     25.9\n",
              "2020-09-15  184     23.7     21.0     25.8\n",
              "2020-09-16  184     23.5     21.5     28.3\n",
              "\n",
              "[7565 rows x 4 columns]"
            ]
          },
          "metadata": {
            "tags": []
          },
          "execution_count": 23
        }
      ]
    },
    {
      "cell_type": "code",
      "metadata": {
        "id": "ckNKZosyH-FI"
      },
      "source": [
        "#인덱스 ('날짜')로 변경하기 - set_index"
      ],
      "execution_count": null,
      "outputs": []
    },
    {
      "cell_type": "code",
      "metadata": {
        "id": "luDdnzmL59ov"
      },
      "source": [
        "df = df.set_index('날짜')"
      ],
      "execution_count": null,
      "outputs": []
    },
    {
      "cell_type": "code",
      "metadata": {
        "id": "3Y3d5_61HKvj"
      },
      "source": [
        "#변경 되었는지 확인"
      ],
      "execution_count": null,
      "outputs": []
    },
    {
      "cell_type": "code",
      "metadata": {
        "id": "V-Xtm0TvIDPI",
        "colab": {
          "base_uri": "https://localhost:8080/",
          "height": 173
        },
        "outputId": "9c3e6b69-78a7-4911-ee14-671efdfa0289"
      },
      "source": [
        "df"
      ],
      "execution_count": null,
      "outputs": [
        {
          "output_type": "execute_result",
          "data": {
            "text/html": [
              "<div>\n",
              "<style scoped>\n",
              "    .dataframe tbody tr th:only-of-type {\n",
              "        vertical-align: middle;\n",
              "    }\n",
              "\n",
              "    .dataframe tbody tr th {\n",
              "        vertical-align: top;\n",
              "    }\n",
              "\n",
              "    .dataframe thead th {\n",
              "        text-align: right;\n",
              "    }\n",
              "</style>\n",
              "<table border=\"1\" class=\"dataframe\">\n",
              "  <thead>\n",
              "    <tr style=\"text-align: right;\">\n",
              "      <th></th>\n",
              "      <th>지점</th>\n",
              "      <th>평균기온</th>\n",
              "      <th>최저기온</th>\n",
              "      <th>최고기온</th>\n",
              "    </tr>\n",
              "    <tr>\n",
              "      <th>날짜</th>\n",
              "      <th></th>\n",
              "      <th></th>\n",
              "      <th></th>\n",
              "      <th></th>\n",
              "    </tr>\n",
              "  </thead>\n",
              "  <tbody>\n",
              "    <tr>\n",
              "      <th>2000-01-01</th>\n",
              "      <td>108</td>\n",
              "      <td>13.5</td>\n",
              "      <td>7.9</td>\n",
              "      <td>20.7</td>\n",
              "    </tr>\n",
              "    <tr>\n",
              "      <th>2000-01-02</th>\n",
              "      <td>108</td>\n",
              "      <td>16.2</td>\n",
              "      <td>7.9</td>\n",
              "      <td>22.0</td>\n",
              "    </tr>\n",
              "    <tr>\n",
              "      <th>2000-01-03</th>\n",
              "      <td>108</td>\n",
              "      <td>16.2</td>\n",
              "      <td>13.1</td>\n",
              "      <td>21.3</td>\n",
              "    </tr>\n",
              "  </tbody>\n",
              "</table>\n",
              "</div>"
            ],
            "text/plain": [
              "             지점  평균기온  최저기온  최고기온\n",
              "날짜                               \n",
              "2000-01-01  108  13.5   7.9  20.7\n",
              "2000-01-02  108  16.2   7.9  22.0\n",
              "2000-01-03  108  16.2  13.1  21.3"
            ]
          },
          "metadata": {
            "tags": []
          },
          "execution_count": 8
        }
      ]
    },
    {
      "cell_type": "code",
      "metadata": {
        "id": "EH7QhhyZIEvc"
      },
      "source": [
        "#인덱스 변경하고 df에 덮어쓰기"
      ],
      "execution_count": null,
      "outputs": []
    },
    {
      "cell_type": "code",
      "metadata": {
        "id": "FOGGaUItsPJS"
      },
      "source": [
        "df = df.set_index('날짜')"
      ],
      "execution_count": null,
      "outputs": []
    },
    {
      "cell_type": "code",
      "metadata": {
        "id": "fL8DPKjMsSN1"
      },
      "source": [
        "#df 변경 되었는지 확인"
      ],
      "execution_count": null,
      "outputs": []
    },
    {
      "cell_type": "code",
      "metadata": {
        "id": "CfrIp0zvILQx",
        "colab": {
          "base_uri": "https://localhost:8080/",
          "height": 450
        },
        "outputId": "d238b6db-5c78-42da-84ad-7b66a1f9830c"
      },
      "source": [
        "df"
      ],
      "execution_count": null,
      "outputs": [
        {
          "output_type": "execute_result",
          "data": {
            "text/html": [
              "<div>\n",
              "<style scoped>\n",
              "    .dataframe tbody tr th:only-of-type {\n",
              "        vertical-align: middle;\n",
              "    }\n",
              "\n",
              "    .dataframe tbody tr th {\n",
              "        vertical-align: top;\n",
              "    }\n",
              "\n",
              "    .dataframe thead th {\n",
              "        text-align: right;\n",
              "    }\n",
              "</style>\n",
              "<table border=\"1\" class=\"dataframe\">\n",
              "  <thead>\n",
              "    <tr style=\"text-align: right;\">\n",
              "      <th></th>\n",
              "      <th>지점</th>\n",
              "      <th>평균기온(℃)</th>\n",
              "      <th>최저기온(℃)</th>\n",
              "      <th>최고기온(℃)</th>\n",
              "    </tr>\n",
              "    <tr>\n",
              "      <th>날짜</th>\n",
              "      <th></th>\n",
              "      <th></th>\n",
              "      <th></th>\n",
              "      <th></th>\n",
              "    </tr>\n",
              "  </thead>\n",
              "  <tbody>\n",
              "    <tr>\n",
              "      <th>2000-01-01</th>\n",
              "      <td>184</td>\n",
              "      <td>12.2</td>\n",
              "      <td>8.3</td>\n",
              "      <td>16.0</td>\n",
              "    </tr>\n",
              "    <tr>\n",
              "      <th>2000-01-02</th>\n",
              "      <td>184</td>\n",
              "      <td>10.8</td>\n",
              "      <td>7.5</td>\n",
              "      <td>17.2</td>\n",
              "    </tr>\n",
              "    <tr>\n",
              "      <th>2000-01-03</th>\n",
              "      <td>184</td>\n",
              "      <td>6.6</td>\n",
              "      <td>3.6</td>\n",
              "      <td>8.9</td>\n",
              "    </tr>\n",
              "    <tr>\n",
              "      <th>2000-01-04</th>\n",
              "      <td>184</td>\n",
              "      <td>9.4</td>\n",
              "      <td>3.2</td>\n",
              "      <td>15.5</td>\n",
              "    </tr>\n",
              "    <tr>\n",
              "      <th>2000-01-05</th>\n",
              "      <td>184</td>\n",
              "      <td>14.2</td>\n",
              "      <td>8.9</td>\n",
              "      <td>17.5</td>\n",
              "    </tr>\n",
              "    <tr>\n",
              "      <th>...</th>\n",
              "      <td>...</td>\n",
              "      <td>...</td>\n",
              "      <td>...</td>\n",
              "      <td>...</td>\n",
              "    </tr>\n",
              "    <tr>\n",
              "      <th>2020-09-12</th>\n",
              "      <td>184</td>\n",
              "      <td>23.1</td>\n",
              "      <td>21.6</td>\n",
              "      <td>25.5</td>\n",
              "    </tr>\n",
              "    <tr>\n",
              "      <th>2020-09-13</th>\n",
              "      <td>184</td>\n",
              "      <td>23.0</td>\n",
              "      <td>21.7</td>\n",
              "      <td>26.1</td>\n",
              "    </tr>\n",
              "    <tr>\n",
              "      <th>2020-09-14</th>\n",
              "      <td>184</td>\n",
              "      <td>23.3</td>\n",
              "      <td>21.8</td>\n",
              "      <td>25.9</td>\n",
              "    </tr>\n",
              "    <tr>\n",
              "      <th>2020-09-15</th>\n",
              "      <td>184</td>\n",
              "      <td>23.7</td>\n",
              "      <td>21.0</td>\n",
              "      <td>25.8</td>\n",
              "    </tr>\n",
              "    <tr>\n",
              "      <th>2020-09-16</th>\n",
              "      <td>184</td>\n",
              "      <td>23.5</td>\n",
              "      <td>21.5</td>\n",
              "      <td>28.3</td>\n",
              "    </tr>\n",
              "  </tbody>\n",
              "</table>\n",
              "<p>7565 rows × 4 columns</p>\n",
              "</div>"
            ],
            "text/plain": [
              "             지점  평균기온(℃)  최저기온(℃)  최고기온(℃)\n",
              "날짜                                        \n",
              "2000-01-01  184     12.2      8.3     16.0\n",
              "2000-01-02  184     10.8      7.5     17.2\n",
              "2000-01-03  184      6.6      3.6      8.9\n",
              "2000-01-04  184      9.4      3.2     15.5\n",
              "2000-01-05  184     14.2      8.9     17.5\n",
              "...         ...      ...      ...      ...\n",
              "2020-09-12  184     23.1     21.6     25.5\n",
              "2020-09-13  184     23.0     21.7     26.1\n",
              "2020-09-14  184     23.3     21.8     25.9\n",
              "2020-09-15  184     23.7     21.0     25.8\n",
              "2020-09-16  184     23.5     21.5     28.3\n",
              "\n",
              "[7565 rows x 4 columns]"
            ]
          },
          "metadata": {
            "tags": []
          },
          "execution_count": 27
        }
      ]
    },
    {
      "cell_type": "code",
      "metadata": {
        "id": "_q1OKrl0Rsub"
      },
      "source": [
        "#인덱스 리셋하기 - reset_index()"
      ],
      "execution_count": null,
      "outputs": []
    },
    {
      "cell_type": "code",
      "metadata": {
        "id": "8eYzxgpyRph_",
        "colab": {
          "base_uri": "https://localhost:8080/",
          "height": 142
        },
        "outputId": "f28b0054-994c-4801-e7e2-a353b70d7486"
      },
      "source": [
        "df = df.reset_index()\n",
        "df"
      ],
      "execution_count": null,
      "outputs": [
        {
          "output_type": "execute_result",
          "data": {
            "text/html": [
              "<div>\n",
              "<style scoped>\n",
              "    .dataframe tbody tr th:only-of-type {\n",
              "        vertical-align: middle;\n",
              "    }\n",
              "\n",
              "    .dataframe tbody tr th {\n",
              "        vertical-align: top;\n",
              "    }\n",
              "\n",
              "    .dataframe thead th {\n",
              "        text-align: right;\n",
              "    }\n",
              "</style>\n",
              "<table border=\"1\" class=\"dataframe\">\n",
              "  <thead>\n",
              "    <tr style=\"text-align: right;\">\n",
              "      <th></th>\n",
              "      <th>index</th>\n",
              "      <th>날짜</th>\n",
              "      <th>지점</th>\n",
              "      <th>평균기온</th>\n",
              "      <th>최저기온</th>\n",
              "      <th>최고기온</th>\n",
              "    </tr>\n",
              "  </thead>\n",
              "  <tbody>\n",
              "    <tr>\n",
              "      <th>0</th>\n",
              "      <td>0</td>\n",
              "      <td>2000-01-01</td>\n",
              "      <td>108</td>\n",
              "      <td>13.5</td>\n",
              "      <td>7.9</td>\n",
              "      <td>20.7</td>\n",
              "    </tr>\n",
              "    <tr>\n",
              "      <th>1</th>\n",
              "      <td>1</td>\n",
              "      <td>2000-01-02</td>\n",
              "      <td>108</td>\n",
              "      <td>16.2</td>\n",
              "      <td>7.9</td>\n",
              "      <td>22.0</td>\n",
              "    </tr>\n",
              "    <tr>\n",
              "      <th>2</th>\n",
              "      <td>2</td>\n",
              "      <td>2000-01-03</td>\n",
              "      <td>108</td>\n",
              "      <td>16.2</td>\n",
              "      <td>13.1</td>\n",
              "      <td>21.3</td>\n",
              "    </tr>\n",
              "  </tbody>\n",
              "</table>\n",
              "</div>"
            ],
            "text/plain": [
              "   index          날짜   지점  평균기온  최저기온  최고기온\n",
              "0      0  2000-01-01  108  13.5   7.9  20.7\n",
              "1      1  2000-01-02  108  16.2   7.9  22.0\n",
              "2      2  2000-01-03  108  16.2  13.1  21.3"
            ]
          },
          "metadata": {
            "tags": []
          },
          "execution_count": 17
        }
      ]
    },
    {
      "cell_type": "code",
      "metadata": {
        "id": "_n54qIDe8UxW",
        "colab": {
          "base_uri": "https://localhost:8080/",
          "height": 142
        },
        "outputId": "7ba9d7ef-b967-4426-eecc-66a6273dd78a"
      },
      "source": [
        "df"
      ],
      "execution_count": null,
      "outputs": [
        {
          "output_type": "execute_result",
          "data": {
            "text/html": [
              "<div>\n",
              "<style scoped>\n",
              "    .dataframe tbody tr th:only-of-type {\n",
              "        vertical-align: middle;\n",
              "    }\n",
              "\n",
              "    .dataframe tbody tr th {\n",
              "        vertical-align: top;\n",
              "    }\n",
              "\n",
              "    .dataframe thead th {\n",
              "        text-align: right;\n",
              "    }\n",
              "</style>\n",
              "<table border=\"1\" class=\"dataframe\">\n",
              "  <thead>\n",
              "    <tr style=\"text-align: right;\">\n",
              "      <th></th>\n",
              "      <th>index</th>\n",
              "      <th>날짜</th>\n",
              "      <th>지점</th>\n",
              "      <th>평균기온</th>\n",
              "      <th>최저기온</th>\n",
              "      <th>최고기온</th>\n",
              "    </tr>\n",
              "  </thead>\n",
              "  <tbody>\n",
              "    <tr>\n",
              "      <th>0</th>\n",
              "      <td>0</td>\n",
              "      <td>2000-01-01</td>\n",
              "      <td>108</td>\n",
              "      <td>13.5</td>\n",
              "      <td>7.9</td>\n",
              "      <td>20.7</td>\n",
              "    </tr>\n",
              "    <tr>\n",
              "      <th>1</th>\n",
              "      <td>1</td>\n",
              "      <td>2000-01-02</td>\n",
              "      <td>108</td>\n",
              "      <td>16.2</td>\n",
              "      <td>7.9</td>\n",
              "      <td>22.0</td>\n",
              "    </tr>\n",
              "    <tr>\n",
              "      <th>2</th>\n",
              "      <td>2</td>\n",
              "      <td>2000-01-03</td>\n",
              "      <td>108</td>\n",
              "      <td>16.2</td>\n",
              "      <td>13.1</td>\n",
              "      <td>21.3</td>\n",
              "    </tr>\n",
              "  </tbody>\n",
              "</table>\n",
              "</div>"
            ],
            "text/plain": [
              "   index          날짜   지점  평균기온  최저기온  최고기온\n",
              "0      0  2000-01-01  108  13.5   7.9  20.7\n",
              "1      1  2000-01-02  108  16.2   7.9  22.0\n",
              "2      2  2000-01-03  108  16.2  13.1  21.3"
            ]
          },
          "metadata": {
            "tags": []
          },
          "execution_count": 18
        }
      ]
    },
    {
      "cell_type": "code",
      "metadata": {
        "id": "A-Hs3gPwSeAd",
        "colab": {
          "base_uri": "https://localhost:8080/",
          "height": 142
        },
        "outputId": "f640cab8-38b7-47b9-fe8f-21a72c49bd83"
      },
      "source": [
        "df = df.drop (['index'], axis = 1)\n",
        "df"
      ],
      "execution_count": null,
      "outputs": [
        {
          "output_type": "execute_result",
          "data": {
            "text/html": [
              "<div>\n",
              "<style scoped>\n",
              "    .dataframe tbody tr th:only-of-type {\n",
              "        vertical-align: middle;\n",
              "    }\n",
              "\n",
              "    .dataframe tbody tr th {\n",
              "        vertical-align: top;\n",
              "    }\n",
              "\n",
              "    .dataframe thead th {\n",
              "        text-align: right;\n",
              "    }\n",
              "</style>\n",
              "<table border=\"1\" class=\"dataframe\">\n",
              "  <thead>\n",
              "    <tr style=\"text-align: right;\">\n",
              "      <th></th>\n",
              "      <th>날짜</th>\n",
              "      <th>지점</th>\n",
              "      <th>평균기온</th>\n",
              "      <th>최저기온</th>\n",
              "      <th>최고기온</th>\n",
              "    </tr>\n",
              "  </thead>\n",
              "  <tbody>\n",
              "    <tr>\n",
              "      <th>0</th>\n",
              "      <td>2000-01-01</td>\n",
              "      <td>108</td>\n",
              "      <td>13.5</td>\n",
              "      <td>7.9</td>\n",
              "      <td>20.7</td>\n",
              "    </tr>\n",
              "    <tr>\n",
              "      <th>1</th>\n",
              "      <td>2000-01-02</td>\n",
              "      <td>108</td>\n",
              "      <td>16.2</td>\n",
              "      <td>7.9</td>\n",
              "      <td>22.0</td>\n",
              "    </tr>\n",
              "    <tr>\n",
              "      <th>2</th>\n",
              "      <td>2000-01-03</td>\n",
              "      <td>108</td>\n",
              "      <td>16.2</td>\n",
              "      <td>13.1</td>\n",
              "      <td>21.3</td>\n",
              "    </tr>\n",
              "  </tbody>\n",
              "</table>\n",
              "</div>"
            ],
            "text/plain": [
              "           날짜   지점  평균기온  최저기온  최고기온\n",
              "0  2000-01-01  108  13.5   7.9  20.7\n",
              "1  2000-01-02  108  16.2   7.9  22.0\n",
              "2  2000-01-03  108  16.2  13.1  21.3"
            ]
          },
          "metadata": {
            "tags": []
          },
          "execution_count": 19
        }
      ]
    },
    {
      "cell_type": "markdown",
      "metadata": {
        "id": "jwE0ZsmDwHkz"
      },
      "source": [
        "#■특정 컬럼 선택하기"
      ]
    },
    {
      "cell_type": "code",
      "metadata": {
        "id": "AOU_Owlj8GFM"
      },
      "source": [
        "# 특정 '날짜' 컬럼 선택하기"
      ],
      "execution_count": null,
      "outputs": []
    },
    {
      "cell_type": "code",
      "metadata": {
        "id": "2qdMv-A_r9WI",
        "colab": {
          "base_uri": "https://localhost:8080/",
          "height": 89
        },
        "outputId": "e4eda74c-4cbf-4476-a89b-f30216956af6"
      },
      "source": [
        "df['날짜']"
      ],
      "execution_count": null,
      "outputs": [
        {
          "output_type": "execute_result",
          "data": {
            "text/plain": [
              "0    2000-01-01\n",
              "1    2000-01-02\n",
              "2    2000-01-03\n",
              "Name: 날짜, dtype: object"
            ]
          },
          "metadata": {
            "tags": []
          },
          "execution_count": 20
        }
      ]
    },
    {
      "cell_type": "code",
      "metadata": {
        "id": "2MILz15NftDf",
        "colab": {
          "base_uri": "https://localhost:8080/",
          "height": 233
        },
        "outputId": "5af29ea9-c78c-4713-f5fd-8f0151bab344"
      },
      "source": [
        "df.날짜"
      ],
      "execution_count": null,
      "outputs": [
        {
          "output_type": "execute_result",
          "data": {
            "text/plain": [
              "0       2000-01-01\n",
              "1       2000-01-02\n",
              "2       2000-01-03\n",
              "3       2000-01-04\n",
              "4       2000-01-05\n",
              "           ...    \n",
              "7560    2020-09-12\n",
              "7561    2020-09-13\n",
              "7562    2020-09-14\n",
              "7563    2020-09-15\n",
              "7564    2020-09-16\n",
              "Name: 날짜, Length: 7565, dtype: object"
            ]
          },
          "metadata": {
            "tags": []
          },
          "execution_count": 31
        }
      ]
    },
    {
      "cell_type": "markdown",
      "metadata": {
        "id": "sZXP3P42wUzJ"
      },
      "source": [
        "#■컬럼 이름 바꾸기"
      ]
    },
    {
      "cell_type": "code",
      "metadata": {
        "id": "sntQcSZe-Wgh"
      },
      "source": [
        "# 평균기온(℃) 컬럼 선택하기\n",
        "# 이렇게 특수문자나 띄어쓰기가 있으면 안됨"
      ],
      "execution_count": null,
      "outputs": []
    },
    {
      "cell_type": "code",
      "metadata": {
        "id": "Ez4y7_uSsce2",
        "colab": {
          "base_uri": "https://localhost:8080/",
          "height": 233
        },
        "outputId": "f5cb0b22-aba1-4c49-bb97-9052135aa383"
      },
      "source": [
        "df['최고기온(℃)']"
      ],
      "execution_count": null,
      "outputs": [
        {
          "output_type": "execute_result",
          "data": {
            "text/plain": [
              "0       16.0\n",
              "1       17.2\n",
              "2        8.9\n",
              "3       15.5\n",
              "4       17.5\n",
              "        ... \n",
              "7560    25.5\n",
              "7561    26.1\n",
              "7562    25.9\n",
              "7563    25.8\n",
              "7564    28.3\n",
              "Name: 최고기온(℃), Length: 7565, dtype: float64"
            ]
          },
          "metadata": {
            "tags": []
          },
          "execution_count": 32
        }
      ]
    },
    {
      "cell_type": "code",
      "metadata": {
        "id": "yUyuT6FxSbNk",
        "colab": {
          "base_uri": "https://localhost:8080/",
          "height": 419
        },
        "outputId": "5ac9633a-e5c0-4c71-dbe2-63f0f98ae2f8"
      },
      "source": [
        "df"
      ],
      "execution_count": null,
      "outputs": [
        {
          "output_type": "execute_result",
          "data": {
            "text/html": [
              "<div>\n",
              "<style scoped>\n",
              "    .dataframe tbody tr th:only-of-type {\n",
              "        vertical-align: middle;\n",
              "    }\n",
              "\n",
              "    .dataframe tbody tr th {\n",
              "        vertical-align: top;\n",
              "    }\n",
              "\n",
              "    .dataframe thead th {\n",
              "        text-align: right;\n",
              "    }\n",
              "</style>\n",
              "<table border=\"1\" class=\"dataframe\">\n",
              "  <thead>\n",
              "    <tr style=\"text-align: right;\">\n",
              "      <th></th>\n",
              "      <th>날짜</th>\n",
              "      <th>지점</th>\n",
              "      <th>평균기온(℃)</th>\n",
              "      <th>최저기온(℃)</th>\n",
              "      <th>최고기온(℃)</th>\n",
              "    </tr>\n",
              "  </thead>\n",
              "  <tbody>\n",
              "    <tr>\n",
              "      <th>0</th>\n",
              "      <td>2000-01-01</td>\n",
              "      <td>184</td>\n",
              "      <td>12.2</td>\n",
              "      <td>8.3</td>\n",
              "      <td>16.0</td>\n",
              "    </tr>\n",
              "    <tr>\n",
              "      <th>1</th>\n",
              "      <td>2000-01-02</td>\n",
              "      <td>184</td>\n",
              "      <td>10.8</td>\n",
              "      <td>7.5</td>\n",
              "      <td>17.2</td>\n",
              "    </tr>\n",
              "    <tr>\n",
              "      <th>2</th>\n",
              "      <td>2000-01-03</td>\n",
              "      <td>184</td>\n",
              "      <td>6.6</td>\n",
              "      <td>3.6</td>\n",
              "      <td>8.9</td>\n",
              "    </tr>\n",
              "    <tr>\n",
              "      <th>3</th>\n",
              "      <td>2000-01-04</td>\n",
              "      <td>184</td>\n",
              "      <td>9.4</td>\n",
              "      <td>3.2</td>\n",
              "      <td>15.5</td>\n",
              "    </tr>\n",
              "    <tr>\n",
              "      <th>4</th>\n",
              "      <td>2000-01-05</td>\n",
              "      <td>184</td>\n",
              "      <td>14.2</td>\n",
              "      <td>8.9</td>\n",
              "      <td>17.5</td>\n",
              "    </tr>\n",
              "    <tr>\n",
              "      <th>...</th>\n",
              "      <td>...</td>\n",
              "      <td>...</td>\n",
              "      <td>...</td>\n",
              "      <td>...</td>\n",
              "      <td>...</td>\n",
              "    </tr>\n",
              "    <tr>\n",
              "      <th>7560</th>\n",
              "      <td>2020-09-12</td>\n",
              "      <td>184</td>\n",
              "      <td>23.1</td>\n",
              "      <td>21.6</td>\n",
              "      <td>25.5</td>\n",
              "    </tr>\n",
              "    <tr>\n",
              "      <th>7561</th>\n",
              "      <td>2020-09-13</td>\n",
              "      <td>184</td>\n",
              "      <td>23.0</td>\n",
              "      <td>21.7</td>\n",
              "      <td>26.1</td>\n",
              "    </tr>\n",
              "    <tr>\n",
              "      <th>7562</th>\n",
              "      <td>2020-09-14</td>\n",
              "      <td>184</td>\n",
              "      <td>23.3</td>\n",
              "      <td>21.8</td>\n",
              "      <td>25.9</td>\n",
              "    </tr>\n",
              "    <tr>\n",
              "      <th>7563</th>\n",
              "      <td>2020-09-15</td>\n",
              "      <td>184</td>\n",
              "      <td>23.7</td>\n",
              "      <td>21.0</td>\n",
              "      <td>25.8</td>\n",
              "    </tr>\n",
              "    <tr>\n",
              "      <th>7564</th>\n",
              "      <td>2020-09-16</td>\n",
              "      <td>184</td>\n",
              "      <td>23.5</td>\n",
              "      <td>21.5</td>\n",
              "      <td>28.3</td>\n",
              "    </tr>\n",
              "  </tbody>\n",
              "</table>\n",
              "<p>7565 rows × 5 columns</p>\n",
              "</div>"
            ],
            "text/plain": [
              "              날짜   지점  평균기온(℃)  최저기온(℃)  최고기온(℃)\n",
              "0     2000-01-01  184     12.2      8.3     16.0\n",
              "1     2000-01-02  184     10.8      7.5     17.2\n",
              "2     2000-01-03  184      6.6      3.6      8.9\n",
              "3     2000-01-04  184      9.4      3.2     15.5\n",
              "4     2000-01-05  184     14.2      8.9     17.5\n",
              "...          ...  ...      ...      ...      ...\n",
              "7560  2020-09-12  184     23.1     21.6     25.5\n",
              "7561  2020-09-13  184     23.0     21.7     26.1\n",
              "7562  2020-09-14  184     23.3     21.8     25.9\n",
              "7563  2020-09-15  184     23.7     21.0     25.8\n",
              "7564  2020-09-16  184     23.5     21.5     28.3\n",
              "\n",
              "[7565 rows x 5 columns]"
            ]
          },
          "metadata": {
            "tags": []
          },
          "execution_count": 33
        }
      ]
    },
    {
      "cell_type": "code",
      "metadata": {
        "id": "iFs5Wcyn-Zxx"
      },
      "source": [
        "# 데이터 프레임 컬럼 이름 바꾸기['날짜','지점','평균','최저','최고']"
      ],
      "execution_count": null,
      "outputs": []
    },
    {
      "cell_type": "code",
      "metadata": {
        "id": "vPmMYJk4trV2"
      },
      "source": [
        "df.columns = ['날짜','지점','평균','최저','최고']"
      ],
      "execution_count": null,
      "outputs": []
    },
    {
      "cell_type": "code",
      "metadata": {
        "id": "M2NWWm0Y2W39",
        "colab": {
          "base_uri": "https://localhost:8080/",
          "height": 419
        },
        "outputId": "2d3f8cf4-586e-404a-f97a-d14c96217002"
      },
      "source": [
        "df"
      ],
      "execution_count": null,
      "outputs": [
        {
          "output_type": "execute_result",
          "data": {
            "text/html": [
              "<div>\n",
              "<style scoped>\n",
              "    .dataframe tbody tr th:only-of-type {\n",
              "        vertical-align: middle;\n",
              "    }\n",
              "\n",
              "    .dataframe tbody tr th {\n",
              "        vertical-align: top;\n",
              "    }\n",
              "\n",
              "    .dataframe thead th {\n",
              "        text-align: right;\n",
              "    }\n",
              "</style>\n",
              "<table border=\"1\" class=\"dataframe\">\n",
              "  <thead>\n",
              "    <tr style=\"text-align: right;\">\n",
              "      <th></th>\n",
              "      <th>날짜</th>\n",
              "      <th>지점</th>\n",
              "      <th>평균</th>\n",
              "      <th>최저</th>\n",
              "      <th>최고</th>\n",
              "    </tr>\n",
              "  </thead>\n",
              "  <tbody>\n",
              "    <tr>\n",
              "      <th>0</th>\n",
              "      <td>2000-01-01</td>\n",
              "      <td>184</td>\n",
              "      <td>12.2</td>\n",
              "      <td>8.3</td>\n",
              "      <td>16.0</td>\n",
              "    </tr>\n",
              "    <tr>\n",
              "      <th>1</th>\n",
              "      <td>2000-01-02</td>\n",
              "      <td>184</td>\n",
              "      <td>10.8</td>\n",
              "      <td>7.5</td>\n",
              "      <td>17.2</td>\n",
              "    </tr>\n",
              "    <tr>\n",
              "      <th>2</th>\n",
              "      <td>2000-01-03</td>\n",
              "      <td>184</td>\n",
              "      <td>6.6</td>\n",
              "      <td>3.6</td>\n",
              "      <td>8.9</td>\n",
              "    </tr>\n",
              "    <tr>\n",
              "      <th>3</th>\n",
              "      <td>2000-01-04</td>\n",
              "      <td>184</td>\n",
              "      <td>9.4</td>\n",
              "      <td>3.2</td>\n",
              "      <td>15.5</td>\n",
              "    </tr>\n",
              "    <tr>\n",
              "      <th>4</th>\n",
              "      <td>2000-01-05</td>\n",
              "      <td>184</td>\n",
              "      <td>14.2</td>\n",
              "      <td>8.9</td>\n",
              "      <td>17.5</td>\n",
              "    </tr>\n",
              "    <tr>\n",
              "      <th>...</th>\n",
              "      <td>...</td>\n",
              "      <td>...</td>\n",
              "      <td>...</td>\n",
              "      <td>...</td>\n",
              "      <td>...</td>\n",
              "    </tr>\n",
              "    <tr>\n",
              "      <th>7560</th>\n",
              "      <td>2020-09-12</td>\n",
              "      <td>184</td>\n",
              "      <td>23.1</td>\n",
              "      <td>21.6</td>\n",
              "      <td>25.5</td>\n",
              "    </tr>\n",
              "    <tr>\n",
              "      <th>7561</th>\n",
              "      <td>2020-09-13</td>\n",
              "      <td>184</td>\n",
              "      <td>23.0</td>\n",
              "      <td>21.7</td>\n",
              "      <td>26.1</td>\n",
              "    </tr>\n",
              "    <tr>\n",
              "      <th>7562</th>\n",
              "      <td>2020-09-14</td>\n",
              "      <td>184</td>\n",
              "      <td>23.3</td>\n",
              "      <td>21.8</td>\n",
              "      <td>25.9</td>\n",
              "    </tr>\n",
              "    <tr>\n",
              "      <th>7563</th>\n",
              "      <td>2020-09-15</td>\n",
              "      <td>184</td>\n",
              "      <td>23.7</td>\n",
              "      <td>21.0</td>\n",
              "      <td>25.8</td>\n",
              "    </tr>\n",
              "    <tr>\n",
              "      <th>7564</th>\n",
              "      <td>2020-09-16</td>\n",
              "      <td>184</td>\n",
              "      <td>23.5</td>\n",
              "      <td>21.5</td>\n",
              "      <td>28.3</td>\n",
              "    </tr>\n",
              "  </tbody>\n",
              "</table>\n",
              "<p>7565 rows × 5 columns</p>\n",
              "</div>"
            ],
            "text/plain": [
              "              날짜   지점    평균    최저    최고\n",
              "0     2000-01-01  184  12.2   8.3  16.0\n",
              "1     2000-01-02  184  10.8   7.5  17.2\n",
              "2     2000-01-03  184   6.6   3.6   8.9\n",
              "3     2000-01-04  184   9.4   3.2  15.5\n",
              "4     2000-01-05  184  14.2   8.9  17.5\n",
              "...          ...  ...   ...   ...   ...\n",
              "7560  2020-09-12  184  23.1  21.6  25.5\n",
              "7561  2020-09-13  184  23.0  21.7  26.1\n",
              "7562  2020-09-14  184  23.3  21.8  25.9\n",
              "7563  2020-09-15  184  23.7  21.0  25.8\n",
              "7564  2020-09-16  184  23.5  21.5  28.3\n",
              "\n",
              "[7565 rows x 5 columns]"
            ]
          },
          "metadata": {
            "tags": []
          },
          "execution_count": 35
        }
      ]
    },
    {
      "cell_type": "code",
      "metadata": {
        "id": "rodtm-dMI_Hh"
      },
      "source": [
        "#변경한 컬럼 중 '평균' 출력하기"
      ],
      "execution_count": null,
      "outputs": []
    },
    {
      "cell_type": "code",
      "metadata": {
        "id": "u2YQ_SD_skD9",
        "colab": {
          "base_uri": "https://localhost:8080/",
          "height": 233
        },
        "outputId": "5c3bf7f4-c725-4857-f216-e6ef2609086d"
      },
      "source": [
        "df['최고']"
      ],
      "execution_count": null,
      "outputs": [
        {
          "output_type": "execute_result",
          "data": {
            "text/plain": [
              "0       16.0\n",
              "1       17.2\n",
              "2        8.9\n",
              "3       15.5\n",
              "4       17.5\n",
              "        ... \n",
              "7560    25.5\n",
              "7561    26.1\n",
              "7562    25.9\n",
              "7563    25.8\n",
              "7564    28.3\n",
              "Name: 최고, Length: 7565, dtype: float64"
            ]
          },
          "metadata": {
            "tags": []
          },
          "execution_count": 36
        }
      ]
    },
    {
      "cell_type": "code",
      "metadata": {
        "id": "qunFbsPb-eKa"
      },
      "source": [
        "# 물론 특정 컬럼을 따로 떼어서 저장할 수도 있음"
      ],
      "execution_count": null,
      "outputs": []
    },
    {
      "cell_type": "code",
      "metadata": {
        "id": "mh9hDzcjskzw"
      },
      "source": [
        "avg = df['평균']"
      ],
      "execution_count": null,
      "outputs": []
    },
    {
      "cell_type": "code",
      "metadata": {
        "id": "6y7kjprx2oWP",
        "colab": {
          "base_uri": "https://localhost:8080/",
          "height": 233
        },
        "outputId": "9c774fd2-8877-43ce-d409-446cc0fcfbbf"
      },
      "source": [
        "avg"
      ],
      "execution_count": null,
      "outputs": [
        {
          "output_type": "execute_result",
          "data": {
            "text/plain": [
              "0       12.2\n",
              "1       10.8\n",
              "2        6.6\n",
              "3        9.4\n",
              "4       14.2\n",
              "        ... \n",
              "7560    23.1\n",
              "7561    23.0\n",
              "7562    23.3\n",
              "7563    23.7\n",
              "7564    23.5\n",
              "Name: 평균, Length: 7565, dtype: float64"
            ]
          },
          "metadata": {
            "tags": []
          },
          "execution_count": 39
        }
      ]
    },
    {
      "cell_type": "code",
      "metadata": {
        "id": "uUAjWhuKsvQd"
      },
      "source": [
        "#따로 저장한 데이터 확인하기"
      ],
      "execution_count": null,
      "outputs": []
    },
    {
      "cell_type": "code",
      "metadata": {
        "id": "ujyIqBn3JKR9",
        "colab": {
          "base_uri": "https://localhost:8080/",
          "height": 233
        },
        "outputId": "66e90a52-be80-48fb-c02b-9550158a2893"
      },
      "source": [
        "avg"
      ],
      "execution_count": null,
      "outputs": [
        {
          "output_type": "execute_result",
          "data": {
            "text/plain": [
              "0       12.2\n",
              "1       10.8\n",
              "2        6.6\n",
              "3        9.4\n",
              "4       14.2\n",
              "        ... \n",
              "7560    23.1\n",
              "7561    23.0\n",
              "7562    23.3\n",
              "7563    23.7\n",
              "7564    23.5\n",
              "Name: 평균, Length: 7565, dtype: float64"
            ]
          },
          "metadata": {
            "tags": []
          },
          "execution_count": 40
        }
      ]
    },
    {
      "cell_type": "markdown",
      "metadata": {
        "id": "IaeCzdVd1n-Q"
      },
      "source": [
        "#■2개 이상의 컬럼 선택하기"
      ]
    },
    {
      "cell_type": "code",
      "metadata": {
        "id": "LZLhV9Y8-toR"
      },
      "source": [
        "# ['최저','최고'] 2개 이상의 컬럼 선택하기(리스트 활용)"
      ],
      "execution_count": null,
      "outputs": []
    },
    {
      "cell_type": "code",
      "metadata": {
        "id": "IFt3sNT_svpx",
        "colab": {
          "base_uri": "https://localhost:8080/",
          "height": 419
        },
        "outputId": "c8b082e3-89e9-414a-9bc5-49abc73b4310"
      },
      "source": [
        "df[['최고', '최저']]"
      ],
      "execution_count": null,
      "outputs": [
        {
          "output_type": "execute_result",
          "data": {
            "text/html": [
              "<div>\n",
              "<style scoped>\n",
              "    .dataframe tbody tr th:only-of-type {\n",
              "        vertical-align: middle;\n",
              "    }\n",
              "\n",
              "    .dataframe tbody tr th {\n",
              "        vertical-align: top;\n",
              "    }\n",
              "\n",
              "    .dataframe thead th {\n",
              "        text-align: right;\n",
              "    }\n",
              "</style>\n",
              "<table border=\"1\" class=\"dataframe\">\n",
              "  <thead>\n",
              "    <tr style=\"text-align: right;\">\n",
              "      <th></th>\n",
              "      <th>최고</th>\n",
              "      <th>최저</th>\n",
              "    </tr>\n",
              "  </thead>\n",
              "  <tbody>\n",
              "    <tr>\n",
              "      <th>0</th>\n",
              "      <td>16.0</td>\n",
              "      <td>8.3</td>\n",
              "    </tr>\n",
              "    <tr>\n",
              "      <th>1</th>\n",
              "      <td>17.2</td>\n",
              "      <td>7.5</td>\n",
              "    </tr>\n",
              "    <tr>\n",
              "      <th>2</th>\n",
              "      <td>8.9</td>\n",
              "      <td>3.6</td>\n",
              "    </tr>\n",
              "    <tr>\n",
              "      <th>3</th>\n",
              "      <td>15.5</td>\n",
              "      <td>3.2</td>\n",
              "    </tr>\n",
              "    <tr>\n",
              "      <th>4</th>\n",
              "      <td>17.5</td>\n",
              "      <td>8.9</td>\n",
              "    </tr>\n",
              "    <tr>\n",
              "      <th>...</th>\n",
              "      <td>...</td>\n",
              "      <td>...</td>\n",
              "    </tr>\n",
              "    <tr>\n",
              "      <th>7560</th>\n",
              "      <td>25.5</td>\n",
              "      <td>21.6</td>\n",
              "    </tr>\n",
              "    <tr>\n",
              "      <th>7561</th>\n",
              "      <td>26.1</td>\n",
              "      <td>21.7</td>\n",
              "    </tr>\n",
              "    <tr>\n",
              "      <th>7562</th>\n",
              "      <td>25.9</td>\n",
              "      <td>21.8</td>\n",
              "    </tr>\n",
              "    <tr>\n",
              "      <th>7563</th>\n",
              "      <td>25.8</td>\n",
              "      <td>21.0</td>\n",
              "    </tr>\n",
              "    <tr>\n",
              "      <th>7564</th>\n",
              "      <td>28.3</td>\n",
              "      <td>21.5</td>\n",
              "    </tr>\n",
              "  </tbody>\n",
              "</table>\n",
              "<p>7565 rows × 2 columns</p>\n",
              "</div>"
            ],
            "text/plain": [
              "        최고    최저\n",
              "0     16.0   8.3\n",
              "1     17.2   7.5\n",
              "2      8.9   3.6\n",
              "3     15.5   3.2\n",
              "4     17.5   8.9\n",
              "...    ...   ...\n",
              "7560  25.5  21.6\n",
              "7561  26.1  21.7\n",
              "7562  25.9  21.8\n",
              "7563  25.8  21.0\n",
              "7564  28.3  21.5\n",
              "\n",
              "[7565 rows x 2 columns]"
            ]
          },
          "metadata": {
            "tags": []
          },
          "execution_count": 41
        }
      ]
    },
    {
      "cell_type": "code",
      "metadata": {
        "id": "0pneLUEV6EUn",
        "colab": {
          "base_uri": "https://localhost:8080/",
          "height": 283
        },
        "outputId": "9e1b806b-35c8-454f-91c2-a0c6d2324732"
      },
      "source": [
        "# 그래프 시각화 참고 => 이후에 matplotlib.pyplot라이브러리 사용예정\n",
        "avg.plot()"
      ],
      "execution_count": null,
      "outputs": [
        {
          "output_type": "execute_result",
          "data": {
            "text/plain": [
              "<matplotlib.axes._subplots.AxesSubplot at 0x7fe4f46375c0>"
            ]
          },
          "metadata": {
            "tags": []
          },
          "execution_count": 44
        },
        {
          "output_type": "display_data",
          "data": {
            "image/png": "[encoded data removed]",
            "text/plain": [
              "<Figure size 432x288 with 1 Axes>"
            ]
          },
          "metadata": {
            "tags": [],
            "needs_background": "light"
          }
        }
      ]
    },
    {
      "cell_type": "markdown",
      "metadata": {
        "id": "_o8UZN4rwc8c"
      },
      "source": [
        "# ■특정 컬럼에 조건 적용하기"
      ]
    },
    {
      "cell_type": "code",
      "metadata": {
        "id": "uSbCOQTQ-nrt"
      },
      "source": [
        "# 특정 컬럼에 조건 적용하기\n",
        "#['최고']컬럼의 값이 20보다 큰지 확인"
      ],
      "execution_count": null,
      "outputs": []
    },
    {
      "cell_type": "code",
      "metadata": {
        "id": "hyV7i1Ey5wox",
        "colab": {
          "base_uri": "https://localhost:8080/",
          "height": 419
        },
        "outputId": "bb128974-82e8-4a35-acfd-15933985bc48"
      },
      "source": [
        "df"
      ],
      "execution_count": null,
      "outputs": [
        {
          "output_type": "execute_result",
          "data": {
            "text/html": [
              "<div>\n",
              "<style scoped>\n",
              "    .dataframe tbody tr th:only-of-type {\n",
              "        vertical-align: middle;\n",
              "    }\n",
              "\n",
              "    .dataframe tbody tr th {\n",
              "        vertical-align: top;\n",
              "    }\n",
              "\n",
              "    .dataframe thead th {\n",
              "        text-align: right;\n",
              "    }\n",
              "</style>\n",
              "<table border=\"1\" class=\"dataframe\">\n",
              "  <thead>\n",
              "    <tr style=\"text-align: right;\">\n",
              "      <th></th>\n",
              "      <th>날짜</th>\n",
              "      <th>지점</th>\n",
              "      <th>평균</th>\n",
              "      <th>최저</th>\n",
              "      <th>최고</th>\n",
              "    </tr>\n",
              "  </thead>\n",
              "  <tbody>\n",
              "    <tr>\n",
              "      <th>0</th>\n",
              "      <td>2000-01-01</td>\n",
              "      <td>184</td>\n",
              "      <td>12.2</td>\n",
              "      <td>8.3</td>\n",
              "      <td>16.0</td>\n",
              "    </tr>\n",
              "    <tr>\n",
              "      <th>1</th>\n",
              "      <td>2000-01-02</td>\n",
              "      <td>184</td>\n",
              "      <td>10.8</td>\n",
              "      <td>7.5</td>\n",
              "      <td>17.2</td>\n",
              "    </tr>\n",
              "    <tr>\n",
              "      <th>2</th>\n",
              "      <td>2000-01-03</td>\n",
              "      <td>184</td>\n",
              "      <td>6.6</td>\n",
              "      <td>3.6</td>\n",
              "      <td>8.9</td>\n",
              "    </tr>\n",
              "    <tr>\n",
              "      <th>3</th>\n",
              "      <td>2000-01-04</td>\n",
              "      <td>184</td>\n",
              "      <td>9.4</td>\n",
              "      <td>3.2</td>\n",
              "      <td>15.5</td>\n",
              "    </tr>\n",
              "    <tr>\n",
              "      <th>4</th>\n",
              "      <td>2000-01-05</td>\n",
              "      <td>184</td>\n",
              "      <td>14.2</td>\n",
              "      <td>8.9</td>\n",
              "      <td>17.5</td>\n",
              "    </tr>\n",
              "    <tr>\n",
              "      <th>...</th>\n",
              "      <td>...</td>\n",
              "      <td>...</td>\n",
              "      <td>...</td>\n",
              "      <td>...</td>\n",
              "      <td>...</td>\n",
              "    </tr>\n",
              "    <tr>\n",
              "      <th>7560</th>\n",
              "      <td>2020-09-12</td>\n",
              "      <td>184</td>\n",
              "      <td>23.1</td>\n",
              "      <td>21.6</td>\n",
              "      <td>25.5</td>\n",
              "    </tr>\n",
              "    <tr>\n",
              "      <th>7561</th>\n",
              "      <td>2020-09-13</td>\n",
              "      <td>184</td>\n",
              "      <td>23.0</td>\n",
              "      <td>21.7</td>\n",
              "      <td>26.1</td>\n",
              "    </tr>\n",
              "    <tr>\n",
              "      <th>7562</th>\n",
              "      <td>2020-09-14</td>\n",
              "      <td>184</td>\n",
              "      <td>23.3</td>\n",
              "      <td>21.8</td>\n",
              "      <td>25.9</td>\n",
              "    </tr>\n",
              "    <tr>\n",
              "      <th>7563</th>\n",
              "      <td>2020-09-15</td>\n",
              "      <td>184</td>\n",
              "      <td>23.7</td>\n",
              "      <td>21.0</td>\n",
              "      <td>25.8</td>\n",
              "    </tr>\n",
              "    <tr>\n",
              "      <th>7564</th>\n",
              "      <td>2020-09-16</td>\n",
              "      <td>184</td>\n",
              "      <td>23.5</td>\n",
              "      <td>21.5</td>\n",
              "      <td>28.3</td>\n",
              "    </tr>\n",
              "  </tbody>\n",
              "</table>\n",
              "<p>7565 rows × 5 columns</p>\n",
              "</div>"
            ],
            "text/plain": [
              "              날짜   지점    평균    최저    최고\n",
              "0     2000-01-01  184  12.2   8.3  16.0\n",
              "1     2000-01-02  184  10.8   7.5  17.2\n",
              "2     2000-01-03  184   6.6   3.6   8.9\n",
              "3     2000-01-04  184   9.4   3.2  15.5\n",
              "4     2000-01-05  184  14.2   8.9  17.5\n",
              "...          ...  ...   ...   ...   ...\n",
              "7560  2020-09-12  184  23.1  21.6  25.5\n",
              "7561  2020-09-13  184  23.0  21.7  26.1\n",
              "7562  2020-09-14  184  23.3  21.8  25.9\n",
              "7563  2020-09-15  184  23.7  21.0  25.8\n",
              "7564  2020-09-16  184  23.5  21.5  28.3\n",
              "\n",
              "[7565 rows x 5 columns]"
            ]
          },
          "metadata": {
            "tags": []
          },
          "execution_count": 46
        }
      ]
    },
    {
      "cell_type": "code",
      "metadata": {
        "id": "RyZ1QLxRuOnw",
        "colab": {
          "base_uri": "https://localhost:8080/",
          "height": 233
        },
        "outputId": "a6e56fae-c748-4fc3-ccbb-82abbacba7fe"
      },
      "source": [
        "df['최고']>20"
      ],
      "execution_count": null,
      "outputs": [
        {
          "output_type": "execute_result",
          "data": {
            "text/plain": [
              "0       False\n",
              "1       False\n",
              "2       False\n",
              "3       False\n",
              "4       False\n",
              "        ...  \n",
              "7560     True\n",
              "7561     True\n",
              "7562     True\n",
              "7563     True\n",
              "7564     True\n",
              "Name: 최고, Length: 7565, dtype: bool"
            ]
          },
          "metadata": {
            "tags": []
          },
          "execution_count": 45
        }
      ]
    },
    {
      "cell_type": "markdown",
      "metadata": {
        "id": "0RT3g6zp-qMb"
      },
      "source": [
        "# 특정 컬럼에 조건이 참인 데이터만 추리기\n",
        "#['최고']컬럼의 값이 20보다 큰 True값만 출력"
      ]
    },
    {
      "cell_type": "code",
      "metadata": {
        "id": "yv1QW1CWJhss"
      },
      "source": [
        ""
      ],
      "execution_count": null,
      "outputs": []
    },
    {
      "cell_type": "code",
      "metadata": {
        "id": "DohGzXZPJiIn"
      },
      "source": [
        ""
      ],
      "execution_count": null,
      "outputs": []
    },
    {
      "cell_type": "code",
      "metadata": {
        "id": "hPov5twhJi_Y"
      },
      "source": [
        ""
      ],
      "execution_count": null,
      "outputs": []
    },
    {
      "cell_type": "code",
      "metadata": {
        "id": "JQfOH2d4uui9",
        "colab": {
          "base_uri": "https://localhost:8080/",
          "height": 450
        },
        "outputId": "b2c9fe8b-63b0-40eb-eb21-413c1626117a"
      },
      "source": [
        "df[df['최고']>20]"
      ],
      "execution_count": null,
      "outputs": [
        {
          "output_type": "execute_result",
          "data": {
            "text/html": [
              "<div>\n",
              "<style scoped>\n",
              "    .dataframe tbody tr th:only-of-type {\n",
              "        vertical-align: middle;\n",
              "    }\n",
              "\n",
              "    .dataframe tbody tr th {\n",
              "        vertical-align: top;\n",
              "    }\n",
              "\n",
              "    .dataframe thead th {\n",
              "        text-align: right;\n",
              "    }\n",
              "</style>\n",
              "<table border=\"1\" class=\"dataframe\">\n",
              "  <thead>\n",
              "    <tr style=\"text-align: right;\">\n",
              "      <th></th>\n",
              "      <th>지점</th>\n",
              "      <th>평균</th>\n",
              "      <th>최저</th>\n",
              "      <th>최고</th>\n",
              "    </tr>\n",
              "    <tr>\n",
              "      <th>날짜</th>\n",
              "      <th></th>\n",
              "      <th></th>\n",
              "      <th></th>\n",
              "      <th></th>\n",
              "    </tr>\n",
              "  </thead>\n",
              "  <tbody>\n",
              "    <tr>\n",
              "      <th>2000-03-27</th>\n",
              "      <td>184</td>\n",
              "      <td>16.4</td>\n",
              "      <td>9.9</td>\n",
              "      <td>21.2</td>\n",
              "    </tr>\n",
              "    <tr>\n",
              "      <th>2000-04-13</th>\n",
              "      <td>184</td>\n",
              "      <td>19.6</td>\n",
              "      <td>11.9</td>\n",
              "      <td>23.8</td>\n",
              "    </tr>\n",
              "    <tr>\n",
              "      <th>2000-04-19</th>\n",
              "      <td>184</td>\n",
              "      <td>16.3</td>\n",
              "      <td>11.3</td>\n",
              "      <td>22.9</td>\n",
              "    </tr>\n",
              "    <tr>\n",
              "      <th>2000-04-22</th>\n",
              "      <td>184</td>\n",
              "      <td>16.3</td>\n",
              "      <td>11.2</td>\n",
              "      <td>26.1</td>\n",
              "    </tr>\n",
              "    <tr>\n",
              "      <th>2000-04-25</th>\n",
              "      <td>184</td>\n",
              "      <td>15.2</td>\n",
              "      <td>12.5</td>\n",
              "      <td>20.1</td>\n",
              "    </tr>\n",
              "    <tr>\n",
              "      <th>...</th>\n",
              "      <td>...</td>\n",
              "      <td>...</td>\n",
              "      <td>...</td>\n",
              "      <td>...</td>\n",
              "    </tr>\n",
              "    <tr>\n",
              "      <th>2020-09-12</th>\n",
              "      <td>184</td>\n",
              "      <td>23.1</td>\n",
              "      <td>21.6</td>\n",
              "      <td>25.5</td>\n",
              "    </tr>\n",
              "    <tr>\n",
              "      <th>2020-09-13</th>\n",
              "      <td>184</td>\n",
              "      <td>23.0</td>\n",
              "      <td>21.7</td>\n",
              "      <td>26.1</td>\n",
              "    </tr>\n",
              "    <tr>\n",
              "      <th>2020-09-14</th>\n",
              "      <td>184</td>\n",
              "      <td>23.3</td>\n",
              "      <td>21.8</td>\n",
              "      <td>25.9</td>\n",
              "    </tr>\n",
              "    <tr>\n",
              "      <th>2020-09-15</th>\n",
              "      <td>184</td>\n",
              "      <td>23.7</td>\n",
              "      <td>21.0</td>\n",
              "      <td>25.8</td>\n",
              "    </tr>\n",
              "    <tr>\n",
              "      <th>2020-09-16</th>\n",
              "      <td>184</td>\n",
              "      <td>23.5</td>\n",
              "      <td>21.5</td>\n",
              "      <td>28.3</td>\n",
              "    </tr>\n",
              "  </tbody>\n",
              "</table>\n",
              "<p>3865 rows × 4 columns</p>\n",
              "</div>"
            ],
            "text/plain": [
              "             지점    평균    최저    최고\n",
              "날짜                               \n",
              "2000-03-27  184  16.4   9.9  21.2\n",
              "2000-04-13  184  19.6  11.9  23.8\n",
              "2000-04-19  184  16.3  11.3  22.9\n",
              "2000-04-22  184  16.3  11.2  26.1\n",
              "2000-04-25  184  15.2  12.5  20.1\n",
              "...         ...   ...   ...   ...\n",
              "2020-09-12  184  23.1  21.6  25.5\n",
              "2020-09-13  184  23.0  21.7  26.1\n",
              "2020-09-14  184  23.3  21.8  25.9\n",
              "2020-09-15  184  23.7  21.0  25.8\n",
              "2020-09-16  184  23.5  21.5  28.3\n",
              "\n",
              "[3865 rows x 4 columns]"
            ]
          },
          "metadata": {
            "tags": []
          },
          "execution_count": 50
        }
      ]
    },
    {
      "cell_type": "code",
      "metadata": {
        "id": "BTSDyedwT-8Y"
      },
      "source": [
        "#인덱스 ('날짜')로 바꾸기"
      ],
      "execution_count": null,
      "outputs": []
    },
    {
      "cell_type": "code",
      "metadata": {
        "id": "czkZunGcUEAf"
      },
      "source": [
        "df = df.set_index('날짜')"
      ],
      "execution_count": null,
      "outputs": []
    },
    {
      "cell_type": "code",
      "metadata": {
        "id": "f45UyJUSUKic",
        "colab": {
          "base_uri": "https://localhost:8080/",
          "height": 450
        },
        "outputId": "8a8be795-847f-4917-e6a7-6cec57fcc56a"
      },
      "source": [
        "df"
      ],
      "execution_count": null,
      "outputs": [
        {
          "output_type": "execute_result",
          "data": {
            "text/html": [
              "<div>\n",
              "<style scoped>\n",
              "    .dataframe tbody tr th:only-of-type {\n",
              "        vertical-align: middle;\n",
              "    }\n",
              "\n",
              "    .dataframe tbody tr th {\n",
              "        vertical-align: top;\n",
              "    }\n",
              "\n",
              "    .dataframe thead th {\n",
              "        text-align: right;\n",
              "    }\n",
              "</style>\n",
              "<table border=\"1\" class=\"dataframe\">\n",
              "  <thead>\n",
              "    <tr style=\"text-align: right;\">\n",
              "      <th></th>\n",
              "      <th>지점</th>\n",
              "      <th>평균</th>\n",
              "      <th>최저</th>\n",
              "      <th>최고</th>\n",
              "    </tr>\n",
              "    <tr>\n",
              "      <th>날짜</th>\n",
              "      <th></th>\n",
              "      <th></th>\n",
              "      <th></th>\n",
              "      <th></th>\n",
              "    </tr>\n",
              "  </thead>\n",
              "  <tbody>\n",
              "    <tr>\n",
              "      <th>2000-01-01</th>\n",
              "      <td>184</td>\n",
              "      <td>12.2</td>\n",
              "      <td>8.3</td>\n",
              "      <td>16.0</td>\n",
              "    </tr>\n",
              "    <tr>\n",
              "      <th>2000-01-02</th>\n",
              "      <td>184</td>\n",
              "      <td>10.8</td>\n",
              "      <td>7.5</td>\n",
              "      <td>17.2</td>\n",
              "    </tr>\n",
              "    <tr>\n",
              "      <th>2000-01-03</th>\n",
              "      <td>184</td>\n",
              "      <td>6.6</td>\n",
              "      <td>3.6</td>\n",
              "      <td>8.9</td>\n",
              "    </tr>\n",
              "    <tr>\n",
              "      <th>2000-01-04</th>\n",
              "      <td>184</td>\n",
              "      <td>9.4</td>\n",
              "      <td>3.2</td>\n",
              "      <td>15.5</td>\n",
              "    </tr>\n",
              "    <tr>\n",
              "      <th>2000-01-05</th>\n",
              "      <td>184</td>\n",
              "      <td>14.2</td>\n",
              "      <td>8.9</td>\n",
              "      <td>17.5</td>\n",
              "    </tr>\n",
              "    <tr>\n",
              "      <th>...</th>\n",
              "      <td>...</td>\n",
              "      <td>...</td>\n",
              "      <td>...</td>\n",
              "      <td>...</td>\n",
              "    </tr>\n",
              "    <tr>\n",
              "      <th>2020-09-12</th>\n",
              "      <td>184</td>\n",
              "      <td>23.1</td>\n",
              "      <td>21.6</td>\n",
              "      <td>25.5</td>\n",
              "    </tr>\n",
              "    <tr>\n",
              "      <th>2020-09-13</th>\n",
              "      <td>184</td>\n",
              "      <td>23.0</td>\n",
              "      <td>21.7</td>\n",
              "      <td>26.1</td>\n",
              "    </tr>\n",
              "    <tr>\n",
              "      <th>2020-09-14</th>\n",
              "      <td>184</td>\n",
              "      <td>23.3</td>\n",
              "      <td>21.8</td>\n",
              "      <td>25.9</td>\n",
              "    </tr>\n",
              "    <tr>\n",
              "      <th>2020-09-15</th>\n",
              "      <td>184</td>\n",
              "      <td>23.7</td>\n",
              "      <td>21.0</td>\n",
              "      <td>25.8</td>\n",
              "    </tr>\n",
              "    <tr>\n",
              "      <th>2020-09-16</th>\n",
              "      <td>184</td>\n",
              "      <td>23.5</td>\n",
              "      <td>21.5</td>\n",
              "      <td>28.3</td>\n",
              "    </tr>\n",
              "  </tbody>\n",
              "</table>\n",
              "<p>7565 rows × 4 columns</p>\n",
              "</div>"
            ],
            "text/plain": [
              "             지점    평균    최저    최고\n",
              "날짜                               \n",
              "2000-01-01  184  12.2   8.3  16.0\n",
              "2000-01-02  184  10.8   7.5  17.2\n",
              "2000-01-03  184   6.6   3.6   8.9\n",
              "2000-01-04  184   9.4   3.2  15.5\n",
              "2000-01-05  184  14.2   8.9  17.5\n",
              "...         ...   ...   ...   ...\n",
              "2020-09-12  184  23.1  21.6  25.5\n",
              "2020-09-13  184  23.0  21.7  26.1\n",
              "2020-09-14  184  23.3  21.8  25.9\n",
              "2020-09-15  184  23.7  21.0  25.8\n",
              "2020-09-16  184  23.5  21.5  28.3\n",
              "\n",
              "[7565 rows x 4 columns]"
            ]
          },
          "metadata": {
            "tags": []
          },
          "execution_count": 48
        }
      ]
    },
    {
      "cell_type": "markdown",
      "metadata": {
        "id": "ej65okelwy2T"
      },
      "source": [
        "#◇특정 인덱스 선택하기"
      ]
    },
    {
      "cell_type": "code",
      "metadata": {
        "id": "Iiu3TvGX-yGi"
      },
      "source": [
        "# 특정 인덱스 선택하기(loc)\n",
        "#'2020-09-12' 인덱스 선택하기"
      ],
      "execution_count": null,
      "outputs": []
    },
    {
      "cell_type": "code",
      "metadata": {
        "id": "nu2zg50Ns3Vl",
        "colab": {
          "base_uri": "https://localhost:8080/",
          "height": 107
        },
        "outputId": "ea5245f3-9ff0-4be6-a306-21a633fc8d23"
      },
      "source": [
        "df.loc['2020-09-12']"
      ],
      "execution_count": null,
      "outputs": [
        {
          "output_type": "execute_result",
          "data": {
            "text/plain": [
              "지점    184.0\n",
              "평균     23.1\n",
              "최저     21.6\n",
              "최고     25.5\n",
              "Name: 2020-09-12, dtype: float64"
            ]
          },
          "metadata": {
            "tags": []
          },
          "execution_count": 51
        }
      ]
    },
    {
      "cell_type": "markdown",
      "metadata": {
        "id": "a951-7K0w8Fp"
      },
      "source": [
        "#◇특정 인덱스로 슬라이싱하기"
      ]
    },
    {
      "cell_type": "code",
      "metadata": {
        "id": "rZDD_bsw-219"
      },
      "source": [
        "# 특정 인덱스로 슬라이싱하기\n",
        "# '2020-09-12'부터 '2020-09-16'까지 인덱스 슬라이싱\n",
        "# a이상 b이하! , b도 포함 !"
      ],
      "execution_count": null,
      "outputs": []
    },
    {
      "cell_type": "code",
      "metadata": {
        "id": "goWHbmi_u3dY",
        "colab": {
          "base_uri": "https://localhost:8080/",
          "height": 235
        },
        "outputId": "6dfe9ef6-624b-4ff5-d69c-971beb5f88e4"
      },
      "source": [
        "df.loc['2020-09-12':'2020-09-16']"
      ],
      "execution_count": null,
      "outputs": [
        {
          "output_type": "execute_result",
          "data": {
            "text/html": [
              "<div>\n",
              "<style scoped>\n",
              "    .dataframe tbody tr th:only-of-type {\n",
              "        vertical-align: middle;\n",
              "    }\n",
              "\n",
              "    .dataframe tbody tr th {\n",
              "        vertical-align: top;\n",
              "    }\n",
              "\n",
              "    .dataframe thead th {\n",
              "        text-align: right;\n",
              "    }\n",
              "</style>\n",
              "<table border=\"1\" class=\"dataframe\">\n",
              "  <thead>\n",
              "    <tr style=\"text-align: right;\">\n",
              "      <th></th>\n",
              "      <th>지점</th>\n",
              "      <th>평균</th>\n",
              "      <th>최저</th>\n",
              "      <th>최고</th>\n",
              "    </tr>\n",
              "    <tr>\n",
              "      <th>날짜</th>\n",
              "      <th></th>\n",
              "      <th></th>\n",
              "      <th></th>\n",
              "      <th></th>\n",
              "    </tr>\n",
              "  </thead>\n",
              "  <tbody>\n",
              "    <tr>\n",
              "      <th>2020-09-12</th>\n",
              "      <td>184</td>\n",
              "      <td>23.1</td>\n",
              "      <td>21.6</td>\n",
              "      <td>25.5</td>\n",
              "    </tr>\n",
              "    <tr>\n",
              "      <th>2020-09-13</th>\n",
              "      <td>184</td>\n",
              "      <td>23.0</td>\n",
              "      <td>21.7</td>\n",
              "      <td>26.1</td>\n",
              "    </tr>\n",
              "    <tr>\n",
              "      <th>2020-09-14</th>\n",
              "      <td>184</td>\n",
              "      <td>23.3</td>\n",
              "      <td>21.8</td>\n",
              "      <td>25.9</td>\n",
              "    </tr>\n",
              "    <tr>\n",
              "      <th>2020-09-15</th>\n",
              "      <td>184</td>\n",
              "      <td>23.7</td>\n",
              "      <td>21.0</td>\n",
              "      <td>25.8</td>\n",
              "    </tr>\n",
              "    <tr>\n",
              "      <th>2020-09-16</th>\n",
              "      <td>184</td>\n",
              "      <td>23.5</td>\n",
              "      <td>21.5</td>\n",
              "      <td>28.3</td>\n",
              "    </tr>\n",
              "  </tbody>\n",
              "</table>\n",
              "</div>"
            ],
            "text/plain": [
              "             지점    평균    최저    최고\n",
              "날짜                               \n",
              "2020-09-12  184  23.1  21.6  25.5\n",
              "2020-09-13  184  23.0  21.7  26.1\n",
              "2020-09-14  184  23.3  21.8  25.9\n",
              "2020-09-15  184  23.7  21.0  25.8\n",
              "2020-09-16  184  23.5  21.5  28.3"
            ]
          },
          "metadata": {
            "tags": []
          },
          "execution_count": 52
        }
      ]
    },
    {
      "cell_type": "code",
      "metadata": {
        "id": "MnpkROHPKE0X"
      },
      "source": [
        "# '2020-09-12'부터 끝까지 인덱스 슬라이싱"
      ],
      "execution_count": null,
      "outputs": []
    },
    {
      "cell_type": "code",
      "metadata": {
        "id": "ydBv-Q7HtFVM",
        "colab": {
          "base_uri": "https://localhost:8080/",
          "height": 235
        },
        "outputId": "335aa65f-94fa-4ee0-e4c8-4d9143cd2774"
      },
      "source": [
        "df.loc['2020-09-12':]"
      ],
      "execution_count": null,
      "outputs": [
        {
          "output_type": "execute_result",
          "data": {
            "text/html": [
              "<div>\n",
              "<style scoped>\n",
              "    .dataframe tbody tr th:only-of-type {\n",
              "        vertical-align: middle;\n",
              "    }\n",
              "\n",
              "    .dataframe tbody tr th {\n",
              "        vertical-align: top;\n",
              "    }\n",
              "\n",
              "    .dataframe thead th {\n",
              "        text-align: right;\n",
              "    }\n",
              "</style>\n",
              "<table border=\"1\" class=\"dataframe\">\n",
              "  <thead>\n",
              "    <tr style=\"text-align: right;\">\n",
              "      <th></th>\n",
              "      <th>지점</th>\n",
              "      <th>평균</th>\n",
              "      <th>최저</th>\n",
              "      <th>최고</th>\n",
              "    </tr>\n",
              "    <tr>\n",
              "      <th>날짜</th>\n",
              "      <th></th>\n",
              "      <th></th>\n",
              "      <th></th>\n",
              "      <th></th>\n",
              "    </tr>\n",
              "  </thead>\n",
              "  <tbody>\n",
              "    <tr>\n",
              "      <th>2020-09-12</th>\n",
              "      <td>184</td>\n",
              "      <td>23.1</td>\n",
              "      <td>21.6</td>\n",
              "      <td>25.5</td>\n",
              "    </tr>\n",
              "    <tr>\n",
              "      <th>2020-09-13</th>\n",
              "      <td>184</td>\n",
              "      <td>23.0</td>\n",
              "      <td>21.7</td>\n",
              "      <td>26.1</td>\n",
              "    </tr>\n",
              "    <tr>\n",
              "      <th>2020-09-14</th>\n",
              "      <td>184</td>\n",
              "      <td>23.3</td>\n",
              "      <td>21.8</td>\n",
              "      <td>25.9</td>\n",
              "    </tr>\n",
              "    <tr>\n",
              "      <th>2020-09-15</th>\n",
              "      <td>184</td>\n",
              "      <td>23.7</td>\n",
              "      <td>21.0</td>\n",
              "      <td>25.8</td>\n",
              "    </tr>\n",
              "    <tr>\n",
              "      <th>2020-09-16</th>\n",
              "      <td>184</td>\n",
              "      <td>23.5</td>\n",
              "      <td>21.5</td>\n",
              "      <td>28.3</td>\n",
              "    </tr>\n",
              "  </tbody>\n",
              "</table>\n",
              "</div>"
            ],
            "text/plain": [
              "             지점    평균    최저    최고\n",
              "날짜                               \n",
              "2020-09-12  184  23.1  21.6  25.5\n",
              "2020-09-13  184  23.0  21.7  26.1\n",
              "2020-09-14  184  23.3  21.8  25.9\n",
              "2020-09-15  184  23.7  21.0  25.8\n",
              "2020-09-16  184  23.5  21.5  28.3"
            ]
          },
          "metadata": {
            "tags": []
          },
          "execution_count": 53
        }
      ]
    },
    {
      "cell_type": "markdown",
      "metadata": {
        "id": "3gVgRC0u1NYC"
      },
      "source": [
        "#◇특정 인덱스 추출하기"
      ]
    },
    {
      "cell_type": "code",
      "metadata": {
        "id": "dSH2ZGuWKKdV"
      },
      "source": [
        "# '2020-09-12'인덱스, '2020-09-14'인덱스 추출하기 (2개 이상 일때 리스트 사용)"
      ],
      "execution_count": null,
      "outputs": []
    },
    {
      "cell_type": "code",
      "metadata": {
        "id": "YeOj_l1h06CH",
        "colab": {
          "base_uri": "https://localhost:8080/",
          "height": 142
        },
        "outputId": "0e67a593-9ee3-4173-b6e6-9a4e4d3411ea"
      },
      "source": [
        "df.loc[['2020-09-12','2020-09-16']]"
      ],
      "execution_count": null,
      "outputs": [
        {
          "output_type": "execute_result",
          "data": {
            "text/html": [
              "<div>\n",
              "<style scoped>\n",
              "    .dataframe tbody tr th:only-of-type {\n",
              "        vertical-align: middle;\n",
              "    }\n",
              "\n",
              "    .dataframe tbody tr th {\n",
              "        vertical-align: top;\n",
              "    }\n",
              "\n",
              "    .dataframe thead th {\n",
              "        text-align: right;\n",
              "    }\n",
              "</style>\n",
              "<table border=\"1\" class=\"dataframe\">\n",
              "  <thead>\n",
              "    <tr style=\"text-align: right;\">\n",
              "      <th></th>\n",
              "      <th>지점</th>\n",
              "      <th>평균</th>\n",
              "      <th>최저</th>\n",
              "      <th>최고</th>\n",
              "    </tr>\n",
              "    <tr>\n",
              "      <th>날짜</th>\n",
              "      <th></th>\n",
              "      <th></th>\n",
              "      <th></th>\n",
              "      <th></th>\n",
              "    </tr>\n",
              "  </thead>\n",
              "  <tbody>\n",
              "    <tr>\n",
              "      <th>2020-09-12</th>\n",
              "      <td>184</td>\n",
              "      <td>23.1</td>\n",
              "      <td>21.6</td>\n",
              "      <td>25.5</td>\n",
              "    </tr>\n",
              "    <tr>\n",
              "      <th>2020-09-16</th>\n",
              "      <td>184</td>\n",
              "      <td>23.5</td>\n",
              "      <td>21.5</td>\n",
              "      <td>28.3</td>\n",
              "    </tr>\n",
              "  </tbody>\n",
              "</table>\n",
              "</div>"
            ],
            "text/plain": [
              "             지점    평균    최저    최고\n",
              "날짜                               \n",
              "2020-09-12  184  23.1  21.6  25.5\n",
              "2020-09-16  184  23.5  21.5  28.3"
            ]
          },
          "metadata": {
            "tags": []
          },
          "execution_count": 54
        }
      ]
    },
    {
      "cell_type": "markdown",
      "metadata": {
        "id": "7fChuJs8xnjY"
      },
      "source": [
        "#♥특정 데이터 추출하기"
      ]
    },
    {
      "cell_type": "code",
      "metadata": {
        "id": "XaZbac6X-6oj"
      },
      "source": [
        "# 인덱스와 컬럼을 입력하여 데이터 추출하기\n",
        "# 인덱스 : '2020-09-12', 컬럼 : '최고'"
      ],
      "execution_count": null,
      "outputs": []
    },
    {
      "cell_type": "code",
      "metadata": {
        "id": "-iguX1d8tOWV",
        "colab": {
          "base_uri": "https://localhost:8080/",
          "height": 35
        },
        "outputId": "139e15bf-a7d7-4802-ca49-feab82654af6"
      },
      "source": [
        "df.loc['2020-09-12', '최고']"
      ],
      "execution_count": null,
      "outputs": [
        {
          "output_type": "execute_result",
          "data": {
            "text/plain": [
              "25.5"
            ]
          },
          "metadata": {
            "tags": []
          },
          "execution_count": 55
        }
      ]
    },
    {
      "cell_type": "markdown",
      "metadata": {
        "id": "qAupHdx8ONFs"
      },
      "source": [
        "◇위치 기반 특정 인덱스 추출하기"
      ]
    },
    {
      "cell_type": "code",
      "metadata": {
        "id": "vMZ9owoN_AeT"
      },
      "source": [
        "# 데이터 위치에 따른 선택(iloc)-index location\n",
        "# 인덱스 -5번째 데이터 출력"
      ],
      "execution_count": null,
      "outputs": []
    },
    {
      "cell_type": "code",
      "metadata": {
        "id": "Cg7ZdU1xtIpB",
        "colab": {
          "base_uri": "https://localhost:8080/",
          "height": 107
        },
        "outputId": "c1001466-2073-4867-9a92-b5ed490cfb9f"
      },
      "source": [
        "df.iloc[-5]"
      ],
      "execution_count": null,
      "outputs": [
        {
          "output_type": "execute_result",
          "data": {
            "text/plain": [
              "지점    184.0\n",
              "평균     23.1\n",
              "최저     21.6\n",
              "최고     25.5\n",
              "Name: 2020-09-12, dtype: float64"
            ]
          },
          "metadata": {
            "tags": []
          },
          "execution_count": 61
        }
      ]
    },
    {
      "cell_type": "code",
      "metadata": {
        "id": "BfoyXjnlLXTj"
      },
      "source": [
        "# 인덱스 -5번째부터 끝까지 데이터 슬라이싱"
      ],
      "execution_count": null,
      "outputs": []
    },
    {
      "cell_type": "code",
      "metadata": {
        "id": "XJNoSFVYvEub",
        "colab": {
          "base_uri": "https://localhost:8080/",
          "height": 235
        },
        "outputId": "9c59e61e-929e-4355-b48f-57d01d08d735"
      },
      "source": [
        "df.iloc[-5:]"
      ],
      "execution_count": null,
      "outputs": [
        {
          "output_type": "execute_result",
          "data": {
            "text/html": [
              "<div>\n",
              "<style scoped>\n",
              "    .dataframe tbody tr th:only-of-type {\n",
              "        vertical-align: middle;\n",
              "    }\n",
              "\n",
              "    .dataframe tbody tr th {\n",
              "        vertical-align: top;\n",
              "    }\n",
              "\n",
              "    .dataframe thead th {\n",
              "        text-align: right;\n",
              "    }\n",
              "</style>\n",
              "<table border=\"1\" class=\"dataframe\">\n",
              "  <thead>\n",
              "    <tr style=\"text-align: right;\">\n",
              "      <th></th>\n",
              "      <th>지점</th>\n",
              "      <th>평균</th>\n",
              "      <th>최저</th>\n",
              "      <th>최고</th>\n",
              "    </tr>\n",
              "    <tr>\n",
              "      <th>날짜</th>\n",
              "      <th></th>\n",
              "      <th></th>\n",
              "      <th></th>\n",
              "      <th></th>\n",
              "    </tr>\n",
              "  </thead>\n",
              "  <tbody>\n",
              "    <tr>\n",
              "      <th>2020-09-12</th>\n",
              "      <td>184</td>\n",
              "      <td>23.1</td>\n",
              "      <td>21.6</td>\n",
              "      <td>25.5</td>\n",
              "    </tr>\n",
              "    <tr>\n",
              "      <th>2020-09-13</th>\n",
              "      <td>184</td>\n",
              "      <td>23.0</td>\n",
              "      <td>21.7</td>\n",
              "      <td>26.1</td>\n",
              "    </tr>\n",
              "    <tr>\n",
              "      <th>2020-09-14</th>\n",
              "      <td>184</td>\n",
              "      <td>23.3</td>\n",
              "      <td>21.8</td>\n",
              "      <td>25.9</td>\n",
              "    </tr>\n",
              "    <tr>\n",
              "      <th>2020-09-15</th>\n",
              "      <td>184</td>\n",
              "      <td>23.7</td>\n",
              "      <td>21.0</td>\n",
              "      <td>25.8</td>\n",
              "    </tr>\n",
              "    <tr>\n",
              "      <th>2020-09-16</th>\n",
              "      <td>184</td>\n",
              "      <td>23.5</td>\n",
              "      <td>21.5</td>\n",
              "      <td>28.3</td>\n",
              "    </tr>\n",
              "  </tbody>\n",
              "</table>\n",
              "</div>"
            ],
            "text/plain": [
              "             지점    평균    최저    최고\n",
              "날짜                               \n",
              "2020-09-12  184  23.1  21.6  25.5\n",
              "2020-09-13  184  23.0  21.7  26.1\n",
              "2020-09-14  184  23.3  21.8  25.9\n",
              "2020-09-15  184  23.7  21.0  25.8\n",
              "2020-09-16  184  23.5  21.5  28.3"
            ]
          },
          "metadata": {
            "tags": []
          },
          "execution_count": 57
        }
      ]
    },
    {
      "cell_type": "code",
      "metadata": {
        "id": "ZEVhn_55zzKU"
      },
      "source": [
        "#인덱스 -5번째부터 끝까지, 컬럼 -1번째 데이터 출력"
      ],
      "execution_count": null,
      "outputs": []
    },
    {
      "cell_type": "code",
      "metadata": {
        "id": "Wa_rHaNNLpqY",
        "colab": {
          "base_uri": "https://localhost:8080/",
          "height": 143
        },
        "outputId": "53a8db8f-d470-4417-c686-c571b0cd7dd4"
      },
      "source": [
        "df.iloc[-5:,-1]"
      ],
      "execution_count": null,
      "outputs": [
        {
          "output_type": "execute_result",
          "data": {
            "text/plain": [
              "날짜\n",
              "2020-09-12    25.5\n",
              "2020-09-13    26.1\n",
              "2020-09-14    25.9\n",
              "2020-09-15    25.8\n",
              "2020-09-16    28.3\n",
              "Name: 최고, dtype: float64"
            ]
          },
          "metadata": {
            "tags": []
          },
          "execution_count": 63
        }
      ]
    },
    {
      "cell_type": "markdown",
      "metadata": {
        "id": "zCIRteuj4c99"
      },
      "source": [
        "#데이터 정보 확인하기"
      ]
    },
    {
      "cell_type": "code",
      "metadata": {
        "id": "NNmOPT-Q_HYQ"
      },
      "source": [
        "# 데이터 정보 확인하기"
      ],
      "execution_count": null,
      "outputs": []
    },
    {
      "cell_type": "code",
      "metadata": {
        "id": "0hLRzlt0tNPR",
        "colab": {
          "base_uri": "https://localhost:8080/",
          "height": 215
        },
        "outputId": "f042c374-6494-451a-83a1-ff114123fb41"
      },
      "source": [
        "df.info()"
      ],
      "execution_count": null,
      "outputs": [
        {
          "output_type": "stream",
          "text": [
            "<class 'pandas.core.frame.DataFrame'>\n",
            "Index: 7565 entries, 2000-01-01 to 2020-09-16\n",
            "Data columns (total 4 columns):\n",
            " #   Column  Non-Null Count  Dtype  \n",
            "---  ------  --------------  -----  \n",
            " 0   지점      7565 non-null   int64  \n",
            " 1   평균      7565 non-null   float64\n",
            " 2   최저      7564 non-null   float64\n",
            " 3   최고      7564 non-null   float64\n",
            "dtypes: float64(3), int64(1)\n",
            "memory usage: 615.5+ KB\n"
          ],
          "name": "stdout"
        }
      ]
    },
    {
      "cell_type": "markdown",
      "metadata": {
        "id": "3U7kv4684fEA"
      },
      "source": [
        "#데이터 통계적 특성 확인하기"
      ]
    },
    {
      "cell_type": "code",
      "metadata": {
        "id": "HkfTbaJl_Jno"
      },
      "source": [
        "# 통계적 특성 확인하기"
      ],
      "execution_count": null,
      "outputs": []
    },
    {
      "cell_type": "code",
      "metadata": {
        "id": "47WyKwWcYr8V",
        "colab": {
          "base_uri": "https://localhost:8080/",
          "height": 297
        },
        "outputId": "51790d2c-dd7f-4b7a-c5f2-506518ee9b46"
      },
      "source": [
        "df.describe()"
      ],
      "execution_count": null,
      "outputs": [
        {
          "output_type": "execute_result",
          "data": {
            "text/html": [
              "<div>\n",
              "<style scoped>\n",
              "    .dataframe tbody tr th:only-of-type {\n",
              "        vertical-align: middle;\n",
              "    }\n",
              "\n",
              "    .dataframe tbody tr th {\n",
              "        vertical-align: top;\n",
              "    }\n",
              "\n",
              "    .dataframe thead th {\n",
              "        text-align: right;\n",
              "    }\n",
              "</style>\n",
              "<table border=\"1\" class=\"dataframe\">\n",
              "  <thead>\n",
              "    <tr style=\"text-align: right;\">\n",
              "      <th></th>\n",
              "      <th>지점</th>\n",
              "      <th>평균</th>\n",
              "      <th>최저</th>\n",
              "      <th>최고</th>\n",
              "    </tr>\n",
              "  </thead>\n",
              "  <tbody>\n",
              "    <tr>\n",
              "      <th>count</th>\n",
              "      <td>7565.0</td>\n",
              "      <td>7565.000000</td>\n",
              "      <td>7564.000000</td>\n",
              "      <td>7564.000000</td>\n",
              "    </tr>\n",
              "    <tr>\n",
              "      <th>mean</th>\n",
              "      <td>184.0</td>\n",
              "      <td>16.302379</td>\n",
              "      <td>13.553054</td>\n",
              "      <td>19.443046</td>\n",
              "    </tr>\n",
              "    <tr>\n",
              "      <th>std</th>\n",
              "      <td>0.0</td>\n",
              "      <td>7.737548</td>\n",
              "      <td>7.827023</td>\n",
              "      <td>8.020899</td>\n",
              "    </tr>\n",
              "    <tr>\n",
              "      <th>min</th>\n",
              "      <td>184.0</td>\n",
              "      <td>-3.000000</td>\n",
              "      <td>-5.800000</td>\n",
              "      <td>-1.200000</td>\n",
              "    </tr>\n",
              "    <tr>\n",
              "      <th>25%</th>\n",
              "      <td>184.0</td>\n",
              "      <td>9.600000</td>\n",
              "      <td>6.700000</td>\n",
              "      <td>12.800000</td>\n",
              "    </tr>\n",
              "    <tr>\n",
              "      <th>50%</th>\n",
              "      <td>184.0</td>\n",
              "      <td>16.800000</td>\n",
              "      <td>13.600000</td>\n",
              "      <td>20.400000</td>\n",
              "    </tr>\n",
              "    <tr>\n",
              "      <th>75%</th>\n",
              "      <td>184.0</td>\n",
              "      <td>22.600000</td>\n",
              "      <td>20.300000</td>\n",
              "      <td>25.700000</td>\n",
              "    </tr>\n",
              "    <tr>\n",
              "      <th>max</th>\n",
              "      <td>184.0</td>\n",
              "      <td>32.200000</td>\n",
              "      <td>29.700000</td>\n",
              "      <td>37.000000</td>\n",
              "    </tr>\n",
              "  </tbody>\n",
              "</table>\n",
              "</div>"
            ],
            "text/plain": [
              "           지점           평균           최저           최고\n",
              "count  7565.0  7565.000000  7564.000000  7564.000000\n",
              "mean    184.0    16.302379    13.553054    19.443046\n",
              "std       0.0     7.737548     7.827023     8.020899\n",
              "min     184.0    -3.000000    -5.800000    -1.200000\n",
              "25%     184.0     9.600000     6.700000    12.800000\n",
              "50%     184.0    16.800000    13.600000    20.400000\n",
              "75%     184.0    22.600000    20.300000    25.700000\n",
              "max     184.0    32.200000    29.700000    37.000000"
            ]
          },
          "metadata": {
            "tags": []
          },
          "execution_count": 67
        }
      ]
    },
    {
      "cell_type": "code",
      "metadata": {
        "id": "Pe2B75LsL6K8"
      },
      "source": [
        "#['최고']컬럼 최소값 구하기"
      ],
      "execution_count": null,
      "outputs": []
    },
    {
      "cell_type": "code",
      "metadata": {
        "id": "fK7BEoYHvd1j",
        "colab": {
          "base_uri": "https://localhost:8080/",
          "height": 35
        },
        "outputId": "bcce7e55-adcc-4b3d-8211-c0dea9feaf38"
      },
      "source": [
        "df['최고'].min()"
      ],
      "execution_count": null,
      "outputs": [
        {
          "output_type": "execute_result",
          "data": {
            "text/plain": [
              "-1.2"
            ]
          },
          "metadata": {
            "tags": []
          },
          "execution_count": 68
        }
      ]
    },
    {
      "cell_type": "code",
      "metadata": {
        "id": "vXFdp8CBL6nu"
      },
      "source": [
        "# ['최고']컬럼 최대값 구하기"
      ],
      "execution_count": null,
      "outputs": []
    },
    {
      "cell_type": "code",
      "metadata": {
        "id": "OzHvOvaFv5i0",
        "colab": {
          "base_uri": "https://localhost:8080/",
          "height": 35
        },
        "outputId": "da60807f-1cf0-4782-9509-ab347d4e780b"
      },
      "source": [
        "max_temp = df['최고'].max()\n",
        "print(max_temp)"
      ],
      "execution_count": null,
      "outputs": [
        {
          "output_type": "stream",
          "text": [
            "37.0\n"
          ],
          "name": "stdout"
        }
      ]
    },
    {
      "cell_type": "markdown",
      "metadata": {
        "id": "O9Dbih4v27KE"
      },
      "source": [
        "#제주 기온 데이터 실습"
      ]
    },
    {
      "cell_type": "markdown",
      "metadata": {
        "id": "Xe3NC4moshuD"
      },
      "source": [
        "**제주 기온 데이터에서 2000-01-01부터 가장 최고기온이 높은 온도와 날짜를 구하세요.**\n",
        "\n",
        " - pandas를 사용해서. "
      ]
    },
    {
      "cell_type": "code",
      "metadata": {
        "id": "GKxhMt28sxbR"
      },
      "source": [
        "#jeju_temp.csv파일을 코랩에 불러오기"
      ],
      "execution_count": null,
      "outputs": []
    },
    {
      "cell_type": "code",
      "metadata": {
        "id": "V463eXKLtAy4",
        "colab": {
          "base_uri": "https://localhost:8080/",
          "height": 340
        },
        "outputId": "7a04e3eb-2f2d-480e-e4c5-181fb3b2c040"
      },
      "source": [
        "import pandas\n",
        "df = pandas.read_csv('jeju_temp.csv', encoding = 'cp949')"
      ],
      "execution_count": null,
      "outputs": [
        {
          "output_type": "error",
          "ename": "FileNotFoundError",
          "evalue": "ignored",
          "traceback": [
            "\u001b[0;31m---------------------------------------------------------------------------\u001b[0m",
            "\u001b[0;31mFileNotFoundError\u001b[0m                         Traceback (most recent call last)",
            "\u001b[0;32m<ipython-input-2-3334c2fac508>\u001b[0m in \u001b[0;36m<module>\u001b[0;34m()\u001b[0m\n\u001b[1;32m      1\u001b[0m \u001b[0;32mimport\u001b[0m \u001b[0mpandas\u001b[0m\u001b[0;34m\u001b[0m\u001b[0;34m\u001b[0m\u001b[0m\n\u001b[0;32m----> 2\u001b[0;31m \u001b[0mdf\u001b[0m \u001b[0;34m=\u001b[0m \u001b[0mpandas\u001b[0m\u001b[0;34m.\u001b[0m\u001b[0mread_csv\u001b[0m\u001b[0;34m(\u001b[0m\u001b[0;34m'jeju_temp.csv'\u001b[0m\u001b[0;34m,\u001b[0m \u001b[0mencoding\u001b[0m \u001b[0;34m=\u001b[0m \u001b[0;34m'cp949'\u001b[0m\u001b[0;34m)\u001b[0m\u001b[0;34m\u001b[0m\u001b[0;34m\u001b[0m\u001b[0m\n\u001b[0m",
            "\u001b[0;32m/usr/local/lib/python3.6/dist-packages/pandas/io/parsers.py\u001b[0m in \u001b[0;36mparser_f\u001b[0;34m(filepath_or_buffer, sep, delimiter, header, names, index_col, usecols, squeeze, prefix, mangle_dupe_cols, dtype, engine, converters, true_values, false_values, skipinitialspace, skiprows, skipfooter, nrows, na_values, keep_default_na, na_filter, verbose, skip_blank_lines, parse_dates, infer_datetime_format, keep_date_col, date_parser, dayfirst, cache_dates, iterator, chunksize, compression, thousands, decimal, lineterminator, quotechar, quoting, doublequote, escapechar, comment, encoding, dialect, error_bad_lines, warn_bad_lines, delim_whitespace, low_memory, memory_map, float_precision)\u001b[0m\n\u001b[1;32m    674\u001b[0m         )\n\u001b[1;32m    675\u001b[0m \u001b[0;34m\u001b[0m\u001b[0m\n\u001b[0;32m--> 676\u001b[0;31m         \u001b[0;32mreturn\u001b[0m \u001b[0m_read\u001b[0m\u001b[0;34m(\u001b[0m\u001b[0mfilepath_or_buffer\u001b[0m\u001b[0;34m,\u001b[0m \u001b[0mkwds\u001b[0m\u001b[0;34m)\u001b[0m\u001b[0;34m\u001b[0m\u001b[0;34m\u001b[0m\u001b[0m\n\u001b[0m\u001b[1;32m    677\u001b[0m \u001b[0;34m\u001b[0m\u001b[0m\n\u001b[1;32m    678\u001b[0m     \u001b[0mparser_f\u001b[0m\u001b[0;34m.\u001b[0m\u001b[0m__name__\u001b[0m \u001b[0;34m=\u001b[0m \u001b[0mname\u001b[0m\u001b[0;34m\u001b[0m\u001b[0;34m\u001b[0m\u001b[0m\n",
            "\u001b[0;32m/usr/local/lib/python3.6/dist-packages/pandas/io/parsers.py\u001b[0m in \u001b[0;36m_read\u001b[0;34m(filepath_or_buffer, kwds)\u001b[0m\n\u001b[1;32m    446\u001b[0m \u001b[0;34m\u001b[0m\u001b[0m\n\u001b[1;32m    447\u001b[0m     \u001b[0;31m# Create the parser.\u001b[0m\u001b[0;34m\u001b[0m\u001b[0;34m\u001b[0m\u001b[0;34m\u001b[0m\u001b[0m\n\u001b[0;32m--> 448\u001b[0;31m     \u001b[0mparser\u001b[0m \u001b[0;34m=\u001b[0m \u001b[0mTextFileReader\u001b[0m\u001b[0;34m(\u001b[0m\u001b[0mfp_or_buf\u001b[0m\u001b[0;34m,\u001b[0m \u001b[0;34m**\u001b[0m\u001b[0mkwds\u001b[0m\u001b[0;34m)\u001b[0m\u001b[0;34m\u001b[0m\u001b[0;34m\u001b[0m\u001b[0m\n\u001b[0m\u001b[1;32m    449\u001b[0m \u001b[0;34m\u001b[0m\u001b[0m\n\u001b[1;32m    450\u001b[0m     \u001b[0;32mif\u001b[0m \u001b[0mchunksize\u001b[0m \u001b[0;32mor\u001b[0m \u001b[0miterator\u001b[0m\u001b[0;34m:\u001b[0m\u001b[0;34m\u001b[0m\u001b[0;34m\u001b[0m\u001b[0m\n",
            "\u001b[0;32m/usr/local/lib/python3.6/dist-packages/pandas/io/parsers.py\u001b[0m in \u001b[0;36m__init__\u001b[0;34m(self, f, engine, **kwds)\u001b[0m\n\u001b[1;32m    878\u001b[0m             \u001b[0mself\u001b[0m\u001b[0;34m.\u001b[0m\u001b[0moptions\u001b[0m\u001b[0;34m[\u001b[0m\u001b[0;34m\"has_index_names\"\u001b[0m\u001b[0;34m]\u001b[0m \u001b[0;34m=\u001b[0m \u001b[0mkwds\u001b[0m\u001b[0;34m[\u001b[0m\u001b[0;34m\"has_index_names\"\u001b[0m\u001b[0;34m]\u001b[0m\u001b[0;34m\u001b[0m\u001b[0;34m\u001b[0m\u001b[0m\n\u001b[1;32m    879\u001b[0m \u001b[0;34m\u001b[0m\u001b[0m\n\u001b[0;32m--> 880\u001b[0;31m         \u001b[0mself\u001b[0m\u001b[0;34m.\u001b[0m\u001b[0m_make_engine\u001b[0m\u001b[0;34m(\u001b[0m\u001b[0mself\u001b[0m\u001b[0;34m.\u001b[0m\u001b[0mengine\u001b[0m\u001b[0;34m)\u001b[0m\u001b[0;34m\u001b[0m\u001b[0;34m\u001b[0m\u001b[0m\n\u001b[0m\u001b[1;32m    881\u001b[0m \u001b[0;34m\u001b[0m\u001b[0m\n\u001b[1;32m    882\u001b[0m     \u001b[0;32mdef\u001b[0m \u001b[0mclose\u001b[0m\u001b[0;34m(\u001b[0m\u001b[0mself\u001b[0m\u001b[0;34m)\u001b[0m\u001b[0;34m:\u001b[0m\u001b[0;34m\u001b[0m\u001b[0;34m\u001b[0m\u001b[0m\n",
            "\u001b[0;32m/usr/local/lib/python3.6/dist-packages/pandas/io/parsers.py\u001b[0m in \u001b[0;36m_make_engine\u001b[0;34m(self, engine)\u001b[0m\n\u001b[1;32m   1112\u001b[0m     \u001b[0;32mdef\u001b[0m \u001b[0m_make_engine\u001b[0m\u001b[0;34m(\u001b[0m\u001b[0mself\u001b[0m\u001b[0;34m,\u001b[0m \u001b[0mengine\u001b[0m\u001b[0;34m=\u001b[0m\u001b[0;34m\"c\"\u001b[0m\u001b[0;34m)\u001b[0m\u001b[0;34m:\u001b[0m\u001b[0;34m\u001b[0m\u001b[0;34m\u001b[0m\u001b[0m\n\u001b[1;32m   1113\u001b[0m         \u001b[0;32mif\u001b[0m \u001b[0mengine\u001b[0m \u001b[0;34m==\u001b[0m \u001b[0;34m\"c\"\u001b[0m\u001b[0;34m:\u001b[0m\u001b[0;34m\u001b[0m\u001b[0;34m\u001b[0m\u001b[0m\n\u001b[0;32m-> 1114\u001b[0;31m             \u001b[0mself\u001b[0m\u001b[0;34m.\u001b[0m\u001b[0m_engine\u001b[0m \u001b[0;34m=\u001b[0m \u001b[0mCParserWrapper\u001b[0m\u001b[0;34m(\u001b[0m\u001b[0mself\u001b[0m\u001b[0;34m.\u001b[0m\u001b[0mf\u001b[0m\u001b[0;34m,\u001b[0m \u001b[0;34m**\u001b[0m\u001b[0mself\u001b[0m\u001b[0;34m.\u001b[0m\u001b[0moptions\u001b[0m\u001b[0;34m)\u001b[0m\u001b[0;34m\u001b[0m\u001b[0;34m\u001b[0m\u001b[0m\n\u001b[0m\u001b[1;32m   1115\u001b[0m         \u001b[0;32melse\u001b[0m\u001b[0;34m:\u001b[0m\u001b[0;34m\u001b[0m\u001b[0;34m\u001b[0m\u001b[0m\n\u001b[1;32m   1116\u001b[0m             \u001b[0;32mif\u001b[0m \u001b[0mengine\u001b[0m \u001b[0;34m==\u001b[0m \u001b[0;34m\"python\"\u001b[0m\u001b[0;34m:\u001b[0m\u001b[0;34m\u001b[0m\u001b[0;34m\u001b[0m\u001b[0m\n",
            "\u001b[0;32m/usr/local/lib/python3.6/dist-packages/pandas/io/parsers.py\u001b[0m in \u001b[0;36m__init__\u001b[0;34m(self, src, **kwds)\u001b[0m\n\u001b[1;32m   1872\u001b[0m         \u001b[0;32mif\u001b[0m \u001b[0mkwds\u001b[0m\u001b[0;34m.\u001b[0m\u001b[0mget\u001b[0m\u001b[0;34m(\u001b[0m\u001b[0;34m\"compression\"\u001b[0m\u001b[0;34m)\u001b[0m \u001b[0;32mis\u001b[0m \u001b[0;32mNone\u001b[0m \u001b[0;32mand\u001b[0m \u001b[0mencoding\u001b[0m\u001b[0;34m:\u001b[0m\u001b[0;34m\u001b[0m\u001b[0;34m\u001b[0m\u001b[0m\n\u001b[1;32m   1873\u001b[0m             \u001b[0;32mif\u001b[0m \u001b[0misinstance\u001b[0m\u001b[0;34m(\u001b[0m\u001b[0msrc\u001b[0m\u001b[0;34m,\u001b[0m \u001b[0mstr\u001b[0m\u001b[0;34m)\u001b[0m\u001b[0;34m:\u001b[0m\u001b[0;34m\u001b[0m\u001b[0;34m\u001b[0m\u001b[0m\n\u001b[0;32m-> 1874\u001b[0;31m                 \u001b[0msrc\u001b[0m \u001b[0;34m=\u001b[0m \u001b[0mopen\u001b[0m\u001b[0;34m(\u001b[0m\u001b[0msrc\u001b[0m\u001b[0;34m,\u001b[0m \u001b[0;34m\"rb\"\u001b[0m\u001b[0;34m)\u001b[0m\u001b[0;34m\u001b[0m\u001b[0;34m\u001b[0m\u001b[0m\n\u001b[0m\u001b[1;32m   1875\u001b[0m                 \u001b[0mself\u001b[0m\u001b[0;34m.\u001b[0m\u001b[0mhandles\u001b[0m\u001b[0;34m.\u001b[0m\u001b[0mappend\u001b[0m\u001b[0;34m(\u001b[0m\u001b[0msrc\u001b[0m\u001b[0;34m)\u001b[0m\u001b[0;34m\u001b[0m\u001b[0;34m\u001b[0m\u001b[0m\n\u001b[1;32m   1876\u001b[0m \u001b[0;34m\u001b[0m\u001b[0m\n",
            "\u001b[0;31mFileNotFoundError\u001b[0m: [Errno 2] No such file or directory: 'jeju_temp.csv'"
          ]
        }
      ]
    },
    {
      "cell_type": "code",
      "metadata": {
        "id": "j3ab2K3NtAig"
      },
      "source": [
        "# 판다스에서 csv 데이터 읽어오기 (판다스 별명은 pd)"
      ],
      "execution_count": null,
      "outputs": []
    },
    {
      "cell_type": "code",
      "metadata": {
        "id": "BA27JQvZtL7g"
      },
      "source": [
        "import pandas as pd\n",
        "df = pd.read_csv('jeju_temp.csv', encoding = 'cp949') "
      ],
      "execution_count": null,
      "outputs": []
    },
    {
      "cell_type": "code",
      "metadata": {
        "id": "Uv-iuGnetKiJ"
      },
      "source": [
        "# 데이터 모양 살펴보기"
      ],
      "execution_count": null,
      "outputs": []
    },
    {
      "cell_type": "code",
      "metadata": {
        "id": "lEhdM3S3tS9I",
        "colab": {
          "base_uri": "https://localhost:8080/",
          "height": 35
        },
        "outputId": "c408b974-5331-41e0-bca5-07640d065fa6"
      },
      "source": [
        "df.shape"
      ],
      "execution_count": null,
      "outputs": [
        {
          "output_type": "execute_result",
          "data": {
            "text/plain": [
              "(7565, 5)"
            ]
          },
          "metadata": {
            "tags": []
          },
          "execution_count": 79
        }
      ]
    },
    {
      "cell_type": "code",
      "metadata": {
        "id": "KtiTuSl_tTTw"
      },
      "source": [
        "#데이터 살펴보기-head"
      ],
      "execution_count": null,
      "outputs": []
    },
    {
      "cell_type": "code",
      "metadata": {
        "id": "t7eRk_WWtXWh",
        "colab": {
          "base_uri": "https://localhost:8080/",
          "height": 172
        },
        "outputId": "3c097266-63d7-4ddc-b2ec-c50915c02072"
      },
      "source": [
        "df.head()"
      ],
      "execution_count": null,
      "outputs": [
        {
          "output_type": "error",
          "ename": "NameError",
          "evalue": "ignored",
          "traceback": [
            "\u001b[0;31m---------------------------------------------------------------------------\u001b[0m",
            "\u001b[0;31mNameError\u001b[0m                                 Traceback (most recent call last)",
            "\u001b[0;32m<ipython-input-1-c42a15b2c7cf>\u001b[0m in \u001b[0;36m<module>\u001b[0;34m()\u001b[0m\n\u001b[0;32m----> 1\u001b[0;31m \u001b[0mdf\u001b[0m\u001b[0;34m.\u001b[0m\u001b[0mhead\u001b[0m\u001b[0;34m(\u001b[0m\u001b[0;34m)\u001b[0m\u001b[0;34m\u001b[0m\u001b[0;34m\u001b[0m\u001b[0m\n\u001b[0m",
            "\u001b[0;31mNameError\u001b[0m: name 'df' is not defined"
          ]
        }
      ]
    },
    {
      "cell_type": "code",
      "metadata": {
        "id": "dtqhlU1NtY35"
      },
      "source": [
        "# 데이터 프레임 컬럼 이름 바꾸기 ['날짜','지점', '평균', '최저', '최고']"
      ],
      "execution_count": null,
      "outputs": []
    },
    {
      "cell_type": "code",
      "metadata": {
        "id": "Gd6z4RFXtruu"
      },
      "source": [
        ""
      ],
      "execution_count": null,
      "outputs": []
    },
    {
      "cell_type": "code",
      "metadata": {
        "id": "7RUhAJ0htrdG"
      },
      "source": [
        "# ['최고'] 컬럼만 선택하기"
      ],
      "execution_count": null,
      "outputs": []
    },
    {
      "cell_type": "code",
      "metadata": {
        "id": "JHIVrMeQuGc8"
      },
      "source": [
        ""
      ],
      "execution_count": null,
      "outputs": []
    },
    {
      "cell_type": "code",
      "metadata": {
        "id": "MOOD1KjLuG_Z"
      },
      "source": [
        "#['최고'] 컬럼 중 최고값 찾아 max_temp에 저장하기"
      ],
      "execution_count": null,
      "outputs": []
    },
    {
      "cell_type": "code",
      "metadata": {
        "id": "R_gyBHsYuQF3"
      },
      "source": [
        ""
      ],
      "execution_count": null,
      "outputs": []
    },
    {
      "cell_type": "code",
      "metadata": {
        "id": "rrVjit7HuQVx"
      },
      "source": [
        "# ['최고'] 컬럼에서 max_temp와 같은 조건의 데이터만 추출하여 df1에 저장하기"
      ],
      "execution_count": null,
      "outputs": []
    },
    {
      "cell_type": "code",
      "metadata": {
        "id": "gXpZFhHsujF9"
      },
      "source": [
        ""
      ],
      "execution_count": null,
      "outputs": []
    },
    {
      "cell_type": "code",
      "metadata": {
        "id": "l-oDEQWraSh_"
      },
      "source": [
        "df1"
      ],
      "execution_count": null,
      "outputs": []
    },
    {
      "cell_type": "code",
      "metadata": {
        "id": "rBbsNSRJujre"
      },
      "source": [
        "# df1의 인덱스를 ('최고')로 변경하고 df2에 저장하기"
      ],
      "execution_count": null,
      "outputs": []
    },
    {
      "cell_type": "code",
      "metadata": {
        "id": "svOzubGWcjM8"
      },
      "source": [
        ""
      ],
      "execution_count": null,
      "outputs": []
    },
    {
      "cell_type": "code",
      "metadata": {
        "id": "3WIhn1OlurHL"
      },
      "source": [
        "df2"
      ],
      "execution_count": null,
      "outputs": []
    },
    {
      "cell_type": "code",
      "metadata": {
        "id": "Dwiyby_SurZ6"
      },
      "source": [
        "# df2의 최고기온의 날짜를 max_date에 저장하기"
      ],
      "execution_count": null,
      "outputs": []
    },
    {
      "cell_type": "code",
      "metadata": {
        "id": "29mLfrPiuw2i"
      },
      "source": [
        ""
      ],
      "execution_count": null,
      "outputs": []
    },
    {
      "cell_type": "code",
      "metadata": {
        "id": "P1enZ3y-uxMM"
      },
      "source": [
        "#최종 데이터 출력하기"
      ],
      "execution_count": null,
      "outputs": []
    },
    {
      "cell_type": "code",
      "metadata": {
        "id": "tRibdTGRuzSB"
      },
      "source": [
        "print('제주의 최고 기온이 가장 높은 온도는', max_temp,'이고, 날짜는', max_date,'이다')"
      ],
      "execution_count": null,
      "outputs": []
    }
  ]
}