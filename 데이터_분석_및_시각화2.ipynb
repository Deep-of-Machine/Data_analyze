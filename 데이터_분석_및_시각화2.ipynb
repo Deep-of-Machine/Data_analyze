{
  "nbformat": 4,
  "nbformat_minor": 0,
  "metadata": {
    "colab": {
      "name": "데이터 분석 및 시각화2.ipynb",
      "provenance": [],
      "include_colab_link": true
    },
    "kernelspec": {
      "name": "python3",
      "display_name": "Python 3"
    }
  },
  "cells": [
    {
      "cell_type": "markdown",
      "metadata": {
        "id": "view-in-github",
        "colab_type": "text"
      },
      "source": [
        "<a href=\"https://colab.research.google.com/github/Deep-of-Machine/Data_analyze/blob/main/%EB%8D%B0%EC%9D%B4%ED%84%B0_%EB%B6%84%EC%84%9D_%EB%B0%8F_%EC%8B%9C%EA%B0%81%ED%99%942.ipynb\" target=\"_parent\"><img src=\"https://colab.research.google.com/assets/colab-badge.svg\" alt=\"Open In Colab\"/></a>"
      ]
    },
    {
      "cell_type": "code",
      "metadata": {
        "id": "sbexQC4M1P5v",
        "outputId": "bb542793-9003-40ab-ccce-712f3af2d174",
        "colab": {
          "base_uri": "https://localhost:8080/",
          "height": 580
        }
      },
      "source": [
        "import math\n",
        "\n",
        "while True:\n",
        "    print('넓이를 구하고 싶은 도형이 3개 중 무엇입니까?\\n\\t(정삼각형, 원, 사각형)')\n",
        "    sub = input('도형: ')\n",
        "    if (sub == '정삼각형'):\n",
        "        print(\"정삼각형의 한 변의 길이를 입력하세요\")\n",
        "        lengthTri = int(input('길이: '))\n",
        "        S1 = (math.sqrt(3)/4)*(lengthTri**2)\n",
        "        print('넓이: ',S1)\n",
        "    elif (sub == '원'):\n",
        "        print(\"원의 반지름의 길이를 입력하세요\")\n",
        "        lengthCir = int(input('길이:'))\n",
        "        S2 = (lengthCir**2)*3.14\n",
        "        print('넓이: ',S2)\n",
        "    else:\n",
        "        print(\"사각형의 변의 길이를 공백을 두고 입력하세요\\n길이:\")\n",
        "        length1, length2 = map(int,input().split())\n",
        "        S3 = length1 * length2\n",
        "        print('넓이: ',S3)\n",
        "    \n",
        "    \n",
        "    \n",
        "    \n"
      ],
      "execution_count": null,
      "outputs": [
        {
          "output_type": "stream",
          "text": [
            "넓이를 구하고 싶은 도형이 3개 중 무엇입니까?\n",
            "\t(정삼각형, 원, 사각형)\n"
          ],
          "name": "stdout"
        },
        {
          "output_type": "error",
          "ename": "KeyboardInterrupt",
          "evalue": "ignored",
          "traceback": [
            "\u001b[0;31m---------------------------------------------------------------------------\u001b[0m",
            "\u001b[0;31mKeyboardInterrupt\u001b[0m                         Traceback (most recent call last)",
            "\u001b[0;32m/usr/local/lib/python3.6/dist-packages/ipykernel/kernelbase.py\u001b[0m in \u001b[0;36m_input_request\u001b[0;34m(self, prompt, ident, parent, password)\u001b[0m\n\u001b[1;32m    729\u001b[0m             \u001b[0;32mtry\u001b[0m\u001b[0;34m:\u001b[0m\u001b[0;34m\u001b[0m\u001b[0;34m\u001b[0m\u001b[0m\n\u001b[0;32m--> 730\u001b[0;31m                 \u001b[0mident\u001b[0m\u001b[0;34m,\u001b[0m \u001b[0mreply\u001b[0m \u001b[0;34m=\u001b[0m \u001b[0mself\u001b[0m\u001b[0;34m.\u001b[0m\u001b[0msession\u001b[0m\u001b[0;34m.\u001b[0m\u001b[0mrecv\u001b[0m\u001b[0;34m(\u001b[0m\u001b[0mself\u001b[0m\u001b[0;34m.\u001b[0m\u001b[0mstdin_socket\u001b[0m\u001b[0;34m,\u001b[0m \u001b[0;36m0\u001b[0m\u001b[0;34m)\u001b[0m\u001b[0;34m\u001b[0m\u001b[0;34m\u001b[0m\u001b[0m\n\u001b[0m\u001b[1;32m    731\u001b[0m             \u001b[0;32mexcept\u001b[0m \u001b[0mException\u001b[0m\u001b[0;34m:\u001b[0m\u001b[0;34m\u001b[0m\u001b[0;34m\u001b[0m\u001b[0m\n",
            "\u001b[0;32m/usr/local/lib/python3.6/dist-packages/jupyter_client/session.py\u001b[0m in \u001b[0;36mrecv\u001b[0;34m(self, socket, mode, content, copy)\u001b[0m\n\u001b[1;32m    802\u001b[0m         \u001b[0;32mtry\u001b[0m\u001b[0;34m:\u001b[0m\u001b[0;34m\u001b[0m\u001b[0;34m\u001b[0m\u001b[0m\n\u001b[0;32m--> 803\u001b[0;31m             \u001b[0mmsg_list\u001b[0m \u001b[0;34m=\u001b[0m \u001b[0msocket\u001b[0m\u001b[0;34m.\u001b[0m\u001b[0mrecv_multipart\u001b[0m\u001b[0;34m(\u001b[0m\u001b[0mmode\u001b[0m\u001b[0;34m,\u001b[0m \u001b[0mcopy\u001b[0m\u001b[0;34m=\u001b[0m\u001b[0mcopy\u001b[0m\u001b[0;34m)\u001b[0m\u001b[0;34m\u001b[0m\u001b[0;34m\u001b[0m\u001b[0m\n\u001b[0m\u001b[1;32m    804\u001b[0m         \u001b[0;32mexcept\u001b[0m \u001b[0mzmq\u001b[0m\u001b[0;34m.\u001b[0m\u001b[0mZMQError\u001b[0m \u001b[0;32mas\u001b[0m \u001b[0me\u001b[0m\u001b[0;34m:\u001b[0m\u001b[0;34m\u001b[0m\u001b[0;34m\u001b[0m\u001b[0m\n",
            "\u001b[0;32m/usr/local/lib/python3.6/dist-packages/zmq/sugar/socket.py\u001b[0m in \u001b[0;36mrecv_multipart\u001b[0;34m(self, flags, copy, track)\u001b[0m\n\u001b[1;32m    465\u001b[0m         \"\"\"\n\u001b[0;32m--> 466\u001b[0;31m         \u001b[0mparts\u001b[0m \u001b[0;34m=\u001b[0m \u001b[0;34m[\u001b[0m\u001b[0mself\u001b[0m\u001b[0;34m.\u001b[0m\u001b[0mrecv\u001b[0m\u001b[0;34m(\u001b[0m\u001b[0mflags\u001b[0m\u001b[0;34m,\u001b[0m \u001b[0mcopy\u001b[0m\u001b[0;34m=\u001b[0m\u001b[0mcopy\u001b[0m\u001b[0;34m,\u001b[0m \u001b[0mtrack\u001b[0m\u001b[0;34m=\u001b[0m\u001b[0mtrack\u001b[0m\u001b[0;34m)\u001b[0m\u001b[0;34m]\u001b[0m\u001b[0;34m\u001b[0m\u001b[0;34m\u001b[0m\u001b[0m\n\u001b[0m\u001b[1;32m    467\u001b[0m         \u001b[0;31m# have first part already, only loop while more to receive\u001b[0m\u001b[0;34m\u001b[0m\u001b[0;34m\u001b[0m\u001b[0;34m\u001b[0m\u001b[0m\n",
            "\u001b[0;32mzmq/backend/cython/socket.pyx\u001b[0m in \u001b[0;36mzmq.backend.cython.socket.Socket.recv\u001b[0;34m()\u001b[0m\n",
            "\u001b[0;32mzmq/backend/cython/socket.pyx\u001b[0m in \u001b[0;36mzmq.backend.cython.socket.Socket.recv\u001b[0;34m()\u001b[0m\n",
            "\u001b[0;32mzmq/backend/cython/socket.pyx\u001b[0m in \u001b[0;36mzmq.backend.cython.socket._recv_copy\u001b[0;34m()\u001b[0m\n",
            "\u001b[0;32m/usr/local/lib/python3.6/dist-packages/zmq/backend/cython/checkrc.pxd\u001b[0m in \u001b[0;36mzmq.backend.cython.checkrc._check_rc\u001b[0;34m()\u001b[0m\n",
            "\u001b[0;31mKeyboardInterrupt\u001b[0m: ",
            "\nDuring handling of the above exception, another exception occurred:\n",
            "\u001b[0;31mKeyboardInterrupt\u001b[0m                         Traceback (most recent call last)",
            "\u001b[0;32m<ipython-input-58-dcbf7b026396>\u001b[0m in \u001b[0;36m<module>\u001b[0;34m()\u001b[0m\n\u001b[1;32m      3\u001b[0m \u001b[0;32mwhile\u001b[0m \u001b[0;32mTrue\u001b[0m\u001b[0;34m:\u001b[0m\u001b[0;34m\u001b[0m\u001b[0;34m\u001b[0m\u001b[0m\n\u001b[1;32m      4\u001b[0m     \u001b[0mprint\u001b[0m\u001b[0;34m(\u001b[0m\u001b[0;34m'넓이를 구하고 싶은 도형이 3개 중 무엇입니까?\\n\\t(정삼각형, 원, 사각형)'\u001b[0m\u001b[0;34m)\u001b[0m\u001b[0;34m\u001b[0m\u001b[0;34m\u001b[0m\u001b[0m\n\u001b[0;32m----> 5\u001b[0;31m     \u001b[0msub\u001b[0m \u001b[0;34m=\u001b[0m \u001b[0minput\u001b[0m\u001b[0;34m(\u001b[0m\u001b[0;34m'도형: '\u001b[0m\u001b[0;34m)\u001b[0m\u001b[0;34m\u001b[0m\u001b[0;34m\u001b[0m\u001b[0m\n\u001b[0m\u001b[1;32m      6\u001b[0m     \u001b[0;32mif\u001b[0m \u001b[0;34m(\u001b[0m\u001b[0msub\u001b[0m \u001b[0;34m==\u001b[0m \u001b[0;34m'정삼각형'\u001b[0m\u001b[0;34m)\u001b[0m\u001b[0;34m:\u001b[0m\u001b[0;34m\u001b[0m\u001b[0;34m\u001b[0m\u001b[0m\n\u001b[1;32m      7\u001b[0m         \u001b[0mprint\u001b[0m\u001b[0;34m(\u001b[0m\u001b[0;34m\"정삼각형의 한 변의 길이를 입력하세요\"\u001b[0m\u001b[0;34m)\u001b[0m\u001b[0;34m\u001b[0m\u001b[0;34m\u001b[0m\u001b[0m\n",
            "\u001b[0;32m/usr/local/lib/python3.6/dist-packages/ipykernel/kernelbase.py\u001b[0m in \u001b[0;36mraw_input\u001b[0;34m(self, prompt)\u001b[0m\n\u001b[1;32m    703\u001b[0m             \u001b[0mself\u001b[0m\u001b[0;34m.\u001b[0m\u001b[0m_parent_ident\u001b[0m\u001b[0;34m,\u001b[0m\u001b[0;34m\u001b[0m\u001b[0;34m\u001b[0m\u001b[0m\n\u001b[1;32m    704\u001b[0m             \u001b[0mself\u001b[0m\u001b[0;34m.\u001b[0m\u001b[0m_parent_header\u001b[0m\u001b[0;34m,\u001b[0m\u001b[0;34m\u001b[0m\u001b[0;34m\u001b[0m\u001b[0m\n\u001b[0;32m--> 705\u001b[0;31m             \u001b[0mpassword\u001b[0m\u001b[0;34m=\u001b[0m\u001b[0;32mFalse\u001b[0m\u001b[0;34m,\u001b[0m\u001b[0;34m\u001b[0m\u001b[0;34m\u001b[0m\u001b[0m\n\u001b[0m\u001b[1;32m    706\u001b[0m         )\n\u001b[1;32m    707\u001b[0m \u001b[0;34m\u001b[0m\u001b[0m\n",
            "\u001b[0;32m/usr/local/lib/python3.6/dist-packages/ipykernel/kernelbase.py\u001b[0m in \u001b[0;36m_input_request\u001b[0;34m(self, prompt, ident, parent, password)\u001b[0m\n\u001b[1;32m    733\u001b[0m             \u001b[0;32mexcept\u001b[0m \u001b[0mKeyboardInterrupt\u001b[0m\u001b[0;34m:\u001b[0m\u001b[0;34m\u001b[0m\u001b[0;34m\u001b[0m\u001b[0m\n\u001b[1;32m    734\u001b[0m                 \u001b[0;31m# re-raise KeyboardInterrupt, to truncate traceback\u001b[0m\u001b[0;34m\u001b[0m\u001b[0;34m\u001b[0m\u001b[0;34m\u001b[0m\u001b[0m\n\u001b[0;32m--> 735\u001b[0;31m                 \u001b[0;32mraise\u001b[0m \u001b[0mKeyboardInterrupt\u001b[0m\u001b[0;34m\u001b[0m\u001b[0;34m\u001b[0m\u001b[0m\n\u001b[0m\u001b[1;32m    736\u001b[0m             \u001b[0;32melse\u001b[0m\u001b[0;34m:\u001b[0m\u001b[0;34m\u001b[0m\u001b[0;34m\u001b[0m\u001b[0m\n\u001b[1;32m    737\u001b[0m                 \u001b[0;32mbreak\u001b[0m\u001b[0;34m\u001b[0m\u001b[0;34m\u001b[0m\u001b[0m\n",
            "\u001b[0;31mKeyboardInterrupt\u001b[0m: "
          ]
        }
      ]
    },
    {
      "cell_type": "code",
      "metadata": {
        "id": "e5HrSNn3nOZa",
        "outputId": "f69b231d-6ba5-4f36-9c2e-bc9cd819fdd8",
        "colab": {
          "base_uri": "https://localhost:8080/",
          "height": 468
        }
      },
      "source": [
        "\n",
        "\n",
        "print('약수를 알려주고 소수인지 아닌지 판별 종료 끝내기')\n",
        "\n",
        "number = []\n",
        "\n",
        "while True:\n",
        "    num = int(input('입력: '))\n",
        "    for i in range(1, num+1):\n",
        "        if num%i == 0:\n",
        "            print(i, end=\" \")\n",
        "\n",
        "\n",
        "    # 소수 판별하기\n",
        "    number.append(num)\n",
        "\n",
        "    print(\"\\n지금 까지 입력했던 수 중 소수가 있는지 알고싶으면\\n '소수판별' 이라고 치세요\")\n",
        "    check = input(\"소수가 있는지 알고싶나요?: \")\n",
        "    if check == '소수판별':\n",
        "        chk = True\n",
        "        for i in int(num): \n",
        "            if num%i == 0:\n",
        "                chk = False \n",
        "                break\n",
        "\n",
        "        if chk:\n",
        "            print(num, \": 소수\")\n",
        "        else :\n",
        "            print(num, \": 소수 아님\")\n",
        "    else:\n",
        "        print('알기 싫은가 보군요..')\n",
        "    print(number)"
      ],
      "execution_count": null,
      "outputs": [
        {
          "output_type": "stream",
          "text": [
            "약수를 알려주고 소수인지 아닌지 판별 종료 끝내기\n",
            "입력: 60\n",
            "1 2 3 4 5 6 10 12 15 20 30 60 \n",
            "지금 까지 입력했던 수 중 소수가 있는지 알고싶으면\n",
            " '소수판별' 이라고 치세요\n",
            "소수가 있는지 알고싶나요?: thtnvksquf\n",
            "알기 싫은가 보군요..\n",
            "[60]\n",
            "입력: 60\n",
            "1 2 3 4 5 6 10 12 15 20 30 60 \n",
            "지금 까지 입력했던 수 중 소수가 있는지 알고싶으면\n",
            " '소수판별' 이라고 치세요\n",
            "소수가 있는지 알고싶나요?: 소수판별\n"
          ],
          "name": "stdout"
        },
        {
          "output_type": "error",
          "ename": "TypeError",
          "evalue": "ignored",
          "traceback": [
            "\u001b[0;31m---------------------------------------------------------------------------\u001b[0m",
            "\u001b[0;31mTypeError\u001b[0m                                 Traceback (most recent call last)",
            "\u001b[0;32m<ipython-input-38-a0de489510fc>\u001b[0m in \u001b[0;36m<module>\u001b[0;34m()\u001b[0m\n\u001b[1;32m     19\u001b[0m     \u001b[0;32mif\u001b[0m \u001b[0mcheck\u001b[0m \u001b[0;34m==\u001b[0m \u001b[0;34m'소수판별'\u001b[0m\u001b[0;34m:\u001b[0m\u001b[0;34m\u001b[0m\u001b[0;34m\u001b[0m\u001b[0m\n\u001b[1;32m     20\u001b[0m         \u001b[0mchk\u001b[0m \u001b[0;34m=\u001b[0m \u001b[0;32mTrue\u001b[0m\u001b[0;34m\u001b[0m\u001b[0;34m\u001b[0m\u001b[0m\n\u001b[0;32m---> 21\u001b[0;31m         \u001b[0;32mfor\u001b[0m \u001b[0mi\u001b[0m \u001b[0;32min\u001b[0m \u001b[0mint\u001b[0m\u001b[0;34m(\u001b[0m\u001b[0mnum\u001b[0m\u001b[0;34m)\u001b[0m\u001b[0;34m:\u001b[0m\u001b[0;34m\u001b[0m\u001b[0;34m\u001b[0m\u001b[0m\n\u001b[0m\u001b[1;32m     22\u001b[0m             \u001b[0;32mif\u001b[0m \u001b[0mnum\u001b[0m\u001b[0;34m%\u001b[0m\u001b[0mi\u001b[0m \u001b[0;34m==\u001b[0m \u001b[0;36m0\u001b[0m\u001b[0;34m:\u001b[0m\u001b[0;34m\u001b[0m\u001b[0;34m\u001b[0m\u001b[0m\n\u001b[1;32m     23\u001b[0m                 \u001b[0mchk\u001b[0m \u001b[0;34m=\u001b[0m \u001b[0;32mFalse\u001b[0m\u001b[0;34m\u001b[0m\u001b[0;34m\u001b[0m\u001b[0m\n",
            "\u001b[0;31mTypeError\u001b[0m: 'int' object is not iterable"
          ]
        }
      ]
    },
    {
      "cell_type": "code",
      "metadata": {
        "id": "h1h9CTPyOoiM",
        "outputId": "596352c2-a0c5-4e03-b92e-3b80e5ead59c",
        "colab": {
          "base_uri": "https://localhost:8080/",
          "height": 52
        }
      },
      "source": [
        "import random\n",
        "ds = [random.randint(1, 100) for x in range(5)]\n",
        "print(ds)\n",
        "for a in range(len(ds)-2,-1,-1):\n",
        "    for b in range(0, a+1):\n",
        "        if ds[b]>ds[b+1]:\n",
        "            ds[b],ds[b+1] = ds[b+1],ds[b]\n",
        "print(ds)"
      ],
      "execution_count": null,
      "outputs": [
        {
          "output_type": "stream",
          "text": [
            "[99, 50, 37, 11, 65]\n",
            "[11, 37, 50, 65, 99]\n"
          ],
          "name": "stdout"
        }
      ]
    },
    {
      "cell_type": "code",
      "metadata": {
        "id": "coSppXN5q8WM",
        "colab": {
          "base_uri": "https://localhost:8080/",
          "height": 284
        },
        "outputId": "0c43f27d-539c-47fd-9cf1-e44ad13934a4"
      },
      "source": [
        "name = []\n",
        "score = []\n",
        "\n",
        "while True:\n",
        "    \n",
        "    n = input(\"1.입력 2.삭제 3.전체삭제 4.성적순 출력(낮은순) 5. 성적순 출력(높은순) 6.이름순 출력(오름차순) 7. 이름순 출력(내림차순) 8.종료: \")\n",
        "    \n",
        "    if n == '1' or n == '입력':\n",
        "        Name = input('이름: ')\n",
        "        Score = int(input('성적: '))\n",
        "        name.append(Name)\n",
        "        score.append(Score)\n",
        "        \n",
        "    elif n == '2' or n == '삭제':\n",
        "        k = input('삭제할 학생의 이름: ')\n",
        "        if k in name:\n",
        "            a = name.index(k)\n",
        "            del name[a]\n",
        "            del score[a]\n",
        "        else:\n",
        "            print('그런 학생은 없습니다.')\n",
        "            \n",
        "    elif n == '3' or n == '전체삭제':\n",
        "        del name[0:]\n",
        "        del score[0:]\n",
        "\n",
        "        \n",
        "    elif n == '4' or n == '성적순 출력(낮은순)':\n",
        "        for a in range(len(score)-2,-1,-1):\n",
        "            for b in range(0, a+1):\n",
        "                if score[b]>score[b+1]:\n",
        "                    score[b],score[b+1] = score[b+1],score[b]\n",
        "                    name[b],name[b+1] = name[b+1],name[b]\n",
        "\n",
        "        for i in range(0, len(score)):\n",
        "            print(name[i], ': ', score[i] ,end=' ')\n",
        "        print()\n",
        "        \n",
        "        \n",
        "    elif n == '5' or n == '성적순 출력(높은순)':\n",
        "        for a in range(len(score)-2,-1,-1):\n",
        "            for b in range(0, a+1):\n",
        "                if score[b]>score[b+1]:\n",
        "                    score[b],score[b+1] = score[b+1],score[b]\n",
        "                    name[b],name[b+1] = name[b+1],name[b]\n",
        "\n",
        "        score.reverse()\n",
        "        name.reverse()\n",
        "        for i in range(0, len(score)):\n",
        "            print(name[i], ': ', score[i] ,end=' ')\n",
        "        print()\n",
        "    \n",
        "        \n",
        "    elif n == '6' or n == '이름순 출력(오름차순)':\n",
        "        for a in range(len(name)-2,-1,-1):\n",
        "            for b in range(0, a+1):\n",
        "                if name[b]>name[b+1]:\n",
        "                    name[b],name[b+1] = name[b+1],name[b]\n",
        "                    score[b],score[b+1] = score[b+1],score[b]\n",
        "        for p in range(0, len(name)):\n",
        "            print(name[p], ': ', score[p] ,end=' ')\n",
        "    \n",
        "    elif n == '7' or n == '이름순 출력(내림차순)':\n",
        "        for a in range(len(name)-2,-1,-1):\n",
        "            for b in range(0, a+1):\n",
        "                if name[b]>name[b+1]:\n",
        "                    name[b],name[b+1] = name[b+1],name[b]\n",
        "                    score[b],score[b+1] = score[b+1],score[b]\n",
        "        \n",
        "        score.reverse()\n",
        "        name.reverse()\n",
        "        \n",
        "        for p in range(0, len(name)):\n",
        "            print(name[p], ': ', score[p] ,end=' ')\n",
        "        \n",
        "    elif n == '8' or n == '종료':\n",
        "        print('시스템 종료')\n",
        "        break   \n",
        "        \n",
        "    \n",
        "    \n",
        "    "
      ],
      "execution_count": null,
      "outputs": [
        {
          "output_type": "stream",
          "text": [
            "1.입력 2.삭제 3.전체삭제 4.성적순 출력(낮은순) 5. 성적순 출력(높은순) 6.이름순 출력(오름차순) 7. 이름순 출력(내림차순) 8.종료: 1\n",
            "이름: 1\n",
            "성적: 2\n",
            "1.입력 2.삭제 3.전체삭제 4.성적순 출력(낮은순) 5. 성적순 출력(높은순) 6.이름순 출력(오름차순) 7. 이름순 출력(내림차순) 8.종료: 1\n",
            "이름: 2\n",
            "성적: 1\n",
            "1.입력 2.삭제 3.전체삭제 4.성적순 출력(낮은순) 5. 성적순 출력(높은순) 6.이름순 출력(오름차순) 7. 이름순 출력(내림차순) 8.종료: 4\n",
            "2 :  1 1 :  2 \n",
            "1.입력 2.삭제 3.전체삭제 4.성적순 출력(낮은순) 5. 성적순 출력(높은순) 6.이름순 출력(오름차순) 7. 이름순 출력(내림차순) 8.종료: 5\n",
            "1 :  2 2 :  1 \n",
            "1.입력 2.삭제 3.전체삭제 4.성적순 출력(낮은순) 5. 성적순 출력(높은순) 6.이름순 출력(오름차순) 7. 이름순 출력(내림차순) 8.종료: \n",
            "1.입력 2.삭제 3.전체삭제 4.성적순 출력(낮은순) 5. 성적순 출력(높은순) 6.이름순 출력(오름차순) 7. 이름순 출력(내림차순) 8.종료: 7\n",
            "2 :  1 1 :  2 1.입력 2.삭제 3.전체삭제 4.성적순 출력(낮은순) 5. 성적순 출력(높은순) 6.이름순 출력(오름차순) 7. 이름순 출력(내림차순) 8.종료: \n",
            "1.입력 2.삭제 3.전체삭제 4.성적순 출력(낮은순) 5. 성적순 출력(높은순) 6.이름순 출력(오름차순) 7. 이름순 출력(내림차순) 8.종료: 8\n",
            "시스템 종료\n"
          ],
          "name": "stdout"
        }
      ]
    },
    {
      "cell_type": "code",
      "metadata": {
        "id": "B672BSiuGtpD",
        "colab": {
          "base_uri": "https://localhost:8080/",
          "height": 525
        },
        "outputId": "ba93cf01-db07-4d2f-fcf9-040e58ddff08"
      },
      "source": [
        "name = []\n",
        "hight = []\n",
        "#인트로\n",
        "for y in range(10):\n",
        "    y = '*'*120\n",
        "    print(y)\n",
        "\n",
        "print('이름과 키를 입력하세요')\n",
        "while True:\n",
        "    Name = input('이름: ')\n",
        "    '''\n",
        "    중복 입력 구현 불가\n",
        "    \n",
        "    if Name in name:\n",
        "        print('이미 그 사람의 데이터는 있습니다!\\n데이터를 추가하려면 1번, 데이터를 수정하려면 2번을 누르세요!\\n 아무것도 아니면 3번을 누르세요!')\n",
        "        u = int(input('몇번: '))\n",
        "    if u == 2:\n",
        "        k = input('수정할 학생의 이름: ')\n",
        "        if k in name:\n",
        "            a = name.index(k)\n",
        "            del name[a]\n",
        "            del score[a]\n",
        "        name.append(k)\n",
        "        t = input('키: ')\n",
        "        hight.append(t)\n",
        "    \n",
        "    '''\n",
        "    Hight= int(input('키: '))\n",
        "    name.append(Name)\n",
        "    hight.append(Hight)\n",
        "\n",
        "    n = input('데이터를 확인하고 싶으면 1번을 누르세요: ')\n",
        "    if n == '1':\n",
        "        for a in range(len(hight)-2,-1,-1):\n",
        "            for b in range(0, a+1):\n",
        "                if hight[b]>hight[b+1]:\n",
        "                    hight[b],hight[b+1] = hight[b+1],hight[b]\n",
        "                    name[b],name[b+1] = name[b+1],name[b]\n",
        "\n",
        "        hight.reverse()\n",
        "        name.reverse()\n",
        "        for i in range(0, len(hight)):\n",
        "            print(name[i], ': ', hight[i] ,end=' ')\n",
        "            print()\n",
        "    \n",
        "            \n",
        "        \n",
        "            "
      ],
      "execution_count": null,
      "outputs": [
        {
          "output_type": "stream",
          "text": [
            "************************************************************************************************************************\n",
            "************************************************************************************************************************\n",
            "************************************************************************************************************************\n",
            "************************************************************************************************************************\n",
            "************************************************************************************************************************\n",
            "************************************************************************************************************************\n",
            "************************************************************************************************************************\n",
            "************************************************************************************************************************\n",
            "************************************************************************************************************************\n",
            "************************************************************************************************************************\n",
            "이름과 키를 입력하세요\n",
            "이름: ㅁ\n",
            "키: 1\n",
            "데이터를 확인하고 싶으면 1번을 누르세요: 2\n",
            "이름: \n",
            "키: \n"
          ],
          "name": "stdout"
        },
        {
          "output_type": "error",
          "ename": "ValueError",
          "evalue": "ignored",
          "traceback": [
            "\u001b[0;31m---------------------------------------------------------------------------\u001b[0m",
            "\u001b[0;31mValueError\u001b[0m                                Traceback (most recent call last)",
            "\u001b[0;32m<ipython-input-140-d7283ab3ba6a>\u001b[0m in \u001b[0;36m<module>\u001b[0;34m()\u001b[0m\n\u001b[1;32m     26\u001b[0m \u001b[0;34m\u001b[0m\u001b[0m\n\u001b[1;32m     27\u001b[0m     '''\n\u001b[0;32m---> 28\u001b[0;31m     \u001b[0mHight\u001b[0m\u001b[0;34m=\u001b[0m \u001b[0mint\u001b[0m\u001b[0;34m(\u001b[0m\u001b[0minput\u001b[0m\u001b[0;34m(\u001b[0m\u001b[0;34m'키: '\u001b[0m\u001b[0;34m)\u001b[0m\u001b[0;34m)\u001b[0m\u001b[0;34m\u001b[0m\u001b[0;34m\u001b[0m\u001b[0m\n\u001b[0m\u001b[1;32m     29\u001b[0m     \u001b[0mname\u001b[0m\u001b[0;34m.\u001b[0m\u001b[0mappend\u001b[0m\u001b[0;34m(\u001b[0m\u001b[0mName\u001b[0m\u001b[0;34m)\u001b[0m\u001b[0;34m\u001b[0m\u001b[0;34m\u001b[0m\u001b[0m\n\u001b[1;32m     30\u001b[0m     \u001b[0mhight\u001b[0m\u001b[0;34m.\u001b[0m\u001b[0mappend\u001b[0m\u001b[0;34m(\u001b[0m\u001b[0mHight\u001b[0m\u001b[0;34m)\u001b[0m\u001b[0;34m\u001b[0m\u001b[0;34m\u001b[0m\u001b[0m\n",
            "\u001b[0;31mValueError\u001b[0m: invalid literal for int() with base 10: ''"
          ]
        }
      ]
    }
  ]
}