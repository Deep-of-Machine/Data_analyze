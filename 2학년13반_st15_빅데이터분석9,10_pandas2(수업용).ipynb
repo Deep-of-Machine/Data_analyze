{
  "nbformat": 4,
  "nbformat_minor": 0,
  "metadata": {
    "colab": {
      "name": "2학년13반 st15 - 빅데이터분석9,10-pandas2(수업용)",
      "provenance": [],
      "collapsed_sections": [],
      "toc_visible": true,
      "include_colab_link": true
    },
    "kernelspec": {
      "name": "python3",
      "display_name": "Python 3"
    }
  },
  "cells": [
    {
      "cell_type": "markdown",
      "metadata": {
        "id": "view-in-github",
        "colab_type": "text"
      },
      "source": [
        "<a href=\"https://colab.research.google.com/github/Deep-of-Machine/Data_analyze/blob/main/2%ED%95%99%EB%85%8413%EB%B0%98_st15_%EB%B9%85%EB%8D%B0%EC%9D%B4%ED%84%B0%EB%B6%84%EC%84%9D9%2C10_pandas2(%EC%88%98%EC%97%85%EC%9A%A9).ipynb\" target=\"_parent\"><img src=\"https://colab.research.google.com/assets/colab-badge.svg\" alt=\"Open In Colab\"/></a>"
      ]
    },
    {
      "cell_type": "markdown",
      "metadata": {
        "id": "WdsaGMi1gud5"
      },
      "source": [
        "#판다스"
      ]
    },
    {
      "cell_type": "code",
      "metadata": {
        "id": "M2vpntkJg3hD"
      },
      "source": [
        "import pandas as pd"
      ],
      "execution_count": null,
      "outputs": []
    },
    {
      "cell_type": "code",
      "metadata": {
        "id": "QSucR-68hDgx"
      },
      "source": [
        "#데이터프레임 - 2차원 \n",
        "df=pd.DataFrame({'날짜':['2000-01-01','2000-01-02','2000-01-03'],\n",
        "                 '지점':[108, 108, 108],\n",
        "                 '평균기온':[13.5, 16.2, 16.2],\n",
        "                 '최저기온':[7.9, 7.9, 13.1],       \n",
        "                 '최고기온':[20.7, 22, 21.3]})"
      ],
      "execution_count": null,
      "outputs": []
    },
    {
      "cell_type": "code",
      "metadata": {
        "id": "qo2kbbnPArc1",
        "colab": {
          "base_uri": "https://localhost:8080/",
          "height": 142
        },
        "outputId": "a83c1ce3-34cf-4dfb-ee56-ad12a70544ab"
      },
      "source": [
        "df"
      ],
      "execution_count": null,
      "outputs": [
        {
          "output_type": "execute_result",
          "data": {
            "text/html": [
              "<div>\n",
              "<style scoped>\n",
              "    .dataframe tbody tr th:only-of-type {\n",
              "        vertical-align: middle;\n",
              "    }\n",
              "\n",
              "    .dataframe tbody tr th {\n",
              "        vertical-align: top;\n",
              "    }\n",
              "\n",
              "    .dataframe thead th {\n",
              "        text-align: right;\n",
              "    }\n",
              "</style>\n",
              "<table border=\"1\" class=\"dataframe\">\n",
              "  <thead>\n",
              "    <tr style=\"text-align: right;\">\n",
              "      <th></th>\n",
              "      <th>날짜</th>\n",
              "      <th>지점</th>\n",
              "      <th>평균기온</th>\n",
              "      <th>최저기온</th>\n",
              "      <th>최고기온</th>\n",
              "    </tr>\n",
              "  </thead>\n",
              "  <tbody>\n",
              "    <tr>\n",
              "      <th>0</th>\n",
              "      <td>2000-01-01</td>\n",
              "      <td>108</td>\n",
              "      <td>13.5</td>\n",
              "      <td>7.9</td>\n",
              "      <td>20.7</td>\n",
              "    </tr>\n",
              "    <tr>\n",
              "      <th>1</th>\n",
              "      <td>2000-01-02</td>\n",
              "      <td>108</td>\n",
              "      <td>16.2</td>\n",
              "      <td>7.9</td>\n",
              "      <td>22.0</td>\n",
              "    </tr>\n",
              "    <tr>\n",
              "      <th>2</th>\n",
              "      <td>2000-01-03</td>\n",
              "      <td>108</td>\n",
              "      <td>16.2</td>\n",
              "      <td>13.1</td>\n",
              "      <td>21.3</td>\n",
              "    </tr>\n",
              "  </tbody>\n",
              "</table>\n",
              "</div>"
            ],
            "text/plain": [
              "           날짜   지점  평균기온  최저기온  최고기온\n",
              "0  2000-01-01  108  13.5   7.9  20.7\n",
              "1  2000-01-02  108  16.2   7.9  22.0\n",
              "2  2000-01-03  108  16.2  13.1  21.3"
            ]
          },
          "metadata": {
            "tags": []
          },
          "execution_count": 3
        }
      ]
    },
    {
      "cell_type": "code",
      "metadata": {
        "id": "xetlY05dBKZn"
      },
      "source": [
        "#데이터프레임 - 리스트, index, column 설정"
      ],
      "execution_count": null,
      "outputs": []
    },
    {
      "cell_type": "code",
      "metadata": {
        "id": "ZdpAHf2kBM9k",
        "colab": {
          "base_uri": "https://localhost:8080/",
          "height": 142
        },
        "outputId": "ee448a62-3e6c-4bfa-d95a-d0ae0574b640"
      },
      "source": [
        "import pandas as pd\n",
        "df = pd.DataFrame([[1,2,3],[4,5,6],[7,8,9]], index = [0,1,2], columns = ['c0','c1','c2'])\n",
        "df"
      ],
      "execution_count": null,
      "outputs": [
        {
          "output_type": "execute_result",
          "data": {
            "text/html": [
              "<div>\n",
              "<style scoped>\n",
              "    .dataframe tbody tr th:only-of-type {\n",
              "        vertical-align: middle;\n",
              "    }\n",
              "\n",
              "    .dataframe tbody tr th {\n",
              "        vertical-align: top;\n",
              "    }\n",
              "\n",
              "    .dataframe thead th {\n",
              "        text-align: right;\n",
              "    }\n",
              "</style>\n",
              "<table border=\"1\" class=\"dataframe\">\n",
              "  <thead>\n",
              "    <tr style=\"text-align: right;\">\n",
              "      <th></th>\n",
              "      <th>c0</th>\n",
              "      <th>c1</th>\n",
              "      <th>c2</th>\n",
              "    </tr>\n",
              "  </thead>\n",
              "  <tbody>\n",
              "    <tr>\n",
              "      <th>0</th>\n",
              "      <td>1</td>\n",
              "      <td>2</td>\n",
              "      <td>3</td>\n",
              "    </tr>\n",
              "    <tr>\n",
              "      <th>1</th>\n",
              "      <td>4</td>\n",
              "      <td>5</td>\n",
              "      <td>6</td>\n",
              "    </tr>\n",
              "    <tr>\n",
              "      <th>2</th>\n",
              "      <td>7</td>\n",
              "      <td>8</td>\n",
              "      <td>9</td>\n",
              "    </tr>\n",
              "  </tbody>\n",
              "</table>\n",
              "</div>"
            ],
            "text/plain": [
              "   c0  c1  c2\n",
              "0   1   2   3\n",
              "1   4   5   6\n",
              "2   7   8   9"
            ]
          },
          "metadata": {
            "tags": []
          },
          "execution_count": 4
        }
      ]
    },
    {
      "cell_type": "code",
      "metadata": {
        "id": "3VdPuz_GBgpr"
      },
      "source": [
        "#인덱스 확인하기"
      ],
      "execution_count": null,
      "outputs": []
    },
    {
      "cell_type": "code",
      "metadata": {
        "id": "QG6JGy5rBi1l",
        "colab": {
          "base_uri": "https://localhost:8080/",
          "height": 35
        },
        "outputId": "b685dc27-1794-42ae-ba3a-6b6d28777b11"
      },
      "source": [
        "df.index"
      ],
      "execution_count": null,
      "outputs": [
        {
          "output_type": "execute_result",
          "data": {
            "text/plain": [
              "Int64Index([0, 1, 2], dtype='int64')"
            ]
          },
          "metadata": {
            "tags": []
          },
          "execution_count": 5
        }
      ]
    },
    {
      "cell_type": "code",
      "metadata": {
        "id": "nT6ZfqlZBlU7"
      },
      "source": [
        "#컬럼 확인하기"
      ],
      "execution_count": null,
      "outputs": []
    },
    {
      "cell_type": "code",
      "metadata": {
        "id": "ovwTuJC7BnEW",
        "colab": {
          "base_uri": "https://localhost:8080/",
          "height": 35
        },
        "outputId": "5493a735-8c8e-4826-d7ed-e3603fc341dd"
      },
      "source": [
        "df.columns"
      ],
      "execution_count": null,
      "outputs": [
        {
          "output_type": "execute_result",
          "data": {
            "text/plain": [
              "Index(['c0', 'c1', 'c2'], dtype='object')"
            ]
          },
          "metadata": {
            "tags": []
          },
          "execution_count": 6
        }
      ]
    },
    {
      "cell_type": "code",
      "metadata": {
        "id": "eotrYnSDBonP"
      },
      "source": [
        "#행 인덱스 변경"
      ],
      "execution_count": null,
      "outputs": []
    },
    {
      "cell_type": "code",
      "metadata": {
        "id": "SSnIJcFDBsQv"
      },
      "source": [
        "df.index=['0번','1번','2번']\n",
        "df.columns=['n0','n1','n2']"
      ],
      "execution_count": null,
      "outputs": []
    },
    {
      "cell_type": "code",
      "metadata": {
        "id": "AwbFlOYYhIjn",
        "colab": {
          "base_uri": "https://localhost:8080/",
          "height": 142
        },
        "outputId": "a89078ec-4f10-4ea1-c1fa-0811305bdca3"
      },
      "source": [
        "df"
      ],
      "execution_count": null,
      "outputs": [
        {
          "output_type": "execute_result",
          "data": {
            "text/html": [
              "<div>\n",
              "<style scoped>\n",
              "    .dataframe tbody tr th:only-of-type {\n",
              "        vertical-align: middle;\n",
              "    }\n",
              "\n",
              "    .dataframe tbody tr th {\n",
              "        vertical-align: top;\n",
              "    }\n",
              "\n",
              "    .dataframe thead th {\n",
              "        text-align: right;\n",
              "    }\n",
              "</style>\n",
              "<table border=\"1\" class=\"dataframe\">\n",
              "  <thead>\n",
              "    <tr style=\"text-align: right;\">\n",
              "      <th></th>\n",
              "      <th>n0</th>\n",
              "      <th>n1</th>\n",
              "      <th>n2</th>\n",
              "    </tr>\n",
              "  </thead>\n",
              "  <tbody>\n",
              "    <tr>\n",
              "      <th>0번</th>\n",
              "      <td>1</td>\n",
              "      <td>2</td>\n",
              "      <td>3</td>\n",
              "    </tr>\n",
              "    <tr>\n",
              "      <th>1번</th>\n",
              "      <td>4</td>\n",
              "      <td>5</td>\n",
              "      <td>6</td>\n",
              "    </tr>\n",
              "    <tr>\n",
              "      <th>2번</th>\n",
              "      <td>7</td>\n",
              "      <td>8</td>\n",
              "      <td>9</td>\n",
              "    </tr>\n",
              "  </tbody>\n",
              "</table>\n",
              "</div>"
            ],
            "text/plain": [
              "    n0  n1  n2\n",
              "0번   1   2   3\n",
              "1번   4   5   6\n",
              "2번   7   8   9"
            ]
          },
          "metadata": {
            "tags": []
          },
          "execution_count": 8
        }
      ]
    },
    {
      "cell_type": "code",
      "metadata": {
        "id": "x0iBttG-CQAi"
      },
      "source": [
        "#행/열 삭제"
      ],
      "execution_count": null,
      "outputs": []
    },
    {
      "cell_type": "code",
      "metadata": {
        "id": "AIOXwmkPCS3h",
        "colab": {
          "base_uri": "https://localhost:8080/",
          "height": 111
        },
        "outputId": "ab7e3689-7403-45ae-c85e-4e31fae580c1"
      },
      "source": [
        "df1=df.drop('0번',axis=0) #axis=0생략가능\n",
        "df1"
      ],
      "execution_count": null,
      "outputs": [
        {
          "output_type": "execute_result",
          "data": {
            "text/html": [
              "<div>\n",
              "<style scoped>\n",
              "    .dataframe tbody tr th:only-of-type {\n",
              "        vertical-align: middle;\n",
              "    }\n",
              "\n",
              "    .dataframe tbody tr th {\n",
              "        vertical-align: top;\n",
              "    }\n",
              "\n",
              "    .dataframe thead th {\n",
              "        text-align: right;\n",
              "    }\n",
              "</style>\n",
              "<table border=\"1\" class=\"dataframe\">\n",
              "  <thead>\n",
              "    <tr style=\"text-align: right;\">\n",
              "      <th></th>\n",
              "      <th>n0</th>\n",
              "      <th>n1</th>\n",
              "      <th>n2</th>\n",
              "    </tr>\n",
              "  </thead>\n",
              "  <tbody>\n",
              "    <tr>\n",
              "      <th>1번</th>\n",
              "      <td>4</td>\n",
              "      <td>5</td>\n",
              "      <td>6</td>\n",
              "    </tr>\n",
              "    <tr>\n",
              "      <th>2번</th>\n",
              "      <td>7</td>\n",
              "      <td>8</td>\n",
              "      <td>9</td>\n",
              "    </tr>\n",
              "  </tbody>\n",
              "</table>\n",
              "</div>"
            ],
            "text/plain": [
              "    n0  n1  n2\n",
              "1번   4   5   6\n",
              "2번   7   8   9"
            ]
          },
          "metadata": {
            "tags": []
          },
          "execution_count": 9
        }
      ]
    },
    {
      "cell_type": "code",
      "metadata": {
        "id": "R-mnFLh3Chpf"
      },
      "source": [
        "df2=df.drop('n0',axis=1)\n",
        "df2"
      ],
      "execution_count": null,
      "outputs": []
    },
    {
      "cell_type": "code",
      "metadata": {
        "id": "kQDwlWf1CrJK"
      },
      "source": [
        "df3=df.drop(['0번','2번'],axis=0) #axis=0생략가능\n",
        "df3"
      ],
      "execution_count": null,
      "outputs": []
    },
    {
      "cell_type": "code",
      "metadata": {
        "id": "6zjJ_OatCuoH"
      },
      "source": [
        "df4=df.drop(['n0','n2'],axis=1)\n",
        "df4"
      ],
      "execution_count": null,
      "outputs": []
    },
    {
      "cell_type": "code",
      "metadata": {
        "id": "I99jWhGxDEFs"
      },
      "source": [
        "#기존의 값을 변경할 때, 원본 데이터를 수정하는 inplace = True 옵션을 사용하여 변경\n",
        "#기존 데이터는 두고, 새로운 데이터에 저장할 때에는 명령어 앞에 df1= 처럼 원하는 이름으로 새로운 객체를 만듦"
      ],
      "execution_count": null,
      "outputs": []
    },
    {
      "cell_type": "code",
      "metadata": {
        "id": "KjRzE0gbC2Yo"
      },
      "source": [
        "df.drop(['n0','n2'],axis=1, inplace = True)\n",
        "df"
      ],
      "execution_count": null,
      "outputs": []
    },
    {
      "cell_type": "code",
      "metadata": {
        "id": "o6zM9OF2EJh2"
      },
      "source": [
        "#df 변경하기!"
      ],
      "execution_count": null,
      "outputs": []
    },
    {
      "cell_type": "code",
      "metadata": {
        "id": "gRkq-yHkDBS7"
      },
      "source": [
        "import pandas as pd\n",
        "exam_data={'수학':[90,80,70],'영어':[98,85,95],'음악':[85,95,100],'체육':[100,90,90]}\n",
        "df = pd.DataFrame(exam_data, index = ['서준','우현','인아'])\n",
        "df"
      ],
      "execution_count": null,
      "outputs": []
    },
    {
      "cell_type": "code",
      "metadata": {
        "id": "UcP2oLvHJLJe"
      },
      "source": [
        "#column 추가하기"
      ],
      "execution_count": null,
      "outputs": []
    },
    {
      "cell_type": "code",
      "metadata": {
        "id": "S7WqTkixFO79"
      },
      "source": [
        "df['국어']=80\n",
        "df"
      ],
      "execution_count": null,
      "outputs": []
    },
    {
      "cell_type": "code",
      "metadata": {
        "id": "V5ihTOjbFiL2"
      },
      "source": [
        "#column값 변경하기"
      ],
      "execution_count": null,
      "outputs": []
    },
    {
      "cell_type": "code",
      "metadata": {
        "id": "YneqRhISFV-Q"
      },
      "source": [
        "df['국어']=[100,100,80]\n",
        "df"
      ],
      "execution_count": null,
      "outputs": []
    },
    {
      "cell_type": "code",
      "metadata": {
        "id": "jaY69DVqFnhh"
      },
      "source": [
        "#행 추가하기"
      ],
      "execution_count": null,
      "outputs": []
    },
    {
      "cell_type": "code",
      "metadata": {
        "id": "B2d2LfyXFptV"
      },
      "source": [
        "df.loc['수민']=80\n",
        "df"
      ],
      "execution_count": null,
      "outputs": []
    },
    {
      "cell_type": "code",
      "metadata": {
        "id": "JxmVMUdoF6yW"
      },
      "source": [
        "#행 변경하기"
      ],
      "execution_count": null,
      "outputs": []
    },
    {
      "cell_type": "code",
      "metadata": {
        "id": "Zv0m5xlwFt0x"
      },
      "source": [
        "df.loc['수민']=[80,70,90,100]\n",
        "df"
      ],
      "execution_count": null,
      "outputs": []
    },
    {
      "cell_type": "code",
      "metadata": {
        "id": "VXiHklBwF9GU"
      },
      "source": [
        "#원소 값 변경"
      ],
      "execution_count": null,
      "outputs": []
    },
    {
      "cell_type": "code",
      "metadata": {
        "id": "dfE2xwmBF-o0"
      },
      "source": [
        "df.loc['서준','영어']=100\n",
        "df"
      ],
      "execution_count": null,
      "outputs": []
    },
    {
      "cell_type": "code",
      "metadata": {
        "id": "VMNNUdw9GVtK"
      },
      "source": [
        "#행,열 위치 바꾸기(전치)"
      ],
      "execution_count": null,
      "outputs": []
    },
    {
      "cell_type": "code",
      "metadata": {
        "id": "NUtDta4FGEfV"
      },
      "source": [
        "df=df.T"
      ],
      "execution_count": null,
      "outputs": []
    },
    {
      "cell_type": "code",
      "metadata": {
        "id": "yzkFe_7zGPMy"
      },
      "source": [
        "df"
      ],
      "execution_count": null,
      "outputs": []
    },
    {
      "cell_type": "code",
      "metadata": {
        "id": "DX9LyLjLGkKM"
      },
      "source": [
        "#제자리로\n",
        "df=df.T"
      ],
      "execution_count": null,
      "outputs": []
    },
    {
      "cell_type": "code",
      "metadata": {
        "id": "hRCRCNc8Bg_n"
      },
      "source": [
        "df"
      ],
      "execution_count": null,
      "outputs": []
    },
    {
      "cell_type": "code",
      "metadata": {
        "id": "JNoFez7gGaMz"
      },
      "source": [
        "#인덱스 기준 정렬"
      ],
      "execution_count": null,
      "outputs": []
    },
    {
      "cell_type": "code",
      "metadata": {
        "id": "3osm68SXGujj"
      },
      "source": [
        "df1=df.sort_index()\n",
        "df1"
      ],
      "execution_count": null,
      "outputs": []
    },
    {
      "cell_type": "code",
      "metadata": {
        "id": "oiAS0jc1HDV7"
      },
      "source": [
        "#특정 열 기준 정렬"
      ],
      "execution_count": null,
      "outputs": []
    },
    {
      "cell_type": "code",
      "metadata": {
        "id": "u9oAWgC0G7KX"
      },
      "source": [
        "df2=df.sort_values(by='영어',ascending=True) #ascending 오름차순 속성\n",
        "df2"
      ],
      "execution_count": null,
      "outputs": []
    },
    {
      "cell_type": "code",
      "metadata": {
        "id": "_gYkfSvpHMRX"
      },
      "source": [
        "#df의 평균값 구하기"
      ],
      "execution_count": null,
      "outputs": []
    },
    {
      "cell_type": "code",
      "metadata": {
        "id": "qU27_KfQHKfd"
      },
      "source": [
        "df.mean()"
      ],
      "execution_count": null,
      "outputs": []
    },
    {
      "cell_type": "code",
      "metadata": {
        "id": "df6er-4PL-w5"
      },
      "source": [
        "#df의 중간값 구하기"
      ],
      "execution_count": null,
      "outputs": []
    },
    {
      "cell_type": "code",
      "metadata": {
        "id": "-cPuIhqAHXq8"
      },
      "source": [
        "df.median()"
      ],
      "execution_count": null,
      "outputs": []
    },
    {
      "cell_type": "code",
      "metadata": {
        "id": "HVXLArW1MBbR"
      },
      "source": [
        "#df의 상관계수 구하기"
      ],
      "execution_count": null,
      "outputs": []
    },
    {
      "cell_type": "code",
      "metadata": {
        "id": "OP1AQn56HGKw"
      },
      "source": [
        "df.corr()"
      ],
      "execution_count": null,
      "outputs": []
    },
    {
      "cell_type": "markdown",
      "metadata": {
        "id": "KPI6Sz35sm5i"
      },
      "source": [
        "실습해보기1"
      ]
    },
    {
      "cell_type": "code",
      "metadata": {
        "id": "b79dJPVbsqFS"
      },
      "source": [
        "#데이터프레임 - 리스트, index, column 설정"
      ],
      "execution_count": null,
      "outputs": []
    },
    {
      "cell_type": "code",
      "metadata": {
        "id": "pIjMeZB_srY7",
        "colab": {
          "base_uri": "https://localhost:8080/",
          "height": 142
        },
        "outputId": "54f565f8-856c-4e74-fc05-2ee75ff2dfc2"
      },
      "source": [
        "import pandas as pd\n",
        "jj = pd.DataFrame([[20,25,30],[10,10,5],[5,10,15]], index = ['당근판매량','귤판매량','무판매량'], columns = ['9/24','9/25','9/26'])\n",
        "jj"
      ],
      "execution_count": null,
      "outputs": [
        {
          "output_type": "execute_result",
          "data": {
            "text/html": [
              "<div>\n",
              "<style scoped>\n",
              "    .dataframe tbody tr th:only-of-type {\n",
              "        vertical-align: middle;\n",
              "    }\n",
              "\n",
              "    .dataframe tbody tr th {\n",
              "        vertical-align: top;\n",
              "    }\n",
              "\n",
              "    .dataframe thead th {\n",
              "        text-align: right;\n",
              "    }\n",
              "</style>\n",
              "<table border=\"1\" class=\"dataframe\">\n",
              "  <thead>\n",
              "    <tr style=\"text-align: right;\">\n",
              "      <th></th>\n",
              "      <th>9/24</th>\n",
              "      <th>9/25</th>\n",
              "      <th>9/26</th>\n",
              "    </tr>\n",
              "  </thead>\n",
              "  <tbody>\n",
              "    <tr>\n",
              "      <th>당근판매량</th>\n",
              "      <td>20</td>\n",
              "      <td>25</td>\n",
              "      <td>30</td>\n",
              "    </tr>\n",
              "    <tr>\n",
              "      <th>귤판매량</th>\n",
              "      <td>10</td>\n",
              "      <td>10</td>\n",
              "      <td>5</td>\n",
              "    </tr>\n",
              "    <tr>\n",
              "      <th>무판매량</th>\n",
              "      <td>5</td>\n",
              "      <td>10</td>\n",
              "      <td>15</td>\n",
              "    </tr>\n",
              "  </tbody>\n",
              "</table>\n",
              "</div>"
            ],
            "text/plain": [
              "       9/24  9/25  9/26\n",
              "당근판매량    20    25    30\n",
              "귤판매량     10    10     5\n",
              "무판매량      5    10    15"
            ]
          },
          "metadata": {
            "tags": []
          },
          "execution_count": 10
        }
      ]
    },
    {
      "cell_type": "code",
      "metadata": {
        "id": "s9gzwQuPssi0"
      },
      "source": [
        "#인덱스 확인하기"
      ],
      "execution_count": null,
      "outputs": []
    },
    {
      "cell_type": "code",
      "metadata": {
        "id": "JGOm1FGpsucG",
        "colab": {
          "base_uri": "https://localhost:8080/",
          "height": 35
        },
        "outputId": "7d72246a-ecfe-4e10-8988-eaf1fd404b3b"
      },
      "source": [
        "jj.index"
      ],
      "execution_count": null,
      "outputs": [
        {
          "output_type": "execute_result",
          "data": {
            "text/plain": [
              "Index(['당근판매량', '귤판매량', '무판매량'], dtype='object')"
            ]
          },
          "metadata": {
            "tags": []
          },
          "execution_count": 12
        }
      ]
    },
    {
      "cell_type": "code",
      "metadata": {
        "id": "XBzeD5xRsu6K"
      },
      "source": [
        "#컬럼 확인하기"
      ],
      "execution_count": null,
      "outputs": []
    },
    {
      "cell_type": "code",
      "metadata": {
        "id": "udjmjWuFswo1",
        "colab": {
          "base_uri": "https://localhost:8080/",
          "height": 35
        },
        "outputId": "db7b17fc-20cf-4ae0-ee2d-f16674587b9a"
      },
      "source": [
        "jj.columns"
      ],
      "execution_count": null,
      "outputs": [
        {
          "output_type": "execute_result",
          "data": {
            "text/plain": [
              "Index(['9/24', '9/25', '9/26'], dtype='object')"
            ]
          },
          "metadata": {
            "tags": []
          },
          "execution_count": 13
        }
      ]
    },
    {
      "cell_type": "code",
      "metadata": {
        "id": "6bqMGg4Jsyc6"
      },
      "source": [
        "#인덱스, 컬럼 변경\n",
        "#인덱스 :['당근','귤','무']변경\n",
        "#컬럼 : ['09-24','09-25','09-26']변경"
      ],
      "execution_count": null,
      "outputs": []
    },
    {
      "cell_type": "code",
      "metadata": {
        "id": "_M7e_wuWszmC",
        "colab": {
          "base_uri": "https://localhost:8080/",
          "height": 142
        },
        "outputId": "0f1b8caa-5a83-4767-b8c5-3baac639ceb0"
      },
      "source": [
        "jj.index=['당근','귤','무']\n",
        "jj.columns = ['09-24','09-25','09-26']\n",
        "jj"
      ],
      "execution_count": null,
      "outputs": [
        {
          "output_type": "execute_result",
          "data": {
            "text/html": [
              "<div>\n",
              "<style scoped>\n",
              "    .dataframe tbody tr th:only-of-type {\n",
              "        vertical-align: middle;\n",
              "    }\n",
              "\n",
              "    .dataframe tbody tr th {\n",
              "        vertical-align: top;\n",
              "    }\n",
              "\n",
              "    .dataframe thead th {\n",
              "        text-align: right;\n",
              "    }\n",
              "</style>\n",
              "<table border=\"1\" class=\"dataframe\">\n",
              "  <thead>\n",
              "    <tr style=\"text-align: right;\">\n",
              "      <th></th>\n",
              "      <th>09-24</th>\n",
              "      <th>09-25</th>\n",
              "      <th>09-26</th>\n",
              "    </tr>\n",
              "  </thead>\n",
              "  <tbody>\n",
              "    <tr>\n",
              "      <th>당근</th>\n",
              "      <td>20</td>\n",
              "      <td>25</td>\n",
              "      <td>30</td>\n",
              "    </tr>\n",
              "    <tr>\n",
              "      <th>귤</th>\n",
              "      <td>10</td>\n",
              "      <td>10</td>\n",
              "      <td>5</td>\n",
              "    </tr>\n",
              "    <tr>\n",
              "      <th>무</th>\n",
              "      <td>5</td>\n",
              "      <td>10</td>\n",
              "      <td>15</td>\n",
              "    </tr>\n",
              "  </tbody>\n",
              "</table>\n",
              "</div>"
            ],
            "text/plain": [
              "    09-24  09-25  09-26\n",
              "당근     20     25     30\n",
              "귤      10     10      5\n",
              "무       5     10     15"
            ]
          },
          "metadata": {
            "tags": []
          },
          "execution_count": 18
        }
      ]
    },
    {
      "cell_type": "code",
      "metadata": {
        "id": "_CE9UDC1s5Rd"
      },
      "source": [
        "#'당근'행 삭제 후 jj1저장"
      ],
      "execution_count": null,
      "outputs": []
    },
    {
      "cell_type": "code",
      "metadata": {
        "id": "XHc2IxYhs6FD",
        "colab": {
          "base_uri": "https://localhost:8080/",
          "height": 111
        },
        "outputId": "009cd54b-4108-4212-f9b5-e6468909585e"
      },
      "source": [
        "jj1 = jj.drop('당근', axis=0)\n",
        "jj1"
      ],
      "execution_count": null,
      "outputs": [
        {
          "output_type": "execute_result",
          "data": {
            "text/html": [
              "<div>\n",
              "<style scoped>\n",
              "    .dataframe tbody tr th:only-of-type {\n",
              "        vertical-align: middle;\n",
              "    }\n",
              "\n",
              "    .dataframe tbody tr th {\n",
              "        vertical-align: top;\n",
              "    }\n",
              "\n",
              "    .dataframe thead th {\n",
              "        text-align: right;\n",
              "    }\n",
              "</style>\n",
              "<table border=\"1\" class=\"dataframe\">\n",
              "  <thead>\n",
              "    <tr style=\"text-align: right;\">\n",
              "      <th></th>\n",
              "      <th>09-24</th>\n",
              "      <th>09-25</th>\n",
              "      <th>09-26</th>\n",
              "    </tr>\n",
              "  </thead>\n",
              "  <tbody>\n",
              "    <tr>\n",
              "      <th>귤</th>\n",
              "      <td>10</td>\n",
              "      <td>10</td>\n",
              "      <td>5</td>\n",
              "    </tr>\n",
              "    <tr>\n",
              "      <th>무</th>\n",
              "      <td>5</td>\n",
              "      <td>10</td>\n",
              "      <td>15</td>\n",
              "    </tr>\n",
              "  </tbody>\n",
              "</table>\n",
              "</div>"
            ],
            "text/plain": [
              "   09-24  09-25  09-26\n",
              "귤     10     10      5\n",
              "무      5     10     15"
            ]
          },
          "metadata": {
            "tags": []
          },
          "execution_count": 20
        }
      ]
    },
    {
      "cell_type": "code",
      "metadata": {
        "id": "6QQQsKxgs6fh"
      },
      "source": [
        "#'09-24','09-26' 열 삭제 후 jj2저장"
      ],
      "execution_count": null,
      "outputs": []
    },
    {
      "cell_type": "code",
      "metadata": {
        "id": "FJIA4n7ds7zl",
        "colab": {
          "base_uri": "https://localhost:8080/",
          "height": 142
        },
        "outputId": "cd07d422-5118-49ee-eff6-c2673854334a"
      },
      "source": [
        "jj2 = jj.drop(['09-24','09-26'], axis=1)\n",
        "jj2"
      ],
      "execution_count": null,
      "outputs": [
        {
          "output_type": "execute_result",
          "data": {
            "text/html": [
              "<div>\n",
              "<style scoped>\n",
              "    .dataframe tbody tr th:only-of-type {\n",
              "        vertical-align: middle;\n",
              "    }\n",
              "\n",
              "    .dataframe tbody tr th {\n",
              "        vertical-align: top;\n",
              "    }\n",
              "\n",
              "    .dataframe thead th {\n",
              "        text-align: right;\n",
              "    }\n",
              "</style>\n",
              "<table border=\"1\" class=\"dataframe\">\n",
              "  <thead>\n",
              "    <tr style=\"text-align: right;\">\n",
              "      <th></th>\n",
              "      <th>09-25</th>\n",
              "    </tr>\n",
              "  </thead>\n",
              "  <tbody>\n",
              "    <tr>\n",
              "      <th>당근</th>\n",
              "      <td>25</td>\n",
              "    </tr>\n",
              "    <tr>\n",
              "      <th>귤</th>\n",
              "      <td>10</td>\n",
              "    </tr>\n",
              "    <tr>\n",
              "      <th>무</th>\n",
              "      <td>10</td>\n",
              "    </tr>\n",
              "  </tbody>\n",
              "</table>\n",
              "</div>"
            ],
            "text/plain": [
              "    09-25\n",
              "당근     25\n",
              "귤      10\n",
              "무      10"
            ]
          },
          "metadata": {
            "tags": []
          },
          "execution_count": 21
        }
      ]
    },
    {
      "cell_type": "code",
      "metadata": {
        "id": "BZsS8_o5s8J3"
      },
      "source": [
        "#jj 다시 불러오기"
      ],
      "execution_count": null,
      "outputs": []
    },
    {
      "cell_type": "code",
      "metadata": {
        "id": "mi2SuGWrs_q5",
        "colab": {
          "base_uri": "https://localhost:8080/",
          "height": 142
        },
        "outputId": "fd003a61-3c2c-43fa-dc3e-b0b3448a4704"
      },
      "source": [
        "import pandas as pd\n",
        "jj = pd.DataFrame([[20,25,30],[10,10,5],[5,10,15]], index = ['당근판매량','귤판매량','무판매량'], columns = ['9/24','9/25','9/26'])\n",
        "jj"
      ],
      "execution_count": null,
      "outputs": [
        {
          "output_type": "execute_result",
          "data": {
            "text/html": [
              "<div>\n",
              "<style scoped>\n",
              "    .dataframe tbody tr th:only-of-type {\n",
              "        vertical-align: middle;\n",
              "    }\n",
              "\n",
              "    .dataframe tbody tr th {\n",
              "        vertical-align: top;\n",
              "    }\n",
              "\n",
              "    .dataframe thead th {\n",
              "        text-align: right;\n",
              "    }\n",
              "</style>\n",
              "<table border=\"1\" class=\"dataframe\">\n",
              "  <thead>\n",
              "    <tr style=\"text-align: right;\">\n",
              "      <th></th>\n",
              "      <th>9/24</th>\n",
              "      <th>9/25</th>\n",
              "      <th>9/26</th>\n",
              "    </tr>\n",
              "  </thead>\n",
              "  <tbody>\n",
              "    <tr>\n",
              "      <th>당근판매량</th>\n",
              "      <td>20</td>\n",
              "      <td>25</td>\n",
              "      <td>30</td>\n",
              "    </tr>\n",
              "    <tr>\n",
              "      <th>귤판매량</th>\n",
              "      <td>10</td>\n",
              "      <td>10</td>\n",
              "      <td>5</td>\n",
              "    </tr>\n",
              "    <tr>\n",
              "      <th>무판매량</th>\n",
              "      <td>5</td>\n",
              "      <td>10</td>\n",
              "      <td>15</td>\n",
              "    </tr>\n",
              "  </tbody>\n",
              "</table>\n",
              "</div>"
            ],
            "text/plain": [
              "       9/24  9/25  9/26\n",
              "당근판매량    20    25    30\n",
              "귤판매량     10    10     5\n",
              "무판매량      5    10    15"
            ]
          },
          "metadata": {
            "tags": []
          },
          "execution_count": 22
        }
      ]
    },
    {
      "cell_type": "code",
      "metadata": {
        "id": "_trSbkrJtD4L"
      },
      "source": [
        "#jj에 '9/22' column 추가하기, 판매량은 [40,3,20]"
      ],
      "execution_count": null,
      "outputs": []
    },
    {
      "cell_type": "code",
      "metadata": {
        "id": "w5izDDTdtETm",
        "colab": {
          "base_uri": "https://localhost:8080/",
          "height": 142
        },
        "outputId": "9989a41a-5436-4a41-878b-915842ba76b3"
      },
      "source": [
        "jj['9/22']=40,3,20\n",
        "jj"
      ],
      "execution_count": null,
      "outputs": [
        {
          "output_type": "execute_result",
          "data": {
            "text/html": [
              "<div>\n",
              "<style scoped>\n",
              "    .dataframe tbody tr th:only-of-type {\n",
              "        vertical-align: middle;\n",
              "    }\n",
              "\n",
              "    .dataframe tbody tr th {\n",
              "        vertical-align: top;\n",
              "    }\n",
              "\n",
              "    .dataframe thead th {\n",
              "        text-align: right;\n",
              "    }\n",
              "</style>\n",
              "<table border=\"1\" class=\"dataframe\">\n",
              "  <thead>\n",
              "    <tr style=\"text-align: right;\">\n",
              "      <th></th>\n",
              "      <th>9/24</th>\n",
              "      <th>9/25</th>\n",
              "      <th>9/26</th>\n",
              "      <th>9/22</th>\n",
              "    </tr>\n",
              "  </thead>\n",
              "  <tbody>\n",
              "    <tr>\n",
              "      <th>당근판매량</th>\n",
              "      <td>20</td>\n",
              "      <td>25</td>\n",
              "      <td>30</td>\n",
              "      <td>40</td>\n",
              "    </tr>\n",
              "    <tr>\n",
              "      <th>귤판매량</th>\n",
              "      <td>10</td>\n",
              "      <td>10</td>\n",
              "      <td>5</td>\n",
              "      <td>3</td>\n",
              "    </tr>\n",
              "    <tr>\n",
              "      <th>무판매량</th>\n",
              "      <td>5</td>\n",
              "      <td>10</td>\n",
              "      <td>15</td>\n",
              "      <td>20</td>\n",
              "    </tr>\n",
              "  </tbody>\n",
              "</table>\n",
              "</div>"
            ],
            "text/plain": [
              "       9/24  9/25  9/26  9/22\n",
              "당근판매량    20    25    30    40\n",
              "귤판매량     10    10     5     3\n",
              "무판매량      5    10    15    20"
            ]
          },
          "metadata": {
            "tags": []
          },
          "execution_count": 25
        }
      ]
    },
    {
      "cell_type": "code",
      "metadata": {
        "id": "N6kh2KUEtEuD"
      },
      "source": [
        "#'포도판매량' index 추가하기, 판매량은 전체 30"
      ],
      "execution_count": null,
      "outputs": []
    },
    {
      "cell_type": "code",
      "metadata": {
        "id": "66A6oOJItGV4",
        "colab": {
          "base_uri": "https://localhost:8080/",
          "height": 173
        },
        "outputId": "c5d1a34f-1207-4345-c114-378977f35495"
      },
      "source": [
        "jj.loc['포도판매량'] = 30\n",
        "jj"
      ],
      "execution_count": null,
      "outputs": [
        {
          "output_type": "execute_result",
          "data": {
            "text/html": [
              "<div>\n",
              "<style scoped>\n",
              "    .dataframe tbody tr th:only-of-type {\n",
              "        vertical-align: middle;\n",
              "    }\n",
              "\n",
              "    .dataframe tbody tr th {\n",
              "        vertical-align: top;\n",
              "    }\n",
              "\n",
              "    .dataframe thead th {\n",
              "        text-align: right;\n",
              "    }\n",
              "</style>\n",
              "<table border=\"1\" class=\"dataframe\">\n",
              "  <thead>\n",
              "    <tr style=\"text-align: right;\">\n",
              "      <th></th>\n",
              "      <th>9/24</th>\n",
              "      <th>9/25</th>\n",
              "      <th>9/26</th>\n",
              "      <th>9/22</th>\n",
              "    </tr>\n",
              "  </thead>\n",
              "  <tbody>\n",
              "    <tr>\n",
              "      <th>당근판매량</th>\n",
              "      <td>20</td>\n",
              "      <td>25</td>\n",
              "      <td>30</td>\n",
              "      <td>40</td>\n",
              "    </tr>\n",
              "    <tr>\n",
              "      <th>귤판매량</th>\n",
              "      <td>10</td>\n",
              "      <td>10</td>\n",
              "      <td>5</td>\n",
              "      <td>3</td>\n",
              "    </tr>\n",
              "    <tr>\n",
              "      <th>무판매량</th>\n",
              "      <td>5</td>\n",
              "      <td>10</td>\n",
              "      <td>15</td>\n",
              "      <td>20</td>\n",
              "    </tr>\n",
              "    <tr>\n",
              "      <th>포도판매량</th>\n",
              "      <td>30</td>\n",
              "      <td>30</td>\n",
              "      <td>30</td>\n",
              "      <td>30</td>\n",
              "    </tr>\n",
              "  </tbody>\n",
              "</table>\n",
              "</div>"
            ],
            "text/plain": [
              "       9/24  9/25  9/26  9/22\n",
              "당근판매량    20    25    30    40\n",
              "귤판매량     10    10     5     3\n",
              "무판매량      5    10    15    20\n",
              "포도판매량    30    30    30    30"
            ]
          },
          "metadata": {
            "tags": []
          },
          "execution_count": 27
        }
      ]
    },
    {
      "cell_type": "code",
      "metadata": {
        "id": "Oaj_0ggXtHv0"
      },
      "source": [
        "#'무판매량' index값 [10,10,15,20]으로 변경하기"
      ],
      "execution_count": null,
      "outputs": []
    },
    {
      "cell_type": "code",
      "metadata": {
        "id": "ibfTUzgbtIMZ",
        "colab": {
          "base_uri": "https://localhost:8080/",
          "height": 173
        },
        "outputId": "a692ba78-982a-4ab6-b62b-b64e8e1e7e9e"
      },
      "source": [
        "jj.loc['무판매량'] = 10,10,15,20\n",
        "jj"
      ],
      "execution_count": null,
      "outputs": [
        {
          "output_type": "execute_result",
          "data": {
            "text/html": [
              "<div>\n",
              "<style scoped>\n",
              "    .dataframe tbody tr th:only-of-type {\n",
              "        vertical-align: middle;\n",
              "    }\n",
              "\n",
              "    .dataframe tbody tr th {\n",
              "        vertical-align: top;\n",
              "    }\n",
              "\n",
              "    .dataframe thead th {\n",
              "        text-align: right;\n",
              "    }\n",
              "</style>\n",
              "<table border=\"1\" class=\"dataframe\">\n",
              "  <thead>\n",
              "    <tr style=\"text-align: right;\">\n",
              "      <th></th>\n",
              "      <th>9/24</th>\n",
              "      <th>9/25</th>\n",
              "      <th>9/26</th>\n",
              "      <th>9/22</th>\n",
              "    </tr>\n",
              "  </thead>\n",
              "  <tbody>\n",
              "    <tr>\n",
              "      <th>당근판매량</th>\n",
              "      <td>20</td>\n",
              "      <td>25</td>\n",
              "      <td>30</td>\n",
              "      <td>40</td>\n",
              "    </tr>\n",
              "    <tr>\n",
              "      <th>귤판매량</th>\n",
              "      <td>10</td>\n",
              "      <td>10</td>\n",
              "      <td>5</td>\n",
              "      <td>3</td>\n",
              "    </tr>\n",
              "    <tr>\n",
              "      <th>무판매량</th>\n",
              "      <td>10</td>\n",
              "      <td>10</td>\n",
              "      <td>15</td>\n",
              "      <td>20</td>\n",
              "    </tr>\n",
              "    <tr>\n",
              "      <th>포도판매량</th>\n",
              "      <td>30</td>\n",
              "      <td>30</td>\n",
              "      <td>30</td>\n",
              "      <td>30</td>\n",
              "    </tr>\n",
              "  </tbody>\n",
              "</table>\n",
              "</div>"
            ],
            "text/plain": [
              "       9/24  9/25  9/26  9/22\n",
              "당근판매량    20    25    30    40\n",
              "귤판매량     10    10     5     3\n",
              "무판매량     10    10    15    20\n",
              "포도판매량    30    30    30    30"
            ]
          },
          "metadata": {
            "tags": []
          },
          "execution_count": 29
        }
      ]
    },
    {
      "cell_type": "code",
      "metadata": {
        "id": "oCBURuyktKc8"
      },
      "source": [
        "#'포도판매량','9/25' 원소 값 25로 변경"
      ],
      "execution_count": null,
      "outputs": []
    },
    {
      "cell_type": "code",
      "metadata": {
        "id": "ZDBn5Y33tK3C",
        "colab": {
          "base_uri": "https://localhost:8080/",
          "height": 173
        },
        "outputId": "e03b790a-524c-4349-c61c-3b75ba11fc13"
      },
      "source": [
        "jj.loc['포도판매량','9/25'] = 25\n",
        "jj"
      ],
      "execution_count": null,
      "outputs": [
        {
          "output_type": "execute_result",
          "data": {
            "text/html": [
              "<div>\n",
              "<style scoped>\n",
              "    .dataframe tbody tr th:only-of-type {\n",
              "        vertical-align: middle;\n",
              "    }\n",
              "\n",
              "    .dataframe tbody tr th {\n",
              "        vertical-align: top;\n",
              "    }\n",
              "\n",
              "    .dataframe thead th {\n",
              "        text-align: right;\n",
              "    }\n",
              "</style>\n",
              "<table border=\"1\" class=\"dataframe\">\n",
              "  <thead>\n",
              "    <tr style=\"text-align: right;\">\n",
              "      <th></th>\n",
              "      <th>9/24</th>\n",
              "      <th>9/25</th>\n",
              "      <th>9/26</th>\n",
              "      <th>9/22</th>\n",
              "    </tr>\n",
              "  </thead>\n",
              "  <tbody>\n",
              "    <tr>\n",
              "      <th>당근판매량</th>\n",
              "      <td>20</td>\n",
              "      <td>25</td>\n",
              "      <td>30</td>\n",
              "      <td>40</td>\n",
              "    </tr>\n",
              "    <tr>\n",
              "      <th>귤판매량</th>\n",
              "      <td>10</td>\n",
              "      <td>10</td>\n",
              "      <td>5</td>\n",
              "      <td>3</td>\n",
              "    </tr>\n",
              "    <tr>\n",
              "      <th>무판매량</th>\n",
              "      <td>10</td>\n",
              "      <td>10</td>\n",
              "      <td>15</td>\n",
              "      <td>20</td>\n",
              "    </tr>\n",
              "    <tr>\n",
              "      <th>포도판매량</th>\n",
              "      <td>30</td>\n",
              "      <td>25</td>\n",
              "      <td>30</td>\n",
              "      <td>30</td>\n",
              "    </tr>\n",
              "  </tbody>\n",
              "</table>\n",
              "</div>"
            ],
            "text/plain": [
              "       9/24  9/25  9/26  9/22\n",
              "당근판매량    20    25    30    40\n",
              "귤판매량     10    10     5     3\n",
              "무판매량     10    10    15    20\n",
              "포도판매량    30    25    30    30"
            ]
          },
          "metadata": {
            "tags": []
          },
          "execution_count": 30
        }
      ]
    },
    {
      "cell_type": "code",
      "metadata": {
        "id": "tzfuIvYztLdQ"
      },
      "source": [
        "#행,열 위치 바꾸기(전치)하여 jj에 저장"
      ],
      "execution_count": null,
      "outputs": []
    },
    {
      "cell_type": "code",
      "metadata": {
        "id": "Gp3NLLM5tNBQ",
        "colab": {
          "base_uri": "https://localhost:8080/",
          "height": 173
        },
        "outputId": "b274c3a2-7902-4c71-cf05-c670040ba18d"
      },
      "source": [
        "jj = jj.T\n",
        "jj"
      ],
      "execution_count": null,
      "outputs": [
        {
          "output_type": "execute_result",
          "data": {
            "text/html": [
              "<div>\n",
              "<style scoped>\n",
              "    .dataframe tbody tr th:only-of-type {\n",
              "        vertical-align: middle;\n",
              "    }\n",
              "\n",
              "    .dataframe tbody tr th {\n",
              "        vertical-align: top;\n",
              "    }\n",
              "\n",
              "    .dataframe thead th {\n",
              "        text-align: right;\n",
              "    }\n",
              "</style>\n",
              "<table border=\"1\" class=\"dataframe\">\n",
              "  <thead>\n",
              "    <tr style=\"text-align: right;\">\n",
              "      <th></th>\n",
              "      <th>당근판매량</th>\n",
              "      <th>귤판매량</th>\n",
              "      <th>무판매량</th>\n",
              "      <th>포도판매량</th>\n",
              "    </tr>\n",
              "  </thead>\n",
              "  <tbody>\n",
              "    <tr>\n",
              "      <th>9/24</th>\n",
              "      <td>20</td>\n",
              "      <td>10</td>\n",
              "      <td>10</td>\n",
              "      <td>30</td>\n",
              "    </tr>\n",
              "    <tr>\n",
              "      <th>9/25</th>\n",
              "      <td>25</td>\n",
              "      <td>10</td>\n",
              "      <td>10</td>\n",
              "      <td>25</td>\n",
              "    </tr>\n",
              "    <tr>\n",
              "      <th>9/26</th>\n",
              "      <td>30</td>\n",
              "      <td>5</td>\n",
              "      <td>15</td>\n",
              "      <td>30</td>\n",
              "    </tr>\n",
              "    <tr>\n",
              "      <th>9/22</th>\n",
              "      <td>40</td>\n",
              "      <td>3</td>\n",
              "      <td>20</td>\n",
              "      <td>30</td>\n",
              "    </tr>\n",
              "  </tbody>\n",
              "</table>\n",
              "</div>"
            ],
            "text/plain": [
              "      당근판매량  귤판매량  무판매량  포도판매량\n",
              "9/24     20    10    10     30\n",
              "9/25     25    10    10     25\n",
              "9/26     30     5    15     30\n",
              "9/22     40     3    20     30"
            ]
          },
          "metadata": {
            "tags": []
          },
          "execution_count": 33
        }
      ]
    },
    {
      "cell_type": "code",
      "metadata": {
        "id": "4QgH_pmBtPZK"
      },
      "source": [
        "jj"
      ],
      "execution_count": null,
      "outputs": []
    },
    {
      "cell_type": "code",
      "metadata": {
        "id": "cyjtuH6PtQbi"
      },
      "source": [
        "#인덱스 기준 오름차순 정렬하고 jj1에 저장"
      ],
      "execution_count": null,
      "outputs": []
    },
    {
      "cell_type": "code",
      "metadata": {
        "id": "ioX7eqCCtQ3E",
        "colab": {
          "base_uri": "https://localhost:8080/",
          "height": 173
        },
        "outputId": "71510044-8d21-4c2f-c3e0-dc58e2268312"
      },
      "source": [
        "jj1 = jj.sort_index(ascending=True)\n",
        "jj1"
      ],
      "execution_count": null,
      "outputs": [
        {
          "output_type": "execute_result",
          "data": {
            "text/html": [
              "<div>\n",
              "<style scoped>\n",
              "    .dataframe tbody tr th:only-of-type {\n",
              "        vertical-align: middle;\n",
              "    }\n",
              "\n",
              "    .dataframe tbody tr th {\n",
              "        vertical-align: top;\n",
              "    }\n",
              "\n",
              "    .dataframe thead th {\n",
              "        text-align: right;\n",
              "    }\n",
              "</style>\n",
              "<table border=\"1\" class=\"dataframe\">\n",
              "  <thead>\n",
              "    <tr style=\"text-align: right;\">\n",
              "      <th></th>\n",
              "      <th>당근판매량</th>\n",
              "      <th>귤판매량</th>\n",
              "      <th>무판매량</th>\n",
              "      <th>포도판매량</th>\n",
              "    </tr>\n",
              "  </thead>\n",
              "  <tbody>\n",
              "    <tr>\n",
              "      <th>9/22</th>\n",
              "      <td>40</td>\n",
              "      <td>3</td>\n",
              "      <td>20</td>\n",
              "      <td>30</td>\n",
              "    </tr>\n",
              "    <tr>\n",
              "      <th>9/24</th>\n",
              "      <td>20</td>\n",
              "      <td>10</td>\n",
              "      <td>10</td>\n",
              "      <td>30</td>\n",
              "    </tr>\n",
              "    <tr>\n",
              "      <th>9/25</th>\n",
              "      <td>25</td>\n",
              "      <td>10</td>\n",
              "      <td>10</td>\n",
              "      <td>25</td>\n",
              "    </tr>\n",
              "    <tr>\n",
              "      <th>9/26</th>\n",
              "      <td>30</td>\n",
              "      <td>5</td>\n",
              "      <td>15</td>\n",
              "      <td>30</td>\n",
              "    </tr>\n",
              "  </tbody>\n",
              "</table>\n",
              "</div>"
            ],
            "text/plain": [
              "      당근판매량  귤판매량  무판매량  포도판매량\n",
              "9/22     40     3    20     30\n",
              "9/24     20    10    10     30\n",
              "9/25     25    10    10     25\n",
              "9/26     30     5    15     30"
            ]
          },
          "metadata": {
            "tags": []
          },
          "execution_count": 34
        }
      ]
    },
    {
      "cell_type": "code",
      "metadata": {
        "id": "Yn0qgtVGtRSD"
      },
      "source": [
        "#'당근판매량' 컬럼 기준 오름차순 정렬후 jj2에 저장"
      ],
      "execution_count": null,
      "outputs": []
    },
    {
      "cell_type": "code",
      "metadata": {
        "id": "CYrhUNxmtUZh",
        "colab": {
          "base_uri": "https://localhost:8080/",
          "height": 173
        },
        "outputId": "436a78df-6add-4e30-be79-78caad1d920b"
      },
      "source": [
        "jj1 = jj.sort_values(by='당근판매량',ascending=True)\n",
        "jj1"
      ],
      "execution_count": null,
      "outputs": [
        {
          "output_type": "execute_result",
          "data": {
            "text/html": [
              "<div>\n",
              "<style scoped>\n",
              "    .dataframe tbody tr th:only-of-type {\n",
              "        vertical-align: middle;\n",
              "    }\n",
              "\n",
              "    .dataframe tbody tr th {\n",
              "        vertical-align: top;\n",
              "    }\n",
              "\n",
              "    .dataframe thead th {\n",
              "        text-align: right;\n",
              "    }\n",
              "</style>\n",
              "<table border=\"1\" class=\"dataframe\">\n",
              "  <thead>\n",
              "    <tr style=\"text-align: right;\">\n",
              "      <th></th>\n",
              "      <th>당근판매량</th>\n",
              "      <th>귤판매량</th>\n",
              "      <th>무판매량</th>\n",
              "      <th>포도판매량</th>\n",
              "    </tr>\n",
              "  </thead>\n",
              "  <tbody>\n",
              "    <tr>\n",
              "      <th>9/24</th>\n",
              "      <td>20</td>\n",
              "      <td>10</td>\n",
              "      <td>10</td>\n",
              "      <td>30</td>\n",
              "    </tr>\n",
              "    <tr>\n",
              "      <th>9/25</th>\n",
              "      <td>25</td>\n",
              "      <td>10</td>\n",
              "      <td>10</td>\n",
              "      <td>25</td>\n",
              "    </tr>\n",
              "    <tr>\n",
              "      <th>9/26</th>\n",
              "      <td>30</td>\n",
              "      <td>5</td>\n",
              "      <td>15</td>\n",
              "      <td>30</td>\n",
              "    </tr>\n",
              "    <tr>\n",
              "      <th>9/22</th>\n",
              "      <td>40</td>\n",
              "      <td>3</td>\n",
              "      <td>20</td>\n",
              "      <td>30</td>\n",
              "    </tr>\n",
              "  </tbody>\n",
              "</table>\n",
              "</div>"
            ],
            "text/plain": [
              "      당근판매량  귤판매량  무판매량  포도판매량\n",
              "9/24     20    10    10     30\n",
              "9/25     25    10    10     25\n",
              "9/26     30     5    15     30\n",
              "9/22     40     3    20     30"
            ]
          },
          "metadata": {
            "tags": []
          },
          "execution_count": 37
        }
      ]
    },
    {
      "cell_type": "code",
      "metadata": {
        "id": "CrL8KoU9tV6X"
      },
      "source": [
        "#jj의 평균값 구하기"
      ],
      "execution_count": null,
      "outputs": []
    },
    {
      "cell_type": "code",
      "metadata": {
        "id": "upY0A9-0tWYb",
        "colab": {
          "base_uri": "https://localhost:8080/",
          "height": 107
        },
        "outputId": "9945942f-b860-4481-f31c-a2ffc63128fb"
      },
      "source": [
        "jj.mean()"
      ],
      "execution_count": null,
      "outputs": [
        {
          "output_type": "execute_result",
          "data": {
            "text/plain": [
              "당근판매량    28.75\n",
              "귤판매량      7.00\n",
              "무판매량     13.75\n",
              "포도판매량    28.75\n",
              "dtype: float64"
            ]
          },
          "metadata": {
            "tags": []
          },
          "execution_count": 40
        }
      ]
    },
    {
      "cell_type": "code",
      "metadata": {
        "id": "qWFmQGZntXpG"
      },
      "source": [
        "#jj의 중간값 구하기"
      ],
      "execution_count": null,
      "outputs": []
    },
    {
      "cell_type": "code",
      "metadata": {
        "id": "LcrZubPytYLh",
        "colab": {
          "base_uri": "https://localhost:8080/",
          "height": 107
        },
        "outputId": "d5dda2ab-3bf0-4f74-a06f-938757c50ac7"
      },
      "source": [
        "jj.median()"
      ],
      "execution_count": null,
      "outputs": [
        {
          "output_type": "execute_result",
          "data": {
            "text/plain": [
              "당근판매량    27.5\n",
              "귤판매량      7.5\n",
              "무판매량     12.5\n",
              "포도판매량    30.0\n",
              "dtype: float64"
            ]
          },
          "metadata": {
            "tags": []
          },
          "execution_count": 41
        }
      ]
    },
    {
      "cell_type": "code",
      "metadata": {
        "id": "NY10yx6gtYml"
      },
      "source": [
        "#jj의 상관계수 구하기"
      ],
      "execution_count": null,
      "outputs": []
    },
    {
      "cell_type": "code",
      "metadata": {
        "id": "ixbNiBf4tb6R",
        "colab": {
          "base_uri": "https://localhost:8080/",
          "height": 173
        },
        "outputId": "2a37c4e5-f584-41ab-8559-5ad24117e5d2"
      },
      "source": [
        "jj.corr()"
      ],
      "execution_count": null,
      "outputs": [
        {
          "output_type": "execute_result",
          "data": {
            "text/html": [
              "<div>\n",
              "<style scoped>\n",
              "    .dataframe tbody tr th:only-of-type {\n",
              "        vertical-align: middle;\n",
              "    }\n",
              "\n",
              "    .dataframe tbody tr th {\n",
              "        vertical-align: top;\n",
              "    }\n",
              "\n",
              "    .dataframe thead th {\n",
              "        text-align: right;\n",
              "    }\n",
              "</style>\n",
              "<table border=\"1\" class=\"dataframe\">\n",
              "  <thead>\n",
              "    <tr style=\"text-align: right;\">\n",
              "      <th></th>\n",
              "      <th>당근판매량</th>\n",
              "      <th>귤판매량</th>\n",
              "      <th>무판매량</th>\n",
              "      <th>포도판매량</th>\n",
              "    </tr>\n",
              "  </thead>\n",
              "  <tbody>\n",
              "    <tr>\n",
              "      <th>당근판매량</th>\n",
              "      <td>1.000000</td>\n",
              "      <td>-0.932294</td>\n",
              "      <td>0.968330</td>\n",
              "      <td>0.292770</td>\n",
              "    </tr>\n",
              "    <tr>\n",
              "      <th>귤판매량</th>\n",
              "      <td>-0.932294</td>\n",
              "      <td>1.000000</td>\n",
              "      <td>-0.978232</td>\n",
              "      <td>-0.561951</td>\n",
              "    </tr>\n",
              "    <tr>\n",
              "      <th>무판매량</th>\n",
              "      <td>0.968330</td>\n",
              "      <td>-0.978232</td>\n",
              "      <td>1.000000</td>\n",
              "      <td>0.522233</td>\n",
              "    </tr>\n",
              "    <tr>\n",
              "      <th>포도판매량</th>\n",
              "      <td>0.292770</td>\n",
              "      <td>-0.561951</td>\n",
              "      <td>0.522233</td>\n",
              "      <td>1.000000</td>\n",
              "    </tr>\n",
              "  </tbody>\n",
              "</table>\n",
              "</div>"
            ],
            "text/plain": [
              "          당근판매량      귤판매량      무판매량     포도판매량\n",
              "당근판매량  1.000000 -0.932294  0.968330  0.292770\n",
              "귤판매량  -0.932294  1.000000 -0.978232 -0.561951\n",
              "무판매량   0.968330 -0.978232  1.000000  0.522233\n",
              "포도판매량  0.292770 -0.561951  0.522233  1.000000"
            ]
          },
          "metadata": {
            "tags": []
          },
          "execution_count": 44
        }
      ]
    },
    {
      "cell_type": "markdown",
      "metadata": {
        "id": "vhB4LaLswVEp"
      },
      "source": [
        "산술연산 - 리스트, 배열 , numpy라이브러리, pandas라이브러리"
      ]
    },
    {
      "cell_type": "code",
      "metadata": {
        "id": "SDh9Vxokwa1v"
      },
      "source": [
        "#리스트 연산하기"
      ],
      "execution_count": null,
      "outputs": []
    },
    {
      "cell_type": "code",
      "metadata": {
        "id": "7_0xYGzDwuFc",
        "colab": {
          "base_uri": "https://localhost:8080/",
          "height": 190
        },
        "outputId": "93ac2fe3-0181-4d6f-ff7b-73d24cd4a5cb"
      },
      "source": [
        "a=[1,2,3,4,5]\n",
        "a=a+3 "
      ],
      "execution_count": null,
      "outputs": [
        {
          "output_type": "error",
          "ename": "TypeError",
          "evalue": "ignored",
          "traceback": [
            "\u001b[0;31m---------------------------------------------------------------------------\u001b[0m",
            "\u001b[0;31mTypeError\u001b[0m                                 Traceback (most recent call last)",
            "\u001b[0;32m<ipython-input-45-b4f805a1653f>\u001b[0m in \u001b[0;36m<module>\u001b[0;34m()\u001b[0m\n\u001b[1;32m      1\u001b[0m \u001b[0ma\u001b[0m\u001b[0;34m=\u001b[0m\u001b[0;34m[\u001b[0m\u001b[0;36m1\u001b[0m\u001b[0;34m,\u001b[0m\u001b[0;36m2\u001b[0m\u001b[0;34m,\u001b[0m\u001b[0;36m3\u001b[0m\u001b[0;34m,\u001b[0m\u001b[0;36m4\u001b[0m\u001b[0;34m,\u001b[0m\u001b[0;36m5\u001b[0m\u001b[0;34m]\u001b[0m\u001b[0;34m\u001b[0m\u001b[0;34m\u001b[0m\u001b[0m\n\u001b[0;32m----> 2\u001b[0;31m \u001b[0ma\u001b[0m\u001b[0;34m=\u001b[0m\u001b[0ma\u001b[0m\u001b[0;34m+\u001b[0m\u001b[0;36m3\u001b[0m\u001b[0;34m\u001b[0m\u001b[0;34m\u001b[0m\u001b[0m\n\u001b[0m",
            "\u001b[0;31mTypeError\u001b[0m: can only concatenate list (not \"int\") to list"
          ]
        }
      ]
    },
    {
      "cell_type": "code",
      "metadata": {
        "id": "mKVXYtCXxAEa",
        "colab": {
          "base_uri": "https://localhost:8080/",
          "height": 35
        },
        "outputId": "e1b1005c-0b50-4621-a772-0fad7b25c884"
      },
      "source": [
        "a*3"
      ],
      "execution_count": null,
      "outputs": [
        {
          "output_type": "execute_result",
          "data": {
            "text/plain": [
              "[1, 2, 3, 4, 5, 1, 2, 3, 4, 5, 1, 2, 3, 4, 5]"
            ]
          },
          "metadata": {
            "tags": []
          },
          "execution_count": 46
        }
      ]
    },
    {
      "cell_type": "code",
      "metadata": {
        "id": "Qnn4LcU0xCYY"
      },
      "source": [
        "#넘파이 배열 사용하기"
      ],
      "execution_count": null,
      "outputs": []
    },
    {
      "cell_type": "code",
      "metadata": {
        "id": "sKoxFrCi8DST"
      },
      "source": [
        "import numpy as np"
      ],
      "execution_count": null,
      "outputs": []
    },
    {
      "cell_type": "code",
      "metadata": {
        "id": "iChGpjonxEwB",
        "colab": {
          "base_uri": "https://localhost:8080/",
          "height": 35
        },
        "outputId": "4f56d582-cb0a-4c94-9caf-df0a95d8c8fc"
      },
      "source": [
        "b=np.array([1,2,3,4,5])\n",
        "b"
      ],
      "execution_count": null,
      "outputs": [
        {
          "output_type": "execute_result",
          "data": {
            "text/plain": [
              "array([1, 2, 3, 4, 5])"
            ]
          },
          "metadata": {
            "tags": []
          },
          "execution_count": 48
        }
      ]
    },
    {
      "cell_type": "code",
      "metadata": {
        "id": "yn19I5907V0y"
      },
      "source": [
        "#b배열 모든 원소에 3더하기"
      ],
      "execution_count": null,
      "outputs": []
    },
    {
      "cell_type": "code",
      "metadata": {
        "id": "hhPFakbBxO84",
        "colab": {
          "base_uri": "https://localhost:8080/",
          "height": 35
        },
        "outputId": "175f29dc-fb9f-4b76-c2dd-fda78449db97"
      },
      "source": [
        "b+3"
      ],
      "execution_count": null,
      "outputs": [
        {
          "output_type": "execute_result",
          "data": {
            "text/plain": [
              "array([4, 5, 6, 7, 8])"
            ]
          },
          "metadata": {
            "tags": []
          },
          "execution_count": 49
        }
      ]
    },
    {
      "cell_type": "code",
      "metadata": {
        "id": "GD7jMhWj7ai0"
      },
      "source": [
        "#b배열 모든 원소에 3곱하기"
      ],
      "execution_count": null,
      "outputs": []
    },
    {
      "cell_type": "code",
      "metadata": {
        "id": "EZBpeO1pxQno",
        "colab": {
          "base_uri": "https://localhost:8080/",
          "height": 35
        },
        "outputId": "adc56372-9695-4ce6-991d-9acf363eef61"
      },
      "source": [
        "b*3"
      ],
      "execution_count": null,
      "outputs": [
        {
          "output_type": "execute_result",
          "data": {
            "text/plain": [
              "array([ 3,  6,  9, 12, 15])"
            ]
          },
          "metadata": {
            "tags": []
          },
          "execution_count": 50
        }
      ]
    },
    {
      "cell_type": "code",
      "metadata": {
        "id": "F1cHsx577dbT"
      },
      "source": [
        "#np.arange()함수로 6부터 10까지의 c배열 만들기"
      ],
      "execution_count": null,
      "outputs": []
    },
    {
      "cell_type": "code",
      "metadata": {
        "id": "25vl2VGqxT_P",
        "colab": {
          "base_uri": "https://localhost:8080/",
          "height": 35
        },
        "outputId": "d1015f6a-68f2-4426-9672-7e145c82ee38"
      },
      "source": [
        "c=np.arange(6,11)\n",
        "c"
      ],
      "execution_count": null,
      "outputs": [
        {
          "output_type": "execute_result",
          "data": {
            "text/plain": [
              "array([ 6,  7,  8,  9, 10])"
            ]
          },
          "metadata": {
            "tags": []
          },
          "execution_count": 51
        }
      ]
    },
    {
      "cell_type": "code",
      "metadata": {
        "id": "z4ituN387lDY"
      },
      "source": [
        "#2차원 배열 만들기"
      ],
      "execution_count": null,
      "outputs": []
    },
    {
      "cell_type": "code",
      "metadata": {
        "id": "IAL_cyj1xv09",
        "colab": {
          "base_uri": "https://localhost:8080/",
          "height": 53
        },
        "outputId": "7efa6067-e63b-4d85-c568-71f3bb17ae72"
      },
      "source": [
        "d=np.array([[1,2,3,4,5],[6,7,8,9,10]])\n",
        "d"
      ],
      "execution_count": null,
      "outputs": [
        {
          "output_type": "execute_result",
          "data": {
            "text/plain": [
              "array([[ 1,  2,  3,  4,  5],\n",
              "       [ 6,  7,  8,  9, 10]])"
            ]
          },
          "metadata": {
            "tags": []
          },
          "execution_count": 52
        }
      ]
    },
    {
      "cell_type": "code",
      "metadata": {
        "id": "ciWX5Cc_7nI1"
      },
      "source": [
        "#d배열 모양 확인하기"
      ],
      "execution_count": null,
      "outputs": []
    },
    {
      "cell_type": "code",
      "metadata": {
        "id": "ZsrqU9ZbyD4H",
        "colab": {
          "base_uri": "https://localhost:8080/",
          "height": 35
        },
        "outputId": "a729cf26-b4ae-4c2c-8b35-2e103545b441"
      },
      "source": [
        "d.shape"
      ],
      "execution_count": null,
      "outputs": [
        {
          "output_type": "execute_result",
          "data": {
            "text/plain": [
              "(2, 5)"
            ]
          },
          "metadata": {
            "tags": []
          },
          "execution_count": 53
        }
      ]
    },
    {
      "cell_type": "code",
      "metadata": {
        "id": "uwO1Njrb7qdC"
      },
      "source": [
        "#배열 b,c 더하기 함수 add"
      ],
      "execution_count": null,
      "outputs": []
    },
    {
      "cell_type": "code",
      "metadata": {
        "id": "pgpacRtsygCp",
        "colab": {
          "base_uri": "https://localhost:8080/",
          "height": 35
        },
        "outputId": "57ea1a53-bb21-4fd9-ae28-1155155bd49b"
      },
      "source": [
        "np.add(b,c)"
      ],
      "execution_count": null,
      "outputs": [
        {
          "output_type": "execute_result",
          "data": {
            "text/plain": [
              "array([ 7,  9, 11, 13, 15])"
            ]
          },
          "metadata": {
            "tags": []
          },
          "execution_count": 54
        }
      ]
    },
    {
      "cell_type": "code",
      "metadata": {
        "id": "yhfWcdz37tCE"
      },
      "source": [
        "#배열 b,c 빼기함수 subtract"
      ],
      "execution_count": null,
      "outputs": []
    },
    {
      "cell_type": "code",
      "metadata": {
        "id": "jQwqUqI42BvN",
        "colab": {
          "base_uri": "https://localhost:8080/",
          "height": 35
        },
        "outputId": "1f71eedc-a489-49e4-d730-f4cb642482a8"
      },
      "source": [
        "np.subtract(b,c)"
      ],
      "execution_count": null,
      "outputs": [
        {
          "output_type": "execute_result",
          "data": {
            "text/plain": [
              "array([-5, -5, -5, -5, -5])"
            ]
          },
          "metadata": {
            "tags": []
          },
          "execution_count": 55
        }
      ]
    },
    {
      "cell_type": "code",
      "metadata": {
        "id": "9_pljn937zvJ"
      },
      "source": [
        "#배열 b,c 곱하기함수 multiply"
      ],
      "execution_count": null,
      "outputs": []
    },
    {
      "cell_type": "code",
      "metadata": {
        "id": "n4rP8rsE2JmV",
        "colab": {
          "base_uri": "https://localhost:8080/",
          "height": 35
        },
        "outputId": "4077bf72-b04b-4562-ffb6-3078a8d9f253"
      },
      "source": [
        "np.multiply(b,c)"
      ],
      "execution_count": null,
      "outputs": [
        {
          "output_type": "execute_result",
          "data": {
            "text/plain": [
              "array([ 6, 14, 24, 36, 50])"
            ]
          },
          "metadata": {
            "tags": []
          },
          "execution_count": 56
        }
      ]
    },
    {
      "cell_type": "code",
      "metadata": {
        "id": "V66E6HW-724_"
      },
      "source": [
        "#배열 b,c 나누기함수 divide"
      ],
      "execution_count": null,
      "outputs": []
    },
    {
      "cell_type": "code",
      "metadata": {
        "id": "IC2b8oTv2NWn",
        "colab": {
          "base_uri": "https://localhost:8080/",
          "height": 35
        },
        "outputId": "3a7f75df-945b-41dd-f0a2-6ed142e77a0d"
      },
      "source": [
        "np.divide(b,c)"
      ],
      "execution_count": null,
      "outputs": [
        {
          "output_type": "execute_result",
          "data": {
            "text/plain": [
              "array([0.16666667, 0.28571429, 0.375     , 0.44444444, 0.5       ])"
            ]
          },
          "metadata": {
            "tags": []
          },
          "execution_count": 57
        }
      ]
    },
    {
      "cell_type": "code",
      "metadata": {
        "id": "xh6et77j2dFF"
      },
      "source": [
        "#numpy 같은 위치의 원소의 계산함."
      ],
      "execution_count": null,
      "outputs": []
    },
    {
      "cell_type": "markdown",
      "metadata": {
        "id": "i9sf3pQU7-Cc"
      },
      "source": [
        "스스로해보기2"
      ]
    },
    {
      "cell_type": "code",
      "metadata": {
        "id": "BeSisR5N79qj"
      },
      "source": [
        "import numpy as np"
      ],
      "execution_count": null,
      "outputs": []
    },
    {
      "cell_type": "code",
      "metadata": {
        "id": "v1iIshxs8PBe"
      },
      "source": [
        "b=np.array([10,20,30,40,50])\n",
        "b"
      ],
      "execution_count": null,
      "outputs": []
    },
    {
      "cell_type": "code",
      "metadata": {
        "id": "ecvH9t3X8TzP"
      },
      "source": [
        "#b배열 모든 원소에 3곱하기"
      ],
      "execution_count": null,
      "outputs": []
    },
    {
      "cell_type": "code",
      "metadata": {
        "id": "yJN76_eD8XNj"
      },
      "source": [
        ""
      ],
      "execution_count": null,
      "outputs": []
    },
    {
      "cell_type": "code",
      "metadata": {
        "id": "76GmVqWb8ZQn"
      },
      "source": [
        "#np.arange()함수로 1부터 5까지의 c배열 만들기"
      ],
      "execution_count": null,
      "outputs": []
    },
    {
      "cell_type": "code",
      "metadata": {
        "id": "LZZZn5Ft8bz8"
      },
      "source": [
        ""
      ],
      "execution_count": null,
      "outputs": []
    },
    {
      "cell_type": "code",
      "metadata": {
        "id": "LFlhLv_d8qST"
      },
      "source": [
        "#배열 c,b 더하기 함수 add"
      ],
      "execution_count": null,
      "outputs": []
    },
    {
      "cell_type": "code",
      "metadata": {
        "id": "f-j20dw48s3U"
      },
      "source": [
        ""
      ],
      "execution_count": null,
      "outputs": []
    },
    {
      "cell_type": "code",
      "metadata": {
        "id": "qPxD_vXA8u2k"
      },
      "source": [
        "#배열 c,b 빼기함수 subtract"
      ],
      "execution_count": null,
      "outputs": []
    },
    {
      "cell_type": "code",
      "metadata": {
        "id": "VdQIkiqC8wg-"
      },
      "source": [
        ""
      ],
      "execution_count": null,
      "outputs": []
    },
    {
      "cell_type": "code",
      "metadata": {
        "id": "dP6mHiwT8w9o"
      },
      "source": [
        "#배열 b,c 곱하기함수 multiply"
      ],
      "execution_count": null,
      "outputs": []
    },
    {
      "cell_type": "code",
      "metadata": {
        "id": "q6W0J8Ci8zRT"
      },
      "source": [
        ""
      ],
      "execution_count": null,
      "outputs": []
    },
    {
      "cell_type": "code",
      "metadata": {
        "id": "b0_TBqyW8zpJ"
      },
      "source": [
        "#배열 b,c 나누기함수 divide"
      ],
      "execution_count": null,
      "outputs": []
    },
    {
      "cell_type": "code",
      "metadata": {
        "id": "_-GAGSwC81nQ"
      },
      "source": [
        ""
      ],
      "execution_count": null,
      "outputs": []
    },
    {
      "cell_type": "markdown",
      "metadata": {
        "id": "CZkXai3n82Hk"
      },
      "source": [
        "판다스 산술연산"
      ]
    },
    {
      "cell_type": "code",
      "metadata": {
        "id": "g02Tc5SG67dS"
      },
      "source": [
        "#시리즈vs숫자 연산"
      ],
      "execution_count": null,
      "outputs": []
    },
    {
      "cell_type": "code",
      "metadata": {
        "id": "4abSCTBc682B",
        "colab": {
          "base_uri": "https://localhost:8080/",
          "height": 89
        },
        "outputId": "e6b3e4ce-420f-4cc8-82f9-a33a534333e1"
      },
      "source": [
        "sr1=pd.Series({'a':1,'b':2,'c':3}) #시리즈1\n",
        "sr1"
      ],
      "execution_count": null,
      "outputs": [
        {
          "output_type": "execute_result",
          "data": {
            "text/plain": [
              "a    1\n",
              "b    2\n",
              "c    3\n",
              "dtype: int64"
            ]
          },
          "metadata": {
            "tags": []
          },
          "execution_count": 62
        }
      ]
    },
    {
      "cell_type": "code",
      "metadata": {
        "id": "c2bjY2CG7gFQ",
        "colab": {
          "base_uri": "https://localhost:8080/",
          "height": 89
        },
        "outputId": "75f1633d-7747-4047-ade7-dd698ff1ae13"
      },
      "source": [
        "sr2=pd.Series({'a':4,'b':5,'c':6}) #시리즈1\n",
        "sr2"
      ],
      "execution_count": null,
      "outputs": [
        {
          "output_type": "execute_result",
          "data": {
            "text/plain": [
              "a    4\n",
              "b    5\n",
              "c    6\n",
              "dtype: int64"
            ]
          },
          "metadata": {
            "tags": []
          },
          "execution_count": 63
        }
      ]
    },
    {
      "cell_type": "code",
      "metadata": {
        "id": "qy9C6gmh7l4B"
      },
      "source": [
        "#sr1에 5 더하기"
      ],
      "execution_count": null,
      "outputs": []
    },
    {
      "cell_type": "code",
      "metadata": {
        "id": "Bfz8QIiU7sww"
      },
      "source": [
        "sr1+5"
      ],
      "execution_count": null,
      "outputs": []
    },
    {
      "cell_type": "code",
      "metadata": {
        "id": "pNB_NC6U7tIf"
      },
      "source": [
        "#시리즈vs시리즈 연산 합구하기"
      ],
      "execution_count": null,
      "outputs": []
    },
    {
      "cell_type": "code",
      "metadata": {
        "id": "bGqglNjm7uzW"
      },
      "source": [
        "sr1+sr2"
      ],
      "execution_count": null,
      "outputs": []
    },
    {
      "cell_type": "code",
      "metadata": {
        "id": "csSJd0r074T0"
      },
      "source": [
        "#NaN이 있는 시리즈 연산"
      ],
      "execution_count": null,
      "outputs": []
    },
    {
      "cell_type": "code",
      "metadata": {
        "id": "Sp-cJsPm75NE"
      },
      "source": [
        "import numpy as np\n",
        "sr3=pd.Series({'a':np.nan,'b':1,'c':1}) \n",
        "sr3"
      ],
      "execution_count": null,
      "outputs": []
    },
    {
      "cell_type": "code",
      "metadata": {
        "id": "DbjQeZMn8d3c"
      },
      "source": [
        "#sr2 와 sr3 데이터 합하기"
      ],
      "execution_count": null,
      "outputs": []
    },
    {
      "cell_type": "code",
      "metadata": {
        "id": "O2eaVGgT8jHZ"
      },
      "source": [
        "sr2+sr3"
      ],
      "execution_count": null,
      "outputs": []
    },
    {
      "cell_type": "code",
      "metadata": {
        "id": "zchuQ6bD8mzC"
      },
      "source": [
        "#데이터 프레임 vs 숫자"
      ],
      "execution_count": null,
      "outputs": []
    },
    {
      "cell_type": "code",
      "metadata": {
        "id": "pTHR1SE88pBW",
        "colab": {
          "base_uri": "https://localhost:8080/",
          "height": 137
        },
        "outputId": "9c3c5277-4c7d-48d2-ab7c-9911ae743187"
      },
      "source": [
        "import pandas as pd\n",
        "df1 = pd.DataFrame({'a':[1,2,3],'b':[4,5,6],'c':[7,8,9]}, index = ['one','two','three'])\n",
        "df1"
      ],
      "execution_count": null,
      "outputs": [
        {
          "output_type": "execute_result",
          "data": {
            "text/html": [
              "<div>\n",
              "<style scoped>\n",
              "    .dataframe tbody tr th:only-of-type {\n",
              "        vertical-align: middle;\n",
              "    }\n",
              "\n",
              "    .dataframe tbody tr th {\n",
              "        vertical-align: top;\n",
              "    }\n",
              "\n",
              "    .dataframe thead th {\n",
              "        text-align: right;\n",
              "    }\n",
              "</style>\n",
              "<table border=\"1\" class=\"dataframe\">\n",
              "  <thead>\n",
              "    <tr style=\"text-align: right;\">\n",
              "      <th></th>\n",
              "      <th>a</th>\n",
              "      <th>b</th>\n",
              "      <th>c</th>\n",
              "    </tr>\n",
              "  </thead>\n",
              "  <tbody>\n",
              "    <tr>\n",
              "      <th>one</th>\n",
              "      <td>1</td>\n",
              "      <td>4</td>\n",
              "      <td>7</td>\n",
              "    </tr>\n",
              "    <tr>\n",
              "      <th>two</th>\n",
              "      <td>2</td>\n",
              "      <td>5</td>\n",
              "      <td>8</td>\n",
              "    </tr>\n",
              "    <tr>\n",
              "      <th>three</th>\n",
              "      <td>3</td>\n",
              "      <td>6</td>\n",
              "      <td>9</td>\n",
              "    </tr>\n",
              "  </tbody>\n",
              "</table>\n",
              "</div>"
            ],
            "text/plain": [
              "       a  b  c\n",
              "one    1  4  7\n",
              "two    2  5  8\n",
              "three  3  6  9"
            ]
          },
          "metadata": {
            "tags": []
          },
          "execution_count": 22
        }
      ]
    },
    {
      "cell_type": "code",
      "metadata": {
        "id": "6KeB6jPM9U0w",
        "colab": {
          "base_uri": "https://localhost:8080/",
          "height": 137
        },
        "outputId": "ff80234c-f5f1-4dcf-b699-7382c36e5408"
      },
      "source": [
        "import pandas as pd\n",
        "df2 = pd.DataFrame({'a':[3,2,1],'b':[6,5,4],'c':[9,8,7]}, index = ['one','two','three'])\n",
        "df2"
      ],
      "execution_count": null,
      "outputs": [
        {
          "output_type": "execute_result",
          "data": {
            "text/html": [
              "<div>\n",
              "<style scoped>\n",
              "    .dataframe tbody tr th:only-of-type {\n",
              "        vertical-align: middle;\n",
              "    }\n",
              "\n",
              "    .dataframe tbody tr th {\n",
              "        vertical-align: top;\n",
              "    }\n",
              "\n",
              "    .dataframe thead th {\n",
              "        text-align: right;\n",
              "    }\n",
              "</style>\n",
              "<table border=\"1\" class=\"dataframe\">\n",
              "  <thead>\n",
              "    <tr style=\"text-align: right;\">\n",
              "      <th></th>\n",
              "      <th>a</th>\n",
              "      <th>b</th>\n",
              "      <th>c</th>\n",
              "    </tr>\n",
              "  </thead>\n",
              "  <tbody>\n",
              "    <tr>\n",
              "      <th>one</th>\n",
              "      <td>3</td>\n",
              "      <td>6</td>\n",
              "      <td>9</td>\n",
              "    </tr>\n",
              "    <tr>\n",
              "      <th>two</th>\n",
              "      <td>2</td>\n",
              "      <td>5</td>\n",
              "      <td>8</td>\n",
              "    </tr>\n",
              "    <tr>\n",
              "      <th>three</th>\n",
              "      <td>1</td>\n",
              "      <td>4</td>\n",
              "      <td>7</td>\n",
              "    </tr>\n",
              "  </tbody>\n",
              "</table>\n",
              "</div>"
            ],
            "text/plain": [
              "       a  b  c\n",
              "one    3  6  9\n",
              "two    2  5  8\n",
              "three  1  4  7"
            ]
          },
          "metadata": {
            "tags": []
          },
          "execution_count": 23
        }
      ]
    },
    {
      "cell_type": "code",
      "metadata": {
        "id": "CLeENNtX9gX3"
      },
      "source": [
        "#df1에서 1 빼기"
      ],
      "execution_count": null,
      "outputs": []
    },
    {
      "cell_type": "code",
      "metadata": {
        "id": "Vidof4z49kKy"
      },
      "source": [
        "df-1"
      ],
      "execution_count": null,
      "outputs": []
    },
    {
      "cell_type": "code",
      "metadata": {
        "id": "dUrlCDpI9kho"
      },
      "source": [
        "#데이터프레임vs데이터프레임"
      ],
      "execution_count": null,
      "outputs": []
    },
    {
      "cell_type": "code",
      "metadata": {
        "id": "5C6Biyns9nDW"
      },
      "source": [
        "#데이터 프레임 간 데이터 합하기"
      ],
      "execution_count": null,
      "outputs": []
    },
    {
      "cell_type": "code",
      "metadata": {
        "id": "EOhPTcCR9txh"
      },
      "source": [
        "df1+df2"
      ],
      "execution_count": null,
      "outputs": []
    },
    {
      "cell_type": "code",
      "metadata": {
        "id": "NgzwMahQ9xuN"
      },
      "source": [
        "#Nan이 있는 데이터 프레임 연산"
      ],
      "execution_count": null,
      "outputs": []
    },
    {
      "cell_type": "code",
      "metadata": {
        "id": "ADHZYZ9_93Ml"
      },
      "source": [
        "import pandas as pd\n",
        "df3 = pd.DataFrame({'a':[1,2,3],'b':[4,5,6],'d':[7,8,9]}, index = ['one','two','three'])\n",
        "df3"
      ],
      "execution_count": null,
      "outputs": []
    },
    {
      "cell_type": "code",
      "metadata": {
        "id": "MBvvOP2m-AKH"
      },
      "source": [
        "#df2와 df3 의 합"
      ],
      "execution_count": null,
      "outputs": []
    },
    {
      "cell_type": "code",
      "metadata": {
        "id": "Dekxyhtt-C24"
      },
      "source": [
        "df2+df3"
      ],
      "execution_count": null,
      "outputs": []
    },
    {
      "cell_type": "code",
      "metadata": {
        "id": "5W6D9JEM-HPP"
      },
      "source": [
        "#df3의 a+b 값을 e컬럼을 만들어 df3에 추가하기"
      ],
      "execution_count": null,
      "outputs": []
    },
    {
      "cell_type": "code",
      "metadata": {
        "id": "DLH0UPnE-O5L"
      },
      "source": [
        "df3['e']=df3['a']+df3['b']\n",
        "df3"
      ],
      "execution_count": null,
      "outputs": []
    },
    {
      "cell_type": "markdown",
      "metadata": {
        "id": "I9G4t0rk-akS"
      },
      "source": [
        "스스로해보기"
      ]
    },
    {
      "cell_type": "code",
      "metadata": {
        "id": "lNgAwNHB88QW"
      },
      "source": [
        "#시리즈vs숫자 연산"
      ],
      "execution_count": null,
      "outputs": []
    },
    {
      "cell_type": "code",
      "metadata": {
        "id": "sSGEPUNt89tE",
        "colab": {
          "base_uri": "https://localhost:8080/",
          "height": 89
        },
        "outputId": "b1ec0eed-d8f3-4ef5-a567-d51f5383dcf2"
      },
      "source": [
        "lib1=pd.Series({'제주':50,'서울':100,'부산':90}) #도서관의 수\n",
        "lib1"
      ],
      "execution_count": null,
      "outputs": [
        {
          "output_type": "execute_result",
          "data": {
            "text/plain": [
              "제주     50\n",
              "서울    100\n",
              "부산     90\n",
              "dtype: int64"
            ]
          },
          "metadata": {
            "tags": []
          },
          "execution_count": 64
        }
      ]
    },
    {
      "cell_type": "code",
      "metadata": {
        "id": "o_9oZZgc_Fq7",
        "colab": {
          "base_uri": "https://localhost:8080/",
          "height": 89
        },
        "outputId": "9734b144-332c-4bb8-f222-8e6828aa55b2"
      },
      "source": [
        "lib2=pd.Series({'제주':2,'서울':10,'부산':7}) #1년뒤 추가된 도서관의 수\n",
        "lib2"
      ],
      "execution_count": null,
      "outputs": [
        {
          "output_type": "execute_result",
          "data": {
            "text/plain": [
              "제주     2\n",
              "서울    10\n",
              "부산     7\n",
              "dtype: int64"
            ]
          },
          "metadata": {
            "tags": []
          },
          "execution_count": 65
        }
      ]
    },
    {
      "cell_type": "code",
      "metadata": {
        "id": "QQkDiZRCAK1D"
      },
      "source": [
        "#제주, 서울, 부산 도서관의 비율(lib1/전체도서관의 수)"
      ],
      "execution_count": null,
      "outputs": []
    },
    {
      "cell_type": "code",
      "metadata": {
        "id": "QPyeSgI4_ABw",
        "colab": {
          "base_uri": "https://localhost:8080/",
          "height": 89
        },
        "outputId": "5131aae3-589f-4cd3-d0d6-4424c55f680d"
      },
      "source": [
        "a = lib1/(lib1+lib2)\n",
        "a"
      ],
      "execution_count": null,
      "outputs": [
        {
          "output_type": "execute_result",
          "data": {
            "text/plain": [
              "제주    0.961538\n",
              "서울    0.909091\n",
              "부산    0.927835\n",
              "dtype: float64"
            ]
          },
          "metadata": {
            "tags": []
          },
          "execution_count": 71
        }
      ]
    },
    {
      "cell_type": "code",
      "metadata": {
        "id": "qWATLGri-lnd"
      },
      "source": [
        "#lib1데이터와 lib2데이터 합구하기"
      ],
      "execution_count": null,
      "outputs": []
    },
    {
      "cell_type": "code",
      "metadata": {
        "id": "Tp_OONY39DHq",
        "colab": {
          "base_uri": "https://localhost:8080/",
          "height": 89
        },
        "outputId": "75fb382f-15d5-46e1-980b-ba48903dba9c"
      },
      "source": [
        "q = lib1 + lib2\n",
        "q"
      ],
      "execution_count": null,
      "outputs": [
        {
          "output_type": "execute_result",
          "data": {
            "text/plain": [
              "제주     52\n",
              "서울    110\n",
              "부산     97\n",
              "dtype: int64"
            ]
          },
          "metadata": {
            "tags": []
          },
          "execution_count": 72
        }
      ]
    },
    {
      "cell_type": "code",
      "metadata": {
        "id": "dJPaV5zuAf1f"
      },
      "source": [
        "#NaN이 있는 시리즈 연산"
      ],
      "execution_count": null,
      "outputs": []
    },
    {
      "cell_type": "code",
      "metadata": {
        "id": "sf8IH3uQAqVq",
        "colab": {
          "base_uri": "https://localhost:8080/",
          "height": 89
        },
        "outputId": "b8ff0a9d-e437-48f3-ee1c-7e749889f3b1"
      },
      "source": [
        "lib3=pd.Series({'제주':np.nan,'서울':1,'부산':2}) #2년뒤 추가된 도서관의 수\n",
        "lib3"
      ],
      "execution_count": null,
      "outputs": [
        {
          "output_type": "execute_result",
          "data": {
            "text/plain": [
              "제주    NaN\n",
              "서울    1.0\n",
              "부산    2.0\n",
              "dtype: float64"
            ]
          },
          "metadata": {
            "tags": []
          },
          "execution_count": 73
        }
      ]
    },
    {
      "cell_type": "code",
      "metadata": {
        "id": "HbsEsnRP-o-r"
      },
      "source": [
        "#lib2와 lib3데이터 합하기, 결과확인하기"
      ],
      "execution_count": null,
      "outputs": []
    },
    {
      "cell_type": "code",
      "metadata": {
        "id": "0amunr_uA1rU",
        "colab": {
          "base_uri": "https://localhost:8080/",
          "height": 136
        },
        "outputId": "92472120-5f96-4bfc-8156-33a91a0208eb"
      },
      "source": [
        "1 k = lib2 + lib3\n",
        "k"
      ],
      "execution_count": null,
      "outputs": [
        {
          "output_type": "error",
          "ename": "SyntaxError",
          "evalue": "ignored",
          "traceback": [
            "\u001b[0;36m  File \u001b[0;32m\"<ipython-input-75-0bda78286adb>\"\u001b[0;36m, line \u001b[0;32m1\u001b[0m\n\u001b[0;31m    1 k = lib2 + lib3\u001b[0m\n\u001b[0m      ^\u001b[0m\n\u001b[0;31mSyntaxError\u001b[0m\u001b[0;31m:\u001b[0m invalid syntax\n"
          ]
        }
      ]
    },
    {
      "cell_type": "code",
      "metadata": {
        "id": "1bb55LlNCFGA"
      },
      "source": [
        "#데이터프레임vs숫자"
      ],
      "execution_count": null,
      "outputs": []
    },
    {
      "cell_type": "code",
      "metadata": {
        "id": "gfNTH8czCHfO",
        "colab": {
          "base_uri": "https://localhost:8080/",
          "height": 142
        },
        "outputId": "e3ed5a18-5b40-4f5f-de70-66b02c185e57"
      },
      "source": [
        "import pandas as pd\n",
        "exam_data={'수학':[90,80,70],'영어':[98,85,95],'음악':[85,95,100],'체육':[100,90,90]}\n",
        "df1 = pd.DataFrame(exam_data, index = ['서준','우현','인아'])\n",
        "df1"
      ],
      "execution_count": null,
      "outputs": [
        {
          "output_type": "execute_result",
          "data": {
            "text/html": [
              "<div>\n",
              "<style scoped>\n",
              "    .dataframe tbody tr th:only-of-type {\n",
              "        vertical-align: middle;\n",
              "    }\n",
              "\n",
              "    .dataframe tbody tr th {\n",
              "        vertical-align: top;\n",
              "    }\n",
              "\n",
              "    .dataframe thead th {\n",
              "        text-align: right;\n",
              "    }\n",
              "</style>\n",
              "<table border=\"1\" class=\"dataframe\">\n",
              "  <thead>\n",
              "    <tr style=\"text-align: right;\">\n",
              "      <th></th>\n",
              "      <th>수학</th>\n",
              "      <th>영어</th>\n",
              "      <th>음악</th>\n",
              "      <th>체육</th>\n",
              "    </tr>\n",
              "  </thead>\n",
              "  <tbody>\n",
              "    <tr>\n",
              "      <th>서준</th>\n",
              "      <td>90</td>\n",
              "      <td>98</td>\n",
              "      <td>85</td>\n",
              "      <td>100</td>\n",
              "    </tr>\n",
              "    <tr>\n",
              "      <th>우현</th>\n",
              "      <td>80</td>\n",
              "      <td>85</td>\n",
              "      <td>95</td>\n",
              "      <td>90</td>\n",
              "    </tr>\n",
              "    <tr>\n",
              "      <th>인아</th>\n",
              "      <td>70</td>\n",
              "      <td>95</td>\n",
              "      <td>100</td>\n",
              "      <td>90</td>\n",
              "    </tr>\n",
              "  </tbody>\n",
              "</table>\n",
              "</div>"
            ],
            "text/plain": [
              "    수학  영어   음악   체육\n",
              "서준  90  98   85  100\n",
              "우현  80  85   95   90\n",
              "인아  70  95  100   90"
            ]
          },
          "metadata": {
            "tags": []
          },
          "execution_count": 76
        }
      ]
    },
    {
      "cell_type": "code",
      "metadata": {
        "id": "mM0fy2IeCXg2",
        "colab": {
          "base_uri": "https://localhost:8080/",
          "height": 142
        },
        "outputId": "b717b42e-4ff2-4f67-dd64-aed8381db46d"
      },
      "source": [
        "import pandas as pd\n",
        "exam_data={'수학':[70,70,70],'영어':[10,20,40],'음악':[50,55,100],'체육':[70,80,10]}\n",
        "df2 = pd.DataFrame(exam_data, index = ['서준','우현','인아'])\n",
        "df2"
      ],
      "execution_count": null,
      "outputs": [
        {
          "output_type": "execute_result",
          "data": {
            "text/html": [
              "<div>\n",
              "<style scoped>\n",
              "    .dataframe tbody tr th:only-of-type {\n",
              "        vertical-align: middle;\n",
              "    }\n",
              "\n",
              "    .dataframe tbody tr th {\n",
              "        vertical-align: top;\n",
              "    }\n",
              "\n",
              "    .dataframe thead th {\n",
              "        text-align: right;\n",
              "    }\n",
              "</style>\n",
              "<table border=\"1\" class=\"dataframe\">\n",
              "  <thead>\n",
              "    <tr style=\"text-align: right;\">\n",
              "      <th></th>\n",
              "      <th>수학</th>\n",
              "      <th>영어</th>\n",
              "      <th>음악</th>\n",
              "      <th>체육</th>\n",
              "    </tr>\n",
              "  </thead>\n",
              "  <tbody>\n",
              "    <tr>\n",
              "      <th>서준</th>\n",
              "      <td>70</td>\n",
              "      <td>10</td>\n",
              "      <td>50</td>\n",
              "      <td>70</td>\n",
              "    </tr>\n",
              "    <tr>\n",
              "      <th>우현</th>\n",
              "      <td>70</td>\n",
              "      <td>20</td>\n",
              "      <td>55</td>\n",
              "      <td>80</td>\n",
              "    </tr>\n",
              "    <tr>\n",
              "      <th>인아</th>\n",
              "      <td>70</td>\n",
              "      <td>40</td>\n",
              "      <td>100</td>\n",
              "      <td>10</td>\n",
              "    </tr>\n",
              "  </tbody>\n",
              "</table>\n",
              "</div>"
            ],
            "text/plain": [
              "    수학  영어   음악  체육\n",
              "서준  70  10   50  70\n",
              "우현  70  20   55  80\n",
              "인아  70  40  100  10"
            ]
          },
          "metadata": {
            "tags": []
          },
          "execution_count": 77
        }
      ]
    },
    {
      "cell_type": "code",
      "metadata": {
        "id": "1N5VwuswCozt"
      },
      "source": [
        "#df1의 모든 점수에서 -5"
      ],
      "execution_count": null,
      "outputs": []
    },
    {
      "cell_type": "code",
      "metadata": {
        "id": "lwJG7kHHCkLh",
        "colab": {
          "base_uri": "https://localhost:8080/",
          "height": 142
        },
        "outputId": "23f39d85-5675-4f95-a93f-59799e2c1283"
      },
      "source": [
        "df1-5"
      ],
      "execution_count": null,
      "outputs": [
        {
          "output_type": "execute_result",
          "data": {
            "text/html": [
              "<div>\n",
              "<style scoped>\n",
              "    .dataframe tbody tr th:only-of-type {\n",
              "        vertical-align: middle;\n",
              "    }\n",
              "\n",
              "    .dataframe tbody tr th {\n",
              "        vertical-align: top;\n",
              "    }\n",
              "\n",
              "    .dataframe thead th {\n",
              "        text-align: right;\n",
              "    }\n",
              "</style>\n",
              "<table border=\"1\" class=\"dataframe\">\n",
              "  <thead>\n",
              "    <tr style=\"text-align: right;\">\n",
              "      <th></th>\n",
              "      <th>수학</th>\n",
              "      <th>영어</th>\n",
              "      <th>음악</th>\n",
              "      <th>체육</th>\n",
              "    </tr>\n",
              "  </thead>\n",
              "  <tbody>\n",
              "    <tr>\n",
              "      <th>서준</th>\n",
              "      <td>85</td>\n",
              "      <td>93</td>\n",
              "      <td>80</td>\n",
              "      <td>95</td>\n",
              "    </tr>\n",
              "    <tr>\n",
              "      <th>우현</th>\n",
              "      <td>75</td>\n",
              "      <td>80</td>\n",
              "      <td>90</td>\n",
              "      <td>85</td>\n",
              "    </tr>\n",
              "    <tr>\n",
              "      <th>인아</th>\n",
              "      <td>65</td>\n",
              "      <td>90</td>\n",
              "      <td>95</td>\n",
              "      <td>85</td>\n",
              "    </tr>\n",
              "  </tbody>\n",
              "</table>\n",
              "</div>"
            ],
            "text/plain": [
              "    수학  영어  음악  체육\n",
              "서준  85  93  80  95\n",
              "우현  75  80  90  85\n",
              "인아  65  90  95  85"
            ]
          },
          "metadata": {
            "tags": []
          },
          "execution_count": 80
        }
      ]
    },
    {
      "cell_type": "code",
      "metadata": {
        "id": "9VW4l4Id-xQ1"
      },
      "source": [
        "#df1 과 df2 데이터 합구하기"
      ],
      "execution_count": null,
      "outputs": []
    },
    {
      "cell_type": "code",
      "metadata": {
        "id": "hS1YHpzXC3Yb",
        "colab": {
          "base_uri": "https://localhost:8080/",
          "height": 142
        },
        "outputId": "aa408c48-d8d2-46c3-9027-5f5763c214e6"
      },
      "source": [
        "df1 + df2"
      ],
      "execution_count": null,
      "outputs": [
        {
          "output_type": "execute_result",
          "data": {
            "text/html": [
              "<div>\n",
              "<style scoped>\n",
              "    .dataframe tbody tr th:only-of-type {\n",
              "        vertical-align: middle;\n",
              "    }\n",
              "\n",
              "    .dataframe tbody tr th {\n",
              "        vertical-align: top;\n",
              "    }\n",
              "\n",
              "    .dataframe thead th {\n",
              "        text-align: right;\n",
              "    }\n",
              "</style>\n",
              "<table border=\"1\" class=\"dataframe\">\n",
              "  <thead>\n",
              "    <tr style=\"text-align: right;\">\n",
              "      <th></th>\n",
              "      <th>수학</th>\n",
              "      <th>영어</th>\n",
              "      <th>음악</th>\n",
              "      <th>체육</th>\n",
              "    </tr>\n",
              "  </thead>\n",
              "  <tbody>\n",
              "    <tr>\n",
              "      <th>서준</th>\n",
              "      <td>160</td>\n",
              "      <td>108</td>\n",
              "      <td>135</td>\n",
              "      <td>170</td>\n",
              "    </tr>\n",
              "    <tr>\n",
              "      <th>우현</th>\n",
              "      <td>150</td>\n",
              "      <td>105</td>\n",
              "      <td>150</td>\n",
              "      <td>170</td>\n",
              "    </tr>\n",
              "    <tr>\n",
              "      <th>인아</th>\n",
              "      <td>140</td>\n",
              "      <td>135</td>\n",
              "      <td>200</td>\n",
              "      <td>100</td>\n",
              "    </tr>\n",
              "  </tbody>\n",
              "</table>\n",
              "</div>"
            ],
            "text/plain": [
              "     수학   영어   음악   체육\n",
              "서준  160  108  135  170\n",
              "우현  150  105  150  170\n",
              "인아  140  135  200  100"
            ]
          },
          "metadata": {
            "tags": []
          },
          "execution_count": 81
        }
      ]
    },
    {
      "cell_type": "code",
      "metadata": {
        "id": "mBGBXchYDGpX"
      },
      "source": [
        "#1차 시험점수, 2차 시험점수 평균 구하기"
      ],
      "execution_count": null,
      "outputs": []
    },
    {
      "cell_type": "code",
      "metadata": {
        "id": "JzCJcHJOC_zT",
        "colab": {
          "base_uri": "https://localhost:8080/",
          "height": 107
        },
        "outputId": "3bf9f8a7-d382-4c8e-b504-cab9321b7dc4"
      },
      "source": [
        "(df1 + df2).mean()"
      ],
      "execution_count": null,
      "outputs": [
        {
          "output_type": "execute_result",
          "data": {
            "text/plain": [
              "수학    150.000000\n",
              "영어    116.000000\n",
              "음악    161.666667\n",
              "체육    146.666667\n",
              "dtype: float64"
            ]
          },
          "metadata": {
            "tags": []
          },
          "execution_count": 90
        }
      ]
    },
    {
      "cell_type": "code",
      "metadata": {
        "id": "hsV6RtiWDLOc"
      },
      "source": [
        "#NaN이 있는 데이터프레임 연산"
      ],
      "execution_count": null,
      "outputs": []
    },
    {
      "cell_type": "code",
      "metadata": {
        "id": "9F7Fv7BcDR2y"
      },
      "source": [
        "#Nan이 있는 df3 생성\n",
        "import pandas as pd\n",
        "exam_data={'국어':[10,70,60],'수학':[70,70,70],'영어':[10,20,40],'음악':[50,55,100],'체육':[70,80,10]}\n",
        "df3 = pd.DataFrame(exam_data, index = ['서준','우현','인아'])\n",
        "df3"
      ],
      "execution_count": null,
      "outputs": []
    },
    {
      "cell_type": "code",
      "metadata": {
        "id": "jHeH7TLkDdOh"
      },
      "source": [
        "#df2와 df3 합하여 결과 확인"
      ],
      "execution_count": null,
      "outputs": []
    },
    {
      "cell_type": "code",
      "metadata": {
        "id": "IrgkEpjoHsEf"
      },
      "source": [
        ""
      ],
      "execution_count": null,
      "outputs": []
    },
    {
      "cell_type": "code",
      "metadata": {
        "id": "J3zLB8weNiXK"
      },
      "source": [
        "#df3의 수학+영어 합 데이터를 df3['수영']컬럼을 만들어 추가하기"
      ],
      "execution_count": null,
      "outputs": []
    },
    {
      "cell_type": "code",
      "metadata": {
        "id": "4C2bcWHwNkRJ"
      },
      "source": [
        ""
      ],
      "execution_count": null,
      "outputs": []
    },
    {
      "cell_type": "markdown",
      "metadata": {
        "id": "GwOUog0cIm3Y"
      },
      "source": [
        "<스스로 해보기 프로젝트>"
      ]
    },
    {
      "cell_type": "markdown",
      "metadata": {
        "id": "x0trowHkMVRi"
      },
      "source": [
        "제주 인구데이터 처리하기\n",
        "'2019제주인구수 데이터에서 총 인구수가 많은 동네와 그 인구수를 구해주세요~'"
      ]
    },
    {
      "cell_type": "code",
      "metadata": {
        "id": "GdfKxn1OMiqO"
      },
      "source": [
        "#판다스 라이브러리 사용하기"
      ],
      "execution_count": null,
      "outputs": []
    },
    {
      "cell_type": "code",
      "metadata": {
        "id": "D6teCv_MMlFz"
      },
      "source": [
        "import pandas as pd"
      ],
      "execution_count": null,
      "outputs": []
    },
    {
      "cell_type": "code",
      "metadata": {
        "id": "xaWwDouGMn9g"
      },
      "source": [
        "#엑셀 파일 불러오기"
      ],
      "execution_count": null,
      "outputs": []
    },
    {
      "cell_type": "code",
      "metadata": {
        "id": "NnRv3iPiMsHg"
      },
      "source": [
        "df=pd.read_excel('./2019제주인구수.xlsx')"
      ],
      "execution_count": null,
      "outputs": []
    },
    {
      "cell_type": "code",
      "metadata": {
        "id": "qZPHkoEyMsu4"
      },
      "source": [
        "#컬럼 이름 바꾸기 ['동','계','계(남)','계(여)','내(남)','내(여)','외(남)','외(여)']"
      ],
      "execution_count": null,
      "outputs": []
    },
    {
      "cell_type": "code",
      "metadata": {
        "id": "DnRyQjmUMx_J",
        "colab": {
          "base_uri": "https://localhost:8080/",
          "height": 917
        },
        "outputId": "05e51751-ce4d-4355-d822-489848444920"
      },
      "source": [
        "df"
      ],
      "execution_count": null,
      "outputs": [
        {
          "output_type": "execute_result",
          "data": {
            "text/html": [
              "<div>\n",
              "<style scoped>\n",
              "    .dataframe tbody tr th:only-of-type {\n",
              "        vertical-align: middle;\n",
              "    }\n",
              "\n",
              "    .dataframe tbody tr th {\n",
              "        vertical-align: top;\n",
              "    }\n",
              "\n",
              "    .dataframe thead th {\n",
              "        text-align: right;\n",
              "    }\n",
              "</style>\n",
              "<table border=\"1\" class=\"dataframe\">\n",
              "  <thead>\n",
              "    <tr style=\"text-align: right;\">\n",
              "      <th></th>\n",
              "      <th>구 분</th>\n",
              "      <th>합 계</th>\n",
              "      <th>Unnamed: 2</th>\n",
              "      <th>Unnamed: 3</th>\n",
              "      <th>내국인</th>\n",
              "      <th>Unnamed: 5</th>\n",
              "      <th>외국인</th>\n",
              "      <th>Unnamed: 7</th>\n",
              "    </tr>\n",
              "  </thead>\n",
              "  <tbody>\n",
              "    <tr>\n",
              "      <th>0</th>\n",
              "      <td>NaN</td>\n",
              "      <td>계</td>\n",
              "      <td>남</td>\n",
              "      <td>여</td>\n",
              "      <td>남</td>\n",
              "      <td>여</td>\n",
              "      <td>남</td>\n",
              "      <td>여</td>\n",
              "    </tr>\n",
              "    <tr>\n",
              "      <th>1</th>\n",
              "      <td>제 주 시</td>\n",
              "      <td>NaN</td>\n",
              "      <td>NaN</td>\n",
              "      <td>NaN</td>\n",
              "      <td>245533</td>\n",
              "      <td>243872</td>\n",
              "      <td>9123</td>\n",
              "      <td>7422</td>\n",
              "    </tr>\n",
              "    <tr>\n",
              "      <th>2</th>\n",
              "      <td>한 림 읍</td>\n",
              "      <td>NaN</td>\n",
              "      <td>NaN</td>\n",
              "      <td>NaN</td>\n",
              "      <td>11011</td>\n",
              "      <td>10354</td>\n",
              "      <td>2383</td>\n",
              "      <td>1332</td>\n",
              "    </tr>\n",
              "    <tr>\n",
              "      <th>3</th>\n",
              "      <td>애 월 읍</td>\n",
              "      <td>NaN</td>\n",
              "      <td>NaN</td>\n",
              "      <td>NaN</td>\n",
              "      <td>18718</td>\n",
              "      <td>17515</td>\n",
              "      <td>571</td>\n",
              "      <td>541</td>\n",
              "    </tr>\n",
              "    <tr>\n",
              "      <th>4</th>\n",
              "      <td>구 좌 읍</td>\n",
              "      <td>NaN</td>\n",
              "      <td>NaN</td>\n",
              "      <td>NaN</td>\n",
              "      <td>8014</td>\n",
              "      <td>7575</td>\n",
              "      <td>440</td>\n",
              "      <td>203</td>\n",
              "    </tr>\n",
              "    <tr>\n",
              "      <th>5</th>\n",
              "      <td>조 천 읍</td>\n",
              "      <td>NaN</td>\n",
              "      <td>NaN</td>\n",
              "      <td>NaN</td>\n",
              "      <td>12666</td>\n",
              "      <td>12004</td>\n",
              "      <td>374</td>\n",
              "      <td>269</td>\n",
              "    </tr>\n",
              "    <tr>\n",
              "      <th>6</th>\n",
              "      <td>한 경 면</td>\n",
              "      <td>NaN</td>\n",
              "      <td>NaN</td>\n",
              "      <td>NaN</td>\n",
              "      <td>4552</td>\n",
              "      <td>4485</td>\n",
              "      <td>261</td>\n",
              "      <td>107</td>\n",
              "    </tr>\n",
              "    <tr>\n",
              "      <th>7</th>\n",
              "      <td>추 자 면</td>\n",
              "      <td>NaN</td>\n",
              "      <td>NaN</td>\n",
              "      <td>NaN</td>\n",
              "      <td>941</td>\n",
              "      <td>792</td>\n",
              "      <td>311</td>\n",
              "      <td>13</td>\n",
              "    </tr>\n",
              "    <tr>\n",
              "      <th>8</th>\n",
              "      <td>우 도 면</td>\n",
              "      <td>NaN</td>\n",
              "      <td>NaN</td>\n",
              "      <td>NaN</td>\n",
              "      <td>974</td>\n",
              "      <td>888</td>\n",
              "      <td>19</td>\n",
              "      <td>11</td>\n",
              "    </tr>\n",
              "    <tr>\n",
              "      <th>9</th>\n",
              "      <td>일도 1동</td>\n",
              "      <td>NaN</td>\n",
              "      <td>NaN</td>\n",
              "      <td>NaN</td>\n",
              "      <td>1423</td>\n",
              "      <td>1301</td>\n",
              "      <td>43</td>\n",
              "      <td>42</td>\n",
              "    </tr>\n",
              "    <tr>\n",
              "      <th>10</th>\n",
              "      <td>일도 2동</td>\n",
              "      <td>NaN</td>\n",
              "      <td>NaN</td>\n",
              "      <td>NaN</td>\n",
              "      <td>16565</td>\n",
              "      <td>17118</td>\n",
              "      <td>102</td>\n",
              "      <td>213</td>\n",
              "    </tr>\n",
              "    <tr>\n",
              "      <th>11</th>\n",
              "      <td>이도 1동</td>\n",
              "      <td>NaN</td>\n",
              "      <td>NaN</td>\n",
              "      <td>NaN</td>\n",
              "      <td>3773</td>\n",
              "      <td>3876</td>\n",
              "      <td>56</td>\n",
              "      <td>91</td>\n",
              "    </tr>\n",
              "    <tr>\n",
              "      <th>12</th>\n",
              "      <td>이도 2동</td>\n",
              "      <td>NaN</td>\n",
              "      <td>NaN</td>\n",
              "      <td>NaN</td>\n",
              "      <td>24554</td>\n",
              "      <td>25410</td>\n",
              "      <td>305</td>\n",
              "      <td>386</td>\n",
              "    </tr>\n",
              "    <tr>\n",
              "      <th>13</th>\n",
              "      <td>삼도 1동</td>\n",
              "      <td>NaN</td>\n",
              "      <td>NaN</td>\n",
              "      <td>NaN</td>\n",
              "      <td>6788</td>\n",
              "      <td>7066</td>\n",
              "      <td>66</td>\n",
              "      <td>85</td>\n",
              "    </tr>\n",
              "    <tr>\n",
              "      <th>14</th>\n",
              "      <td>삼도 2동</td>\n",
              "      <td>NaN</td>\n",
              "      <td>NaN</td>\n",
              "      <td>NaN</td>\n",
              "      <td>4254</td>\n",
              "      <td>3920</td>\n",
              "      <td>160</td>\n",
              "      <td>99</td>\n",
              "    </tr>\n",
              "    <tr>\n",
              "      <th>15</th>\n",
              "      <td>용담 1동</td>\n",
              "      <td>NaN</td>\n",
              "      <td>NaN</td>\n",
              "      <td>NaN</td>\n",
              "      <td>3714</td>\n",
              "      <td>3511</td>\n",
              "      <td>41</td>\n",
              "      <td>49</td>\n",
              "    </tr>\n",
              "    <tr>\n",
              "      <th>16</th>\n",
              "      <td>용담 2동</td>\n",
              "      <td>NaN</td>\n",
              "      <td>NaN</td>\n",
              "      <td>NaN</td>\n",
              "      <td>7580</td>\n",
              "      <td>7494</td>\n",
              "      <td>77</td>\n",
              "      <td>177</td>\n",
              "    </tr>\n",
              "    <tr>\n",
              "      <th>17</th>\n",
              "      <td>건 입 동</td>\n",
              "      <td>NaN</td>\n",
              "      <td>NaN</td>\n",
              "      <td>NaN</td>\n",
              "      <td>4774</td>\n",
              "      <td>4537</td>\n",
              "      <td>163</td>\n",
              "      <td>97</td>\n",
              "    </tr>\n",
              "    <tr>\n",
              "      <th>18</th>\n",
              "      <td>화 북 동</td>\n",
              "      <td>NaN</td>\n",
              "      <td>NaN</td>\n",
              "      <td>NaN</td>\n",
              "      <td>12413</td>\n",
              "      <td>12442</td>\n",
              "      <td>226</td>\n",
              "      <td>190</td>\n",
              "    </tr>\n",
              "    <tr>\n",
              "      <th>19</th>\n",
              "      <td>삼 양 동</td>\n",
              "      <td>NaN</td>\n",
              "      <td>NaN</td>\n",
              "      <td>NaN</td>\n",
              "      <td>12933</td>\n",
              "      <td>12769</td>\n",
              "      <td>101</td>\n",
              "      <td>162</td>\n",
              "    </tr>\n",
              "    <tr>\n",
              "      <th>20</th>\n",
              "      <td>봉 개 동</td>\n",
              "      <td>NaN</td>\n",
              "      <td>NaN</td>\n",
              "      <td>NaN</td>\n",
              "      <td>2740</td>\n",
              "      <td>2530</td>\n",
              "      <td>42</td>\n",
              "      <td>51</td>\n",
              "    </tr>\n",
              "    <tr>\n",
              "      <th>21</th>\n",
              "      <td>아 라 동</td>\n",
              "      <td>NaN</td>\n",
              "      <td>NaN</td>\n",
              "      <td>NaN</td>\n",
              "      <td>17352</td>\n",
              "      <td>17454</td>\n",
              "      <td>615</td>\n",
              "      <td>603</td>\n",
              "    </tr>\n",
              "    <tr>\n",
              "      <th>22</th>\n",
              "      <td>오 라 동</td>\n",
              "      <td>NaN</td>\n",
              "      <td>NaN</td>\n",
              "      <td>NaN</td>\n",
              "      <td>7741</td>\n",
              "      <td>7593</td>\n",
              "      <td>122</td>\n",
              "      <td>132</td>\n",
              "    </tr>\n",
              "    <tr>\n",
              "      <th>23</th>\n",
              "      <td>연 동</td>\n",
              "      <td>NaN</td>\n",
              "      <td>NaN</td>\n",
              "      <td>NaN</td>\n",
              "      <td>20376</td>\n",
              "      <td>21137</td>\n",
              "      <td>1062</td>\n",
              "      <td>1133</td>\n",
              "    </tr>\n",
              "    <tr>\n",
              "      <th>24</th>\n",
              "      <td>노 형 동</td>\n",
              "      <td>NaN</td>\n",
              "      <td>NaN</td>\n",
              "      <td>NaN</td>\n",
              "      <td>26628</td>\n",
              "      <td>27594</td>\n",
              "      <td>1295</td>\n",
              "      <td>1094</td>\n",
              "    </tr>\n",
              "    <tr>\n",
              "      <th>25</th>\n",
              "      <td>외 도 동</td>\n",
              "      <td>NaN</td>\n",
              "      <td>NaN</td>\n",
              "      <td>NaN</td>\n",
              "      <td>11002</td>\n",
              "      <td>10799</td>\n",
              "      <td>125</td>\n",
              "      <td>182</td>\n",
              "    </tr>\n",
              "    <tr>\n",
              "      <th>26</th>\n",
              "      <td>이 호 동</td>\n",
              "      <td>NaN</td>\n",
              "      <td>NaN</td>\n",
              "      <td>NaN</td>\n",
              "      <td>2374</td>\n",
              "      <td>2195</td>\n",
              "      <td>95</td>\n",
              "      <td>100</td>\n",
              "    </tr>\n",
              "    <tr>\n",
              "      <th>27</th>\n",
              "      <td>도 두 동</td>\n",
              "      <td>NaN</td>\n",
              "      <td>NaN</td>\n",
              "      <td>NaN</td>\n",
              "      <td>1673</td>\n",
              "      <td>1513</td>\n",
              "      <td>68</td>\n",
              "      <td>60</td>\n",
              "    </tr>\n",
              "  </tbody>\n",
              "</table>\n",
              "</div>"
            ],
            "text/plain": [
              "      구 분  합 계 Unnamed: 2 Unnamed: 3     내국인 Unnamed: 5   외국인 Unnamed: 7\n",
              "0     NaN    계          남          여       남          여     남          여\n",
              "1   제 주 시  NaN        NaN        NaN  245533     243872  9123       7422\n",
              "2   한 림 읍  NaN        NaN        NaN   11011      10354  2383       1332\n",
              "3   애 월 읍  NaN        NaN        NaN   18718      17515   571        541\n",
              "4   구 좌 읍  NaN        NaN        NaN    8014       7575   440        203\n",
              "5   조 천 읍  NaN        NaN        NaN   12666      12004   374        269\n",
              "6   한 경 면  NaN        NaN        NaN    4552       4485   261        107\n",
              "7   추 자 면  NaN        NaN        NaN     941        792   311         13\n",
              "8   우 도 면  NaN        NaN        NaN     974        888    19         11\n",
              "9   일도 1동  NaN        NaN        NaN    1423       1301    43         42\n",
              "10  일도 2동  NaN        NaN        NaN   16565      17118   102        213\n",
              "11  이도 1동  NaN        NaN        NaN    3773       3876    56         91\n",
              "12  이도 2동  NaN        NaN        NaN   24554      25410   305        386\n",
              "13  삼도 1동  NaN        NaN        NaN    6788       7066    66         85\n",
              "14  삼도 2동  NaN        NaN        NaN    4254       3920   160         99\n",
              "15  용담 1동  NaN        NaN        NaN    3714       3511    41         49\n",
              "16  용담 2동  NaN        NaN        NaN    7580       7494    77        177\n",
              "17  건 입 동  NaN        NaN        NaN    4774       4537   163         97\n",
              "18  화 북 동  NaN        NaN        NaN   12413      12442   226        190\n",
              "19  삼 양 동  NaN        NaN        NaN   12933      12769   101        162\n",
              "20  봉 개 동  NaN        NaN        NaN    2740       2530    42         51\n",
              "21  아 라 동  NaN        NaN        NaN   17352      17454   615        603\n",
              "22  오 라 동  NaN        NaN        NaN    7741       7593   122        132\n",
              "23    연 동  NaN        NaN        NaN   20376      21137  1062       1133\n",
              "24  노 형 동  NaN        NaN        NaN   26628      27594  1295       1094\n",
              "25  외 도 동  NaN        NaN        NaN   11002      10799   125        182\n",
              "26  이 호 동  NaN        NaN        NaN    2374       2195    95        100\n",
              "27  도 두 동  NaN        NaN        NaN    1673       1513    68         60"
            ]
          },
          "metadata": {
            "tags": []
          },
          "execution_count": 96
        }
      ]
    },
    {
      "cell_type": "code",
      "metadata": {
        "id": "gnIe_B_FMzmW"
      },
      "source": [
        "#데이터 살펴보기"
      ],
      "execution_count": null,
      "outputs": []
    },
    {
      "cell_type": "code",
      "metadata": {
        "id": "b9bXg0-xM4Km",
        "colab": {
          "base_uri": "https://localhost:8080/",
          "height": 886
        },
        "outputId": "c46a8cf0-12e0-4ebd-ea92-4418f4ad56dc"
      },
      "source": [
        "df1 = df.columns=['동','계', '계(남)','계(여)','내남','내여','외남','외여']\n",
        "df.drop(df.index[0])"
      ],
      "execution_count": null,
      "outputs": [
        {
          "output_type": "execute_result",
          "data": {
            "text/html": [
              "<div>\n",
              "<style scoped>\n",
              "    .dataframe tbody tr th:only-of-type {\n",
              "        vertical-align: middle;\n",
              "    }\n",
              "\n",
              "    .dataframe tbody tr th {\n",
              "        vertical-align: top;\n",
              "    }\n",
              "\n",
              "    .dataframe thead th {\n",
              "        text-align: right;\n",
              "    }\n",
              "</style>\n",
              "<table border=\"1\" class=\"dataframe\">\n",
              "  <thead>\n",
              "    <tr style=\"text-align: right;\">\n",
              "      <th></th>\n",
              "      <th>동</th>\n",
              "      <th>계</th>\n",
              "      <th>계(남)</th>\n",
              "      <th>계(여)</th>\n",
              "      <th>내남</th>\n",
              "      <th>내여</th>\n",
              "      <th>외남</th>\n",
              "      <th>외여</th>\n",
              "    </tr>\n",
              "  </thead>\n",
              "  <tbody>\n",
              "    <tr>\n",
              "      <th>1</th>\n",
              "      <td>제 주 시</td>\n",
              "      <td>505950</td>\n",
              "      <td>254656</td>\n",
              "      <td>251294</td>\n",
              "      <td>245533</td>\n",
              "      <td>243872</td>\n",
              "      <td>9123</td>\n",
              "      <td>7422</td>\n",
              "    </tr>\n",
              "    <tr>\n",
              "      <th>2</th>\n",
              "      <td>한 림 읍</td>\n",
              "      <td>25080</td>\n",
              "      <td>13394</td>\n",
              "      <td>11686</td>\n",
              "      <td>11011</td>\n",
              "      <td>10354</td>\n",
              "      <td>2383</td>\n",
              "      <td>1332</td>\n",
              "    </tr>\n",
              "    <tr>\n",
              "      <th>3</th>\n",
              "      <td>애 월 읍</td>\n",
              "      <td>37345</td>\n",
              "      <td>19289</td>\n",
              "      <td>18056</td>\n",
              "      <td>18718</td>\n",
              "      <td>17515</td>\n",
              "      <td>571</td>\n",
              "      <td>541</td>\n",
              "    </tr>\n",
              "    <tr>\n",
              "      <th>4</th>\n",
              "      <td>구 좌 읍</td>\n",
              "      <td>16232</td>\n",
              "      <td>8454</td>\n",
              "      <td>7778</td>\n",
              "      <td>8014</td>\n",
              "      <td>7575</td>\n",
              "      <td>440</td>\n",
              "      <td>203</td>\n",
              "    </tr>\n",
              "    <tr>\n",
              "      <th>5</th>\n",
              "      <td>조 천 읍</td>\n",
              "      <td>25313</td>\n",
              "      <td>13040</td>\n",
              "      <td>12273</td>\n",
              "      <td>12666</td>\n",
              "      <td>12004</td>\n",
              "      <td>374</td>\n",
              "      <td>269</td>\n",
              "    </tr>\n",
              "    <tr>\n",
              "      <th>6</th>\n",
              "      <td>한 경 면</td>\n",
              "      <td>9405</td>\n",
              "      <td>4813</td>\n",
              "      <td>4592</td>\n",
              "      <td>4552</td>\n",
              "      <td>4485</td>\n",
              "      <td>261</td>\n",
              "      <td>107</td>\n",
              "    </tr>\n",
              "    <tr>\n",
              "      <th>7</th>\n",
              "      <td>추 자 면</td>\n",
              "      <td>2057</td>\n",
              "      <td>1252</td>\n",
              "      <td>805</td>\n",
              "      <td>941</td>\n",
              "      <td>792</td>\n",
              "      <td>311</td>\n",
              "      <td>13</td>\n",
              "    </tr>\n",
              "    <tr>\n",
              "      <th>8</th>\n",
              "      <td>우 도 면</td>\n",
              "      <td>1892</td>\n",
              "      <td>993</td>\n",
              "      <td>899</td>\n",
              "      <td>974</td>\n",
              "      <td>888</td>\n",
              "      <td>19</td>\n",
              "      <td>11</td>\n",
              "    </tr>\n",
              "    <tr>\n",
              "      <th>9</th>\n",
              "      <td>일도 1동</td>\n",
              "      <td>2809</td>\n",
              "      <td>1466</td>\n",
              "      <td>1343</td>\n",
              "      <td>1423</td>\n",
              "      <td>1301</td>\n",
              "      <td>43</td>\n",
              "      <td>42</td>\n",
              "    </tr>\n",
              "    <tr>\n",
              "      <th>10</th>\n",
              "      <td>일도 2동</td>\n",
              "      <td>33998</td>\n",
              "      <td>16667</td>\n",
              "      <td>17331</td>\n",
              "      <td>16565</td>\n",
              "      <td>17118</td>\n",
              "      <td>102</td>\n",
              "      <td>213</td>\n",
              "    </tr>\n",
              "    <tr>\n",
              "      <th>11</th>\n",
              "      <td>이도 1동</td>\n",
              "      <td>7796</td>\n",
              "      <td>3829</td>\n",
              "      <td>3967</td>\n",
              "      <td>3773</td>\n",
              "      <td>3876</td>\n",
              "      <td>56</td>\n",
              "      <td>91</td>\n",
              "    </tr>\n",
              "    <tr>\n",
              "      <th>12</th>\n",
              "      <td>이도 2동</td>\n",
              "      <td>50655</td>\n",
              "      <td>24859</td>\n",
              "      <td>25796</td>\n",
              "      <td>24554</td>\n",
              "      <td>25410</td>\n",
              "      <td>305</td>\n",
              "      <td>386</td>\n",
              "    </tr>\n",
              "    <tr>\n",
              "      <th>13</th>\n",
              "      <td>삼도 1동</td>\n",
              "      <td>14005</td>\n",
              "      <td>6854</td>\n",
              "      <td>7151</td>\n",
              "      <td>6788</td>\n",
              "      <td>7066</td>\n",
              "      <td>66</td>\n",
              "      <td>85</td>\n",
              "    </tr>\n",
              "    <tr>\n",
              "      <th>14</th>\n",
              "      <td>삼도 2동</td>\n",
              "      <td>8433</td>\n",
              "      <td>4414</td>\n",
              "      <td>4019</td>\n",
              "      <td>4254</td>\n",
              "      <td>3920</td>\n",
              "      <td>160</td>\n",
              "      <td>99</td>\n",
              "    </tr>\n",
              "    <tr>\n",
              "      <th>15</th>\n",
              "      <td>용담 1동</td>\n",
              "      <td>7315</td>\n",
              "      <td>3755</td>\n",
              "      <td>3560</td>\n",
              "      <td>3714</td>\n",
              "      <td>3511</td>\n",
              "      <td>41</td>\n",
              "      <td>49</td>\n",
              "    </tr>\n",
              "    <tr>\n",
              "      <th>16</th>\n",
              "      <td>용담 2동</td>\n",
              "      <td>15328</td>\n",
              "      <td>7657</td>\n",
              "      <td>7671</td>\n",
              "      <td>7580</td>\n",
              "      <td>7494</td>\n",
              "      <td>77</td>\n",
              "      <td>177</td>\n",
              "    </tr>\n",
              "    <tr>\n",
              "      <th>17</th>\n",
              "      <td>건 입 동</td>\n",
              "      <td>9571</td>\n",
              "      <td>4937</td>\n",
              "      <td>4634</td>\n",
              "      <td>4774</td>\n",
              "      <td>4537</td>\n",
              "      <td>163</td>\n",
              "      <td>97</td>\n",
              "    </tr>\n",
              "    <tr>\n",
              "      <th>18</th>\n",
              "      <td>화 북 동</td>\n",
              "      <td>25271</td>\n",
              "      <td>12639</td>\n",
              "      <td>12632</td>\n",
              "      <td>12413</td>\n",
              "      <td>12442</td>\n",
              "      <td>226</td>\n",
              "      <td>190</td>\n",
              "    </tr>\n",
              "    <tr>\n",
              "      <th>19</th>\n",
              "      <td>삼 양 동</td>\n",
              "      <td>25965</td>\n",
              "      <td>13034</td>\n",
              "      <td>12931</td>\n",
              "      <td>12933</td>\n",
              "      <td>12769</td>\n",
              "      <td>101</td>\n",
              "      <td>162</td>\n",
              "    </tr>\n",
              "    <tr>\n",
              "      <th>20</th>\n",
              "      <td>봉 개 동</td>\n",
              "      <td>5363</td>\n",
              "      <td>2782</td>\n",
              "      <td>2581</td>\n",
              "      <td>2740</td>\n",
              "      <td>2530</td>\n",
              "      <td>42</td>\n",
              "      <td>51</td>\n",
              "    </tr>\n",
              "    <tr>\n",
              "      <th>21</th>\n",
              "      <td>아 라 동</td>\n",
              "      <td>36024</td>\n",
              "      <td>17967</td>\n",
              "      <td>18057</td>\n",
              "      <td>17352</td>\n",
              "      <td>17454</td>\n",
              "      <td>615</td>\n",
              "      <td>603</td>\n",
              "    </tr>\n",
              "    <tr>\n",
              "      <th>22</th>\n",
              "      <td>오 라 동</td>\n",
              "      <td>15588</td>\n",
              "      <td>7863</td>\n",
              "      <td>7725</td>\n",
              "      <td>7741</td>\n",
              "      <td>7593</td>\n",
              "      <td>122</td>\n",
              "      <td>132</td>\n",
              "    </tr>\n",
              "    <tr>\n",
              "      <th>23</th>\n",
              "      <td>연 동</td>\n",
              "      <td>43708</td>\n",
              "      <td>21438</td>\n",
              "      <td>22270</td>\n",
              "      <td>20376</td>\n",
              "      <td>21137</td>\n",
              "      <td>1062</td>\n",
              "      <td>1133</td>\n",
              "    </tr>\n",
              "    <tr>\n",
              "      <th>24</th>\n",
              "      <td>노 형 동</td>\n",
              "      <td>56611</td>\n",
              "      <td>27923</td>\n",
              "      <td>28688</td>\n",
              "      <td>26628</td>\n",
              "      <td>27594</td>\n",
              "      <td>1295</td>\n",
              "      <td>1094</td>\n",
              "    </tr>\n",
              "    <tr>\n",
              "      <th>25</th>\n",
              "      <td>외 도 동</td>\n",
              "      <td>22108</td>\n",
              "      <td>11127</td>\n",
              "      <td>10981</td>\n",
              "      <td>11002</td>\n",
              "      <td>10799</td>\n",
              "      <td>125</td>\n",
              "      <td>182</td>\n",
              "    </tr>\n",
              "    <tr>\n",
              "      <th>26</th>\n",
              "      <td>이 호 동</td>\n",
              "      <td>4764</td>\n",
              "      <td>2469</td>\n",
              "      <td>2295</td>\n",
              "      <td>2374</td>\n",
              "      <td>2195</td>\n",
              "      <td>95</td>\n",
              "      <td>100</td>\n",
              "    </tr>\n",
              "    <tr>\n",
              "      <th>27</th>\n",
              "      <td>도 두 동</td>\n",
              "      <td>3314</td>\n",
              "      <td>1741</td>\n",
              "      <td>1573</td>\n",
              "      <td>1673</td>\n",
              "      <td>1513</td>\n",
              "      <td>68</td>\n",
              "      <td>60</td>\n",
              "    </tr>\n",
              "  </tbody>\n",
              "</table>\n",
              "</div>"
            ],
            "text/plain": [
              "        동       계    계(남)    계(여)      내남      내여    외남    외여\n",
              "1   제 주 시  505950  254656  251294  245533  243872  9123  7422\n",
              "2   한 림 읍   25080   13394   11686   11011   10354  2383  1332\n",
              "3   애 월 읍   37345   19289   18056   18718   17515   571   541\n",
              "4   구 좌 읍   16232    8454    7778    8014    7575   440   203\n",
              "5   조 천 읍   25313   13040   12273   12666   12004   374   269\n",
              "6   한 경 면    9405    4813    4592    4552    4485   261   107\n",
              "7   추 자 면    2057    1252     805     941     792   311    13\n",
              "8   우 도 면    1892     993     899     974     888    19    11\n",
              "9   일도 1동    2809    1466    1343    1423    1301    43    42\n",
              "10  일도 2동   33998   16667   17331   16565   17118   102   213\n",
              "11  이도 1동    7796    3829    3967    3773    3876    56    91\n",
              "12  이도 2동   50655   24859   25796   24554   25410   305   386\n",
              "13  삼도 1동   14005    6854    7151    6788    7066    66    85\n",
              "14  삼도 2동    8433    4414    4019    4254    3920   160    99\n",
              "15  용담 1동    7315    3755    3560    3714    3511    41    49\n",
              "16  용담 2동   15328    7657    7671    7580    7494    77   177\n",
              "17  건 입 동    9571    4937    4634    4774    4537   163    97\n",
              "18  화 북 동   25271   12639   12632   12413   12442   226   190\n",
              "19  삼 양 동   25965   13034   12931   12933   12769   101   162\n",
              "20  봉 개 동    5363    2782    2581    2740    2530    42    51\n",
              "21  아 라 동   36024   17967   18057   17352   17454   615   603\n",
              "22  오 라 동   15588    7863    7725    7741    7593   122   132\n",
              "23    연 동   43708   21438   22270   20376   21137  1062  1133\n",
              "24  노 형 동   56611   27923   28688   26628   27594  1295  1094\n",
              "25  외 도 동   22108   11127   10981   11002   10799   125   182\n",
              "26  이 호 동    4764    2469    2295    2374    2195    95   100\n",
              "27  도 두 동    3314    1741    1573    1673    1513    68    60"
            ]
          },
          "metadata": {
            "tags": []
          },
          "execution_count": 125
        }
      ]
    },
    {
      "cell_type": "code",
      "metadata": {
        "id": "nZc9uj-SM4mU"
      },
      "source": [
        "#계(남)데이터 채우기"
      ],
      "execution_count": null,
      "outputs": []
    },
    {
      "cell_type": "code",
      "metadata": {
        "id": "nUBsKRyeNANb",
        "colab": {
          "base_uri": "https://localhost:8080/",
          "height": 917
        },
        "outputId": "bd9a3fab-1a85-4514-bfe2-8243a04543eb"
      },
      "source": [
        "df['계(남)'] = df['내남']+df['외남']\n",
        "df"
      ],
      "execution_count": null,
      "outputs": [
        {
          "output_type": "execute_result",
          "data": {
            "text/html": [
              "<div>\n",
              "<style scoped>\n",
              "    .dataframe tbody tr th:only-of-type {\n",
              "        vertical-align: middle;\n",
              "    }\n",
              "\n",
              "    .dataframe tbody tr th {\n",
              "        vertical-align: top;\n",
              "    }\n",
              "\n",
              "    .dataframe thead th {\n",
              "        text-align: right;\n",
              "    }\n",
              "</style>\n",
              "<table border=\"1\" class=\"dataframe\">\n",
              "  <thead>\n",
              "    <tr style=\"text-align: right;\">\n",
              "      <th></th>\n",
              "      <th>동</th>\n",
              "      <th>계</th>\n",
              "      <th>계(남)</th>\n",
              "      <th>계(여)</th>\n",
              "      <th>내남</th>\n",
              "      <th>내여</th>\n",
              "      <th>외남</th>\n",
              "      <th>외여</th>\n",
              "    </tr>\n",
              "  </thead>\n",
              "  <tbody>\n",
              "    <tr>\n",
              "      <th>0</th>\n",
              "      <td>NaN</td>\n",
              "      <td>계</td>\n",
              "      <td>남남</td>\n",
              "      <td>여여</td>\n",
              "      <td>남</td>\n",
              "      <td>여</td>\n",
              "      <td>남</td>\n",
              "      <td>여</td>\n",
              "    </tr>\n",
              "    <tr>\n",
              "      <th>1</th>\n",
              "      <td>제 주 시</td>\n",
              "      <td>NaN</td>\n",
              "      <td>254656</td>\n",
              "      <td>251294</td>\n",
              "      <td>245533</td>\n",
              "      <td>243872</td>\n",
              "      <td>9123</td>\n",
              "      <td>7422</td>\n",
              "    </tr>\n",
              "    <tr>\n",
              "      <th>2</th>\n",
              "      <td>한 림 읍</td>\n",
              "      <td>NaN</td>\n",
              "      <td>13394</td>\n",
              "      <td>11686</td>\n",
              "      <td>11011</td>\n",
              "      <td>10354</td>\n",
              "      <td>2383</td>\n",
              "      <td>1332</td>\n",
              "    </tr>\n",
              "    <tr>\n",
              "      <th>3</th>\n",
              "      <td>애 월 읍</td>\n",
              "      <td>NaN</td>\n",
              "      <td>19289</td>\n",
              "      <td>18056</td>\n",
              "      <td>18718</td>\n",
              "      <td>17515</td>\n",
              "      <td>571</td>\n",
              "      <td>541</td>\n",
              "    </tr>\n",
              "    <tr>\n",
              "      <th>4</th>\n",
              "      <td>구 좌 읍</td>\n",
              "      <td>NaN</td>\n",
              "      <td>8454</td>\n",
              "      <td>7778</td>\n",
              "      <td>8014</td>\n",
              "      <td>7575</td>\n",
              "      <td>440</td>\n",
              "      <td>203</td>\n",
              "    </tr>\n",
              "    <tr>\n",
              "      <th>5</th>\n",
              "      <td>조 천 읍</td>\n",
              "      <td>NaN</td>\n",
              "      <td>13040</td>\n",
              "      <td>12273</td>\n",
              "      <td>12666</td>\n",
              "      <td>12004</td>\n",
              "      <td>374</td>\n",
              "      <td>269</td>\n",
              "    </tr>\n",
              "    <tr>\n",
              "      <th>6</th>\n",
              "      <td>한 경 면</td>\n",
              "      <td>NaN</td>\n",
              "      <td>4813</td>\n",
              "      <td>4592</td>\n",
              "      <td>4552</td>\n",
              "      <td>4485</td>\n",
              "      <td>261</td>\n",
              "      <td>107</td>\n",
              "    </tr>\n",
              "    <tr>\n",
              "      <th>7</th>\n",
              "      <td>추 자 면</td>\n",
              "      <td>NaN</td>\n",
              "      <td>1252</td>\n",
              "      <td>805</td>\n",
              "      <td>941</td>\n",
              "      <td>792</td>\n",
              "      <td>311</td>\n",
              "      <td>13</td>\n",
              "    </tr>\n",
              "    <tr>\n",
              "      <th>8</th>\n",
              "      <td>우 도 면</td>\n",
              "      <td>NaN</td>\n",
              "      <td>993</td>\n",
              "      <td>899</td>\n",
              "      <td>974</td>\n",
              "      <td>888</td>\n",
              "      <td>19</td>\n",
              "      <td>11</td>\n",
              "    </tr>\n",
              "    <tr>\n",
              "      <th>9</th>\n",
              "      <td>일도 1동</td>\n",
              "      <td>NaN</td>\n",
              "      <td>1466</td>\n",
              "      <td>1343</td>\n",
              "      <td>1423</td>\n",
              "      <td>1301</td>\n",
              "      <td>43</td>\n",
              "      <td>42</td>\n",
              "    </tr>\n",
              "    <tr>\n",
              "      <th>10</th>\n",
              "      <td>일도 2동</td>\n",
              "      <td>NaN</td>\n",
              "      <td>16667</td>\n",
              "      <td>17331</td>\n",
              "      <td>16565</td>\n",
              "      <td>17118</td>\n",
              "      <td>102</td>\n",
              "      <td>213</td>\n",
              "    </tr>\n",
              "    <tr>\n",
              "      <th>11</th>\n",
              "      <td>이도 1동</td>\n",
              "      <td>NaN</td>\n",
              "      <td>3829</td>\n",
              "      <td>3967</td>\n",
              "      <td>3773</td>\n",
              "      <td>3876</td>\n",
              "      <td>56</td>\n",
              "      <td>91</td>\n",
              "    </tr>\n",
              "    <tr>\n",
              "      <th>12</th>\n",
              "      <td>이도 2동</td>\n",
              "      <td>NaN</td>\n",
              "      <td>24859</td>\n",
              "      <td>25796</td>\n",
              "      <td>24554</td>\n",
              "      <td>25410</td>\n",
              "      <td>305</td>\n",
              "      <td>386</td>\n",
              "    </tr>\n",
              "    <tr>\n",
              "      <th>13</th>\n",
              "      <td>삼도 1동</td>\n",
              "      <td>NaN</td>\n",
              "      <td>6854</td>\n",
              "      <td>7151</td>\n",
              "      <td>6788</td>\n",
              "      <td>7066</td>\n",
              "      <td>66</td>\n",
              "      <td>85</td>\n",
              "    </tr>\n",
              "    <tr>\n",
              "      <th>14</th>\n",
              "      <td>삼도 2동</td>\n",
              "      <td>NaN</td>\n",
              "      <td>4414</td>\n",
              "      <td>4019</td>\n",
              "      <td>4254</td>\n",
              "      <td>3920</td>\n",
              "      <td>160</td>\n",
              "      <td>99</td>\n",
              "    </tr>\n",
              "    <tr>\n",
              "      <th>15</th>\n",
              "      <td>용담 1동</td>\n",
              "      <td>NaN</td>\n",
              "      <td>3755</td>\n",
              "      <td>3560</td>\n",
              "      <td>3714</td>\n",
              "      <td>3511</td>\n",
              "      <td>41</td>\n",
              "      <td>49</td>\n",
              "    </tr>\n",
              "    <tr>\n",
              "      <th>16</th>\n",
              "      <td>용담 2동</td>\n",
              "      <td>NaN</td>\n",
              "      <td>7657</td>\n",
              "      <td>7671</td>\n",
              "      <td>7580</td>\n",
              "      <td>7494</td>\n",
              "      <td>77</td>\n",
              "      <td>177</td>\n",
              "    </tr>\n",
              "    <tr>\n",
              "      <th>17</th>\n",
              "      <td>건 입 동</td>\n",
              "      <td>NaN</td>\n",
              "      <td>4937</td>\n",
              "      <td>4634</td>\n",
              "      <td>4774</td>\n",
              "      <td>4537</td>\n",
              "      <td>163</td>\n",
              "      <td>97</td>\n",
              "    </tr>\n",
              "    <tr>\n",
              "      <th>18</th>\n",
              "      <td>화 북 동</td>\n",
              "      <td>NaN</td>\n",
              "      <td>12639</td>\n",
              "      <td>12632</td>\n",
              "      <td>12413</td>\n",
              "      <td>12442</td>\n",
              "      <td>226</td>\n",
              "      <td>190</td>\n",
              "    </tr>\n",
              "    <tr>\n",
              "      <th>19</th>\n",
              "      <td>삼 양 동</td>\n",
              "      <td>NaN</td>\n",
              "      <td>13034</td>\n",
              "      <td>12931</td>\n",
              "      <td>12933</td>\n",
              "      <td>12769</td>\n",
              "      <td>101</td>\n",
              "      <td>162</td>\n",
              "    </tr>\n",
              "    <tr>\n",
              "      <th>20</th>\n",
              "      <td>봉 개 동</td>\n",
              "      <td>NaN</td>\n",
              "      <td>2782</td>\n",
              "      <td>2581</td>\n",
              "      <td>2740</td>\n",
              "      <td>2530</td>\n",
              "      <td>42</td>\n",
              "      <td>51</td>\n",
              "    </tr>\n",
              "    <tr>\n",
              "      <th>21</th>\n",
              "      <td>아 라 동</td>\n",
              "      <td>NaN</td>\n",
              "      <td>17967</td>\n",
              "      <td>18057</td>\n",
              "      <td>17352</td>\n",
              "      <td>17454</td>\n",
              "      <td>615</td>\n",
              "      <td>603</td>\n",
              "    </tr>\n",
              "    <tr>\n",
              "      <th>22</th>\n",
              "      <td>오 라 동</td>\n",
              "      <td>NaN</td>\n",
              "      <td>7863</td>\n",
              "      <td>7725</td>\n",
              "      <td>7741</td>\n",
              "      <td>7593</td>\n",
              "      <td>122</td>\n",
              "      <td>132</td>\n",
              "    </tr>\n",
              "    <tr>\n",
              "      <th>23</th>\n",
              "      <td>연 동</td>\n",
              "      <td>NaN</td>\n",
              "      <td>21438</td>\n",
              "      <td>22270</td>\n",
              "      <td>20376</td>\n",
              "      <td>21137</td>\n",
              "      <td>1062</td>\n",
              "      <td>1133</td>\n",
              "    </tr>\n",
              "    <tr>\n",
              "      <th>24</th>\n",
              "      <td>노 형 동</td>\n",
              "      <td>NaN</td>\n",
              "      <td>27923</td>\n",
              "      <td>28688</td>\n",
              "      <td>26628</td>\n",
              "      <td>27594</td>\n",
              "      <td>1295</td>\n",
              "      <td>1094</td>\n",
              "    </tr>\n",
              "    <tr>\n",
              "      <th>25</th>\n",
              "      <td>외 도 동</td>\n",
              "      <td>NaN</td>\n",
              "      <td>11127</td>\n",
              "      <td>10981</td>\n",
              "      <td>11002</td>\n",
              "      <td>10799</td>\n",
              "      <td>125</td>\n",
              "      <td>182</td>\n",
              "    </tr>\n",
              "    <tr>\n",
              "      <th>26</th>\n",
              "      <td>이 호 동</td>\n",
              "      <td>NaN</td>\n",
              "      <td>2469</td>\n",
              "      <td>2295</td>\n",
              "      <td>2374</td>\n",
              "      <td>2195</td>\n",
              "      <td>95</td>\n",
              "      <td>100</td>\n",
              "    </tr>\n",
              "    <tr>\n",
              "      <th>27</th>\n",
              "      <td>도 두 동</td>\n",
              "      <td>NaN</td>\n",
              "      <td>1741</td>\n",
              "      <td>1573</td>\n",
              "      <td>1673</td>\n",
              "      <td>1513</td>\n",
              "      <td>68</td>\n",
              "      <td>60</td>\n",
              "    </tr>\n",
              "  </tbody>\n",
              "</table>\n",
              "</div>"
            ],
            "text/plain": [
              "        동    계    계(남)    계(여)      내남      내여    외남    외여\n",
              "0     NaN    계      남남      여여       남       여     남     여\n",
              "1   제 주 시  NaN  254656  251294  245533  243872  9123  7422\n",
              "2   한 림 읍  NaN   13394   11686   11011   10354  2383  1332\n",
              "3   애 월 읍  NaN   19289   18056   18718   17515   571   541\n",
              "4   구 좌 읍  NaN    8454    7778    8014    7575   440   203\n",
              "5   조 천 읍  NaN   13040   12273   12666   12004   374   269\n",
              "6   한 경 면  NaN    4813    4592    4552    4485   261   107\n",
              "7   추 자 면  NaN    1252     805     941     792   311    13\n",
              "8   우 도 면  NaN     993     899     974     888    19    11\n",
              "9   일도 1동  NaN    1466    1343    1423    1301    43    42\n",
              "10  일도 2동  NaN   16667   17331   16565   17118   102   213\n",
              "11  이도 1동  NaN    3829    3967    3773    3876    56    91\n",
              "12  이도 2동  NaN   24859   25796   24554   25410   305   386\n",
              "13  삼도 1동  NaN    6854    7151    6788    7066    66    85\n",
              "14  삼도 2동  NaN    4414    4019    4254    3920   160    99\n",
              "15  용담 1동  NaN    3755    3560    3714    3511    41    49\n",
              "16  용담 2동  NaN    7657    7671    7580    7494    77   177\n",
              "17  건 입 동  NaN    4937    4634    4774    4537   163    97\n",
              "18  화 북 동  NaN   12639   12632   12413   12442   226   190\n",
              "19  삼 양 동  NaN   13034   12931   12933   12769   101   162\n",
              "20  봉 개 동  NaN    2782    2581    2740    2530    42    51\n",
              "21  아 라 동  NaN   17967   18057   17352   17454   615   603\n",
              "22  오 라 동  NaN    7863    7725    7741    7593   122   132\n",
              "23    연 동  NaN   21438   22270   20376   21137  1062  1133\n",
              "24  노 형 동  NaN   27923   28688   26628   27594  1295  1094\n",
              "25  외 도 동  NaN   11127   10981   11002   10799   125   182\n",
              "26  이 호 동  NaN    2469    2295    2374    2195    95   100\n",
              "27  도 두 동  NaN    1741    1573    1673    1513    68    60"
            ]
          },
          "metadata": {
            "tags": []
          },
          "execution_count": 120
        }
      ]
    },
    {
      "cell_type": "code",
      "metadata": {
        "id": "GQ9MyqQ0NA2e"
      },
      "source": [
        "#계(여)데이터 채우기"
      ],
      "execution_count": null,
      "outputs": []
    },
    {
      "cell_type": "code",
      "metadata": {
        "id": "ux3Adz_kNC_V",
        "colab": {
          "base_uri": "https://localhost:8080/",
          "height": 917
        },
        "outputId": "fce944fd-d194-4a65-ea6f-74a092874f0e"
      },
      "source": [
        "df['계(여)'] = df['내여']+df['외여']\n",
        "df"
      ],
      "execution_count": null,
      "outputs": [
        {
          "output_type": "execute_result",
          "data": {
            "text/html": [
              "<div>\n",
              "<style scoped>\n",
              "    .dataframe tbody tr th:only-of-type {\n",
              "        vertical-align: middle;\n",
              "    }\n",
              "\n",
              "    .dataframe tbody tr th {\n",
              "        vertical-align: top;\n",
              "    }\n",
              "\n",
              "    .dataframe thead th {\n",
              "        text-align: right;\n",
              "    }\n",
              "</style>\n",
              "<table border=\"1\" class=\"dataframe\">\n",
              "  <thead>\n",
              "    <tr style=\"text-align: right;\">\n",
              "      <th></th>\n",
              "      <th>동</th>\n",
              "      <th>계</th>\n",
              "      <th>계(남)</th>\n",
              "      <th>계(여)</th>\n",
              "      <th>내남</th>\n",
              "      <th>내여</th>\n",
              "      <th>외남</th>\n",
              "      <th>외여</th>\n",
              "    </tr>\n",
              "  </thead>\n",
              "  <tbody>\n",
              "    <tr>\n",
              "      <th>0</th>\n",
              "      <td>NaN</td>\n",
              "      <td>계</td>\n",
              "      <td>남남</td>\n",
              "      <td>여여</td>\n",
              "      <td>남</td>\n",
              "      <td>여</td>\n",
              "      <td>남</td>\n",
              "      <td>여</td>\n",
              "    </tr>\n",
              "    <tr>\n",
              "      <th>1</th>\n",
              "      <td>제 주 시</td>\n",
              "      <td>NaN</td>\n",
              "      <td>254656</td>\n",
              "      <td>251294</td>\n",
              "      <td>245533</td>\n",
              "      <td>243872</td>\n",
              "      <td>9123</td>\n",
              "      <td>7422</td>\n",
              "    </tr>\n",
              "    <tr>\n",
              "      <th>2</th>\n",
              "      <td>한 림 읍</td>\n",
              "      <td>NaN</td>\n",
              "      <td>13394</td>\n",
              "      <td>11686</td>\n",
              "      <td>11011</td>\n",
              "      <td>10354</td>\n",
              "      <td>2383</td>\n",
              "      <td>1332</td>\n",
              "    </tr>\n",
              "    <tr>\n",
              "      <th>3</th>\n",
              "      <td>애 월 읍</td>\n",
              "      <td>NaN</td>\n",
              "      <td>19289</td>\n",
              "      <td>18056</td>\n",
              "      <td>18718</td>\n",
              "      <td>17515</td>\n",
              "      <td>571</td>\n",
              "      <td>541</td>\n",
              "    </tr>\n",
              "    <tr>\n",
              "      <th>4</th>\n",
              "      <td>구 좌 읍</td>\n",
              "      <td>NaN</td>\n",
              "      <td>8454</td>\n",
              "      <td>7778</td>\n",
              "      <td>8014</td>\n",
              "      <td>7575</td>\n",
              "      <td>440</td>\n",
              "      <td>203</td>\n",
              "    </tr>\n",
              "    <tr>\n",
              "      <th>5</th>\n",
              "      <td>조 천 읍</td>\n",
              "      <td>NaN</td>\n",
              "      <td>13040</td>\n",
              "      <td>12273</td>\n",
              "      <td>12666</td>\n",
              "      <td>12004</td>\n",
              "      <td>374</td>\n",
              "      <td>269</td>\n",
              "    </tr>\n",
              "    <tr>\n",
              "      <th>6</th>\n",
              "      <td>한 경 면</td>\n",
              "      <td>NaN</td>\n",
              "      <td>4813</td>\n",
              "      <td>4592</td>\n",
              "      <td>4552</td>\n",
              "      <td>4485</td>\n",
              "      <td>261</td>\n",
              "      <td>107</td>\n",
              "    </tr>\n",
              "    <tr>\n",
              "      <th>7</th>\n",
              "      <td>추 자 면</td>\n",
              "      <td>NaN</td>\n",
              "      <td>1252</td>\n",
              "      <td>805</td>\n",
              "      <td>941</td>\n",
              "      <td>792</td>\n",
              "      <td>311</td>\n",
              "      <td>13</td>\n",
              "    </tr>\n",
              "    <tr>\n",
              "      <th>8</th>\n",
              "      <td>우 도 면</td>\n",
              "      <td>NaN</td>\n",
              "      <td>993</td>\n",
              "      <td>899</td>\n",
              "      <td>974</td>\n",
              "      <td>888</td>\n",
              "      <td>19</td>\n",
              "      <td>11</td>\n",
              "    </tr>\n",
              "    <tr>\n",
              "      <th>9</th>\n",
              "      <td>일도 1동</td>\n",
              "      <td>NaN</td>\n",
              "      <td>1466</td>\n",
              "      <td>1343</td>\n",
              "      <td>1423</td>\n",
              "      <td>1301</td>\n",
              "      <td>43</td>\n",
              "      <td>42</td>\n",
              "    </tr>\n",
              "    <tr>\n",
              "      <th>10</th>\n",
              "      <td>일도 2동</td>\n",
              "      <td>NaN</td>\n",
              "      <td>16667</td>\n",
              "      <td>17331</td>\n",
              "      <td>16565</td>\n",
              "      <td>17118</td>\n",
              "      <td>102</td>\n",
              "      <td>213</td>\n",
              "    </tr>\n",
              "    <tr>\n",
              "      <th>11</th>\n",
              "      <td>이도 1동</td>\n",
              "      <td>NaN</td>\n",
              "      <td>3829</td>\n",
              "      <td>3967</td>\n",
              "      <td>3773</td>\n",
              "      <td>3876</td>\n",
              "      <td>56</td>\n",
              "      <td>91</td>\n",
              "    </tr>\n",
              "    <tr>\n",
              "      <th>12</th>\n",
              "      <td>이도 2동</td>\n",
              "      <td>NaN</td>\n",
              "      <td>24859</td>\n",
              "      <td>25796</td>\n",
              "      <td>24554</td>\n",
              "      <td>25410</td>\n",
              "      <td>305</td>\n",
              "      <td>386</td>\n",
              "    </tr>\n",
              "    <tr>\n",
              "      <th>13</th>\n",
              "      <td>삼도 1동</td>\n",
              "      <td>NaN</td>\n",
              "      <td>6854</td>\n",
              "      <td>7151</td>\n",
              "      <td>6788</td>\n",
              "      <td>7066</td>\n",
              "      <td>66</td>\n",
              "      <td>85</td>\n",
              "    </tr>\n",
              "    <tr>\n",
              "      <th>14</th>\n",
              "      <td>삼도 2동</td>\n",
              "      <td>NaN</td>\n",
              "      <td>4414</td>\n",
              "      <td>4019</td>\n",
              "      <td>4254</td>\n",
              "      <td>3920</td>\n",
              "      <td>160</td>\n",
              "      <td>99</td>\n",
              "    </tr>\n",
              "    <tr>\n",
              "      <th>15</th>\n",
              "      <td>용담 1동</td>\n",
              "      <td>NaN</td>\n",
              "      <td>3755</td>\n",
              "      <td>3560</td>\n",
              "      <td>3714</td>\n",
              "      <td>3511</td>\n",
              "      <td>41</td>\n",
              "      <td>49</td>\n",
              "    </tr>\n",
              "    <tr>\n",
              "      <th>16</th>\n",
              "      <td>용담 2동</td>\n",
              "      <td>NaN</td>\n",
              "      <td>7657</td>\n",
              "      <td>7671</td>\n",
              "      <td>7580</td>\n",
              "      <td>7494</td>\n",
              "      <td>77</td>\n",
              "      <td>177</td>\n",
              "    </tr>\n",
              "    <tr>\n",
              "      <th>17</th>\n",
              "      <td>건 입 동</td>\n",
              "      <td>NaN</td>\n",
              "      <td>4937</td>\n",
              "      <td>4634</td>\n",
              "      <td>4774</td>\n",
              "      <td>4537</td>\n",
              "      <td>163</td>\n",
              "      <td>97</td>\n",
              "    </tr>\n",
              "    <tr>\n",
              "      <th>18</th>\n",
              "      <td>화 북 동</td>\n",
              "      <td>NaN</td>\n",
              "      <td>12639</td>\n",
              "      <td>12632</td>\n",
              "      <td>12413</td>\n",
              "      <td>12442</td>\n",
              "      <td>226</td>\n",
              "      <td>190</td>\n",
              "    </tr>\n",
              "    <tr>\n",
              "      <th>19</th>\n",
              "      <td>삼 양 동</td>\n",
              "      <td>NaN</td>\n",
              "      <td>13034</td>\n",
              "      <td>12931</td>\n",
              "      <td>12933</td>\n",
              "      <td>12769</td>\n",
              "      <td>101</td>\n",
              "      <td>162</td>\n",
              "    </tr>\n",
              "    <tr>\n",
              "      <th>20</th>\n",
              "      <td>봉 개 동</td>\n",
              "      <td>NaN</td>\n",
              "      <td>2782</td>\n",
              "      <td>2581</td>\n",
              "      <td>2740</td>\n",
              "      <td>2530</td>\n",
              "      <td>42</td>\n",
              "      <td>51</td>\n",
              "    </tr>\n",
              "    <tr>\n",
              "      <th>21</th>\n",
              "      <td>아 라 동</td>\n",
              "      <td>NaN</td>\n",
              "      <td>17967</td>\n",
              "      <td>18057</td>\n",
              "      <td>17352</td>\n",
              "      <td>17454</td>\n",
              "      <td>615</td>\n",
              "      <td>603</td>\n",
              "    </tr>\n",
              "    <tr>\n",
              "      <th>22</th>\n",
              "      <td>오 라 동</td>\n",
              "      <td>NaN</td>\n",
              "      <td>7863</td>\n",
              "      <td>7725</td>\n",
              "      <td>7741</td>\n",
              "      <td>7593</td>\n",
              "      <td>122</td>\n",
              "      <td>132</td>\n",
              "    </tr>\n",
              "    <tr>\n",
              "      <th>23</th>\n",
              "      <td>연 동</td>\n",
              "      <td>NaN</td>\n",
              "      <td>21438</td>\n",
              "      <td>22270</td>\n",
              "      <td>20376</td>\n",
              "      <td>21137</td>\n",
              "      <td>1062</td>\n",
              "      <td>1133</td>\n",
              "    </tr>\n",
              "    <tr>\n",
              "      <th>24</th>\n",
              "      <td>노 형 동</td>\n",
              "      <td>NaN</td>\n",
              "      <td>27923</td>\n",
              "      <td>28688</td>\n",
              "      <td>26628</td>\n",
              "      <td>27594</td>\n",
              "      <td>1295</td>\n",
              "      <td>1094</td>\n",
              "    </tr>\n",
              "    <tr>\n",
              "      <th>25</th>\n",
              "      <td>외 도 동</td>\n",
              "      <td>NaN</td>\n",
              "      <td>11127</td>\n",
              "      <td>10981</td>\n",
              "      <td>11002</td>\n",
              "      <td>10799</td>\n",
              "      <td>125</td>\n",
              "      <td>182</td>\n",
              "    </tr>\n",
              "    <tr>\n",
              "      <th>26</th>\n",
              "      <td>이 호 동</td>\n",
              "      <td>NaN</td>\n",
              "      <td>2469</td>\n",
              "      <td>2295</td>\n",
              "      <td>2374</td>\n",
              "      <td>2195</td>\n",
              "      <td>95</td>\n",
              "      <td>100</td>\n",
              "    </tr>\n",
              "    <tr>\n",
              "      <th>27</th>\n",
              "      <td>도 두 동</td>\n",
              "      <td>NaN</td>\n",
              "      <td>1741</td>\n",
              "      <td>1573</td>\n",
              "      <td>1673</td>\n",
              "      <td>1513</td>\n",
              "      <td>68</td>\n",
              "      <td>60</td>\n",
              "    </tr>\n",
              "  </tbody>\n",
              "</table>\n",
              "</div>"
            ],
            "text/plain": [
              "        동    계    계(남)    계(여)      내남      내여    외남    외여\n",
              "0     NaN    계      남남      여여       남       여     남     여\n",
              "1   제 주 시  NaN  254656  251294  245533  243872  9123  7422\n",
              "2   한 림 읍  NaN   13394   11686   11011   10354  2383  1332\n",
              "3   애 월 읍  NaN   19289   18056   18718   17515   571   541\n",
              "4   구 좌 읍  NaN    8454    7778    8014    7575   440   203\n",
              "5   조 천 읍  NaN   13040   12273   12666   12004   374   269\n",
              "6   한 경 면  NaN    4813    4592    4552    4485   261   107\n",
              "7   추 자 면  NaN    1252     805     941     792   311    13\n",
              "8   우 도 면  NaN     993     899     974     888    19    11\n",
              "9   일도 1동  NaN    1466    1343    1423    1301    43    42\n",
              "10  일도 2동  NaN   16667   17331   16565   17118   102   213\n",
              "11  이도 1동  NaN    3829    3967    3773    3876    56    91\n",
              "12  이도 2동  NaN   24859   25796   24554   25410   305   386\n",
              "13  삼도 1동  NaN    6854    7151    6788    7066    66    85\n",
              "14  삼도 2동  NaN    4414    4019    4254    3920   160    99\n",
              "15  용담 1동  NaN    3755    3560    3714    3511    41    49\n",
              "16  용담 2동  NaN    7657    7671    7580    7494    77   177\n",
              "17  건 입 동  NaN    4937    4634    4774    4537   163    97\n",
              "18  화 북 동  NaN   12639   12632   12413   12442   226   190\n",
              "19  삼 양 동  NaN   13034   12931   12933   12769   101   162\n",
              "20  봉 개 동  NaN    2782    2581    2740    2530    42    51\n",
              "21  아 라 동  NaN   17967   18057   17352   17454   615   603\n",
              "22  오 라 동  NaN    7863    7725    7741    7593   122   132\n",
              "23    연 동  NaN   21438   22270   20376   21137  1062  1133\n",
              "24  노 형 동  NaN   27923   28688   26628   27594  1295  1094\n",
              "25  외 도 동  NaN   11127   10981   11002   10799   125   182\n",
              "26  이 호 동  NaN    2469    2295    2374    2195    95   100\n",
              "27  도 두 동  NaN    1741    1573    1673    1513    68    60"
            ]
          },
          "metadata": {
            "tags": []
          },
          "execution_count": 121
        }
      ]
    },
    {
      "cell_type": "code",
      "metadata": {
        "id": "Q4B1ea3tNFTH"
      },
      "source": [
        "#계 데이터 채우기"
      ],
      "execution_count": null,
      "outputs": []
    },
    {
      "cell_type": "code",
      "metadata": {
        "id": "HQ6ohGonNJx8",
        "colab": {
          "base_uri": "https://localhost:8080/",
          "height": 917
        },
        "outputId": "6f24a5e8-8fc8-481c-e443-dd3e843e4477"
      },
      "source": [
        "df['계'] = df['계(남)']+df['계(여)']\n",
        "df"
      ],
      "execution_count": null,
      "outputs": [
        {
          "output_type": "execute_result",
          "data": {
            "text/html": [
              "<div>\n",
              "<style scoped>\n",
              "    .dataframe tbody tr th:only-of-type {\n",
              "        vertical-align: middle;\n",
              "    }\n",
              "\n",
              "    .dataframe tbody tr th {\n",
              "        vertical-align: top;\n",
              "    }\n",
              "\n",
              "    .dataframe thead th {\n",
              "        text-align: right;\n",
              "    }\n",
              "</style>\n",
              "<table border=\"1\" class=\"dataframe\">\n",
              "  <thead>\n",
              "    <tr style=\"text-align: right;\">\n",
              "      <th></th>\n",
              "      <th>동</th>\n",
              "      <th>계</th>\n",
              "      <th>계(남)</th>\n",
              "      <th>계(여)</th>\n",
              "      <th>내남</th>\n",
              "      <th>내여</th>\n",
              "      <th>외남</th>\n",
              "      <th>외여</th>\n",
              "    </tr>\n",
              "  </thead>\n",
              "  <tbody>\n",
              "    <tr>\n",
              "      <th>0</th>\n",
              "      <td>NaN</td>\n",
              "      <td>남남여여</td>\n",
              "      <td>남남</td>\n",
              "      <td>여여</td>\n",
              "      <td>남</td>\n",
              "      <td>여</td>\n",
              "      <td>남</td>\n",
              "      <td>여</td>\n",
              "    </tr>\n",
              "    <tr>\n",
              "      <th>1</th>\n",
              "      <td>제 주 시</td>\n",
              "      <td>505950</td>\n",
              "      <td>254656</td>\n",
              "      <td>251294</td>\n",
              "      <td>245533</td>\n",
              "      <td>243872</td>\n",
              "      <td>9123</td>\n",
              "      <td>7422</td>\n",
              "    </tr>\n",
              "    <tr>\n",
              "      <th>2</th>\n",
              "      <td>한 림 읍</td>\n",
              "      <td>25080</td>\n",
              "      <td>13394</td>\n",
              "      <td>11686</td>\n",
              "      <td>11011</td>\n",
              "      <td>10354</td>\n",
              "      <td>2383</td>\n",
              "      <td>1332</td>\n",
              "    </tr>\n",
              "    <tr>\n",
              "      <th>3</th>\n",
              "      <td>애 월 읍</td>\n",
              "      <td>37345</td>\n",
              "      <td>19289</td>\n",
              "      <td>18056</td>\n",
              "      <td>18718</td>\n",
              "      <td>17515</td>\n",
              "      <td>571</td>\n",
              "      <td>541</td>\n",
              "    </tr>\n",
              "    <tr>\n",
              "      <th>4</th>\n",
              "      <td>구 좌 읍</td>\n",
              "      <td>16232</td>\n",
              "      <td>8454</td>\n",
              "      <td>7778</td>\n",
              "      <td>8014</td>\n",
              "      <td>7575</td>\n",
              "      <td>440</td>\n",
              "      <td>203</td>\n",
              "    </tr>\n",
              "    <tr>\n",
              "      <th>5</th>\n",
              "      <td>조 천 읍</td>\n",
              "      <td>25313</td>\n",
              "      <td>13040</td>\n",
              "      <td>12273</td>\n",
              "      <td>12666</td>\n",
              "      <td>12004</td>\n",
              "      <td>374</td>\n",
              "      <td>269</td>\n",
              "    </tr>\n",
              "    <tr>\n",
              "      <th>6</th>\n",
              "      <td>한 경 면</td>\n",
              "      <td>9405</td>\n",
              "      <td>4813</td>\n",
              "      <td>4592</td>\n",
              "      <td>4552</td>\n",
              "      <td>4485</td>\n",
              "      <td>261</td>\n",
              "      <td>107</td>\n",
              "    </tr>\n",
              "    <tr>\n",
              "      <th>7</th>\n",
              "      <td>추 자 면</td>\n",
              "      <td>2057</td>\n",
              "      <td>1252</td>\n",
              "      <td>805</td>\n",
              "      <td>941</td>\n",
              "      <td>792</td>\n",
              "      <td>311</td>\n",
              "      <td>13</td>\n",
              "    </tr>\n",
              "    <tr>\n",
              "      <th>8</th>\n",
              "      <td>우 도 면</td>\n",
              "      <td>1892</td>\n",
              "      <td>993</td>\n",
              "      <td>899</td>\n",
              "      <td>974</td>\n",
              "      <td>888</td>\n",
              "      <td>19</td>\n",
              "      <td>11</td>\n",
              "    </tr>\n",
              "    <tr>\n",
              "      <th>9</th>\n",
              "      <td>일도 1동</td>\n",
              "      <td>2809</td>\n",
              "      <td>1466</td>\n",
              "      <td>1343</td>\n",
              "      <td>1423</td>\n",
              "      <td>1301</td>\n",
              "      <td>43</td>\n",
              "      <td>42</td>\n",
              "    </tr>\n",
              "    <tr>\n",
              "      <th>10</th>\n",
              "      <td>일도 2동</td>\n",
              "      <td>33998</td>\n",
              "      <td>16667</td>\n",
              "      <td>17331</td>\n",
              "      <td>16565</td>\n",
              "      <td>17118</td>\n",
              "      <td>102</td>\n",
              "      <td>213</td>\n",
              "    </tr>\n",
              "    <tr>\n",
              "      <th>11</th>\n",
              "      <td>이도 1동</td>\n",
              "      <td>7796</td>\n",
              "      <td>3829</td>\n",
              "      <td>3967</td>\n",
              "      <td>3773</td>\n",
              "      <td>3876</td>\n",
              "      <td>56</td>\n",
              "      <td>91</td>\n",
              "    </tr>\n",
              "    <tr>\n",
              "      <th>12</th>\n",
              "      <td>이도 2동</td>\n",
              "      <td>50655</td>\n",
              "      <td>24859</td>\n",
              "      <td>25796</td>\n",
              "      <td>24554</td>\n",
              "      <td>25410</td>\n",
              "      <td>305</td>\n",
              "      <td>386</td>\n",
              "    </tr>\n",
              "    <tr>\n",
              "      <th>13</th>\n",
              "      <td>삼도 1동</td>\n",
              "      <td>14005</td>\n",
              "      <td>6854</td>\n",
              "      <td>7151</td>\n",
              "      <td>6788</td>\n",
              "      <td>7066</td>\n",
              "      <td>66</td>\n",
              "      <td>85</td>\n",
              "    </tr>\n",
              "    <tr>\n",
              "      <th>14</th>\n",
              "      <td>삼도 2동</td>\n",
              "      <td>8433</td>\n",
              "      <td>4414</td>\n",
              "      <td>4019</td>\n",
              "      <td>4254</td>\n",
              "      <td>3920</td>\n",
              "      <td>160</td>\n",
              "      <td>99</td>\n",
              "    </tr>\n",
              "    <tr>\n",
              "      <th>15</th>\n",
              "      <td>용담 1동</td>\n",
              "      <td>7315</td>\n",
              "      <td>3755</td>\n",
              "      <td>3560</td>\n",
              "      <td>3714</td>\n",
              "      <td>3511</td>\n",
              "      <td>41</td>\n",
              "      <td>49</td>\n",
              "    </tr>\n",
              "    <tr>\n",
              "      <th>16</th>\n",
              "      <td>용담 2동</td>\n",
              "      <td>15328</td>\n",
              "      <td>7657</td>\n",
              "      <td>7671</td>\n",
              "      <td>7580</td>\n",
              "      <td>7494</td>\n",
              "      <td>77</td>\n",
              "      <td>177</td>\n",
              "    </tr>\n",
              "    <tr>\n",
              "      <th>17</th>\n",
              "      <td>건 입 동</td>\n",
              "      <td>9571</td>\n",
              "      <td>4937</td>\n",
              "      <td>4634</td>\n",
              "      <td>4774</td>\n",
              "      <td>4537</td>\n",
              "      <td>163</td>\n",
              "      <td>97</td>\n",
              "    </tr>\n",
              "    <tr>\n",
              "      <th>18</th>\n",
              "      <td>화 북 동</td>\n",
              "      <td>25271</td>\n",
              "      <td>12639</td>\n",
              "      <td>12632</td>\n",
              "      <td>12413</td>\n",
              "      <td>12442</td>\n",
              "      <td>226</td>\n",
              "      <td>190</td>\n",
              "    </tr>\n",
              "    <tr>\n",
              "      <th>19</th>\n",
              "      <td>삼 양 동</td>\n",
              "      <td>25965</td>\n",
              "      <td>13034</td>\n",
              "      <td>12931</td>\n",
              "      <td>12933</td>\n",
              "      <td>12769</td>\n",
              "      <td>101</td>\n",
              "      <td>162</td>\n",
              "    </tr>\n",
              "    <tr>\n",
              "      <th>20</th>\n",
              "      <td>봉 개 동</td>\n",
              "      <td>5363</td>\n",
              "      <td>2782</td>\n",
              "      <td>2581</td>\n",
              "      <td>2740</td>\n",
              "      <td>2530</td>\n",
              "      <td>42</td>\n",
              "      <td>51</td>\n",
              "    </tr>\n",
              "    <tr>\n",
              "      <th>21</th>\n",
              "      <td>아 라 동</td>\n",
              "      <td>36024</td>\n",
              "      <td>17967</td>\n",
              "      <td>18057</td>\n",
              "      <td>17352</td>\n",
              "      <td>17454</td>\n",
              "      <td>615</td>\n",
              "      <td>603</td>\n",
              "    </tr>\n",
              "    <tr>\n",
              "      <th>22</th>\n",
              "      <td>오 라 동</td>\n",
              "      <td>15588</td>\n",
              "      <td>7863</td>\n",
              "      <td>7725</td>\n",
              "      <td>7741</td>\n",
              "      <td>7593</td>\n",
              "      <td>122</td>\n",
              "      <td>132</td>\n",
              "    </tr>\n",
              "    <tr>\n",
              "      <th>23</th>\n",
              "      <td>연 동</td>\n",
              "      <td>43708</td>\n",
              "      <td>21438</td>\n",
              "      <td>22270</td>\n",
              "      <td>20376</td>\n",
              "      <td>21137</td>\n",
              "      <td>1062</td>\n",
              "      <td>1133</td>\n",
              "    </tr>\n",
              "    <tr>\n",
              "      <th>24</th>\n",
              "      <td>노 형 동</td>\n",
              "      <td>56611</td>\n",
              "      <td>27923</td>\n",
              "      <td>28688</td>\n",
              "      <td>26628</td>\n",
              "      <td>27594</td>\n",
              "      <td>1295</td>\n",
              "      <td>1094</td>\n",
              "    </tr>\n",
              "    <tr>\n",
              "      <th>25</th>\n",
              "      <td>외 도 동</td>\n",
              "      <td>22108</td>\n",
              "      <td>11127</td>\n",
              "      <td>10981</td>\n",
              "      <td>11002</td>\n",
              "      <td>10799</td>\n",
              "      <td>125</td>\n",
              "      <td>182</td>\n",
              "    </tr>\n",
              "    <tr>\n",
              "      <th>26</th>\n",
              "      <td>이 호 동</td>\n",
              "      <td>4764</td>\n",
              "      <td>2469</td>\n",
              "      <td>2295</td>\n",
              "      <td>2374</td>\n",
              "      <td>2195</td>\n",
              "      <td>95</td>\n",
              "      <td>100</td>\n",
              "    </tr>\n",
              "    <tr>\n",
              "      <th>27</th>\n",
              "      <td>도 두 동</td>\n",
              "      <td>3314</td>\n",
              "      <td>1741</td>\n",
              "      <td>1573</td>\n",
              "      <td>1673</td>\n",
              "      <td>1513</td>\n",
              "      <td>68</td>\n",
              "      <td>60</td>\n",
              "    </tr>\n",
              "  </tbody>\n",
              "</table>\n",
              "</div>"
            ],
            "text/plain": [
              "        동       계    계(남)    계(여)      내남      내여    외남    외여\n",
              "0     NaN    남남여여      남남      여여       남       여     남     여\n",
              "1   제 주 시  505950  254656  251294  245533  243872  9123  7422\n",
              "2   한 림 읍   25080   13394   11686   11011   10354  2383  1332\n",
              "3   애 월 읍   37345   19289   18056   18718   17515   571   541\n",
              "4   구 좌 읍   16232    8454    7778    8014    7575   440   203\n",
              "5   조 천 읍   25313   13040   12273   12666   12004   374   269\n",
              "6   한 경 면    9405    4813    4592    4552    4485   261   107\n",
              "7   추 자 면    2057    1252     805     941     792   311    13\n",
              "8   우 도 면    1892     993     899     974     888    19    11\n",
              "9   일도 1동    2809    1466    1343    1423    1301    43    42\n",
              "10  일도 2동   33998   16667   17331   16565   17118   102   213\n",
              "11  이도 1동    7796    3829    3967    3773    3876    56    91\n",
              "12  이도 2동   50655   24859   25796   24554   25410   305   386\n",
              "13  삼도 1동   14005    6854    7151    6788    7066    66    85\n",
              "14  삼도 2동    8433    4414    4019    4254    3920   160    99\n",
              "15  용담 1동    7315    3755    3560    3714    3511    41    49\n",
              "16  용담 2동   15328    7657    7671    7580    7494    77   177\n",
              "17  건 입 동    9571    4937    4634    4774    4537   163    97\n",
              "18  화 북 동   25271   12639   12632   12413   12442   226   190\n",
              "19  삼 양 동   25965   13034   12931   12933   12769   101   162\n",
              "20  봉 개 동    5363    2782    2581    2740    2530    42    51\n",
              "21  아 라 동   36024   17967   18057   17352   17454   615   603\n",
              "22  오 라 동   15588    7863    7725    7741    7593   122   132\n",
              "23    연 동   43708   21438   22270   20376   21137  1062  1133\n",
              "24  노 형 동   56611   27923   28688   26628   27594  1295  1094\n",
              "25  외 도 동   22108   11127   10981   11002   10799   125   182\n",
              "26  이 호 동    4764    2469    2295    2374    2195    95   100\n",
              "27  도 두 동    3314    1741    1573    1673    1513    68    60"
            ]
          },
          "metadata": {
            "tags": []
          },
          "execution_count": 123
        }
      ]
    },
    {
      "cell_type": "code",
      "metadata": {
        "id": "J5EDXtKwEz5H"
      },
      "source": [
        "df = df.drop(df.index[0])"
      ],
      "execution_count": null,
      "outputs": []
    },
    {
      "cell_type": "code",
      "metadata": {
        "id": "JDe3DxGWNKbj"
      },
      "source": [
        "#인덱스를 동으로 변경하기"
      ],
      "execution_count": null,
      "outputs": []
    },
    {
      "cell_type": "code",
      "metadata": {
        "id": "ntt4UkzNOMWJ"
      },
      "source": [
        "df1 = df.set_index('동')"
      ],
      "execution_count": null,
      "outputs": []
    },
    {
      "cell_type": "code",
      "metadata": {
        "id": "MkHC-sF9OM6v"
      },
      "source": [
        "#df1데이터에서 '제 주 시' 인덱스 삭제하여 df2에 저장"
      ],
      "execution_count": null,
      "outputs": []
    },
    {
      "cell_type": "code",
      "metadata": {
        "id": "QabiKfcsOSUV"
      },
      "source": [
        "df2 = df.drop(df.index[0])"
      ],
      "execution_count": null,
      "outputs": []
    },
    {
      "cell_type": "code",
      "metadata": {
        "id": "E0mQbSgPFjmE"
      },
      "source": [
        "df2\n",
        "df2 = df.set_index('동')"
      ],
      "execution_count": null,
      "outputs": []
    },
    {
      "cell_type": "code",
      "metadata": {
        "id": "XUXSXvwQF0Yq"
      },
      "source": [
        "df2= df2.drop(df2.index[0])"
      ],
      "execution_count": null,
      "outputs": []
    },
    {
      "cell_type": "code",
      "metadata": {
        "id": "qzVlZMdOGH06",
        "colab": {
          "base_uri": "https://localhost:8080/",
          "height": 886
        },
        "outputId": "94c6c1f2-916c-4a97-e04d-b9783c504c44"
      },
      "source": [
        "df2"
      ],
      "execution_count": null,
      "outputs": [
        {
          "output_type": "execute_result",
          "data": {
            "text/html": [
              "<div>\n",
              "<style scoped>\n",
              "    .dataframe tbody tr th:only-of-type {\n",
              "        vertical-align: middle;\n",
              "    }\n",
              "\n",
              "    .dataframe tbody tr th {\n",
              "        vertical-align: top;\n",
              "    }\n",
              "\n",
              "    .dataframe thead th {\n",
              "        text-align: right;\n",
              "    }\n",
              "</style>\n",
              "<table border=\"1\" class=\"dataframe\">\n",
              "  <thead>\n",
              "    <tr style=\"text-align: right;\">\n",
              "      <th></th>\n",
              "      <th>계</th>\n",
              "      <th>계(남)</th>\n",
              "      <th>계(여)</th>\n",
              "      <th>내남</th>\n",
              "      <th>내여</th>\n",
              "      <th>외남</th>\n",
              "      <th>외여</th>\n",
              "    </tr>\n",
              "    <tr>\n",
              "      <th>동</th>\n",
              "      <th></th>\n",
              "      <th></th>\n",
              "      <th></th>\n",
              "      <th></th>\n",
              "      <th></th>\n",
              "      <th></th>\n",
              "      <th></th>\n",
              "    </tr>\n",
              "  </thead>\n",
              "  <tbody>\n",
              "    <tr>\n",
              "      <th>한 림 읍</th>\n",
              "      <td>25080</td>\n",
              "      <td>13394</td>\n",
              "      <td>11686</td>\n",
              "      <td>11011</td>\n",
              "      <td>10354</td>\n",
              "      <td>2383</td>\n",
              "      <td>1332</td>\n",
              "    </tr>\n",
              "    <tr>\n",
              "      <th>애 월 읍</th>\n",
              "      <td>37345</td>\n",
              "      <td>19289</td>\n",
              "      <td>18056</td>\n",
              "      <td>18718</td>\n",
              "      <td>17515</td>\n",
              "      <td>571</td>\n",
              "      <td>541</td>\n",
              "    </tr>\n",
              "    <tr>\n",
              "      <th>구 좌 읍</th>\n",
              "      <td>16232</td>\n",
              "      <td>8454</td>\n",
              "      <td>7778</td>\n",
              "      <td>8014</td>\n",
              "      <td>7575</td>\n",
              "      <td>440</td>\n",
              "      <td>203</td>\n",
              "    </tr>\n",
              "    <tr>\n",
              "      <th>조 천 읍</th>\n",
              "      <td>25313</td>\n",
              "      <td>13040</td>\n",
              "      <td>12273</td>\n",
              "      <td>12666</td>\n",
              "      <td>12004</td>\n",
              "      <td>374</td>\n",
              "      <td>269</td>\n",
              "    </tr>\n",
              "    <tr>\n",
              "      <th>한 경 면</th>\n",
              "      <td>9405</td>\n",
              "      <td>4813</td>\n",
              "      <td>4592</td>\n",
              "      <td>4552</td>\n",
              "      <td>4485</td>\n",
              "      <td>261</td>\n",
              "      <td>107</td>\n",
              "    </tr>\n",
              "    <tr>\n",
              "      <th>추 자 면</th>\n",
              "      <td>2057</td>\n",
              "      <td>1252</td>\n",
              "      <td>805</td>\n",
              "      <td>941</td>\n",
              "      <td>792</td>\n",
              "      <td>311</td>\n",
              "      <td>13</td>\n",
              "    </tr>\n",
              "    <tr>\n",
              "      <th>우 도 면</th>\n",
              "      <td>1892</td>\n",
              "      <td>993</td>\n",
              "      <td>899</td>\n",
              "      <td>974</td>\n",
              "      <td>888</td>\n",
              "      <td>19</td>\n",
              "      <td>11</td>\n",
              "    </tr>\n",
              "    <tr>\n",
              "      <th>일도 1동</th>\n",
              "      <td>2809</td>\n",
              "      <td>1466</td>\n",
              "      <td>1343</td>\n",
              "      <td>1423</td>\n",
              "      <td>1301</td>\n",
              "      <td>43</td>\n",
              "      <td>42</td>\n",
              "    </tr>\n",
              "    <tr>\n",
              "      <th>일도 2동</th>\n",
              "      <td>33998</td>\n",
              "      <td>16667</td>\n",
              "      <td>17331</td>\n",
              "      <td>16565</td>\n",
              "      <td>17118</td>\n",
              "      <td>102</td>\n",
              "      <td>213</td>\n",
              "    </tr>\n",
              "    <tr>\n",
              "      <th>이도 1동</th>\n",
              "      <td>7796</td>\n",
              "      <td>3829</td>\n",
              "      <td>3967</td>\n",
              "      <td>3773</td>\n",
              "      <td>3876</td>\n",
              "      <td>56</td>\n",
              "      <td>91</td>\n",
              "    </tr>\n",
              "    <tr>\n",
              "      <th>이도 2동</th>\n",
              "      <td>50655</td>\n",
              "      <td>24859</td>\n",
              "      <td>25796</td>\n",
              "      <td>24554</td>\n",
              "      <td>25410</td>\n",
              "      <td>305</td>\n",
              "      <td>386</td>\n",
              "    </tr>\n",
              "    <tr>\n",
              "      <th>삼도 1동</th>\n",
              "      <td>14005</td>\n",
              "      <td>6854</td>\n",
              "      <td>7151</td>\n",
              "      <td>6788</td>\n",
              "      <td>7066</td>\n",
              "      <td>66</td>\n",
              "      <td>85</td>\n",
              "    </tr>\n",
              "    <tr>\n",
              "      <th>삼도 2동</th>\n",
              "      <td>8433</td>\n",
              "      <td>4414</td>\n",
              "      <td>4019</td>\n",
              "      <td>4254</td>\n",
              "      <td>3920</td>\n",
              "      <td>160</td>\n",
              "      <td>99</td>\n",
              "    </tr>\n",
              "    <tr>\n",
              "      <th>용담 1동</th>\n",
              "      <td>7315</td>\n",
              "      <td>3755</td>\n",
              "      <td>3560</td>\n",
              "      <td>3714</td>\n",
              "      <td>3511</td>\n",
              "      <td>41</td>\n",
              "      <td>49</td>\n",
              "    </tr>\n",
              "    <tr>\n",
              "      <th>용담 2동</th>\n",
              "      <td>15328</td>\n",
              "      <td>7657</td>\n",
              "      <td>7671</td>\n",
              "      <td>7580</td>\n",
              "      <td>7494</td>\n",
              "      <td>77</td>\n",
              "      <td>177</td>\n",
              "    </tr>\n",
              "    <tr>\n",
              "      <th>건 입 동</th>\n",
              "      <td>9571</td>\n",
              "      <td>4937</td>\n",
              "      <td>4634</td>\n",
              "      <td>4774</td>\n",
              "      <td>4537</td>\n",
              "      <td>163</td>\n",
              "      <td>97</td>\n",
              "    </tr>\n",
              "    <tr>\n",
              "      <th>화 북 동</th>\n",
              "      <td>25271</td>\n",
              "      <td>12639</td>\n",
              "      <td>12632</td>\n",
              "      <td>12413</td>\n",
              "      <td>12442</td>\n",
              "      <td>226</td>\n",
              "      <td>190</td>\n",
              "    </tr>\n",
              "    <tr>\n",
              "      <th>삼 양 동</th>\n",
              "      <td>25965</td>\n",
              "      <td>13034</td>\n",
              "      <td>12931</td>\n",
              "      <td>12933</td>\n",
              "      <td>12769</td>\n",
              "      <td>101</td>\n",
              "      <td>162</td>\n",
              "    </tr>\n",
              "    <tr>\n",
              "      <th>봉 개 동</th>\n",
              "      <td>5363</td>\n",
              "      <td>2782</td>\n",
              "      <td>2581</td>\n",
              "      <td>2740</td>\n",
              "      <td>2530</td>\n",
              "      <td>42</td>\n",
              "      <td>51</td>\n",
              "    </tr>\n",
              "    <tr>\n",
              "      <th>아 라 동</th>\n",
              "      <td>36024</td>\n",
              "      <td>17967</td>\n",
              "      <td>18057</td>\n",
              "      <td>17352</td>\n",
              "      <td>17454</td>\n",
              "      <td>615</td>\n",
              "      <td>603</td>\n",
              "    </tr>\n",
              "    <tr>\n",
              "      <th>오 라 동</th>\n",
              "      <td>15588</td>\n",
              "      <td>7863</td>\n",
              "      <td>7725</td>\n",
              "      <td>7741</td>\n",
              "      <td>7593</td>\n",
              "      <td>122</td>\n",
              "      <td>132</td>\n",
              "    </tr>\n",
              "    <tr>\n",
              "      <th>연 동</th>\n",
              "      <td>43708</td>\n",
              "      <td>21438</td>\n",
              "      <td>22270</td>\n",
              "      <td>20376</td>\n",
              "      <td>21137</td>\n",
              "      <td>1062</td>\n",
              "      <td>1133</td>\n",
              "    </tr>\n",
              "    <tr>\n",
              "      <th>노 형 동</th>\n",
              "      <td>56611</td>\n",
              "      <td>27923</td>\n",
              "      <td>28688</td>\n",
              "      <td>26628</td>\n",
              "      <td>27594</td>\n",
              "      <td>1295</td>\n",
              "      <td>1094</td>\n",
              "    </tr>\n",
              "    <tr>\n",
              "      <th>외 도 동</th>\n",
              "      <td>22108</td>\n",
              "      <td>11127</td>\n",
              "      <td>10981</td>\n",
              "      <td>11002</td>\n",
              "      <td>10799</td>\n",
              "      <td>125</td>\n",
              "      <td>182</td>\n",
              "    </tr>\n",
              "    <tr>\n",
              "      <th>이 호 동</th>\n",
              "      <td>4764</td>\n",
              "      <td>2469</td>\n",
              "      <td>2295</td>\n",
              "      <td>2374</td>\n",
              "      <td>2195</td>\n",
              "      <td>95</td>\n",
              "      <td>100</td>\n",
              "    </tr>\n",
              "    <tr>\n",
              "      <th>도 두 동</th>\n",
              "      <td>3314</td>\n",
              "      <td>1741</td>\n",
              "      <td>1573</td>\n",
              "      <td>1673</td>\n",
              "      <td>1513</td>\n",
              "      <td>68</td>\n",
              "      <td>60</td>\n",
              "    </tr>\n",
              "  </tbody>\n",
              "</table>\n",
              "</div>"
            ],
            "text/plain": [
              "           계   계(남)   계(여)     내남     내여    외남    외여\n",
              "동                                                   \n",
              "한 림 읍  25080  13394  11686  11011  10354  2383  1332\n",
              "애 월 읍  37345  19289  18056  18718  17515   571   541\n",
              "구 좌 읍  16232   8454   7778   8014   7575   440   203\n",
              "조 천 읍  25313  13040  12273  12666  12004   374   269\n",
              "한 경 면   9405   4813   4592   4552   4485   261   107\n",
              "추 자 면   2057   1252    805    941    792   311    13\n",
              "우 도 면   1892    993    899    974    888    19    11\n",
              "일도 1동   2809   1466   1343   1423   1301    43    42\n",
              "일도 2동  33998  16667  17331  16565  17118   102   213\n",
              "이도 1동   7796   3829   3967   3773   3876    56    91\n",
              "이도 2동  50655  24859  25796  24554  25410   305   386\n",
              "삼도 1동  14005   6854   7151   6788   7066    66    85\n",
              "삼도 2동   8433   4414   4019   4254   3920   160    99\n",
              "용담 1동   7315   3755   3560   3714   3511    41    49\n",
              "용담 2동  15328   7657   7671   7580   7494    77   177\n",
              "건 입 동   9571   4937   4634   4774   4537   163    97\n",
              "화 북 동  25271  12639  12632  12413  12442   226   190\n",
              "삼 양 동  25965  13034  12931  12933  12769   101   162\n",
              "봉 개 동   5363   2782   2581   2740   2530    42    51\n",
              "아 라 동  36024  17967  18057  17352  17454   615   603\n",
              "오 라 동  15588   7863   7725   7741   7593   122   132\n",
              "연 동    43708  21438  22270  20376  21137  1062  1133\n",
              "노 형 동  56611  27923  28688  26628  27594  1295  1094\n",
              "외 도 동  22108  11127  10981  11002  10799   125   182\n",
              "이 호 동   4764   2469   2295   2374   2195    95   100\n",
              "도 두 동   3314   1741   1573   1673   1513    68    60"
            ]
          },
          "metadata": {
            "tags": []
          },
          "execution_count": 144
        }
      ]
    },
    {
      "cell_type": "code",
      "metadata": {
        "id": "R17QuuDTOUQ_"
      },
      "source": [
        "#df1데이터를 가나다 순 정렬하여 df3에 저장"
      ],
      "execution_count": null,
      "outputs": []
    },
    {
      "cell_type": "code",
      "metadata": {
        "id": "EGpzbTGOOVz4"
      },
      "source": [
        "df3 = df1.sort_index(ascending=True)"
      ],
      "execution_count": null,
      "outputs": []
    },
    {
      "cell_type": "code",
      "metadata": {
        "id": "9g29OexsGWWo",
        "colab": {
          "base_uri": "https://localhost:8080/",
          "height": 917
        },
        "outputId": "1cf618c2-9354-48ab-8ac0-86abf3e8df49"
      },
      "source": [
        "df3"
      ],
      "execution_count": null,
      "outputs": [
        {
          "output_type": "execute_result",
          "data": {
            "text/html": [
              "<div>\n",
              "<style scoped>\n",
              "    .dataframe tbody tr th:only-of-type {\n",
              "        vertical-align: middle;\n",
              "    }\n",
              "\n",
              "    .dataframe tbody tr th {\n",
              "        vertical-align: top;\n",
              "    }\n",
              "\n",
              "    .dataframe thead th {\n",
              "        text-align: right;\n",
              "    }\n",
              "</style>\n",
              "<table border=\"1\" class=\"dataframe\">\n",
              "  <thead>\n",
              "    <tr style=\"text-align: right;\">\n",
              "      <th></th>\n",
              "      <th>계</th>\n",
              "      <th>계(남)</th>\n",
              "      <th>계(여)</th>\n",
              "      <th>내남</th>\n",
              "      <th>내여</th>\n",
              "      <th>외남</th>\n",
              "      <th>외여</th>\n",
              "    </tr>\n",
              "    <tr>\n",
              "      <th>동</th>\n",
              "      <th></th>\n",
              "      <th></th>\n",
              "      <th></th>\n",
              "      <th></th>\n",
              "      <th></th>\n",
              "      <th></th>\n",
              "      <th></th>\n",
              "    </tr>\n",
              "  </thead>\n",
              "  <tbody>\n",
              "    <tr>\n",
              "      <th>건 입 동</th>\n",
              "      <td>9571</td>\n",
              "      <td>4937</td>\n",
              "      <td>4634</td>\n",
              "      <td>4774</td>\n",
              "      <td>4537</td>\n",
              "      <td>163</td>\n",
              "      <td>97</td>\n",
              "    </tr>\n",
              "    <tr>\n",
              "      <th>구 좌 읍</th>\n",
              "      <td>16232</td>\n",
              "      <td>8454</td>\n",
              "      <td>7778</td>\n",
              "      <td>8014</td>\n",
              "      <td>7575</td>\n",
              "      <td>440</td>\n",
              "      <td>203</td>\n",
              "    </tr>\n",
              "    <tr>\n",
              "      <th>노 형 동</th>\n",
              "      <td>56611</td>\n",
              "      <td>27923</td>\n",
              "      <td>28688</td>\n",
              "      <td>26628</td>\n",
              "      <td>27594</td>\n",
              "      <td>1295</td>\n",
              "      <td>1094</td>\n",
              "    </tr>\n",
              "    <tr>\n",
              "      <th>도 두 동</th>\n",
              "      <td>3314</td>\n",
              "      <td>1741</td>\n",
              "      <td>1573</td>\n",
              "      <td>1673</td>\n",
              "      <td>1513</td>\n",
              "      <td>68</td>\n",
              "      <td>60</td>\n",
              "    </tr>\n",
              "    <tr>\n",
              "      <th>봉 개 동</th>\n",
              "      <td>5363</td>\n",
              "      <td>2782</td>\n",
              "      <td>2581</td>\n",
              "      <td>2740</td>\n",
              "      <td>2530</td>\n",
              "      <td>42</td>\n",
              "      <td>51</td>\n",
              "    </tr>\n",
              "    <tr>\n",
              "      <th>삼 양 동</th>\n",
              "      <td>25965</td>\n",
              "      <td>13034</td>\n",
              "      <td>12931</td>\n",
              "      <td>12933</td>\n",
              "      <td>12769</td>\n",
              "      <td>101</td>\n",
              "      <td>162</td>\n",
              "    </tr>\n",
              "    <tr>\n",
              "      <th>삼도 1동</th>\n",
              "      <td>14005</td>\n",
              "      <td>6854</td>\n",
              "      <td>7151</td>\n",
              "      <td>6788</td>\n",
              "      <td>7066</td>\n",
              "      <td>66</td>\n",
              "      <td>85</td>\n",
              "    </tr>\n",
              "    <tr>\n",
              "      <th>삼도 2동</th>\n",
              "      <td>8433</td>\n",
              "      <td>4414</td>\n",
              "      <td>4019</td>\n",
              "      <td>4254</td>\n",
              "      <td>3920</td>\n",
              "      <td>160</td>\n",
              "      <td>99</td>\n",
              "    </tr>\n",
              "    <tr>\n",
              "      <th>아 라 동</th>\n",
              "      <td>36024</td>\n",
              "      <td>17967</td>\n",
              "      <td>18057</td>\n",
              "      <td>17352</td>\n",
              "      <td>17454</td>\n",
              "      <td>615</td>\n",
              "      <td>603</td>\n",
              "    </tr>\n",
              "    <tr>\n",
              "      <th>애 월 읍</th>\n",
              "      <td>37345</td>\n",
              "      <td>19289</td>\n",
              "      <td>18056</td>\n",
              "      <td>18718</td>\n",
              "      <td>17515</td>\n",
              "      <td>571</td>\n",
              "      <td>541</td>\n",
              "    </tr>\n",
              "    <tr>\n",
              "      <th>연 동</th>\n",
              "      <td>43708</td>\n",
              "      <td>21438</td>\n",
              "      <td>22270</td>\n",
              "      <td>20376</td>\n",
              "      <td>21137</td>\n",
              "      <td>1062</td>\n",
              "      <td>1133</td>\n",
              "    </tr>\n",
              "    <tr>\n",
              "      <th>오 라 동</th>\n",
              "      <td>15588</td>\n",
              "      <td>7863</td>\n",
              "      <td>7725</td>\n",
              "      <td>7741</td>\n",
              "      <td>7593</td>\n",
              "      <td>122</td>\n",
              "      <td>132</td>\n",
              "    </tr>\n",
              "    <tr>\n",
              "      <th>외 도 동</th>\n",
              "      <td>22108</td>\n",
              "      <td>11127</td>\n",
              "      <td>10981</td>\n",
              "      <td>11002</td>\n",
              "      <td>10799</td>\n",
              "      <td>125</td>\n",
              "      <td>182</td>\n",
              "    </tr>\n",
              "    <tr>\n",
              "      <th>용담 1동</th>\n",
              "      <td>7315</td>\n",
              "      <td>3755</td>\n",
              "      <td>3560</td>\n",
              "      <td>3714</td>\n",
              "      <td>3511</td>\n",
              "      <td>41</td>\n",
              "      <td>49</td>\n",
              "    </tr>\n",
              "    <tr>\n",
              "      <th>용담 2동</th>\n",
              "      <td>15328</td>\n",
              "      <td>7657</td>\n",
              "      <td>7671</td>\n",
              "      <td>7580</td>\n",
              "      <td>7494</td>\n",
              "      <td>77</td>\n",
              "      <td>177</td>\n",
              "    </tr>\n",
              "    <tr>\n",
              "      <th>우 도 면</th>\n",
              "      <td>1892</td>\n",
              "      <td>993</td>\n",
              "      <td>899</td>\n",
              "      <td>974</td>\n",
              "      <td>888</td>\n",
              "      <td>19</td>\n",
              "      <td>11</td>\n",
              "    </tr>\n",
              "    <tr>\n",
              "      <th>이 호 동</th>\n",
              "      <td>4764</td>\n",
              "      <td>2469</td>\n",
              "      <td>2295</td>\n",
              "      <td>2374</td>\n",
              "      <td>2195</td>\n",
              "      <td>95</td>\n",
              "      <td>100</td>\n",
              "    </tr>\n",
              "    <tr>\n",
              "      <th>이도 1동</th>\n",
              "      <td>7796</td>\n",
              "      <td>3829</td>\n",
              "      <td>3967</td>\n",
              "      <td>3773</td>\n",
              "      <td>3876</td>\n",
              "      <td>56</td>\n",
              "      <td>91</td>\n",
              "    </tr>\n",
              "    <tr>\n",
              "      <th>이도 2동</th>\n",
              "      <td>50655</td>\n",
              "      <td>24859</td>\n",
              "      <td>25796</td>\n",
              "      <td>24554</td>\n",
              "      <td>25410</td>\n",
              "      <td>305</td>\n",
              "      <td>386</td>\n",
              "    </tr>\n",
              "    <tr>\n",
              "      <th>일도 1동</th>\n",
              "      <td>2809</td>\n",
              "      <td>1466</td>\n",
              "      <td>1343</td>\n",
              "      <td>1423</td>\n",
              "      <td>1301</td>\n",
              "      <td>43</td>\n",
              "      <td>42</td>\n",
              "    </tr>\n",
              "    <tr>\n",
              "      <th>일도 2동</th>\n",
              "      <td>33998</td>\n",
              "      <td>16667</td>\n",
              "      <td>17331</td>\n",
              "      <td>16565</td>\n",
              "      <td>17118</td>\n",
              "      <td>102</td>\n",
              "      <td>213</td>\n",
              "    </tr>\n",
              "    <tr>\n",
              "      <th>제 주 시</th>\n",
              "      <td>505950</td>\n",
              "      <td>254656</td>\n",
              "      <td>251294</td>\n",
              "      <td>245533</td>\n",
              "      <td>243872</td>\n",
              "      <td>9123</td>\n",
              "      <td>7422</td>\n",
              "    </tr>\n",
              "    <tr>\n",
              "      <th>조 천 읍</th>\n",
              "      <td>25313</td>\n",
              "      <td>13040</td>\n",
              "      <td>12273</td>\n",
              "      <td>12666</td>\n",
              "      <td>12004</td>\n",
              "      <td>374</td>\n",
              "      <td>269</td>\n",
              "    </tr>\n",
              "    <tr>\n",
              "      <th>추 자 면</th>\n",
              "      <td>2057</td>\n",
              "      <td>1252</td>\n",
              "      <td>805</td>\n",
              "      <td>941</td>\n",
              "      <td>792</td>\n",
              "      <td>311</td>\n",
              "      <td>13</td>\n",
              "    </tr>\n",
              "    <tr>\n",
              "      <th>한 경 면</th>\n",
              "      <td>9405</td>\n",
              "      <td>4813</td>\n",
              "      <td>4592</td>\n",
              "      <td>4552</td>\n",
              "      <td>4485</td>\n",
              "      <td>261</td>\n",
              "      <td>107</td>\n",
              "    </tr>\n",
              "    <tr>\n",
              "      <th>한 림 읍</th>\n",
              "      <td>25080</td>\n",
              "      <td>13394</td>\n",
              "      <td>11686</td>\n",
              "      <td>11011</td>\n",
              "      <td>10354</td>\n",
              "      <td>2383</td>\n",
              "      <td>1332</td>\n",
              "    </tr>\n",
              "    <tr>\n",
              "      <th>화 북 동</th>\n",
              "      <td>25271</td>\n",
              "      <td>12639</td>\n",
              "      <td>12632</td>\n",
              "      <td>12413</td>\n",
              "      <td>12442</td>\n",
              "      <td>226</td>\n",
              "      <td>190</td>\n",
              "    </tr>\n",
              "  </tbody>\n",
              "</table>\n",
              "</div>"
            ],
            "text/plain": [
              "            계    계(남)    계(여)      내남      내여    외남    외여\n",
              "동                                                        \n",
              "건 입 동    9571    4937    4634    4774    4537   163    97\n",
              "구 좌 읍   16232    8454    7778    8014    7575   440   203\n",
              "노 형 동   56611   27923   28688   26628   27594  1295  1094\n",
              "도 두 동    3314    1741    1573    1673    1513    68    60\n",
              "봉 개 동    5363    2782    2581    2740    2530    42    51\n",
              "삼 양 동   25965   13034   12931   12933   12769   101   162\n",
              "삼도 1동   14005    6854    7151    6788    7066    66    85\n",
              "삼도 2동    8433    4414    4019    4254    3920   160    99\n",
              "아 라 동   36024   17967   18057   17352   17454   615   603\n",
              "애 월 읍   37345   19289   18056   18718   17515   571   541\n",
              "연 동     43708   21438   22270   20376   21137  1062  1133\n",
              "오 라 동   15588    7863    7725    7741    7593   122   132\n",
              "외 도 동   22108   11127   10981   11002   10799   125   182\n",
              "용담 1동    7315    3755    3560    3714    3511    41    49\n",
              "용담 2동   15328    7657    7671    7580    7494    77   177\n",
              "우 도 면    1892     993     899     974     888    19    11\n",
              "이 호 동    4764    2469    2295    2374    2195    95   100\n",
              "이도 1동    7796    3829    3967    3773    3876    56    91\n",
              "이도 2동   50655   24859   25796   24554   25410   305   386\n",
              "일도 1동    2809    1466    1343    1423    1301    43    42\n",
              "일도 2동   33998   16667   17331   16565   17118   102   213\n",
              "제 주 시  505950  254656  251294  245533  243872  9123  7422\n",
              "조 천 읍   25313   13040   12273   12666   12004   374   269\n",
              "추 자 면    2057    1252     805     941     792   311    13\n",
              "한 경 면    9405    4813    4592    4552    4485   261   107\n",
              "한 림 읍   25080   13394   11686   11011   10354  2383  1332\n",
              "화 북 동   25271   12639   12632   12413   12442   226   190"
            ]
          },
          "metadata": {
            "tags": []
          },
          "execution_count": 146
        }
      ]
    },
    {
      "cell_type": "code",
      "metadata": {
        "id": "mMmSbF1FOWco"
      },
      "source": [
        "#df2에서 전체 인구가 가장 많은 동 을 정렬하고 df4에 저장"
      ],
      "execution_count": null,
      "outputs": []
    },
    {
      "cell_type": "code",
      "metadata": {
        "id": "W2zZVNB7OhNa"
      },
      "source": [
        "df4 = df2.sort_values(by='계', ascending=False)"
      ],
      "execution_count": null,
      "outputs": []
    },
    {
      "cell_type": "code",
      "metadata": {
        "id": "iLmuiCnEGnJr",
        "colab": {
          "base_uri": "https://localhost:8080/",
          "height": 886
        },
        "outputId": "f57b4e7a-48fb-49fe-c9f3-feb0c46f1ccb"
      },
      "source": [
        "df4"
      ],
      "execution_count": null,
      "outputs": [
        {
          "output_type": "execute_result",
          "data": {
            "text/html": [
              "<div>\n",
              "<style scoped>\n",
              "    .dataframe tbody tr th:only-of-type {\n",
              "        vertical-align: middle;\n",
              "    }\n",
              "\n",
              "    .dataframe tbody tr th {\n",
              "        vertical-align: top;\n",
              "    }\n",
              "\n",
              "    .dataframe thead th {\n",
              "        text-align: right;\n",
              "    }\n",
              "</style>\n",
              "<table border=\"1\" class=\"dataframe\">\n",
              "  <thead>\n",
              "    <tr style=\"text-align: right;\">\n",
              "      <th></th>\n",
              "      <th>계</th>\n",
              "      <th>계(남)</th>\n",
              "      <th>계(여)</th>\n",
              "      <th>내남</th>\n",
              "      <th>내여</th>\n",
              "      <th>외남</th>\n",
              "      <th>외여</th>\n",
              "    </tr>\n",
              "    <tr>\n",
              "      <th>동</th>\n",
              "      <th></th>\n",
              "      <th></th>\n",
              "      <th></th>\n",
              "      <th></th>\n",
              "      <th></th>\n",
              "      <th></th>\n",
              "      <th></th>\n",
              "    </tr>\n",
              "  </thead>\n",
              "  <tbody>\n",
              "    <tr>\n",
              "      <th>노 형 동</th>\n",
              "      <td>56611</td>\n",
              "      <td>27923</td>\n",
              "      <td>28688</td>\n",
              "      <td>26628</td>\n",
              "      <td>27594</td>\n",
              "      <td>1295</td>\n",
              "      <td>1094</td>\n",
              "    </tr>\n",
              "    <tr>\n",
              "      <th>이도 2동</th>\n",
              "      <td>50655</td>\n",
              "      <td>24859</td>\n",
              "      <td>25796</td>\n",
              "      <td>24554</td>\n",
              "      <td>25410</td>\n",
              "      <td>305</td>\n",
              "      <td>386</td>\n",
              "    </tr>\n",
              "    <tr>\n",
              "      <th>연 동</th>\n",
              "      <td>43708</td>\n",
              "      <td>21438</td>\n",
              "      <td>22270</td>\n",
              "      <td>20376</td>\n",
              "      <td>21137</td>\n",
              "      <td>1062</td>\n",
              "      <td>1133</td>\n",
              "    </tr>\n",
              "    <tr>\n",
              "      <th>애 월 읍</th>\n",
              "      <td>37345</td>\n",
              "      <td>19289</td>\n",
              "      <td>18056</td>\n",
              "      <td>18718</td>\n",
              "      <td>17515</td>\n",
              "      <td>571</td>\n",
              "      <td>541</td>\n",
              "    </tr>\n",
              "    <tr>\n",
              "      <th>아 라 동</th>\n",
              "      <td>36024</td>\n",
              "      <td>17967</td>\n",
              "      <td>18057</td>\n",
              "      <td>17352</td>\n",
              "      <td>17454</td>\n",
              "      <td>615</td>\n",
              "      <td>603</td>\n",
              "    </tr>\n",
              "    <tr>\n",
              "      <th>일도 2동</th>\n",
              "      <td>33998</td>\n",
              "      <td>16667</td>\n",
              "      <td>17331</td>\n",
              "      <td>16565</td>\n",
              "      <td>17118</td>\n",
              "      <td>102</td>\n",
              "      <td>213</td>\n",
              "    </tr>\n",
              "    <tr>\n",
              "      <th>삼 양 동</th>\n",
              "      <td>25965</td>\n",
              "      <td>13034</td>\n",
              "      <td>12931</td>\n",
              "      <td>12933</td>\n",
              "      <td>12769</td>\n",
              "      <td>101</td>\n",
              "      <td>162</td>\n",
              "    </tr>\n",
              "    <tr>\n",
              "      <th>조 천 읍</th>\n",
              "      <td>25313</td>\n",
              "      <td>13040</td>\n",
              "      <td>12273</td>\n",
              "      <td>12666</td>\n",
              "      <td>12004</td>\n",
              "      <td>374</td>\n",
              "      <td>269</td>\n",
              "    </tr>\n",
              "    <tr>\n",
              "      <th>화 북 동</th>\n",
              "      <td>25271</td>\n",
              "      <td>12639</td>\n",
              "      <td>12632</td>\n",
              "      <td>12413</td>\n",
              "      <td>12442</td>\n",
              "      <td>226</td>\n",
              "      <td>190</td>\n",
              "    </tr>\n",
              "    <tr>\n",
              "      <th>한 림 읍</th>\n",
              "      <td>25080</td>\n",
              "      <td>13394</td>\n",
              "      <td>11686</td>\n",
              "      <td>11011</td>\n",
              "      <td>10354</td>\n",
              "      <td>2383</td>\n",
              "      <td>1332</td>\n",
              "    </tr>\n",
              "    <tr>\n",
              "      <th>외 도 동</th>\n",
              "      <td>22108</td>\n",
              "      <td>11127</td>\n",
              "      <td>10981</td>\n",
              "      <td>11002</td>\n",
              "      <td>10799</td>\n",
              "      <td>125</td>\n",
              "      <td>182</td>\n",
              "    </tr>\n",
              "    <tr>\n",
              "      <th>구 좌 읍</th>\n",
              "      <td>16232</td>\n",
              "      <td>8454</td>\n",
              "      <td>7778</td>\n",
              "      <td>8014</td>\n",
              "      <td>7575</td>\n",
              "      <td>440</td>\n",
              "      <td>203</td>\n",
              "    </tr>\n",
              "    <tr>\n",
              "      <th>오 라 동</th>\n",
              "      <td>15588</td>\n",
              "      <td>7863</td>\n",
              "      <td>7725</td>\n",
              "      <td>7741</td>\n",
              "      <td>7593</td>\n",
              "      <td>122</td>\n",
              "      <td>132</td>\n",
              "    </tr>\n",
              "    <tr>\n",
              "      <th>용담 2동</th>\n",
              "      <td>15328</td>\n",
              "      <td>7657</td>\n",
              "      <td>7671</td>\n",
              "      <td>7580</td>\n",
              "      <td>7494</td>\n",
              "      <td>77</td>\n",
              "      <td>177</td>\n",
              "    </tr>\n",
              "    <tr>\n",
              "      <th>삼도 1동</th>\n",
              "      <td>14005</td>\n",
              "      <td>6854</td>\n",
              "      <td>7151</td>\n",
              "      <td>6788</td>\n",
              "      <td>7066</td>\n",
              "      <td>66</td>\n",
              "      <td>85</td>\n",
              "    </tr>\n",
              "    <tr>\n",
              "      <th>건 입 동</th>\n",
              "      <td>9571</td>\n",
              "      <td>4937</td>\n",
              "      <td>4634</td>\n",
              "      <td>4774</td>\n",
              "      <td>4537</td>\n",
              "      <td>163</td>\n",
              "      <td>97</td>\n",
              "    </tr>\n",
              "    <tr>\n",
              "      <th>한 경 면</th>\n",
              "      <td>9405</td>\n",
              "      <td>4813</td>\n",
              "      <td>4592</td>\n",
              "      <td>4552</td>\n",
              "      <td>4485</td>\n",
              "      <td>261</td>\n",
              "      <td>107</td>\n",
              "    </tr>\n",
              "    <tr>\n",
              "      <th>삼도 2동</th>\n",
              "      <td>8433</td>\n",
              "      <td>4414</td>\n",
              "      <td>4019</td>\n",
              "      <td>4254</td>\n",
              "      <td>3920</td>\n",
              "      <td>160</td>\n",
              "      <td>99</td>\n",
              "    </tr>\n",
              "    <tr>\n",
              "      <th>이도 1동</th>\n",
              "      <td>7796</td>\n",
              "      <td>3829</td>\n",
              "      <td>3967</td>\n",
              "      <td>3773</td>\n",
              "      <td>3876</td>\n",
              "      <td>56</td>\n",
              "      <td>91</td>\n",
              "    </tr>\n",
              "    <tr>\n",
              "      <th>용담 1동</th>\n",
              "      <td>7315</td>\n",
              "      <td>3755</td>\n",
              "      <td>3560</td>\n",
              "      <td>3714</td>\n",
              "      <td>3511</td>\n",
              "      <td>41</td>\n",
              "      <td>49</td>\n",
              "    </tr>\n",
              "    <tr>\n",
              "      <th>봉 개 동</th>\n",
              "      <td>5363</td>\n",
              "      <td>2782</td>\n",
              "      <td>2581</td>\n",
              "      <td>2740</td>\n",
              "      <td>2530</td>\n",
              "      <td>42</td>\n",
              "      <td>51</td>\n",
              "    </tr>\n",
              "    <tr>\n",
              "      <th>이 호 동</th>\n",
              "      <td>4764</td>\n",
              "      <td>2469</td>\n",
              "      <td>2295</td>\n",
              "      <td>2374</td>\n",
              "      <td>2195</td>\n",
              "      <td>95</td>\n",
              "      <td>100</td>\n",
              "    </tr>\n",
              "    <tr>\n",
              "      <th>도 두 동</th>\n",
              "      <td>3314</td>\n",
              "      <td>1741</td>\n",
              "      <td>1573</td>\n",
              "      <td>1673</td>\n",
              "      <td>1513</td>\n",
              "      <td>68</td>\n",
              "      <td>60</td>\n",
              "    </tr>\n",
              "    <tr>\n",
              "      <th>일도 1동</th>\n",
              "      <td>2809</td>\n",
              "      <td>1466</td>\n",
              "      <td>1343</td>\n",
              "      <td>1423</td>\n",
              "      <td>1301</td>\n",
              "      <td>43</td>\n",
              "      <td>42</td>\n",
              "    </tr>\n",
              "    <tr>\n",
              "      <th>추 자 면</th>\n",
              "      <td>2057</td>\n",
              "      <td>1252</td>\n",
              "      <td>805</td>\n",
              "      <td>941</td>\n",
              "      <td>792</td>\n",
              "      <td>311</td>\n",
              "      <td>13</td>\n",
              "    </tr>\n",
              "    <tr>\n",
              "      <th>우 도 면</th>\n",
              "      <td>1892</td>\n",
              "      <td>993</td>\n",
              "      <td>899</td>\n",
              "      <td>974</td>\n",
              "      <td>888</td>\n",
              "      <td>19</td>\n",
              "      <td>11</td>\n",
              "    </tr>\n",
              "  </tbody>\n",
              "</table>\n",
              "</div>"
            ],
            "text/plain": [
              "           계   계(남)   계(여)     내남     내여    외남    외여\n",
              "동                                                   \n",
              "노 형 동  56611  27923  28688  26628  27594  1295  1094\n",
              "이도 2동  50655  24859  25796  24554  25410   305   386\n",
              "연 동    43708  21438  22270  20376  21137  1062  1133\n",
              "애 월 읍  37345  19289  18056  18718  17515   571   541\n",
              "아 라 동  36024  17967  18057  17352  17454   615   603\n",
              "일도 2동  33998  16667  17331  16565  17118   102   213\n",
              "삼 양 동  25965  13034  12931  12933  12769   101   162\n",
              "조 천 읍  25313  13040  12273  12666  12004   374   269\n",
              "화 북 동  25271  12639  12632  12413  12442   226   190\n",
              "한 림 읍  25080  13394  11686  11011  10354  2383  1332\n",
              "외 도 동  22108  11127  10981  11002  10799   125   182\n",
              "구 좌 읍  16232   8454   7778   8014   7575   440   203\n",
              "오 라 동  15588   7863   7725   7741   7593   122   132\n",
              "용담 2동  15328   7657   7671   7580   7494    77   177\n",
              "삼도 1동  14005   6854   7151   6788   7066    66    85\n",
              "건 입 동   9571   4937   4634   4774   4537   163    97\n",
              "한 경 면   9405   4813   4592   4552   4485   261   107\n",
              "삼도 2동   8433   4414   4019   4254   3920   160    99\n",
              "이도 1동   7796   3829   3967   3773   3876    56    91\n",
              "용담 1동   7315   3755   3560   3714   3511    41    49\n",
              "봉 개 동   5363   2782   2581   2740   2530    42    51\n",
              "이 호 동   4764   2469   2295   2374   2195    95   100\n",
              "도 두 동   3314   1741   1573   1673   1513    68    60\n",
              "일도 1동   2809   1466   1343   1423   1301    43    42\n",
              "추 자 면   2057   1252    805    941    792   311    13\n",
              "우 도 면   1892    993    899    974    888    19    11"
            ]
          },
          "metadata": {
            "tags": []
          },
          "execution_count": 150
        }
      ]
    },
    {
      "cell_type": "code",
      "metadata": {
        "id": "kMI2gdvVOpuz"
      },
      "source": [
        "#가장 인구가 많은 동 5개 뽑아 df5에 저장하기"
      ],
      "execution_count": null,
      "outputs": []
    },
    {
      "cell_type": "code",
      "metadata": {
        "id": "ohNYBJaROq81",
        "colab": {
          "base_uri": "https://localhost:8080/",
          "height": 235
        },
        "outputId": "133af8e6-6ee3-4f51-959d-5a62d53daa86"
      },
      "source": [
        "df5=df4.iloc[0:5]\n",
        "df5"
      ],
      "execution_count": null,
      "outputs": [
        {
          "output_type": "execute_result",
          "data": {
            "text/html": [
              "<div>\n",
              "<style scoped>\n",
              "    .dataframe tbody tr th:only-of-type {\n",
              "        vertical-align: middle;\n",
              "    }\n",
              "\n",
              "    .dataframe tbody tr th {\n",
              "        vertical-align: top;\n",
              "    }\n",
              "\n",
              "    .dataframe thead th {\n",
              "        text-align: right;\n",
              "    }\n",
              "</style>\n",
              "<table border=\"1\" class=\"dataframe\">\n",
              "  <thead>\n",
              "    <tr style=\"text-align: right;\">\n",
              "      <th></th>\n",
              "      <th>계</th>\n",
              "      <th>계(남)</th>\n",
              "      <th>계(여)</th>\n",
              "      <th>내남</th>\n",
              "      <th>내여</th>\n",
              "      <th>외남</th>\n",
              "      <th>외여</th>\n",
              "    </tr>\n",
              "    <tr>\n",
              "      <th>동</th>\n",
              "      <th></th>\n",
              "      <th></th>\n",
              "      <th></th>\n",
              "      <th></th>\n",
              "      <th></th>\n",
              "      <th></th>\n",
              "      <th></th>\n",
              "    </tr>\n",
              "  </thead>\n",
              "  <tbody>\n",
              "    <tr>\n",
              "      <th>노 형 동</th>\n",
              "      <td>56611</td>\n",
              "      <td>27923</td>\n",
              "      <td>28688</td>\n",
              "      <td>26628</td>\n",
              "      <td>27594</td>\n",
              "      <td>1295</td>\n",
              "      <td>1094</td>\n",
              "    </tr>\n",
              "    <tr>\n",
              "      <th>이도 2동</th>\n",
              "      <td>50655</td>\n",
              "      <td>24859</td>\n",
              "      <td>25796</td>\n",
              "      <td>24554</td>\n",
              "      <td>25410</td>\n",
              "      <td>305</td>\n",
              "      <td>386</td>\n",
              "    </tr>\n",
              "    <tr>\n",
              "      <th>연 동</th>\n",
              "      <td>43708</td>\n",
              "      <td>21438</td>\n",
              "      <td>22270</td>\n",
              "      <td>20376</td>\n",
              "      <td>21137</td>\n",
              "      <td>1062</td>\n",
              "      <td>1133</td>\n",
              "    </tr>\n",
              "    <tr>\n",
              "      <th>애 월 읍</th>\n",
              "      <td>37345</td>\n",
              "      <td>19289</td>\n",
              "      <td>18056</td>\n",
              "      <td>18718</td>\n",
              "      <td>17515</td>\n",
              "      <td>571</td>\n",
              "      <td>541</td>\n",
              "    </tr>\n",
              "    <tr>\n",
              "      <th>아 라 동</th>\n",
              "      <td>36024</td>\n",
              "      <td>17967</td>\n",
              "      <td>18057</td>\n",
              "      <td>17352</td>\n",
              "      <td>17454</td>\n",
              "      <td>615</td>\n",
              "      <td>603</td>\n",
              "    </tr>\n",
              "  </tbody>\n",
              "</table>\n",
              "</div>"
            ],
            "text/plain": [
              "           계   계(남)   계(여)     내남     내여    외남    외여\n",
              "동                                                   \n",
              "노 형 동  56611  27923  28688  26628  27594  1295  1094\n",
              "이도 2동  50655  24859  25796  24554  25410   305   386\n",
              "연 동    43708  21438  22270  20376  21137  1062  1133\n",
              "애 월 읍  37345  19289  18056  18718  17515   571   541\n",
              "아 라 동  36024  17967  18057  17352  17454   615   603"
            ]
          },
          "metadata": {
            "tags": []
          },
          "execution_count": 154
        }
      ]
    },
    {
      "cell_type": "code",
      "metadata": {
        "id": "mEEo3o0QOh7k"
      },
      "source": [
        "#max_dong에 인구가 많은 동 저장, max_pop에 총 인구수 저장"
      ],
      "execution_count": null,
      "outputs": []
    },
    {
      "cell_type": "code",
      "metadata": {
        "id": "DFVBkNluO8hP"
      },
      "source": [
        "max_dong = df4.iloc[0]"
      ],
      "execution_count": null,
      "outputs": []
    },
    {
      "cell_type": "code",
      "metadata": {
        "id": "yyRM6lXtG9ot",
        "colab": {
          "base_uri": "https://localhost:8080/",
          "height": 161
        },
        "outputId": "c0ff774f-60aa-40cd-da0e-829c3e87709b"
      },
      "source": [
        "max"
      ],
      "execution_count": null,
      "outputs": [
        {
          "output_type": "execute_result",
          "data": {
            "text/plain": [
              "계       56611\n",
              "계(남)    27923\n",
              "계(여)    28688\n",
              "내남      26628\n",
              "내여      27594\n",
              "외남       1295\n",
              "외여       1094\n",
              "Name: 노 형 동, dtype: object"
            ]
          },
          "metadata": {
            "tags": []
          },
          "execution_count": 156
        }
      ]
    },
    {
      "cell_type": "code",
      "metadata": {
        "id": "QjNpSoZjO9Kn"
      },
      "source": [
        "#가장 인구가 많은 동은 ~ 동이고, 총 ~ 이 거주하고 있다. 출력"
      ],
      "execution_count": null,
      "outputs": []
    },
    {
      "cell_type": "code",
      "metadata": {
        "id": "L8DV3wcPO-pE"
      },
      "source": [
        "print('가장 인구가 많은 동은',max_dong,'이고, 총',max_pop,'명이 거주하고 있다.')"
      ],
      "execution_count": null,
      "outputs": []
    }
  ]
}