{
  "nbformat": 4,
  "nbformat_minor": 0,
  "metadata": {
    "colab": {
      "name": "2학년13반 st15 - 빅데이터분석(1,2차시)-파이썬기본문법",
      "provenance": [],
      "collapsed_sections": [
        "XjA6x7oXzJLy"
      ],
      "include_colab_link": true
    },
    "kernelspec": {
      "name": "python3",
      "display_name": "Python 3"
    }
  },
  "cells": [
    {
      "cell_type": "markdown",
      "metadata": {
        "id": "view-in-github",
        "colab_type": "text"
      },
      "source": [
        "<a href=\"https://colab.research.google.com/github/Deep-of-Machine/Data_analyze/blob/main/2%ED%95%99%EB%85%8413%EB%B0%98_st15_%EB%B9%85%EB%8D%B0%EC%9D%B4%ED%84%B0%EB%B6%84%EC%84%9D(1%2C2%EC%B0%A8%EC%8B%9C)_%ED%8C%8C%EC%9D%B4%EC%8D%AC%EA%B8%B0%EB%B3%B8%EB%AC%B8%EB%B2%95.ipynb\" target=\"_parent\"><img src=\"https://colab.research.google.com/assets/colab-badge.svg\" alt=\"Open In Colab\"/></a>"
      ]
    },
    {
      "cell_type": "markdown",
      "metadata": {
        "id": "tMda6VKLibd4"
      },
      "source": [
        "#파이썬 기본 문법"
      ]
    },
    {
      "cell_type": "markdown",
      "metadata": {
        "id": "7haRgzhWifAw"
      },
      "source": [
        "print()함수로 출력하기"
      ]
    },
    {
      "cell_type": "code",
      "metadata": {
        "id": "_1re1GfJ08-p"
      },
      "source": [
        "#숫자 출력\n",
        "print(1000)"
      ],
      "execution_count": null,
      "outputs": []
    },
    {
      "cell_type": "code",
      "metadata": {
        "id": "B56Xb4exhhYK"
      },
      "source": [
        "#문자열 출력\n",
        "print('hello')"
      ],
      "execution_count": null,
      "outputs": []
    },
    {
      "cell_type": "markdown",
      "metadata": {
        "id": "HxdPUR_jifMG"
      },
      "source": [
        "**변수란?**\n",
        "* 변하는 값, \n",
        "\n",
        "* 파이쏭님! 안녕하세요!\n",
        "\n",
        "* 하나의 값으로 고정되어 있지 않고 변하는 값을 저장할 수 있는 공간\n"
      ]
    },
    {
      "cell_type": "code",
      "metadata": {
        "id": "CyCGFhiXlWr3"
      },
      "source": [
        "name = '파이쏭'\n",
        "print(name)"
      ],
      "execution_count": null,
      "outputs": []
    },
    {
      "cell_type": "markdown",
      "metadata": {
        "id": "dTHo_Z-QlhkK"
      },
      "source": [
        "* name은 (   　　　　　  ), = 은 오른쪽 값을 왼쪽에 대입\n",
        "\n",
        "* 변수의 이름은 숫자로 시작하면 (  　　　　　　　　　    )\n",
        "* 변수의 이름은 잘 나타낼 수 있는 이름으로 정하기\n"
      ]
    },
    {
      "cell_type": "code",
      "metadata": {
        "id": "roQtSaaNlhI5"
      },
      "source": [
        "#변수의 이름은 num, 저장된 값은 1024\n",
        "num = 1024 \n",
        "print(num)"
      ],
      "execution_count": null,
      "outputs": []
    },
    {
      "cell_type": "code",
      "metadata": {
        "id": "YOR-Hzmcmuoa"
      },
      "source": [
        "#변수의 이름은 name, 저장된 값은 '파이쏭'\n",
        "name = '파이쏭'\n",
        "print(name , '님! 안녕하세요')"
      ],
      "execution_count": null,
      "outputs": []
    },
    {
      "cell_type": "markdown",
      "metadata": {
        "id": "EGcsjC-BmV41"
      },
      "source": [
        "* 문자, 숫자, 변수를 연결 시킬 때 ','(콤마)를 사용한다.\n",
        "* #로 시작하는 문장은 실행하는데 영향을 주지 않는다. 이름은 바로 ( 　　　　　　　　　 )"
      ]
    },
    {
      "cell_type": "markdown",
      "metadata": {
        "id": "YBfg1H6Cmx-_"
      },
      "source": [
        "**input()함수**로 문자열 값 입력받기"
      ]
    },
    {
      "cell_type": "code",
      "metadata": {
        "id": "DnA382bQlDaY"
      },
      "source": [
        "name = input() #문자열을 입력받는 함수\n",
        "print(name , '님! 안녕하세요!')"
      ],
      "execution_count": null,
      "outputs": []
    },
    {
      "cell_type": "markdown",
      "metadata": {
        "id": "hZ3zwIxdnKTy"
      },
      "source": [
        "* 왜 문자열 값을 받는다고 했을까?\n",
        "\n",
        "* 숫자는 안될까?"
      ]
    },
    {
      "cell_type": "code",
      "metadata": {
        "id": "mdgmrrQDnGfS"
      },
      "source": [
        "age = input('나이를 입력해주세요! : ')\n",
        "print(age-4)"
      ],
      "execution_count": null,
      "outputs": []
    },
    {
      "cell_type": "markdown",
      "metadata": {
        "id": "wcb3GdNSnWpU"
      },
      "source": [
        "* str는 문자열의 약자  , int는 integer 정수의 약자로 \n",
        "\n",
        "* str에서 int빼려고 오류\n",
        "\n",
        "* input()함수로 저장된 데이터 형식은 ?  ( 　　　　　　　　　 )"
      ]
    },
    {
      "cell_type": "code",
      "metadata": {
        "id": "7hlYxdS_nwce"
      },
      "source": [
        "name = input('이름을 입력해주세요:')\n",
        "age = int(input('나이를 입력해주세요:'))\n",
        "print('안녕하세요',name,'님! 저는 처음에',str(age-4)+'살인 줄 알았어요!')"
      ],
      "execution_count": null,
      "outputs": []
    },
    {
      "cell_type": "markdown",
      "metadata": {
        "id": "FkEO8gLHnvOi"
      },
      "source": [
        "*이름을 입력해주세요:에 '김지현'을 입력하고, \n",
        "\n",
        "  나이를 입력해주세요:에 '18'을 입력하면 출력되는 결과는?\n",
        "\n",
        "\n",
        " **1**.안녕하세요 김지현 님! 저는 처음에 14살인 줄 알았어요!\n",
        "\n",
        " **2**.안녕하세요 김지현이 님! 저는 처음에 22살인 줄 알았어요!\n",
        "\n",
        " **3**.안녕하세요 김지횬 님! 저는 처음에 29살인 줄 알았어요!"
      ]
    },
    {
      "cell_type": "markdown",
      "metadata": {
        "id": "pk5GzW_spMpm"
      },
      "source": [
        "#연산자 사용하기\n",
        "**산술연산자?**\n",
        "숫자 계산을 위한 기호 "
      ]
    },
    {
      "cell_type": "code",
      "metadata": {
        "id": "75Db0g7xpMU4"
      },
      "source": [
        "print(3 * 10)\n",
        "print(3 ** 10) #거듭제곱 연산자\n",
        "print(3 % 10)\n",
        "print(3 / 2) #실수 나눗셈 \n",
        "print(3 // 2) #정수 나눗셈"
      ],
      "execution_count": null,
      "outputs": []
    },
    {
      "cell_type": "markdown",
      "metadata": {
        "id": "CceYWD3OqF4u"
      },
      "source": [
        "**비교연산자?** 참, 거짓을 가지는 연산자"
      ]
    },
    {
      "cell_type": "code",
      "metadata": {
        "id": "67Gnmkx9qLod"
      },
      "source": [
        "print(10 >= 3)\n",
        "print(10 <= 3)\n",
        "print(10 == 3)\n",
        "print(10 != 3)\n",
        "print(3%2 == 1)"
      ],
      "execution_count": null,
      "outputs": []
    },
    {
      "cell_type": "markdown",
      "metadata": {
        "id": "4PlHO7kUqWbc"
      },
      "source": [
        "- 연산자 사이에 띄어쓰기를 해도 실행이 될까? 예를 들어 = = \n",
        "  \n",
        "  실행해봅시다."
      ]
    },
    {
      "cell_type": "markdown",
      "metadata": {
        "id": "6shSqC9oqdmu"
      },
      "source": [
        "**논리연산자?** 비교연산자를 2개이상 사용하기 위한 연산자\n",
        "\n",
        "- and는 양쪽의 문장이 모두 참(True)이면 참(True)를 출력\n",
        "\n",
        "- or은 양쪽의 문장 중, 한 개라도(True)이면 참(True) 출력"
      ]
    },
    {
      "cell_type": "code",
      "metadata": {
        "id": "mvM-_zJAqhic"
      },
      "source": [
        "논리연산자 and\n",
        "print(1==1 and 2 != 1 )\n",
        "print(10%2!= 0 and 1+1 > 0)\n",
        "\n",
        "print(10 < 5 or 10 == 5)\n",
        "print(10 % 2 != 0 or 1 + 1 > 0)"
      ],
      "execution_count": null,
      "outputs": []
    },
    {
      "cell_type": "markdown",
      "metadata": {
        "id": "MMyuD-l0qz48"
      },
      "source": [
        "**논리부정 not** : True상태를 False로, False상태를 True로 변경하는 연산자"
      ]
    },
    {
      "cell_type": "code",
      "metadata": {
        "id": "h0SqIbmDq1w6"
      },
      "source": [
        "print(not 10 > 5)\n",
        "print(not 10 == 5)\n",
        "print(not 0)\n",
        "print(not True)"
      ],
      "execution_count": null,
      "outputs": []
    },
    {
      "cell_type": "markdown",
      "metadata": {
        "id": "ySVQfZNorJQL"
      },
      "source": [
        "**함수 불러오기**\n",
        "\n",
        "- 지금까지 우리가 사용했던 함수는?\n",
        "\n",
        "- 외장함수 불러오기 위해서는 import명령을 사용합니다.\n",
        "\n"
      ]
    },
    {
      "cell_type": "code",
      "metadata": {
        "id": "gWXs--n8rWR1"
      },
      "source": [
        "#외장함수, 랜덤한 정수 불러오기\n",
        "import random\n",
        "dice = random.randint(1,6)\n",
        "print(dice)"
      ],
      "execution_count": null,
      "outputs": []
    },
    {
      "cell_type": "markdown",
      "metadata": {
        "id": "ZW-E8fk7rb_G"
      },
      "source": [
        "- 제곱근 함수를 사용하려면 math 수학 라이브러리(외장함수)를 사용합니다."
      ]
    },
    {
      "cell_type": "code",
      "metadata": {
        "id": "k1vpd3q6ribk"
      },
      "source": [
        "import math\n",
        "print(math.sqrt(2))"
      ],
      "execution_count": null,
      "outputs": []
    },
    {
      "cell_type": "markdown",
      "metadata": {
        "id": "wTEeqrI2rnh_"
      },
      "source": [
        "- 내가 원하는 기능이 라이브러리에 있는지 확인하기\n",
        "https://docs.python.org/ko/3/library/index.html\n",
        "\n",
        "- 네이버나 구굴에 ~~기능 함수(모듈) 검색하기"
      ]
    },
    {
      "cell_type": "markdown",
      "metadata": {
        "id": "4rAARh2Yr6vD"
      },
      "source": [
        "#반복과 선택\n",
        "- 컴퓨터는 많은 양의 데이터를 처리, 반복과 선택을 통해 효율적인 동작을 합니다.\n",
        "\n",
        "\n",
        "* for반복문 : 주어진 데이터 세트를 순회하거나 원하는 횟수만큼 반복\n",
        "\n",
        "- for A in B:\n",
        "      반복할 문장1\n",
        "\n",
        "      반복할 문장2\n",
        "\n",
        "- B라는 데이터 세트에서 A로 가져와 임시로 저장한다.\n"
      ]
    },
    {
      "cell_type": "markdown",
      "metadata": {
        "id": "6SIplb94zevI"
      },
      "source": [
        "***문제!!!!** B데이터 세트에 9개의 데이터가 있을 때 반복할 문장1과 반복할문장 2는 몇 번 반복?\n"
      ]
    },
    {
      "cell_type": "code",
      "metadata": {
        "id": "9p2SvGWJsp9t"
      },
      "source": [
        "#for문 사용하기\n",
        "name = '파이쏭'\n",
        "for i in name :\n",
        "  print(i)"
      ],
      "execution_count": null,
      "outputs": []
    },
    {
      "cell_type": "code",
      "metadata": {
        "id": "QLJx3RypDx62"
      },
      "source": [
        "#name의 값을 바꿔보세요"
      ],
      "execution_count": null,
      "outputs": []
    },
    {
      "cell_type": "code",
      "metadata": {
        "id": "wPhhkkqtszBx"
      },
      "source": [
        "#name의 출력 값은?\n",
        "names = ['쵸파','루피','상디','조로']\n",
        "for name in names:\n",
        "  print(name)"
      ],
      "execution_count": null,
      "outputs": []
    },
    {
      "cell_type": "code",
      "metadata": {
        "id": "oJWCuLqTtCJz"
      },
      "source": [
        "for i in [0,1,2,3]:\n",
        "  print(i**2) "
      ],
      "execution_count": null,
      "outputs": []
    },
    {
      "cell_type": "markdown",
      "metadata": {
        "id": "zbIvw0IJtH_C"
      },
      "source": [
        "- 숫자의 범위를 0~99까지 늘리려면,, \n",
        "- 효율적인 방법으로 프로그래밍!"
      ]
    },
    {
      "cell_type": "code",
      "metadata": {
        "id": "TviEsd4ktM0W"
      },
      "source": [
        "for i in range(100): #0이상 100미만(0~99)의 범위를 갖는 정수\n",
        "  print(i**2)"
      ],
      "execution_count": null,
      "outputs": []
    },
    {
      "cell_type": "markdown",
      "metadata": {
        "id": "6ln0X07NtZEW"
      },
      "source": [
        "- '나는 파이썬 왕이 될 사람이다'라는 문장을 10번 출력하도록 프로그래밍 하세요."
      ]
    },
    {
      "cell_type": "code",
      "metadata": {
        "id": "_LyJpbqlEKb-"
      },
      "source": [
        "for i in range():\n",
        "  print('  ')"
      ],
      "execution_count": null,
      "outputs": []
    },
    {
      "cell_type": "markdown",
      "metadata": {
        "id": "OXXCMAdDEQ7U"
      },
      "source": [
        "- for문 다르게 표현하기"
      ]
    },
    {
      "cell_type": "code",
      "metadata": {
        "id": "pJD9STdhtXAF"
      },
      "source": [
        "for i in range(1,101):\n",
        "  print('1부터 100까지 출력')\n",
        "\n",
        "for i in range(2,100,3):\n",
        "  print('2부터 99까지 정수가 3씩 간격을 두고 생성')"
      ],
      "execution_count": null,
      "outputs": []
    },
    {
      "cell_type": "markdown",
      "metadata": {
        "id": "Ca_WRQTtt6lK"
      },
      "source": [
        "**if조건문**\n",
        "\n",
        "- 매일매일 수많은 선택을 하면서 살아가는데, 컴퓨터가 조건에 맞게 명령하도록 조건문을 사용합니다.\n",
        "프로그래밍에서 선택과 반복은 중요!!!\n",
        "\n",
        "- if조건문은 주어진 조건이 True(참)일때만 실행\n",
        "\n",
        "- if의 기본구조\n",
        "if 조건 :\n",
        "\n",
        "    조건이 참일 경우 실행할 문장1\n",
        "    \n",
        "    조건이 참일 경우 실행할 문장2"
      ]
    },
    {
      "cell_type": "code",
      "metadata": {
        "id": "FoqUbtYcuSo0"
      },
      "source": [
        "if 10>0:\n",
        "  print('안녕하세요?')"
      ],
      "execution_count": null,
      "outputs": []
    },
    {
      "cell_type": "code",
      "metadata": {
        "id": "rvnF-oAZuXAo"
      },
      "source": [
        "if 10!=0 and 5%2 == 1:\n",
        "  print('안녕하세요?')"
      ],
      "execution_count": null,
      "outputs": []
    },
    {
      "cell_type": "markdown",
      "metadata": {
        "id": "nxj3NJ-wuc-x"
      },
      "source": [
        "* input(), int(), 변수, if를 함께 사용하기"
      ]
    },
    {
      "cell_type": "code",
      "metadata": {
        "id": "L6iA_h8cuhIY"
      },
      "source": [
        "passwd = int(input('비밀번호 4자리를 입력하세요:'))\n",
        "if passwd == 1531:\n",
        "  print('비밀번호가 일치합니다.')"
      ],
      "execution_count": null,
      "outputs": []
    },
    {
      "cell_type": "markdown",
      "metadata": {
        "id": "w0_W80S8uxl6"
      },
      "source": [
        "- for반복문과 함께 사용하기"
      ]
    },
    {
      "cell_type": "code",
      "metadata": {
        "id": "5Kr4oIKdu3Hy"
      },
      "source": [
        "for i in range(10000):\n",
        "  if i == 1531:\n",
        "    print('비밀번호가 일치합니다.')"
      ],
      "execution_count": null,
      "outputs": []
    },
    {
      "cell_type": "code",
      "metadata": {
        "id": "LYKAJS8QvuQg"
      },
      "source": [
        "passwd = int(input('비밀번호 4자리를 입력하세요:'))\n",
        "if passwd == 1531:\n",
        "  print('비밀번호가 일치합니다.')\n",
        "else :\n",
        "  print('      ')"
      ],
      "execution_count": null,
      "outputs": []
    },
    {
      "cell_type": "markdown",
      "metadata": {
        "id": "8dwevFCpEwik"
      },
      "source": [
        "- if로 만든 심리테스트"
      ]
    },
    {
      "cell_type": "code",
      "metadata": {
        "id": "iM8PrkyYv5ZI"
      },
      "source": [
        "print('[소름끼치도록 놀라운 심리테스트]')\n",
        "menu = input('당신이 좋아하는 음식을 입력해주세요:')\n",
        "if menu == '짜장면':\n",
        "  print('당신은 짜장면을 좋아하는 사람입니다.')\n",
        "elif menu == '아이스크림':\n",
        "  print('당신은 아이스크림을 좋아하는 사람입니다.')\n",
        "elif menu == '사탕':\n",
        "  print('당신은 사탕을 좋아하는 사람입니다.')\n",
        "else :\n",
        "  print('당신은 짜장면과 아이스크림과 사탕을 좋아하지 않는 사람입니다.')"
      ],
      "execution_count": null,
      "outputs": []
    },
    {
      "cell_type": "markdown",
      "metadata": {
        "id": "v_LEgn2SwfB7"
      },
      "source": [
        "#순서 있는 저장 공간 리스트\n",
        "\n"
      ]
    },
    {
      "cell_type": "markdown",
      "metadata": {
        "id": "SdOM_LAuwtH-"
      },
      "source": [
        "* **리스트(list)** : 순서가 있는 데이터 구조"
      ]
    },
    {
      "cell_type": "code",
      "metadata": {
        "id": "nBBHNAtXwx1V"
      },
      "source": [
        "#반복문에서 봤던 리스트\n",
        "for i in [0,1,2,3]:\n",
        "  print(i**2)"
      ],
      "execution_count": null,
      "outputs": []
    },
    {
      "cell_type": "code",
      "metadata": {
        "id": "36rkSIsDFgv8"
      },
      "source": [
        "num = []\n",
        "for i in num:\n",
        "  print(num**2)"
      ],
      "execution_count": null,
      "outputs": []
    },
    {
      "cell_type": "markdown",
      "metadata": {
        "id": "zX5vxJxBFnc8"
      },
      "source": [
        "- 문자 리스트\n"
      ]
    },
    {
      "cell_type": "code",
      "metadata": {
        "id": "RVI4sl9ME5qp"
      },
      "source": [
        "names = ['쵸파','루피','상디','조로']\n",
        "for name in names:\n",
        "  print(name)"
      ],
      "execution_count": null,
      "outputs": []
    },
    {
      "cell_type": "markdown",
      "metadata": {
        "id": "wjYt4LGbw8mp"
      },
      "source": [
        "***리스트에 저장된 위치(index)로 접근하기(indexing)**\n",
        "\n",
        "* 항상 0부터 시작"
      ]
    },
    {
      "cell_type": "code",
      "metadata": {
        "id": "sgD4Zuf8xF2J"
      },
      "source": [
        "names = ['쵸파','루디','상디','조로']\n",
        "print(names[1])"
      ],
      "execution_count": null,
      "outputs": []
    },
    {
      "cell_type": "markdown",
      "metadata": {
        "id": "tLL6kODQyJ_Z"
      },
      "source": [
        "- 대괄호 안의 숫자가 의미하는 것은?"
      ]
    },
    {
      "cell_type": "code",
      "metadata": {
        "id": "N80JpuZ7yEJB"
      },
      "source": [
        "names = ['쵸파','루디','상디','조로']\n",
        "print(name[0])\n",
        "print(name[1])\n",
        "print(name[2])\n",
        "print(name[3])"
      ],
      "execution_count": null,
      "outputs": []
    },
    {
      "cell_type": "code",
      "metadata": {
        "id": "EtmyXK7HyQOe"
      },
      "source": [
        "names = ['쵸파','루디','상디','조로']\n",
        "print(name[-1]) #인덱스 -1:뒤에서 첫 번째 데이터 접근"
      ],
      "execution_count": null,
      "outputs": []
    },
    {
      "cell_type": "markdown",
      "metadata": {
        "id": "LqnPNE6pyVAo"
      },
      "source": [
        "***리스트에 저장된 위치로 데이터의 일부 자르기(slicing)**"
      ]
    },
    {
      "cell_type": "code",
      "metadata": {
        "id": "_ODKMrpZybXe"
      },
      "source": [
        "names = ['쵸파','루디','상디','조로']\n",
        "print(names[0:2])\n",
        "print(names[1:3])\n",
        "print(names[1:])\n",
        "print(names[:])\n"
      ],
      "execution_count": null,
      "outputs": []
    },
    {
      "cell_type": "markdown",
      "metadata": {
        "id": "WAT-5hl5yrVo"
      },
      "source": [
        "***리스트에 값 추가하기**"
      ]
    },
    {
      "cell_type": "code",
      "metadata": {
        "id": "vtgpK5zMyuIC"
      },
      "source": [
        "names=['쵸파','루디','상디','조로']\n",
        "names.append('나미')\n",
        "print(names)"
      ],
      "execution_count": null,
      "outputs": []
    },
    {
      "cell_type": "markdown",
      "metadata": {
        "id": "D9yphOQ2y3E1"
      },
      "source": [
        "- 리스트에 몇 개의 데이터가 저장되었는지 확인하려면? len( )함수"
      ]
    },
    {
      "cell_type": "code",
      "metadata": {
        "id": "r7VvmqIBy8OJ"
      },
      "source": [
        "print(len(names)) #리스트의 길이 출력하기\n",
        "print(len('data analysis for everyone')) #문자열 길이 출력하기"
      ],
      "execution_count": null,
      "outputs": []
    },
    {
      "cell_type": "markdown",
      "metadata": {
        "id": "XjA6x7oXzJLy"
      },
      "source": [
        "# -------------------- 끝 -------------------------"
      ]
    },
    {
      "cell_type": "code",
      "metadata": {
        "id": "CwtGOtQJzKup"
      },
      "source": [
        "names = [쵸파,루디,상디,조르]\n",
        "names.append('해적왕')\n",
        "for name in names:\n",
        "  if len(name) > 2 :\n",
        "    print(name,'왔나요~?')"
      ],
      "execution_count": null,
      "outputs": []
    }
  ]
}